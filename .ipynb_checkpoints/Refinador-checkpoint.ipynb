{
 "cells": [
  {
   "cell_type": "code",
   "execution_count": 4,
   "id": "b09c9a4f",
   "metadata": {},
   "outputs": [
    {
     "name": "stdout",
     "output_type": "stream",
     "text": [
      "Average complexity: 1.2755102040816326\n",
      "LOC: 420\n",
      "LLOC: 317\n",
      "Average MI: 97.12\n",
      "Average HAL: {'vocabulary': 0.78, 'length': 1.0, 'calculated_length': 1.42, 'volume': 2.81, 'difficulty': 0.25, 'effort': 6.32, 'time': 0.35, 'bugs': 0.0}\n"
     ]
    }
   ],
   "source": [
    "import re\n",
    "\n",
    "# Leitura do arquivo de texto\n",
    "file_path = r\"C:\\Users\\caiom\\MBA\\copilot\\Builder\\resultado\"\n",
    "with open(file_path, 'r', encoding='utf-8') as file:\n",
    "    content = file.read()\n",
    "\n",
    "# Extração e cálculo da média dos valores após a linha MI\n",
    "padrao = r'\\bMI\\b\\s*([\\s\\S]*)'\n",
    "valores_mi = re.findall(padrao, content)\n",
    "mi = str(valores_mi)\n",
    "\n",
    "padrao_parenteses = r'\\((.*?)\\)'\n",
    "\n",
    "# Encontrar todas as ocorrências de valores entre parênteses\n",
    "valores_entre_parenteses = re.findall(padrao_parenteses, mi)\n",
    "mi_list = [float(i) for i in valores_entre_parenteses]\n",
    "average_mi = sum(mi_list)/len(mi_list)\n",
    "\n",
    "# Extração do valor de Average complexity\n",
    "avg_complexity_match = re.search(r'Average complexity: .+\\((\\d+\\.?\\d*)\\)', content)\n",
    "average_complexity = float(avg_complexity_match.group(1)) if avg_complexity_match else None\n",
    "\n",
    "# Extração dos valores de LLOC e LOC após a linha ** Total **\n",
    "total_section_match = re.search(r'\\*\\* Total \\*\\*\\s+LOC: (\\d+)\\s+LLOC: (\\d+)', content)\n",
    "loc = int(total_section_match.group(1)) if total_section_match else None\n",
    "lloc = int(total_section_match.group(2)) if total_section_match else None\n",
    "\n",
    "# Extração e cálculo da média dos valores da seção HAL\n",
    "hal_pattern = re.compile(\n",
    "    r'vocabulary: (\\d+)\\s+length: (\\d+)\\s+calculated_length: (\\d+\\.?\\d*)\\s+'\n",
    "    r'volume: (\\d+\\.?\\d*)\\s+difficulty: (\\d+\\.?\\d*)\\s+effort: (\\d+\\.?\\d*)\\s+'\n",
    "    r'time: (\\d+\\.?\\d*)\\s+bugs: (\\d+\\.?\\d*)'\n",
    ")\n",
    "hal_values = [list(map(float, match)) for match in hal_pattern.findall(content)]\n",
    "average_hal = [sum(values) / len(values) for values in zip(*hal_values)] if hal_values else None\n",
    "\n",
    "# Limitar casas decimais para 2\n",
    "average_hal = [round(value, 2) for value in average_hal] if average_hal else None\n",
    "\n",
    "# Nomes dos valores HAL\n",
    "hal_names = [\n",
    "    'vocabulary', 'length', 'calculated_length', 'volume', \n",
    "    'difficulty', 'effort', 'time', 'bugs'\n",
    "]\n",
    "\n",
    "# Criação de um dicionário para associar nomes e valores médios\n",
    "average_hal_dict = dict(zip(hal_names, average_hal)) if average_hal else None\n",
    "\n",
    "# Exibição dos resultados\n",
    "print(f'Average complexity: {average_complexity}')\n",
    "print(f'LOC: {loc}')\n",
    "print(f'LLOC: {lloc}')\n",
    "print(f'Average MI: {average_mi:.2f}' if average_mi is not None else 'Average MI: None')\n",
    "print('Average HAL:', average_hal_dict)\n"
   ]
  },
  {
   "cell_type": "code",
   "execution_count": null,
   "id": "c79cc247",
   "metadata": {},
   "outputs": [],
   "source": []
  }
 ],
 "metadata": {
  "kernelspec": {
   "display_name": "Python 3 (ipykernel)",
   "language": "python",
   "name": "python3"
  },
  "language_info": {
   "codemirror_mode": {
    "name": "ipython",
    "version": 3
   },
   "file_extension": ".py",
   "mimetype": "text/x-python",
   "name": "python",
   "nbconvert_exporter": "python",
   "pygments_lexer": "ipython3",
   "version": "3.7.16"
  }
 },
 "nbformat": 4,
 "nbformat_minor": 5
}
