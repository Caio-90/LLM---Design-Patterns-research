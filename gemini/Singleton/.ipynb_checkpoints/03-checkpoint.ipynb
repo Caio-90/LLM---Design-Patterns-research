{
 "cells": [
  {
   "cell_type": "code",
   "execution_count": null,
   "id": "db024dde",
   "metadata": {},
   "outputs": [],
   "source": [
    "class PresidentMeta(type):\n",
    "    \"\"\"Metaclasse para implementar o Singleton.\"\"\"\n",
    "\n",
    "    _instances = {}  # Armazena a instância única\n",
    "\n",
    "    def __call__(cls, *args, **kwargs):\n",
    "        \"\"\"Garante que apenas uma instância seja criada.\"\"\"\n",
    "        if cls not in cls._instances:\n",
    "            instance = super().__call__(*args, **kwargs)\n",
    "            cls._instances[cls] = instance\n",
    "        return cls._instances[cls]\n",
    "\n",
    "class President(metaclass=PresidentMeta):\n",
    "    \"\"\"Classe representando o Presidente.\"\"\"\n",
    "\n",
    "    def __init__(self, nome):\n",
    "        self.nome = nome\n",
    "\n",
    "    def discurso(self, mensagem):\n",
    "        print(f\"Presidente {self.nome}: {mensagem}\")\n",
    "\n",
    "presidente1 = President(\"Lula\")\n",
    "presidente1.discurso(\"Olá, povo brasileiro!\")\n",
    "\n",
    "presidente2 = President(\"Bolsonaro\")  # Tentativa de criar outra instância\n",
    "presidente2.discurso(\"Esta é a mesma instância!\")  # O mesmo objeto é usado\n"
   ]
  }
 ],
 "metadata": {
  "kernelspec": {
   "display_name": "Python 3 (ipykernel)",
   "language": "python",
   "name": "python3"
  },
  "language_info": {
   "codemirror_mode": {
    "name": "ipython",
    "version": 3
   },
   "file_extension": ".py",
   "mimetype": "text/x-python",
   "name": "python",
   "nbconvert_exporter": "python",
   "pygments_lexer": "ipython3",
   "version": "3.7.16"
  }
 },
 "nbformat": 4,
 "nbformat_minor": 5
}
