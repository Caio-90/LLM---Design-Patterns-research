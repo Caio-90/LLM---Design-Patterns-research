{
 "cells": [
  {
   "cell_type": "code",
   "execution_count": 1,
   "id": "05677b03",
   "metadata": {},
   "outputs": [],
   "source": [
    "import logging\n",
    "\n",
    "class FileLogger:\n",
    "    __instance = None  # Variável de classe para armazenar a única instância\n",
    "\n",
    "    def __init__(self, filename=\"app.log\", level=logging.INFO):\n",
    "        if FileLogger.__instance is not None:\n",
    "            raise Exception(\"Esta é uma classe Singleton! Use a instância existente.\")\n",
    "        else:\n",
    "            FileLogger.__instance = self\n",
    "            self.logger = logging.getLogger(__name__)\n",
    "            self.logger.setLevel(level)\n",
    "            file_handler = logging.FileHandler(filename)\n",
    "            formatter = logging.Formatter('%(asctime)s - %(levelname)s - %(message)s')\n",
    "            file_handler.setFormatter(formatter)\n",
    "            self.logger.addHandler(file_handler)\n",
    "\n",
    "    @staticmethod\n",
    "    def get_instance():\n",
    "        \"\"\"Método estático para obter a instância única do FileLogger.\"\"\"\n",
    "        if FileLogger.__instance is None:\n",
    "            FileLogger()  # Cria a instância se ainda não existir\n",
    "        return FileLogger.__instance\n",
    "\n",
    "    def log(self, message, level=logging.INFO):\n",
    "        \"\"\"Método para registrar mensagens no arquivo de log.\"\"\"\n",
    "        if level == logging.DEBUG:\n",
    "            self.logger.debug(message)\n",
    "        elif level == logging.INFO:\n",
    "            self.logger.info(message)\n",
    "        elif level == logging.WARNING:\n",
    "            self.logger.warning(message)\n",
    "        elif level == logging.ERROR:\n",
    "            self.logger.error(message)\n",
    "        elif level == logging.CRITICAL:\n",
    "            self.logger.critical(message)\n",
    "            \n",
    "logger = FileLogger.get_instance()\n",
    "logger.log(\"Iniciando a aplicação\", logging.INFO)\n",
    "logger.log(\"Ocorreu um erro inesperado\", logging.ERROR)\n",
    "\n",
    "# Tentativa de criar outra instância (causará uma exceção)\n",
    "# logger2 = FileLogger() \n"
   ]
  },
  {
   "cell_type": "code",
   "execution_count": null,
   "id": "c853ea24",
   "metadata": {},
   "outputs": [],
   "source": []
  }
 ],
 "metadata": {
  "kernelspec": {
   "display_name": "Python 3 (ipykernel)",
   "language": "python",
   "name": "python3"
  },
  "language_info": {
   "codemirror_mode": {
    "name": "ipython",
    "version": 3
   },
   "file_extension": ".py",
   "mimetype": "text/x-python",
   "name": "python",
   "nbconvert_exporter": "python",
   "pygments_lexer": "ipython3",
   "version": "3.7.16"
  }
 },
 "nbformat": 4,
 "nbformat_minor": 5
}
