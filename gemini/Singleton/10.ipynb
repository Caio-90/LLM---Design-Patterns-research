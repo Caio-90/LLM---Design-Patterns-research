{
 "cells": [
  {
   "cell_type": "code",
   "execution_count": 1,
   "id": "315b37fe",
   "metadata": {},
   "outputs": [
    {
     "name": "stdout",
     "output_type": "stream",
     "text": [
      "True\n",
      "Conexão com o banco de dados estabelecida.\n",
      "Erro ao executar a consulta: no such table: usuarios\n",
      "Conexão com o banco de dados encerrada.\n"
     ]
    }
   ],
   "source": [
    "import sqlite3\n",
    "\n",
    "class Database:\n",
    "    __instance = None  # Atributo de classe para armazenar a única instância\n",
    "\n",
    "    def __init__(self, db_name):\n",
    "        if Database.__instance is not None:\n",
    "            raise Exception(\"Esta classe é um singleton! Use Database.get_instance().\")\n",
    "        else:\n",
    "            Database.__instance = self\n",
    "            self.db_name = db_name\n",
    "            self.connection = None\n",
    "\n",
    "    @staticmethod\n",
    "    def get_instance(db_name=\"seu_banco.db\"):  # Método estático para obter a instância\n",
    "        if Database.__instance is None:\n",
    "            Database(db_name)\n",
    "        return Database.__instance\n",
    "\n",
    "    def connect(self):\n",
    "        if self.connection is None:\n",
    "            self.connection = sqlite3.connect(self.db_name)\n",
    "            print(\"Conexão com o banco de dados estabelecida.\")\n",
    "\n",
    "    def disconnect(self):\n",
    "        if self.connection:\n",
    "            self.connection.close()\n",
    "            self.connection = None\n",
    "            print(\"Conexão com o banco de dados encerrada.\")\n",
    "\n",
    "    def execute_query(self, query, parameters=None):\n",
    "        self.connect()  # Garante que a conexão está aberta antes de executar a consulta\n",
    "        cursor = self.connection.cursor()\n",
    "        try:\n",
    "            if parameters:\n",
    "                cursor.execute(query, parameters)\n",
    "            else:\n",
    "                cursor.execute(query)\n",
    "            self.connection.commit()\n",
    "            return cursor\n",
    "        except Exception as e:\n",
    "            print(f\"Erro ao executar a consulta: {e}\")\n",
    "            return None\n",
    "\n",
    "db1 = Database.get_instance()  # Obtém a instância (cria se não existir)\n",
    "db2 = Database.get_instance()  # Obtém a mesma instância\n",
    "\n",
    "print(db1 is db2)  # True (ambas as variáveis referenciam o mesmo objeto)\n",
    "\n",
    "cursor = db1.execute_query(\"SELECT * FROM usuarios\")\n",
    "if cursor:\n",
    "    for row in cursor:\n",
    "        print(row)\n",
    "\n",
    "db1.disconnect()  # Encerra a conexão\n",
    "        "
   ]
  },
  {
   "cell_type": "code",
   "execution_count": null,
   "id": "9dfb6fef",
   "metadata": {},
   "outputs": [],
   "source": []
  }
 ],
 "metadata": {
  "kernelspec": {
   "display_name": "Python 3 (ipykernel)",
   "language": "python",
   "name": "python3"
  },
  "language_info": {
   "codemirror_mode": {
    "name": "ipython",
    "version": 3
   },
   "file_extension": ".py",
   "mimetype": "text/x-python",
   "name": "python",
   "nbconvert_exporter": "python",
   "pygments_lexer": "ipython3",
   "version": "3.7.16"
  }
 },
 "nbformat": 4,
 "nbformat_minor": 5
}
