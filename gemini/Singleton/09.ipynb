{
 "cells": [
  {
   "cell_type": "code",
   "execution_count": 1,
   "id": "63814284",
   "metadata": {},
   "outputs": [
    {
     "name": "stdout",
     "output_type": "stream",
     "text": [
      "Singleton com dados: Dados 1\n",
      "Singleton com dados: Dados 1\n",
      "True\n"
     ]
    }
   ],
   "source": [
    "class SingletonMeta(type):\n",
    "    \"\"\"Metaclasse para garantir uma única instância.\"\"\"\n",
    "    _instances = {}\n",
    "\n",
    "    def __call__(cls, *args, **kwargs):\n",
    "        \"\"\"Método chamado ao instanciar a classe.\"\"\"\n",
    "        if cls not in cls._instances:\n",
    "            cls._instances[cls] = super(SingletonMeta, cls).__call__(*args, **kwargs)\n",
    "        return cls._instances[cls]\n",
    "\n",
    "\n",
    "class Singleton(metaclass=SingletonMeta):\n",
    "    \"\"\"Classe Singleton que demonstra o uso da metaclasse.\"\"\"\n",
    "    \n",
    "    def __init__(self, data=None):\n",
    "        self.data = data\n",
    "\n",
    "    def some_business_logic(self):\n",
    "        \"\"\"Método que representa alguma lógica de negócio.\"\"\"\n",
    "        print(f\"Singleton com dados: {self.data}\")\n",
    "        \n",
    "s1 = Singleton(\"Dados 1\")\n",
    "s2 = Singleton(\"Dados 2\")  # s2 será a mesma instância que s1\n",
    "\n",
    "s1.some_business_logic()  # Saída: Singleton com dados: Dados 1\n",
    "s2.some_business_logic()  # Saída: Singleton com dados: Dados 1\n",
    "\n",
    "print(s1 is s2)  # Saída: True\n"
   ]
  },
  {
   "cell_type": "code",
   "execution_count": null,
   "id": "95aebc53",
   "metadata": {},
   "outputs": [],
   "source": []
  }
 ],
 "metadata": {
  "kernelspec": {
   "display_name": "Python 3 (ipykernel)",
   "language": "python",
   "name": "python3"
  },
  "language_info": {
   "codemirror_mode": {
    "name": "ipython",
    "version": 3
   },
   "file_extension": ".py",
   "mimetype": "text/x-python",
   "name": "python",
   "nbconvert_exporter": "python",
   "pygments_lexer": "ipython3",
   "version": "3.7.16"
  }
 },
 "nbformat": 4,
 "nbformat_minor": 5
}
