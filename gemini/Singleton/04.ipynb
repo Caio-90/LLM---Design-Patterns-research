{
 "cells": [
  {
   "cell_type": "code",
   "execution_count": 2,
   "id": "d283c928",
   "metadata": {},
   "outputs": [
    {
     "name": "stdout",
     "output_type": "stream",
     "text": [
      "True\n"
     ]
    }
   ],
   "source": [
    "class ExampleSingleton:\n",
    "    __instance = None\n",
    "\n",
    "    def __init__(self):\n",
    "        if ExampleSingleton.__instance is not None:\n",
    "            raise Exception(\"Esta classe é um singleton!\")\n",
    "        else:\n",
    "            ExampleSingleton.__instance = self\n",
    "\n",
    "    @staticmethod\n",
    "    def get_instance():\n",
    "        if ExampleSingleton.__instance is None:\n",
    "            ExampleSingleton()\n",
    "        return ExampleSingleton.__instance\n",
    "    \n",
    "s1 = ExampleSingleton.get_instance()  # ou s1 = ExampleSingleton() se usar o decorador\n",
    "s2 = ExampleSingleton.get_instance()  # ou s2 = ExampleSingleton() se usar o decorador\n",
    "\n",
    "print(s1 is s2)  # True, pois são a mesma instância\n",
    "\n"
   ]
  }
 ],
 "metadata": {
  "kernelspec": {
   "display_name": "Python 3 (ipykernel)",
   "language": "python",
   "name": "python3"
  },
  "language_info": {
   "codemirror_mode": {
    "name": "ipython",
    "version": 3
   },
   "file_extension": ".py",
   "mimetype": "text/x-python",
   "name": "python",
   "nbconvert_exporter": "python",
   "pygments_lexer": "ipython3",
   "version": "3.11.5"
  }
 },
 "nbformat": 4,
 "nbformat_minor": 5
}
