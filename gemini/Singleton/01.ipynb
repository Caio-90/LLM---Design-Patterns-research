{
 "cells": [
  {
   "cell_type": "code",
   "execution_count": null,
   "id": "5a383288",
   "metadata": {},
   "outputs": [],
   "source": [
    "from typing import Optional\n",
    "import sqlite3\n",
    "\n",
    "class BancoDeDados:\n",
    "    __instancia: Optional[\"BancoDeDados\"] = None\n",
    "    conexao: Optional[sqlite3.Connection] = None\n",
    "\n",
    "    def __init__(self) -> None:\n",
    "        if BancoDeDados.__instancia is not None:\n",
    "            raise Exception(\"Esta classe é um Singleton! Use a função obter_instancia().\")\n",
    "        else:\n",
    "            BancoDeDados.__instancia = self\n",
    "\n",
    "    @classmethod\n",
    "    def obter_instancia(cls) -> \"BancoDeDados\":\n",
    "        if cls.__instancia is None:\n",
    "            cls.__instancia = BancoDeDados()\n",
    "        return cls.__instancia\n",
    "\n",
    "    def conectar(self, nome_banco: str) -> None:\n",
    "        if self.conexao is None:\n",
    "            self.conexao = sqlite3.connect(nome_banco)\n",
    "            print(f\"Conexão estabelecida com o banco de dados '{nome_banco}'\")\n",
    "        else:\n",
    "            print(\"Já existe uma conexão ativa com o banco de dados.\")\n",
    "\n",
    "    def desconectar(self) -> None:\n",
    "        if self.conexao is not None:\n",
    "            self.conexao.close()\n",
    "            self.conexao = None\n",
    "            print(\"Conexão com o banco de dados encerrada.\")\n",
    "        else:\n",
    "            print(\"Não há conexão ativa com o banco de dados.\")\n",
    "            \n",
    "banco = BancoDeDados.obter_instancia()\n",
    "banco.conectar(\"meu_banco.db\")  # Conecta ao banco (ou reutiliza a conexão existente)\n",
    "\n",
    "# ... (use a conexão 'banco.conexao' para interagir com o banco de dados)\n",
    "\n",
    "banco.desconectar()  # Desconecta ao finalizar"
   ]
  }
 ],
 "metadata": {
  "kernelspec": {
   "display_name": "Python 3 (ipykernel)",
   "language": "python",
   "name": "python3"
  },
  "language_info": {
   "codemirror_mode": {
    "name": "ipython",
    "version": 3
   },
   "file_extension": ".py",
   "mimetype": "text/x-python",
   "name": "python",
   "nbconvert_exporter": "python",
   "pygments_lexer": "ipython3",
   "version": "3.11.5"
  }
 },
 "nbformat": 4,
 "nbformat_minor": 5
}
