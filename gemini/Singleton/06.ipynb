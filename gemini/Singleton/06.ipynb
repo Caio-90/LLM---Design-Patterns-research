{
 "cells": [
  {
   "cell_type": "code",
   "execution_count": null,
   "id": "874acf47",
   "metadata": {},
   "outputs": [],
   "source": [
    "from enum import Enum\n",
    "import datetime\n",
    "import logging\n",
    "\n",
    "class FileLogger(Enum):\n",
    "    INSTANCE = 1\n",
    "\n",
    "    def __init__(self, file_name=\"app.log\"):\n",
    "        self.file_name = file_name\n",
    "        self.setup_logger()\n",
    "\n",
    "    def setup_logger(self):\n",
    "        logging.basicConfig(\n",
    "            filename=self.file_name,\n",
    "            level=logging.DEBUG,\n",
    "            format=\"%(asctime)s - %(levelname)s - %(message)s\",\n",
    "            datefmt=\"%Y-%m-%d %H:%M:%S\"\n",
    "        )\n",
    "        self.logger = logging.getLogger(__name__)\n",
    "\n",
    "    def log(self, level, message):\n",
    "        if level == \"debug\":\n",
    "            self.logger.debug(message)\n",
    "        elif level == \"info\":\n",
    "            self.logger.info(message)\n",
    "        elif level == \"warning\":\n",
    "            self.logger.warning(message)\n",
    "        elif level == \"error\":\n",
    "            self.logger.error(message)\n",
    "        elif level == \"critical\":\n",
    "            self.logger.critical(message)\n",
    "\n",
    "    def __str__(self):\n",
    "        return f\"FileLogger - {self.file_name}\"\n",
    "\n",
    "# Exemplo de uso\n",
    "if __name__ == \"__main__\":\n",
    "    logger = FileLogger.INSTANCE\n",
    "    logger.log(\"info\", \"Iniciando a aplicação\")\n",
    "    logger.log(\"debug\", \"Este é um log de depuração\")\n",
    "    logger.log(\"warning\", \"Aviso: algo pode dar errado\")\n",
    "    logger.log(\"error\", \"Erro crítico na aplicação\")\n"
   ]
  },
  {
   "cell_type": "code",
   "execution_count": null,
   "id": "622ea1c6",
   "metadata": {},
   "outputs": [],
   "source": []
  }
 ],
 "metadata": {
  "kernelspec": {
   "display_name": "Python 3 (ipykernel)",
   "language": "python",
   "name": "python3"
  },
  "language_info": {
   "codemirror_mode": {
    "name": "ipython",
    "version": 3
   },
   "file_extension": ".py",
   "mimetype": "text/x-python",
   "name": "python",
   "nbconvert_exporter": "python",
   "pygments_lexer": "ipython3",
   "version": "3.7.16"
  }
 },
 "nbformat": 4,
 "nbformat_minor": 5
}
