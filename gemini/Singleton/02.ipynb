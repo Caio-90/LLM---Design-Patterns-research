{
 "cells": [
  {
   "cell_type": "code",
   "execution_count": null,
   "id": "baa73995",
   "metadata": {},
   "outputs": [],
   "source": [
    "class Singleton1:\n",
    "    __instance = None\n",
    "\n",
    "    def __init__(self, nome):\n",
    "        if Singleton1.__instance is not None:\n",
    "            raise Exception(\"Esta classe é um singleton!\")\n",
    "        else:\n",
    "            Singleton1.__instance = self\n",
    "            self.nome = nome\n",
    "\n",
    "    @staticmethod\n",
    "    def get_instance(nome):\n",
    "        if Singleton1.__instance is None:\n",
    "            Singleton1(nome)\n",
    "        return Singleton1.__instance\n",
    "\n",
    "\n",
    "class Singleton2:\n",
    "    __instance = None\n",
    "\n",
    "    def __init__(self, nome):\n",
    "        self.nome = nome\n",
    "\n",
    "    @staticmethod\n",
    "    def get_instance(nome):\n",
    "        if Singleton2.__instance is None:\n",
    "            Singleton2.__instance = Singleton2(nome)\n",
    "        return Singleton2.__instance\n",
    "    \n",
    "s1 = Singleton1.get_instance(\"Objeto1\")\n",
    "print(s1.nome)  # Saída: Objeto1\n",
    "\n",
    "s2 = Singleton1.get_instance(\"Objeto2\")  # Levanta uma exceção\n",
    "\n",
    "t1 = Singleton2.get_instance(\"Objeto3\")\n",
    "print(t1.nome)  # Saída: Objeto3\n",
    "\n",
    "t2 = Singleton2.get_instance(\"Objeto4\")\n",
    "print(t2.nome)  # Saída: Objeto3 (a mesma instância)"
   ]
  }
 ],
 "metadata": {
  "kernelspec": {
   "display_name": "Python 3 (ipykernel)",
   "language": "python",
   "name": "python3"
  },
  "language_info": {
   "codemirror_mode": {
    "name": "ipython",
    "version": 3
   },
   "file_extension": ".py",
   "mimetype": "text/x-python",
   "name": "python",
   "nbconvert_exporter": "python",
   "pygments_lexer": "ipython3",
   "version": "3.11.5"
  }
 },
 "nbformat": 4,
 "nbformat_minor": 5
}
