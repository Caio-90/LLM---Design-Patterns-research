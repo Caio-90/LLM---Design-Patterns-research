{
 "cells": [
  {
   "cell_type": "code",
   "execution_count": 1,
   "id": "a61d4bef",
   "metadata": {},
   "outputs": [
    {
     "name": "stdout",
     "output_type": "stream",
     "text": [
      "O veículo criado diz: Correndo em alta velocidade na pista!\n",
      "O veículo criado diz: Transportando passageiros e carga com conforto.\n"
     ]
    }
   ],
   "source": [
    "from abc import ABC, abstractmethod\n",
    "\n",
    "# Interface do Produto (Veículo)\n",
    "class Vehicle(ABC):\n",
    "    @abstractmethod\n",
    "    def drive(self):\n",
    "        pass\n",
    "\n",
    "# Produtos Concretos\n",
    "class Racecar(Vehicle):\n",
    "    def drive(self):\n",
    "        return \"Correndo em alta velocidade na pista!\"\n",
    "\n",
    "class Van(Vehicle):\n",
    "    def drive(self):\n",
    "        return \"Transportando passageiros e carga com conforto.\"\n",
    "\n",
    "# Criador Abstrato (Fábrica)\n",
    "class VehicleFactory(ABC):\n",
    "    @abstractmethod\n",
    "    def create_vehicle(self):\n",
    "        pass\n",
    "\n",
    "# Criadores Concretos (Fábricas)\n",
    "class RacecarFactory(VehicleFactory):\n",
    "    def create_vehicle(self):\n",
    "        return Racecar()\n",
    "\n",
    "class VanFactory(VehicleFactory):\n",
    "    def create_vehicle(self):\n",
    "        return Van()\n",
    "\n",
    "# Cliente\n",
    "def client_code(factory: VehicleFactory):\n",
    "    vehicle = factory.create_vehicle()\n",
    "    print(f\"O veículo criado diz: {vehicle.drive()}\")\n",
    "\n",
    "# Exemplo de Uso\n",
    "if __name__ == \"__main__\":\n",
    "    racecar_factory = RacecarFactory()\n",
    "    client_code(racecar_factory)  # Saída: O veículo criado diz: Correndo em alta velocidade na pista!\n",
    "\n",
    "    van_factory = VanFactory()\n",
    "    client_code(van_factory)      # Saída: O veículo criado diz: Transportando passageiros e carga com conforto.\n"
   ]
  },
  {
   "cell_type": "code",
   "execution_count": null,
   "id": "aa2444af",
   "metadata": {},
   "outputs": [],
   "source": []
  }
 ],
 "metadata": {
  "kernelspec": {
   "display_name": "Python 3 (ipykernel)",
   "language": "python",
   "name": "python3"
  },
  "language_info": {
   "codemirror_mode": {
    "name": "ipython",
    "version": 3
   },
   "file_extension": ".py",
   "mimetype": "text/x-python",
   "name": "python",
   "nbconvert_exporter": "python",
   "pygments_lexer": "ipython3",
   "version": "3.11.5"
  }
 },
 "nbformat": 4,
 "nbformat_minor": 5
}
