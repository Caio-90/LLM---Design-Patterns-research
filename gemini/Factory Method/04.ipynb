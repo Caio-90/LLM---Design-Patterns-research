{
 "cells": [
  {
   "cell_type": "code",
   "execution_count": 2,
   "id": "90b2ac0e",
   "metadata": {},
   "outputs": [
    {
     "name": "stdout",
     "output_type": "stream",
     "text": [
      "Seção Pessoal: Informações pessoais\n",
      "Seção de Publicações: Artigo publicado\n"
     ]
    }
   ],
   "source": [
    "from abc import ABC, abstractmethod\n",
    "\n",
    "class Section(ABC):\n",
    "    def __init__(self, content):\n",
    "        self.content = content\n",
    "\n",
    "    @abstractmethod\n",
    "    def describe(self):\n",
    "        pass\n",
    "\n",
    "class PersonalSection(Section):\n",
    "    def describe(self):\n",
    "        return f\"Seção Pessoal: {self.content}\"\n",
    "\n",
    "class AlbumSection(Section):\n",
    "    def describe(self):\n",
    "        return f\"Seção de Álbum: {self.content}\"\n",
    "\n",
    "class PatentSection(Section):\n",
    "    def describe(self):\n",
    "        return f\"Seção de Patentes: {self.content}\"\n",
    "\n",
    "class PublicationSection(Section):\n",
    "    def describe(self):\n",
    "        return f\"Seção de Publicações: {self.content}\"\n",
    "\n",
    "class Profile(ABC):\n",
    "    def __init__(self):\n",
    "        self.sections = []\n",
    "\n",
    "    @abstractmethod\n",
    "    def create_section(self, section_type, content):\n",
    "        pass\n",
    "\n",
    "    def add_section(self, section):\n",
    "        self.sections.append(section)\n",
    "\n",
    "class Linkedin(Profile):\n",
    "    def create_section(self, section_type, content):\n",
    "        if section_type == \"personal\":\n",
    "            return PersonalSection(content)\n",
    "        elif section_type == \"publication\":\n",
    "            return PublicationSection(content)\n",
    "        else:\n",
    "            raise ValueError(f\"Tipo de seção inválido para Linkedin: {section_type}\")\n",
    "\n",
    "class Facebook(Profile):\n",
    "    def create_section(self, section_type, content):\n",
    "        if section_type == \"personal\":\n",
    "            return PersonalSection(content)\n",
    "        elif section_type == \"album\":\n",
    "            return AlbumSection(content)\n",
    "        else:\n",
    "            raise ValueError(f\"Tipo de seção inválido para Facebook: {section_type}\")\n",
    "\n",
    "perfil_linkedin = Linkedin()\n",
    "perfil_linkedin.add_section(perfil_linkedin.create_section(\"personal\", \"Informações pessoais\"))\n",
    "perfil_linkedin.add_section(perfil_linkedin.create_section(\"publication\", \"Artigo publicado\"))\n",
    "\n",
    "for section in perfil_linkedin.sections:\n",
    "    print(section.describe())\n"
   ]
  },
  {
   "cell_type": "code",
   "execution_count": null,
   "id": "ad127288",
   "metadata": {},
   "outputs": [],
   "source": []
  }
 ],
 "metadata": {
  "kernelspec": {
   "display_name": "Python 3 (ipykernel)",
   "language": "python",
   "name": "python3"
  },
  "language_info": {
   "codemirror_mode": {
    "name": "ipython",
    "version": 3
   },
   "file_extension": ".py",
   "mimetype": "text/x-python",
   "name": "python",
   "nbconvert_exporter": "python",
   "pygments_lexer": "ipython3",
   "version": "3.11.5"
  }
 },
 "nbformat": 4,
 "nbformat_minor": 5
}
