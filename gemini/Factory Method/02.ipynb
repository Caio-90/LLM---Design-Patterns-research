{
 "cells": [
  {
   "cell_type": "code",
   "execution_count": 1,
   "id": "20358818",
   "metadata": {},
   "outputs": [
    {
     "name": "stdout",
     "output_type": "stream",
     "text": [
      "Produto A\n",
      "B otudorP\n"
     ]
    }
   ],
   "source": [
    "from abc import ABC, abstractmethod\n",
    "\n",
    "class Product(ABC):\n",
    "    def __init__(self, name):\n",
    "        self._name = name\n",
    "\n",
    "    @abstractmethod\n",
    "    def write_name(self):\n",
    "        pass\n",
    "\n",
    "class ProductA(Product):\n",
    "    def write_name(self):\n",
    "        print(self._name)\n",
    "\n",
    "class ProductB(Product):\n",
    "    def write_name(self):\n",
    "        print(self._name[::-1])  # Inverte o nome\n",
    "\n",
    "class ProductFactory(ABC):\n",
    "    @abstractmethod\n",
    "    def create_product(self, name):\n",
    "        pass\n",
    "\n",
    "class ProductAFactory(ProductFactory):\n",
    "    def create_product(self, name):\n",
    "        return ProductA(name)\n",
    "\n",
    "class ProductBFactory(ProductFactory):\n",
    "    def create_product(self, name):\n",
    "        return ProductB(name)\n",
    "\n",
    "# Exemplo de uso\n",
    "factory_a = ProductAFactory()\n",
    "product_a = factory_a.create_product(\"Produto A\")\n",
    "product_a.write_name()  # Saída: Produto A\n",
    "\n",
    "factory_b = ProductBFactory()\n",
    "product_b = factory_b.create_product(\"Produto B\")\n",
    "product_b.write_name()  # Saída: B odutrP\n"
   ]
  },
  {
   "cell_type": "code",
   "execution_count": null,
   "id": "a58b231e",
   "metadata": {},
   "outputs": [],
   "source": []
  }
 ],
 "metadata": {
  "kernelspec": {
   "display_name": "Python 3 (ipykernel)",
   "language": "python",
   "name": "python3"
  },
  "language_info": {
   "codemirror_mode": {
    "name": "ipython",
    "version": 3
   },
   "file_extension": ".py",
   "mimetype": "text/x-python",
   "name": "python",
   "nbconvert_exporter": "python",
   "pygments_lexer": "ipython3",
   "version": "3.11.5"
  }
 },
 "nbformat": 4,
 "nbformat_minor": 5
}
