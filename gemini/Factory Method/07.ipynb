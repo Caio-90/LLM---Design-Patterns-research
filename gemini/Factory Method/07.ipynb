{
 "cells": [
  {
   "cell_type": "code",
   "execution_count": 1,
   "id": "56f4eebc",
   "metadata": {},
   "outputs": [
    {
     "name": "stdout",
     "output_type": "stream",
     "text": [
      "{\"song_id\": 1, \"title\": \"Bohemian Rhapsody\", \"artist\": \"Queen\"}\n",
      "<song><song_id>1</song_id><title>Bohemian Rhapsody</title><artist>Queen</artist></song>\n"
     ]
    }
   ],
   "source": [
    "import json\n",
    "import xml.etree.ElementTree as ET\n",
    "\n",
    "class Song:\n",
    "    def __init__(self, song_id, title, artist):\n",
    "        self.song_id = song_id\n",
    "        self.title = title\n",
    "        self.artist = artist\n",
    "\n",
    "class SongSerializer:\n",
    "    def serialize(self, song, format):\n",
    "        serializer = self._get_serializer(format)\n",
    "        return serializer(song)\n",
    "\n",
    "    def _get_serializer(self, format):\n",
    "        if format == 'json':\n",
    "            return self._serialize_to_json\n",
    "        elif format == 'xml':\n",
    "            return self._serialize_to_xml\n",
    "        else:\n",
    "            raise ValueError(format)\n",
    "\n",
    "    def _serialize_to_json(self, song):\n",
    "        return json.dumps({\n",
    "            'song_id': song.song_id,\n",
    "            'title': song.title,\n",
    "            'artist': song.artist\n",
    "        })\n",
    "\n",
    "    def _serialize_to_xml(self, song):\n",
    "        song_element = ET.Element('song')\n",
    "        ET.SubElement(song_element, 'song_id').text = str(song.song_id)\n",
    "        ET.SubElement(song_element, 'title').text = song.title\n",
    "        ET.SubElement(song_element, 'artist').text = song.artist\n",
    "        return ET.tostring(song_element, encoding='unicode')\n",
    "\n",
    "# Exemplo de uso\n",
    "song = Song(1, 'Bohemian Rhapsody', 'Queen')\n",
    "serializer = SongSerializer()\n",
    "\n",
    "json_data = serializer.serialize(song, 'json')\n",
    "print(json_data)  # {\"song_id\": 1, \"title\": \"Bohemian Rhapsody\", \"artist\": \"Queen\"}\n",
    "\n",
    "xml_data = serializer.serialize(song, 'xml')\n",
    "print(xml_data)  # <song><song_id>1</song_id><title>Bohemian Rhapsody</title><artist>Queen</artist></song>\n"
   ]
  },
  {
   "cell_type": "code",
   "execution_count": null,
   "id": "97757ea1",
   "metadata": {},
   "outputs": [],
   "source": []
  }
 ],
 "metadata": {
  "kernelspec": {
   "display_name": "Python 3 (ipykernel)",
   "language": "python",
   "name": "python3"
  },
  "language_info": {
   "codemirror_mode": {
    "name": "ipython",
    "version": 3
   },
   "file_extension": ".py",
   "mimetype": "text/x-python",
   "name": "python",
   "nbconvert_exporter": "python",
   "pygments_lexer": "ipython3",
   "version": "3.11.5"
  }
 },
 "nbformat": 4,
 "nbformat_minor": 5
}
