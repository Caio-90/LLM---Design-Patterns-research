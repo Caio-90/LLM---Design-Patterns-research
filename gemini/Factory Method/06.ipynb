{
 "cells": [
  {
   "cell_type": "code",
   "execution_count": 1,
   "id": "df51574d",
   "metadata": {},
   "outputs": [
    {
     "name": "stdout",
     "output_type": "stream",
     "text": [
      "2024 Honda CG 160 (Duas rodas, Gasolina)\n",
      "2023 Toyota Corolla (Quatro rodas, 4 portas)\n"
     ]
    }
   ],
   "source": [
    "from abc import ABC, abstractmethod\n",
    "\n",
    "class Vehicle(ABC):  # Classe base abstrata\n",
    "    def __init__(self, brand, model, year):\n",
    "        self.brand = brand\n",
    "        self.model = model\n",
    "        self.year = year\n",
    "\n",
    "    @abstractmethod\n",
    "    def get_info(self):\n",
    "        pass\n",
    "\n",
    "class TwoWheeler(Vehicle):  # Classe filha para veículos de duas rodas\n",
    "    def __init__(self, brand, model, year, engine_type):\n",
    "        super().__init__(brand, model, year)\n",
    "        self.engine_type = engine_type\n",
    "\n",
    "    def get_info(self):\n",
    "        return f\"{self.year} {self.brand} {self.model} (Duas rodas, {self.engine_type})\"\n",
    "\n",
    "class FourWheeler(Vehicle):  # Classe filha para veículos de quatro rodas\n",
    "    def __init__(self, brand, model, year, num_doors):\n",
    "        super().__init__(brand, model, year)\n",
    "        self.num_doors = num_doors\n",
    "\n",
    "    def get_info(self):\n",
    "        return f\"{self.year} {self.brand} {self.model} (Quatro rodas, {self.num_doors} portas)\"\n",
    "\n",
    "class VehicleFactory(ABC):  # Fábrica abstrata\n",
    "    @abstractmethod\n",
    "    def create_vehicle(self, brand, model, year, **kwargs):\n",
    "        pass\n",
    "\n",
    "class TwoWheelerFactory(VehicleFactory):  # Fábrica concreta para veículos de duas rodas\n",
    "    def create_vehicle(self, brand, model, year, **kwargs):\n",
    "        engine_type = kwargs.get(\"engine_type\")\n",
    "        return TwoWheeler(brand, model, year, engine_type)\n",
    "\n",
    "class FourWheelerFactory(VehicleFactory):  # Fábrica concreta para veículos de quatro rodas\n",
    "    def create_vehicle(self, brand, model, year, **kwargs):\n",
    "        num_doors = kwargs.get(\"num_doors\")\n",
    "        return FourWheeler(brand, model, year, num_doors)\n",
    "\n",
    "# Exemplo de uso\n",
    "two_wheeler_factory = TwoWheelerFactory()\n",
    "motorcycle = two_wheeler_factory.create_vehicle(\"Honda\", \"CG 160\", 2024, engine_type=\"Gasolina\")\n",
    "print(motorcycle.get_info())  \n",
    "\n",
    "four_wheeler_factory = FourWheelerFactory()\n",
    "car = four_wheeler_factory.create_vehicle(\"Toyota\", \"Corolla\", 2023, num_doors=4)\n",
    "print(car.get_info())\n"
   ]
  },
  {
   "cell_type": "code",
   "execution_count": null,
   "id": "01937012",
   "metadata": {},
   "outputs": [],
   "source": []
  }
 ],
 "metadata": {
  "kernelspec": {
   "display_name": "Python 3 (ipykernel)",
   "language": "python",
   "name": "python3"
  },
  "language_info": {
   "codemirror_mode": {
    "name": "ipython",
    "version": 3
   },
   "file_extension": ".py",
   "mimetype": "text/x-python",
   "name": "python",
   "nbconvert_exporter": "python",
   "pygments_lexer": "ipython3",
   "version": "3.11.5"
  }
 },
 "nbformat": 4,
 "nbformat_minor": 5
}
