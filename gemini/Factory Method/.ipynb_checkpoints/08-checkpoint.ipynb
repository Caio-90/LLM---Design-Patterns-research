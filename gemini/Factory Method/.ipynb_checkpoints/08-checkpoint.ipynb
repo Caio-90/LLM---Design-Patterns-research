{
 "cells": [
  {
   "cell_type": "code",
   "execution_count": 1,
   "id": "3f891a31",
   "metadata": {},
   "outputs": [
    {
     "name": "stdout",
     "output_type": "stream",
     "text": [
      "Informe a localização (França, Inglaterra, Espanha) ou 'sair' para encerrar: França\n",
      "Informe o meio de transporte (carro, moto, bicicleta): carro\n",
      "Em França, o meio de transporte é chamado de: voiture\n",
      "Informe a localização (França, Inglaterra, Espanha) ou 'sair' para encerrar: sair\n"
     ]
    }
   ],
   "source": [
    "from abc import ABC, abstractmethod\n",
    "\n",
    "class Localizer(ABC):\n",
    "    \"\"\"Classe abstrata que define a interface para localização.\"\"\"\n",
    "\n",
    "    @abstractmethod\n",
    "    def localize(self, transport):\n",
    "        \"\"\"Método abstrato para localizar a mensagem de transporte.\"\"\"\n",
    "        pass\n",
    "\n",
    "class FrenchLocalizer(Localizer):\n",
    "    \"\"\"Localizador para o francês.\"\"\"\n",
    "\n",
    "    def localize(self, transport):\n",
    "        translations = {\n",
    "            \"carro\": \"voiture\",\n",
    "            \"moto\": \"moto\",\n",
    "            \"bicicleta\": \"vélo\"\n",
    "        }\n",
    "        return translations.get(transport, transport)\n",
    "\n",
    "class EnglishLocalizer(Localizer):\n",
    "    \"\"\"Localizador para o inglês (sem tradução necessária).\"\"\"\n",
    "\n",
    "    def localize(self, transport):\n",
    "        return transport\n",
    "\n",
    "class SpanishLocalizer(Localizer):\n",
    "    \"\"\"Localizador para o espanhol.\"\"\"\n",
    "\n",
    "    def localize(self, transport):\n",
    "        translations = {\n",
    "            \"carro\": \"coche\",\n",
    "            \"moto\": \"moto\",\n",
    "            \"bicicleta\": \"bicicleta\"\n",
    "        }\n",
    "        return translations.get(transport, transport)\n",
    "\n",
    "class LocalizerFactory:\n",
    "    \"\"\"Fábrica para criar localizadores com base na localização.\"\"\"\n",
    "\n",
    "    def create_localizer(self, location):\n",
    "        localizers = {\n",
    "            \"França\": FrenchLocalizer,\n",
    "            \"Inglaterra\": EnglishLocalizer,\n",
    "            \"Espanha\": SpanishLocalizer\n",
    "        }\n",
    "        return localizers.get(location)()  # Cria e retorna a instância do localizador\n",
    "\n",
    "# Exemplo de uso\n",
    "if __name__ == \"__main__\":\n",
    "    factory = LocalizerFactory()\n",
    "\n",
    "    while True:\n",
    "        location = input(\"Informe a localização (França, Inglaterra, Espanha) ou 'sair' para encerrar: \")\n",
    "        if location.lower() == \"sair\":\n",
    "            break\n",
    "\n",
    "        localizer = factory.create_localizer(location)\n",
    "        if localizer:\n",
    "            transport = input(\"Informe o meio de transporte (carro, moto, bicicleta): \")\n",
    "            localized_transport = localizer.localize(transport)\n",
    "            print(f\"Em {location}, o meio de transporte é chamado de: {localized_transport}\")\n",
    "        else:\n",
    "            print(\"Localização inválida.\")\n"
   ]
  },
  {
   "cell_type": "code",
   "execution_count": null,
   "id": "2cd0773d",
   "metadata": {},
   "outputs": [],
   "source": []
  }
 ],
 "metadata": {
  "kernelspec": {
   "display_name": "Python 3 (ipykernel)",
   "language": "python",
   "name": "python3"
  },
  "language_info": {
   "codemirror_mode": {
    "name": "ipython",
    "version": 3
   },
   "file_extension": ".py",
   "mimetype": "text/x-python",
   "name": "python",
   "nbconvert_exporter": "python",
   "pygments_lexer": "ipython3",
   "version": "3.11.5"
  }
 },
 "nbformat": 4,
 "nbformat_minor": 5
}
