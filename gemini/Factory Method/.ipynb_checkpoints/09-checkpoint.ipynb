{
 "cells": [
  {
   "cell_type": "code",
   "execution_count": 1,
   "id": "da0b8760",
   "metadata": {},
   "outputs": [
    {
     "name": "stdout",
     "output_type": "stream",
     "text": [
      "Au Au!\n",
      "Miau!\n"
     ]
    }
   ],
   "source": [
    "from abc import ABC, abstractmethod\n",
    "\n",
    "# Produto Abstrato\n",
    "class Animal(ABC):\n",
    "    @abstractmethod\n",
    "    def speak(self):\n",
    "        pass\n",
    "\n",
    "# Produtos Concretos\n",
    "class Dog(Animal):\n",
    "    def speak(self):\n",
    "        return \"Au Au!\"\n",
    "\n",
    "class Cat(Animal):\n",
    "    def speak(self):\n",
    "        return \"Miau!\"\n",
    "\n",
    "# Criador Abstrato\n",
    "class AnimalFactory(ABC):\n",
    "    @abstractmethod\n",
    "    def create_animal(self):\n",
    "        pass\n",
    "\n",
    "# Criador Concreto\n",
    "class ConcreteAnimalFactory(AnimalFactory):\n",
    "    def create_animal(self, animal_type):\n",
    "        if animal_type == \"dog\":\n",
    "            return Dog()\n",
    "        elif animal_type == \"cat\":\n",
    "            return Cat()\n",
    "        else:\n",
    "            raise ValueError(f\"Tipo de animal inválido: {animal_type}\")\n",
    "\n",
    "# Uso\n",
    "factory = ConcreteAnimalFactory()\n",
    "\n",
    "dog = factory.create_animal(\"dog\")\n",
    "print(dog.speak())  # Saída: Au Au!\n",
    "\n",
    "cat = factory.create_animal(\"cat\")\n",
    "print(cat.speak())  # Saída: Miau!\n"
   ]
  },
  {
   "cell_type": "code",
   "execution_count": null,
   "id": "1a082721",
   "metadata": {},
   "outputs": [],
   "source": []
  }
 ],
 "metadata": {
  "kernelspec": {
   "display_name": "Python 3 (ipykernel)",
   "language": "python",
   "name": "python3"
  },
  "language_info": {
   "codemirror_mode": {
    "name": "ipython",
    "version": 3
   },
   "file_extension": ".py",
   "mimetype": "text/x-python",
   "name": "python",
   "nbconvert_exporter": "python",
   "pygments_lexer": "ipython3",
   "version": "3.11.5"
  }
 },
 "nbformat": 4,
 "nbformat_minor": 5
}
