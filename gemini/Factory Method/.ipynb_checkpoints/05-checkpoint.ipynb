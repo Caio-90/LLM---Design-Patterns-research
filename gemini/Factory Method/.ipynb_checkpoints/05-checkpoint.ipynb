{
 "cells": [
  {
   "cell_type": "code",
   "execution_count": 1,
   "id": "bb197f0c",
   "metadata": {},
   "outputs": [
    {
     "name": "stdout",
     "output_type": "stream",
     "text": [
      "Botão desktop 'Salvar' criado (ação: save_action)\n",
      "Renderizando diálogo desktop...\n",
      "Fechando diálogo desktop...\n",
      "<button onclick='submit_form'>Enviar</button>\n",
      "Renderizando diálogo web...\n",
      "Fechando diálogo web...\n"
     ]
    }
   ],
   "source": [
    "from abc import ABC, abstractmethod\n",
    "\n",
    "class Dialog(ABC):\n",
    "    def __init__(self, access_method):\n",
    "        self.access_method = access_method\n",
    "\n",
    "    @abstractmethod\n",
    "    def create_button(self, text, action):\n",
    "        pass\n",
    "\n",
    "    @abstractmethod\n",
    "    def render(self):\n",
    "        pass\n",
    "\n",
    "    def close_dialog(self):\n",
    "        if self.access_method == \"desktop\":\n",
    "            print(\"Fechando diálogo desktop...\")\n",
    "        else:\n",
    "            print(\"Fechando diálogo web...\")\n",
    "\n",
    "class DesktopDialog(Dialog):\n",
    "    def create_button(self, text, action):\n",
    "        return f\"Botão desktop '{text}' criado (ação: {action})\"\n",
    "\n",
    "    def render(self):\n",
    "        print(\"Renderizando diálogo desktop...\")\n",
    "\n",
    "class WebDialog(Dialog):\n",
    "    def create_button(self, text, action):\n",
    "        return f\"<button onclick='{action}'>{text}</button>\"\n",
    "\n",
    "    def render(self):\n",
    "        print(\"Renderizando diálogo web...\")\n",
    "\n",
    "class DialogFactory:\n",
    "    def create_dialog(self, access_method):\n",
    "        if access_method == \"desktop\":\n",
    "            return DesktopDialog(access_method)\n",
    "        elif access_method == \"web\":\n",
    "            return WebDialog(access_method)\n",
    "        else:\n",
    "            raise ValueError(\"Método de acesso inválido\")\n",
    "\n",
    "factory = DialogFactory()\n",
    "\n",
    "# Cria um diálogo para desktop\n",
    "desktop_dialog = factory.create_dialog(\"desktop\")\n",
    "print(desktop_dialog.create_button(\"Salvar\", \"save_action\"))\n",
    "desktop_dialog.render()\n",
    "desktop_dialog.close_dialog()\n",
    "\n",
    "# Cria um diálogo para web\n",
    "web_dialog = factory.create_dialog(\"web\")\n",
    "print(web_dialog.create_button(\"Enviar\", \"submit_form\"))\n",
    "web_dialog.render()\n",
    "web_dialog.close_dialog()\n"
   ]
  },
  {
   "cell_type": "code",
   "execution_count": null,
   "id": "ac7e526f",
   "metadata": {},
   "outputs": [],
   "source": []
  }
 ],
 "metadata": {
  "kernelspec": {
   "display_name": "Python 3 (ipykernel)",
   "language": "python",
   "name": "python3"
  },
  "language_info": {
   "codemirror_mode": {
    "name": "ipython",
    "version": 3
   },
   "file_extension": ".py",
   "mimetype": "text/x-python",
   "name": "python",
   "nbconvert_exporter": "python",
   "pygments_lexer": "ipython3",
   "version": "3.11.5"
  }
 },
 "nbformat": 4,
 "nbformat_minor": 5
}
