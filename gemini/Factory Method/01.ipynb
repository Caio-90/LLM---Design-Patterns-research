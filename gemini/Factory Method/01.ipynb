{
 "cells": [
  {
   "cell_type": "code",
   "execution_count": 1,
   "id": "0710f756",
   "metadata": {},
   "outputs": [
    {
     "name": "stdout",
     "output_type": "stream",
     "text": [
      "Perguntas sobre algoritmos, estruturas de dados e experiência em projetos.\n",
      "Perguntas sobre participação em comunidades, liderança e comunicação.\n"
     ]
    }
   ],
   "source": [
    "from abc import ABC, abstractmethod\n",
    "\n",
    "# Interface Entrevistador\n",
    "class Interviewer(ABC):\n",
    "    @abstractmethod\n",
    "    def ask_questions(self):\n",
    "        pass\n",
    "\n",
    "# Classes Concretas\n",
    "class Developer(Interviewer):\n",
    "    def ask_questions(self):\n",
    "        return \"Perguntas sobre algoritmos, estruturas de dados e experiência em projetos.\"\n",
    "\n",
    "class CommunityExecutive(Interviewer):\n",
    "    def ask_questions(self):\n",
    "        return \"Perguntas sobre participação em comunidades, liderança e comunicação.\"\n",
    "\n",
    "# Fábrica de Entrevistadores (Factory Method)\n",
    "class InterviewerFactory:\n",
    "    @staticmethod\n",
    "    def create_interviewer(interviewer_type):\n",
    "        if interviewer_type == \"DEV\":\n",
    "            return Developer()\n",
    "        elif interviewer_type == \"COM\":\n",
    "            return CommunityExecutive()\n",
    "        else:\n",
    "            raise ValueError(f\"Tipo de entrevistador inválido: {interviewer_type}\")\n",
    "\n",
    "# Uso (Cliente)\n",
    "if __name__ == \"__main__\":\n",
    "    dev_interviewer = InterviewerFactory.create_interviewer(\"DEV\")\n",
    "    com_interviewer = InterviewerFactory.create_interviewer(\"COM\")\n",
    "\n",
    "    print(dev_interviewer.ask_questions())  \n",
    "    print(com_interviewer.ask_questions())  \n"
   ]
  },
  {
   "cell_type": "code",
   "execution_count": null,
   "id": "dd107b12",
   "metadata": {},
   "outputs": [],
   "source": []
  }
 ],
 "metadata": {
  "kernelspec": {
   "display_name": "Python 3 (ipykernel)",
   "language": "python",
   "name": "python3"
  },
  "language_info": {
   "codemirror_mode": {
    "name": "ipython",
    "version": 3
   },
   "file_extension": ".py",
   "mimetype": "text/x-python",
   "name": "python",
   "nbconvert_exporter": "python",
   "pygments_lexer": "ipython3",
   "version": "3.11.5"
  }
 },
 "nbformat": 4,
 "nbformat_minor": 5
}
