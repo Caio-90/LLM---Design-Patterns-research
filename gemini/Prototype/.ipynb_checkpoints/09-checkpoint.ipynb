{
 "cells": [
  {
   "cell_type": "code",
   "execution_count": 1,
   "id": "75311b87",
   "metadata": {},
   "outputs": [
    {
     "name": "stdout",
     "output_type": "stream",
     "text": [
      "Bicicleta Original:\n",
      "Assentos: 1\n",
      "Pneus: 2\n",
      "Cor: Vermelha\n",
      "Combustível: Nenhum\n",
      "\n",
      "Clone da Bicicleta:\n",
      "Assentos: 1\n",
      "Pneus: 2\n",
      "Cor: Vermelha\n",
      "Combustível: Nenhum\n",
      "\n",
      "Carro Original:\n",
      "Assentos: 5\n",
      "Pneus: 4\n",
      "Cor: Azul\n",
      "Combustível: Gasolina\n",
      "\n",
      "Clone do Carro:\n",
      "Assentos: 5\n",
      "Pneus: 4\n",
      "Cor: Azul\n",
      "Combustível: Gasolina\n"
     ]
    }
   ],
   "source": [
    "from copy import deepcopy  # Usamos deepcopy para cópias profundas\n",
    "\n",
    "class Vehicle:\n",
    "    def __init__(self, seats, tyres, color, fuel):\n",
    "        self.seats = seats\n",
    "        self.tyres = tyres\n",
    "        self.color = color\n",
    "        self.fuel = fuel\n",
    "\n",
    "    def display(self):\n",
    "        print(f\"Assentos: {self.seats}\")\n",
    "        print(f\"Pneus: {self.tyres}\")\n",
    "        print(f\"Cor: {self.color}\")\n",
    "        print(f\"Combustível: {self.fuel}\")\n",
    "\n",
    "    def clone(self):\n",
    "        return deepcopy(self)  # Retorna uma cópia profunda do objeto\n",
    "\n",
    "\n",
    "class Bike(Vehicle):\n",
    "    def __init__(self, color, fuel):\n",
    "        super().__init__(1, 2, color, fuel)  # Uma bicicleta tem 1 assento e 2 pneus\n",
    "\n",
    "\n",
    "class Car(Vehicle):\n",
    "    def __init__(self, seats, color, fuel):\n",
    "        super().__init__(seats, 4, color, fuel)  # Um carro tem 4 pneus\n",
    "\n",
    "\n",
    "# Exemplo de uso\n",
    "bike_original = Bike(\"Vermelha\", \"Nenhum\")\n",
    "bike_clone = bike_original.clone()\n",
    "\n",
    "print(\"Bicicleta Original:\")\n",
    "bike_original.display()\n",
    "\n",
    "print(\"\\nClone da Bicicleta:\")\n",
    "bike_clone.display()\n",
    "\n",
    "car_original = Car(5, \"Azul\", \"Gasolina\")\n",
    "car_clone = car_original.clone()\n",
    "\n",
    "print(\"\\nCarro Original:\")\n",
    "car_original.display()\n",
    "\n",
    "print(\"\\nClone do Carro:\")\n",
    "car_clone.display()\n"
   ]
  },
  {
   "cell_type": "code",
   "execution_count": null,
   "id": "dc056a56",
   "metadata": {},
   "outputs": [],
   "source": []
  }
 ],
 "metadata": {
  "kernelspec": {
   "display_name": "Python 3 (ipykernel)",
   "language": "python",
   "name": "python3"
  },
  "language_info": {
   "codemirror_mode": {
    "name": "ipython",
    "version": 3
   },
   "file_extension": ".py",
   "mimetype": "text/x-python",
   "name": "python",
   "nbconvert_exporter": "python",
   "pygments_lexer": "ipython3",
   "version": "3.7.16"
  }
 },
 "nbformat": 4,
 "nbformat_minor": 5
}
