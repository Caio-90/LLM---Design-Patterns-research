{
 "cells": [
  {
   "cell_type": "code",
   "execution_count": 1,
   "id": "5d00afa4",
   "metadata": {},
   "outputs": [
    {
     "name": "stdout",
     "output_type": "stream",
     "text": [
      "Color(red=255, green=0, blue=0)\n",
      "Color(red=0, green=255, blue=0)\n",
      "Color(red=0, green=0, blue=255)\n",
      "Color(red=0, green=255, blue=255)\n",
      "Color(red=255, green=0, blue=255)\n",
      "Color(red=255, green=255, blue=0)\n"
     ]
    }
   ],
   "source": [
    "from copy import deepcopy\n",
    "\n",
    "class Color:\n",
    "    def __init__(self, red, green, blue):\n",
    "        self.red = red\n",
    "        self.green = green\n",
    "        self.blue = blue\n",
    "\n",
    "    def __str__(self):\n",
    "        return f\"Color(red={self.red}, green={self.green}, blue={self.blue})\"\n",
    "\n",
    "    def clone(self):\n",
    "        return deepcopy(self)  # Cria uma cópia profunda (padrão Prototype)\n",
    "\n",
    "# Cores básicas\n",
    "red = Color(255, 0, 0)\n",
    "green = Color(0, 255, 0)\n",
    "blue = Color(0, 0, 255)\n",
    "\n",
    "print(red)   # Saída: Color(red=255, green=0, blue=0)\n",
    "print(green) # Saída: Color(red=0, green=255, blue=0)\n",
    "print(blue)  # Saída: Color(red=0, green=0, blue=255)\n",
    "\n",
    "# Cores personalizadas\n",
    "cyan = Color(0, 255, 255)\n",
    "magenta = Color(255, 0, 255)\n",
    "yellow = Color(255, 255, 0)\n",
    "\n",
    "# Cópias (usando o padrão Prototype)\n",
    "cyan_copy = cyan.clone()\n",
    "magenta_copy = magenta.clone()\n",
    "yellow_copy = yellow.clone()\n",
    "\n",
    "print(cyan_copy)    # Saída: Color(red=0, green=255, blue=255)\n",
    "print(magenta_copy) # Saída: Color(red=255, green=0, blue=255)\n",
    "print(yellow_copy)  # Saída: Color(red=255, green=255, blue=0)\n"
   ]
  },
  {
   "cell_type": "code",
   "execution_count": null,
   "id": "055d4cbe",
   "metadata": {},
   "outputs": [],
   "source": []
  }
 ],
 "metadata": {
  "kernelspec": {
   "display_name": "Python 3 (ipykernel)",
   "language": "python",
   "name": "python3"
  },
  "language_info": {
   "codemirror_mode": {
    "name": "ipython",
    "version": 3
   },
   "file_extension": ".py",
   "mimetype": "text/x-python",
   "name": "python",
   "nbconvert_exporter": "python",
   "pygments_lexer": "ipython3",
   "version": "3.7.16"
  }
 },
 "nbformat": 4,
 "nbformat_minor": 5
}
