{
 "cells": [
  {
   "cell_type": "code",
   "execution_count": 1,
   "id": "a34805ff",
   "metadata": {},
   "outputs": [
    {
     "name": "stdout",
     "output_type": "stream",
     "text": [
      "Robô Original: T-800 - Plasma Rifle\n",
      "Robô Clonado: T-800 - Plasma Rifle\n",
      "Robô Original: T-800 - Plasma Rifle\n",
      "Robô Clonado (Modificado): T-1000 - Liquid Metal\n"
     ]
    }
   ],
   "source": [
    "from copy import deepcopy\n",
    "\n",
    "class CombatRobot:\n",
    "    def __init__(self, name, weapon):\n",
    "        self.name = name\n",
    "        self.weapon = weapon\n",
    "\n",
    "    def clone(self):\n",
    "        return deepcopy(self)\n",
    "\n",
    "# Criando o robô original\n",
    "original_robot = CombatRobot(\"T-800\", \"Plasma Rifle\")\n",
    "\n",
    "# Clonando o robô original para criar um novo robô\n",
    "cloned_robot = original_robot.clone()\n",
    "\n",
    "# Verificando os objetos\n",
    "print(f\"Robô Original: {original_robot.name} - {original_robot.weapon}\")\n",
    "print(f\"Robô Clonado: {cloned_robot.name} - {cloned_robot.weapon}\")\n",
    "\n",
    "# Modificando o robô clonado\n",
    "cloned_robot.name = \"T-1000\"\n",
    "cloned_robot.weapon = \"Liquid Metal\"\n",
    "\n",
    "# Verificando novamente após a modificação\n",
    "print(f\"Robô Original: {original_robot.name} - {original_robot.weapon}\")\n",
    "print(f\"Robô Clonado (Modificado): {cloned_robot.name} - {cloned_robot.weapon}\")\n"
   ]
  },
  {
   "cell_type": "code",
   "execution_count": null,
   "id": "668e99bd",
   "metadata": {},
   "outputs": [],
   "source": []
  }
 ],
 "metadata": {
  "kernelspec": {
   "display_name": "Python 3 (ipykernel)",
   "language": "python",
   "name": "python3"
  },
  "language_info": {
   "codemirror_mode": {
    "name": "ipython",
    "version": 3
   },
   "file_extension": ".py",
   "mimetype": "text/x-python",
   "name": "python",
   "nbconvert_exporter": "python",
   "pygments_lexer": "ipython3",
   "version": "3.7.16"
  }
 },
 "nbformat": 4,
 "nbformat_minor": 5
}
