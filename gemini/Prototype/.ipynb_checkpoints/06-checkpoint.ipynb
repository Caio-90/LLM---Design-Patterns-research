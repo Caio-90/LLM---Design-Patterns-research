{
 "cells": [
  {
   "cell_type": "code",
   "execution_count": 1,
   "id": "cf8d4eec",
   "metadata": {},
   "outputs": [
    {
     "name": "stdout",
     "output_type": "stream",
     "text": [
      "Nome: Alice, Função: Gerente, Palavras por minuto: 120\n",
      "Nome: Bob, Função: Desenvolvedor, Palavras por minuto: 100, Linguagem Preferida: Python\n"
     ]
    }
   ],
   "source": [
    "import copy\n",
    "\n",
    "class IEmployee:\n",
    "    def __init__(self, name, role, words_per_minute):\n",
    "        self.name = name\n",
    "        self.role = role\n",
    "        self.words_per_minute = words_per_minute\n",
    "\n",
    "    def get_details(self):\n",
    "        return f\"Nome: {self.name}, Função: {self.role}, Palavras por minuto: {self.words_per_minute}\"\n",
    "\n",
    "    def clone(self):\n",
    "        return copy.deepcopy(self)\n",
    "\n",
    "class Manager(IEmployee):\n",
    "    def __init__(self, name, words_per_minute):\n",
    "        super().__init__(name, \"Gerente\", words_per_minute)\n",
    "\n",
    "class Developer(IEmployee):\n",
    "    def __init__(self, name, words_per_minute, preferred_language):\n",
    "        super().__init__(name, \"Desenvolvedor\", words_per_minute)\n",
    "        self.preferred_language = preferred_language\n",
    "\n",
    "    def get_details(self):\n",
    "        return super().get_details() + f\", Linguagem Preferida: {self.preferred_language}\"\n",
    "\n",
    "# Criando protótipos\n",
    "manager_prototype = Manager(\"Alice\", 120)\n",
    "developer_prototype = Developer(\"Bob\", 100, \"Python\")\n",
    "\n",
    "# Clonando os protótipos para criar novos objetos\n",
    "manager1 = manager_prototype.clone()\n",
    "developer1 = developer_prototype.clone()\n",
    "\n",
    "print(manager1.get_details())  # Saída: Nome: Alice, Função: Gerente, Palavras por minuto: 120\n",
    "print(developer1.get_details()) # Saída: Nome: Bob, Função: Desenvolvedor, Palavras por minuto: 100, Linguagem Preferida: Python\n"
   ]
  },
  {
   "cell_type": "code",
   "execution_count": null,
   "id": "8e029fcb",
   "metadata": {},
   "outputs": [],
   "source": []
  }
 ],
 "metadata": {
  "kernelspec": {
   "display_name": "Python 3 (ipykernel)",
   "language": "python",
   "name": "python3"
  },
  "language_info": {
   "codemirror_mode": {
    "name": "ipython",
    "version": 3
   },
   "file_extension": ".py",
   "mimetype": "text/x-python",
   "name": "python",
   "nbconvert_exporter": "python",
   "pygments_lexer": "ipython3",
   "version": "3.7.16"
  }
 },
 "nbformat": 4,
 "nbformat_minor": 5
}
