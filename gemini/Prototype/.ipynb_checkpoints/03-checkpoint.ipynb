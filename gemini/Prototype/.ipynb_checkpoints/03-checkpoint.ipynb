{
 "cells": [
  {
   "cell_type": "code",
   "execution_count": 1,
   "id": "ea760748",
   "metadata": {},
   "outputs": [
    {
     "name": "stdout",
     "output_type": "stream",
     "text": [
      "Rua Principal, 123, Balneário Camboriú, Brasil\n",
      "Avenida Secundária, 456, Balneário Camboriú, Brasil\n"
     ]
    }
   ],
   "source": [
    "from copy import deepcopy\n",
    "\n",
    "class Address:\n",
    "    def __init__(self, street_address, city, country):\n",
    "        self.street_address = street_address\n",
    "        self.city = city\n",
    "        self.country = country\n",
    "\n",
    "    def get_address_line(self):\n",
    "        return f\"{self.street_address}, {self.city}, {self.country}\"\n",
    "\n",
    "    def clone(self):\n",
    "        return deepcopy(self)  # Clona o objeto Address\n",
    "\n",
    "\n",
    "class Person:\n",
    "    def __init__(self, name, address):\n",
    "        self.name = name\n",
    "        self.address = address\n",
    "\n",
    "    def get_address_line(self):\n",
    "        return self.address.get_address_line()  # Utiliza o método da classe Address\n",
    "\n",
    "    def clone(self):\n",
    "        return deepcopy(self)  # Clona o objeto Person (incluindo o Address clonado)\n",
    "\n",
    "# Cria um endereço base\n",
    "address1 = Address(\"Rua Principal, 123\", \"Balneário Camboriú\", \"Brasil\")\n",
    "\n",
    "# Cria uma pessoa com o endereço base\n",
    "person1 = Person(\"João Silva\", address1)\n",
    "\n",
    "# Clona o endereço base e modifica a rua\n",
    "address2 = address1.clone()\n",
    "address2.street_address = \"Avenida Secundária, 456\"\n",
    "\n",
    "# Cria outra pessoa com o endereço clonado e modificado\n",
    "person2 = Person(\"Maria Santos\", address2)\n",
    "\n",
    "print(person1.get_address_line())  # Rua Principal, 123, Balneário Camboriú, Brasil\n",
    "print(person2.get_address_line())  # Avenida Secundária, 456, Balneário Camboriú, Brasil\n"
   ]
  },
  {
   "cell_type": "code",
   "execution_count": null,
   "id": "cb25ad57",
   "metadata": {},
   "outputs": [],
   "source": []
  }
 ],
 "metadata": {
  "kernelspec": {
   "display_name": "Python 3 (ipykernel)",
   "language": "python",
   "name": "python3"
  },
  "language_info": {
   "codemirror_mode": {
    "name": "ipython",
    "version": 3
   },
   "file_extension": ".py",
   "mimetype": "text/x-python",
   "name": "python",
   "nbconvert_exporter": "python",
   "pygments_lexer": "ipython3",
   "version": "3.7.16"
  }
 },
 "nbformat": 4,
 "nbformat_minor": 5
}
