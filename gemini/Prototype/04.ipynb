{
 "cells": [
  {
   "cell_type": "code",
   "execution_count": 1,
   "id": "579d52ce",
   "metadata": {},
   "outputs": [
    {
     "name": "stdout",
     "output_type": "stream",
     "text": [
      "Desenhando um círculo vermelho\n",
      "Desenhando um círculo vermelho\n",
      "Desenhando um círculo azul\n"
     ]
    }
   ],
   "source": [
    "from copy import deepcopy\n",
    "\n",
    "class Circle:\n",
    "    def __init__(self, color):\n",
    "        self.color = color\n",
    "\n",
    "    def draw(self):\n",
    "        print(f\"Desenhando um círculo {self.color}\")\n",
    "\n",
    "    def clone(self):\n",
    "        return deepcopy(self)  # Retorna uma cópia profunda do objeto\n",
    "\n",
    "# Criando um protótipo de círculo vermelho\n",
    "red_circle_prototype = Circle(\"vermelho\")\n",
    "\n",
    "# Clonando o protótipo para criar novos círculos\n",
    "circle1 = red_circle_prototype.clone()\n",
    "circle2 = red_circle_prototype.clone()\n",
    "\n",
    "# Modificando um dos clones (opcional)\n",
    "circle2.color = \"azul\"\n",
    "\n",
    "# Desenhando os círculos\n",
    "red_circle_prototype.draw()  # Saída: Desenhando um círculo vermelho\n",
    "circle1.draw()               # Saída: Desenhando um círculo vermelho\n",
    "circle2.draw()               # Saída: Desenhando um círculo azul\n"
   ]
  },
  {
   "cell_type": "code",
   "execution_count": null,
   "id": "189abee1",
   "metadata": {},
   "outputs": [],
   "source": []
  }
 ],
 "metadata": {
  "kernelspec": {
   "display_name": "Python 3 (ipykernel)",
   "language": "python",
   "name": "python3"
  },
  "language_info": {
   "codemirror_mode": {
    "name": "ipython",
    "version": 3
   },
   "file_extension": ".py",
   "mimetype": "text/x-python",
   "name": "python",
   "nbconvert_exporter": "python",
   "pygments_lexer": "ipython3",
   "version": "3.7.16"
  }
 },
 "nbformat": 4,
 "nbformat_minor": 5
}
