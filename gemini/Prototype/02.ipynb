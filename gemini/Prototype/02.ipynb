{
 "cells": [
  {
   "cell_type": "code",
   "execution_count": 1,
   "id": "173af0a0",
   "metadata": {},
   "outputs": [
    {
     "name": "stdout",
     "output_type": "stream",
     "text": [
      "B001 Python Programming 350\n",
      "B001 Python Programming 350\n",
      "D001 The Matrix 136\n",
      "D001 The Matrix 136\n"
     ]
    }
   ],
   "source": [
    "from copy import deepcopy\n",
    "\n",
    "class Product:\n",
    "    def __init__(self, sku, description, length):\n",
    "        self.sku = sku\n",
    "        self.description = description\n",
    "        self.length = length\n",
    "\n",
    "    def clone(self):\n",
    "        return deepcopy(self)\n",
    "\n",
    "class Book(Product):\n",
    "    def __init__(self, sku, description, num_pages):\n",
    "        super().__init__(sku, description, num_pages)\n",
    "\n",
    "class DVD(Product):\n",
    "    def __init__(self, sku, description, duration):\n",
    "        super().__init__(sku, description, duration)\n",
    "\n",
    "# Exemplo de uso\n",
    "book1 = Book(\"B001\", \"Python Programming\", 350)\n",
    "book2 = book1.clone()  # Clona o livro\n",
    "\n",
    "dvd1 = DVD(\"D001\", \"The Matrix\", 136)\n",
    "dvd2 = dvd1.clone()  # Clona o DVD\n",
    "\n",
    "print(book1.sku, book1.description, book1.length)  # Saída: B001 Python Programming 350\n",
    "print(book2.sku, book2.description, book2.length)  # Saída: B001 Python Programming 350\n",
    "\n",
    "print(dvd1.sku, dvd1.description, dvd1.length)    # Saída: D001 The Matrix 136\n",
    "print(dvd2.sku, dvd2.description, dvd2.length)    # Saída: D001 The Matrix 136\n"
   ]
  },
  {
   "cell_type": "code",
   "execution_count": null,
   "id": "31821391",
   "metadata": {},
   "outputs": [],
   "source": []
  }
 ],
 "metadata": {
  "kernelspec": {
   "display_name": "Python 3 (ipykernel)",
   "language": "python",
   "name": "python3"
  },
  "language_info": {
   "codemirror_mode": {
    "name": "ipython",
    "version": 3
   },
   "file_extension": ".py",
   "mimetype": "text/x-python",
   "name": "python",
   "nbconvert_exporter": "python",
   "pygments_lexer": "ipython3",
   "version": "3.11.5"
  }
 },
 "nbformat": 4,
 "nbformat_minor": 5
}
