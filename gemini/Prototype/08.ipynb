{
 "cells": [
  {
   "cell_type": "code",
   "execution_count": 2,
   "id": "b1a3b679",
   "metadata": {},
   "outputs": [
    {
     "name": "stdout",
     "output_type": "stream",
     "text": [
      "Digite o ID do funcionário: 1\n",
      "Digite o nome do funcionário: a\n",
      "Digite o cargo do funcionário: a\n",
      "Digite o salário do funcionário: 1\n",
      "Digite o endereço do funcionário: a\n",
      "\n",
      "Dados do funcionário original:\n",
      "ID: 1\n",
      "Nome: a\n",
      "Cargo: a\n",
      "Salário: 1.0\n",
      "Endereço: a\n",
      "\n",
      "Dados do funcionário clonado:\n",
      "ID: 1\n",
      "Nome: a\n",
      "Cargo: a\n",
      "Salário: 1.0\n",
      "Endereço: a\n"
     ]
    }
   ],
   "source": [
    "class EmployeeRecord:\n",
    "    def __init__(self, id, name, designation, salary, address):\n",
    "        self.id = id\n",
    "        self.name = name\n",
    "        self.designation = designation\n",
    "        self.salary = salary\n",
    "        self.address = address\n",
    "\n",
    "    def showRecord(self):\n",
    "        print(f\"ID: {self.id}\")\n",
    "        print(f\"Nome: {self.name}\")\n",
    "        print(f\"Cargo: {self.designation}\")\n",
    "        print(f\"Salário: {self.salary}\")\n",
    "        print(f\"Endereço: {self.address}\")\n",
    "\n",
    "    def clone(self):\n",
    "        return EmployeeRecord(self.id, self.name, self.designation, self.salary, self.address)\n",
    "\n",
    "# Obtenção dos dados do funcionário a partir do usuário\n",
    "id = input(\"Digite o ID do funcionário: \")\n",
    "name = input(\"Digite o nome do funcionário: \")\n",
    "designation = input(\"Digite o cargo do funcionário: \")\n",
    "salary = float(input(\"Digite o salário do funcionário: \"))\n",
    "address = input(\"Digite o endereço do funcionário: \")\n",
    "\n",
    "# Criação do primeiro objeto (protótipo)\n",
    "original_employee = EmployeeRecord(id, name, designation, salary, address)\n",
    "\n",
    "# Criação do segundo objeto (clone)\n",
    "cloned_employee = original_employee.clone()\n",
    "\n",
    "print(\"\\nDados do funcionário original:\")\n",
    "original_employee.showRecord()\n",
    "\n",
    "print(\"\\nDados do funcionário clonado:\")\n",
    "cloned_employee.showRecord()\n"
   ]
  },
  {
   "cell_type": "code",
   "execution_count": null,
   "id": "974a12be",
   "metadata": {},
   "outputs": [],
   "source": []
  }
 ],
 "metadata": {
  "kernelspec": {
   "display_name": "Python 3 (ipykernel)",
   "language": "python",
   "name": "python3"
  },
  "language_info": {
   "codemirror_mode": {
    "name": "ipython",
    "version": 3
   },
   "file_extension": ".py",
   "mimetype": "text/x-python",
   "name": "python",
   "nbconvert_exporter": "python",
   "pygments_lexer": "ipython3",
   "version": "3.7.16"
  }
 },
 "nbformat": 4,
 "nbformat_minor": 5
}
