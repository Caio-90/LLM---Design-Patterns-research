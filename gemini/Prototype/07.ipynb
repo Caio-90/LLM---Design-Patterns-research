{
 "cells": [
  {
   "cell_type": "code",
   "execution_count": 1,
   "id": "e4050adf",
   "metadata": {},
   "outputs": [
    {
     "name": "stdout",
     "output_type": "stream",
     "text": [
      "Desenhando um quadrado de lado 5\n"
     ]
    }
   ],
   "source": [
    "import copy\n",
    "\n",
    "class Shape:\n",
    "    def __init__(self, shape_id, shape_type):\n",
    "        self.id = shape_id\n",
    "        self.type = shape_type\n",
    "\n",
    "    def draw(self):\n",
    "        raise NotImplementedError(\"Método draw() deve ser implementado nas subclasses\")\n",
    "\n",
    "    def clone(self):\n",
    "        return copy.deepcopy(self)\n",
    "\n",
    "class Square(Shape):\n",
    "    def __init__(self, shape_id, side):\n",
    "        super().__init__(shape_id, \"Square\")\n",
    "        self.side = side\n",
    "\n",
    "    def draw(self):\n",
    "        print(f\"Desenhando um quadrado de lado {self.side}\")\n",
    "\n",
    "class Rectangle(Shape):\n",
    "    def __init__(self, shape_id, width, height):\n",
    "        super().__init__(shape_id, \"Rectangle\")\n",
    "        self.width = width\n",
    "        self.height = height\n",
    "\n",
    "    def draw(self):\n",
    "        print(f\"Desenhando um retângulo de largura {self.width} e altura {self.height}\")\n",
    "\n",
    "class Circle(Shape):\n",
    "    def __init__(self, shape_id, radius):\n",
    "        super().__init__(shape_id, \"Circle\")\n",
    "        self.radius = radius\n",
    "\n",
    "    def draw(self):\n",
    "        print(f\"Desenhando um círculo de raio {self.radius}\")\n",
    "\n",
    "class ShapeCache:\n",
    "    def __init__(self):\n",
    "        self._cache = {}\n",
    "\n",
    "    def get_shape(self, shape_id):\n",
    "        shape = self._cache.get(shape_id)\n",
    "        if shape is not None:\n",
    "            return shape.clone()\n",
    "        else:\n",
    "            raise ValueError(f\"Forma com ID {shape_id} não encontrada no cache.\")\n",
    "\n",
    "    def load_cache(self):\n",
    "        square = Square(1, 5)\n",
    "        rectangle = Rectangle(2, 4, 6)\n",
    "        circle = Circle(3, 3)\n",
    "\n",
    "        self._cache[square.id] = square\n",
    "        self._cache[rectangle.id] = rectangle\n",
    "        self._cache[circle.id] = circle\n",
    "\n",
    "cache = ShapeCache()\n",
    "cache.load_cache()\n",
    "\n",
    "cloned_square = cache.get_shape(1)\n",
    "cloned_square.draw()  # Saída: Desenhando um quadrado de lado 5\n"
   ]
  },
  {
   "cell_type": "code",
   "execution_count": null,
   "id": "4f2fc26b",
   "metadata": {},
   "outputs": [],
   "source": []
  }
 ],
 "metadata": {
  "kernelspec": {
   "display_name": "Python 3 (ipykernel)",
   "language": "python",
   "name": "python3"
  },
  "language_info": {
   "codemirror_mode": {
    "name": "ipython",
    "version": 3
   },
   "file_extension": ".py",
   "mimetype": "text/x-python",
   "name": "python",
   "nbconvert_exporter": "python",
   "pygments_lexer": "ipython3",
   "version": "3.7.16"
  }
 },
 "nbformat": 4,
 "nbformat_minor": 5
}
