{
 "cells": [
  {
   "cell_type": "code",
   "execution_count": 1,
   "id": "77040f85",
   "metadata": {},
   "outputs": [
    {
     "name": "stdout",
     "output_type": "stream",
     "text": [
      "Dolly Dorset\n",
      "Fluffy Dorset\n",
      "Dolly Suffolk\n"
     ]
    }
   ],
   "source": [
    "from copy import deepcopy\n",
    "\n",
    "class Sheep:\n",
    "    def __init__(self, name, category):\n",
    "        self.name = name\n",
    "        self.category = category\n",
    "\n",
    "    def clone(self):\n",
    "        return deepcopy(self)\n",
    "\n",
    "# Criando um protótipo\n",
    "prototype_sheep = Sheep(\"Dolly\", \"Dorset\")\n",
    "\n",
    "# Clonando o protótipo\n",
    "sheep1 = prototype_sheep.clone()\n",
    "sheep2 = prototype_sheep.clone()\n",
    "\n",
    "# Personalizando os clones\n",
    "sheep1.name = \"Fluffy\"\n",
    "sheep2.category = \"Suffolk\"\n",
    "\n",
    "print(prototype_sheep.name, prototype_sheep.category)  # Dolly Dorset\n",
    "print(sheep1.name, sheep1.category)                    # Fluffy Dorset\n",
    "print(sheep2.name, sheep2.category)                    # Dolly Suffolk\n"
   ]
  },
  {
   "cell_type": "code",
   "execution_count": null,
   "id": "b019596f",
   "metadata": {},
   "outputs": [],
   "source": []
  }
 ],
 "metadata": {
  "kernelspec": {
   "display_name": "Python 3 (ipykernel)",
   "language": "python",
   "name": "python3"
  },
  "language_info": {
   "codemirror_mode": {
    "name": "ipython",
    "version": 3
   },
   "file_extension": ".py",
   "mimetype": "text/x-python",
   "name": "python",
   "nbconvert_exporter": "python",
   "pygments_lexer": "ipython3",
   "version": "3.7.16"
  }
 },
 "nbformat": 4,
 "nbformat_minor": 5
}
