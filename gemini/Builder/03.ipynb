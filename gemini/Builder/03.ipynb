{
 "cells": [
  {
   "cell_type": "code",
   "execution_count": 1,
   "id": "f5811efd",
   "metadata": {},
   "outputs": [
    {
     "name": "stdout",
     "output_type": "stream",
     "text": [
      "Carro com 4 assentos, motor 1.0, computador de bordo: Não, GPS: Não\n",
      "Carro com 5 assentos, motor 2.0, computador de bordo: Sim, GPS: Sim\n"
     ]
    }
   ],
   "source": [
    "class Car:\n",
    "    \"\"\"Representa um carro com assentos, motor, computador de bordo e GPS.\"\"\"\n",
    "\n",
    "    def __init__(self, seats, engine, trip_computer, gps):\n",
    "        self.seats = seats\n",
    "        self.engine = engine\n",
    "        self.trip_computer = trip_computer\n",
    "        self.gps = gps\n",
    "\n",
    "    def __str__(self):\n",
    "        return (f\"Carro com {self.seats} assentos, motor {self.engine}, \"\n",
    "                f\"computador de bordo: {'Sim' if self.trip_computer else 'Não'}, \"\n",
    "                f\"GPS: {'Sim' if self.gps else 'Não'}\")\n",
    "\n",
    "\n",
    "class CarBuilder:\n",
    "    \"\"\"Construtor para criar instâncias de Car de forma flexível.\"\"\"\n",
    "\n",
    "    def __init__(self):\n",
    "        self.seats = 4  # Valor padrão\n",
    "        self.engine = \"1.0\"  # Valor padrão\n",
    "        self.trip_computer = False  # Valor padrão\n",
    "        self.gps = False  # Valor padrão\n",
    "\n",
    "    def with_seats(self, seats):\n",
    "        self.seats = seats\n",
    "        return self\n",
    "\n",
    "    def with_engine(self, engine):\n",
    "        self.engine = engine\n",
    "        return self\n",
    "\n",
    "    def with_trip_computer(self):\n",
    "        self.trip_computer = True\n",
    "        return self\n",
    "\n",
    "    def with_gps(self):\n",
    "        self.gps = True\n",
    "        return self\n",
    "\n",
    "    def build(self):\n",
    "        return Car(self.seats, self.engine, self.trip_computer, self.gps)\n",
    "\n",
    "\n",
    "# Exemplos de uso:\n",
    "\n",
    "# Carro padrão\n",
    "car1 = CarBuilder().build()\n",
    "print(car1)  # Carro com 4 assentos, motor 1.0, computador de bordo: Não, GPS: Não\n",
    "\n",
    "# Carro personalizado\n",
    "car2 = (CarBuilder()\n",
    "        .with_seats(5)\n",
    "        .with_engine(\"2.0\")\n",
    "        .with_trip_computer()\n",
    "        .with_gps()\n",
    "        .build())\n",
    "print(car2)  # Carro com 5 assentos, motor 2.0, computador de bordo: Sim, GPS: Sim\n"
   ]
  },
  {
   "cell_type": "code",
   "execution_count": null,
   "id": "b3c50480",
   "metadata": {},
   "outputs": [],
   "source": []
  }
 ],
 "metadata": {
  "kernelspec": {
   "display_name": "Python 3 (ipykernel)",
   "language": "python",
   "name": "python3"
  },
  "language_info": {
   "codemirror_mode": {
    "name": "ipython",
    "version": 3
   },
   "file_extension": ".py",
   "mimetype": "text/x-python",
   "name": "python",
   "nbconvert_exporter": "python",
   "pygments_lexer": "ipython3",
   "version": "3.11.5"
  }
 },
 "nbformat": 4,
 "nbformat_minor": 5
}
