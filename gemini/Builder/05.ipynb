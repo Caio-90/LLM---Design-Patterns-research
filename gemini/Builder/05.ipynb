{
 "cells": [
  {
   "cell_type": "code",
   "execution_count": 1,
   "id": "a52e7950",
   "metadata": {},
   "outputs": [
    {
     "name": "stdout",
     "output_type": "stream",
     "text": [
      "512GB SSD\n",
      "True\n"
     ]
    }
   ],
   "source": [
    "class Computer:\n",
    "    def __init__(self, hdd, ram):\n",
    "        self.hdd = hdd\n",
    "        self.ram = ram\n",
    "        self.graphics_card_enabled = False\n",
    "        self.bluetooth_enabled = False\n",
    "\n",
    "class ComputerBuilder:\n",
    "    def __init__(self):\n",
    "        self.computer = Computer(None, None)\n",
    "\n",
    "    def with_hdd(self, hdd):\n",
    "        self.computer.hdd = hdd\n",
    "        return self\n",
    "\n",
    "    def with_ram(self, ram):\n",
    "        self.computer.ram = ram\n",
    "        return self\n",
    "\n",
    "    def with_graphics_card(self):\n",
    "        self.computer.graphics_card_enabled = True\n",
    "        return self\n",
    "\n",
    "    def with_bluetooth(self):\n",
    "        self.computer.bluetooth_enabled = True\n",
    "        return self\n",
    "\n",
    "    def build(self):\n",
    "        return self.computer\n",
    "\n",
    "# Exemplo de uso\n",
    "builder = ComputerBuilder()\n",
    "computer = builder.with_hdd(\"512GB SSD\")\\\n",
    "                 .with_ram(\"16GB\")\\\n",
    "                 .with_graphics_card()\\\n",
    "                 .build()\n",
    "\n",
    "print(computer.hdd)  # Saída: 512GB SSD\n",
    "print(computer.graphics_card_enabled)  # Saída: True\n"
   ]
  },
  {
   "cell_type": "code",
   "execution_count": null,
   "id": "c9fc2a8c",
   "metadata": {},
   "outputs": [],
   "source": []
  }
 ],
 "metadata": {
  "kernelspec": {
   "display_name": "Python 3 (ipykernel)",
   "language": "python",
   "name": "python3"
  },
  "language_info": {
   "codemirror_mode": {
    "name": "ipython",
    "version": 3
   },
   "file_extension": ".py",
   "mimetype": "text/x-python",
   "name": "python",
   "nbconvert_exporter": "python",
   "pygments_lexer": "ipython3",
   "version": "3.11.5"
  }
 },
 "nbformat": 4,
 "nbformat_minor": 5
}
