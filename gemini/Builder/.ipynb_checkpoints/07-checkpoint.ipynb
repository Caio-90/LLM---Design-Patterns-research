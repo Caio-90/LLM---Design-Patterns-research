{
 "cells": [
  {
   "cell_type": "code",
   "execution_count": 1,
   "id": "5bc6d2ef",
   "metadata": {},
   "outputs": [
    {
     "name": "stdout",
     "output_type": "stream",
     "text": [
      "Pessoa(nome='Maria', sobrenome='Silva', data_nascimento='1990-05-15', endereco=Endereco(logradouro='Rua A', numero=123, complemento='Apto 501', bairro='Centro', cidade='São Paulo', estado='SP', pais='Brasil'), telefones=[Telefone(ddd=11, numero='987654321', tipoTelefone=<TipoTelefone.CELULAR: 'Celular'>), Telefone(ddd=11, numero='234567890', tipoTelefone=<TipoTelefone.RESIDENCIAL: 'Residencial'>)])\n"
     ]
    }
   ],
   "source": [
    "from dataclasses import dataclass\n",
    "from enum import Enum\n",
    "\n",
    "class TipoTelefone(Enum):\n",
    "    RESIDENCIAL = \"Residencial\"\n",
    "    CELULAR = \"Celular\"\n",
    "\n",
    "@dataclass\n",
    "class Telefone:\n",
    "    ddd: int\n",
    "    numero: str\n",
    "    tipoTelefone: TipoTelefone\n",
    "\n",
    "@dataclass\n",
    "class Endereco:\n",
    "    logradouro: str\n",
    "    numero: int\n",
    "    complemento: str\n",
    "    bairro: str\n",
    "    cidade: str\n",
    "    estado: str\n",
    "    pais: str\n",
    "\n",
    "@dataclass\n",
    "class Pessoa:\n",
    "    nome: str\n",
    "    sobrenome: str\n",
    "    data_nascimento: str  # Formato recomendado: YYYY-MM-DD (ISO 8601)\n",
    "    endereco: Endereco\n",
    "    telefones: list[Telefone]  # Pode ter vários telefones\n",
    "\n",
    "class PessoaBuilder:\n",
    "    def __init__(self):\n",
    "        self._pessoa = Pessoa(None, None, None, None, [])  # Inicializa com valores padrão\n",
    "\n",
    "    def com_nome(self, nome):\n",
    "        self._pessoa.nome = nome\n",
    "        return self\n",
    "\n",
    "    def com_sobrenome(self, sobrenome):\n",
    "        self._pessoa.sobrenome = sobrenome\n",
    "        return self\n",
    "\n",
    "    def com_data_nascimento(self, data_nascimento):\n",
    "        self._pessoa.data_nascimento = data_nascimento\n",
    "        return self\n",
    "\n",
    "    def com_endereco(self, logradouro, numero, complemento, bairro, cidade, estado, pais):\n",
    "        endereco = Endereco(logradouro, numero, complemento, bairro, cidade, estado, pais)\n",
    "        self._pessoa.endereco = endereco\n",
    "        return self\n",
    "\n",
    "    def com_telefone(self, ddd, numero, tipo_telefone: TipoTelefone):\n",
    "        telefone = Telefone(ddd, numero, tipo_telefone)\n",
    "        self._pessoa.telefones.append(telefone)\n",
    "        return self\n",
    "\n",
    "    def construir(self):\n",
    "        return self._pessoa\n",
    "\n",
    "pessoa = (\n",
    "    PessoaBuilder()\n",
    "    .com_nome(\"Maria\")\n",
    "    .com_sobrenome(\"Silva\")\n",
    "    .com_data_nascimento(\"1990-05-15\")\n",
    "    .com_endereco(\"Rua A\", 123, \"Apto 501\", \"Centro\", \"São Paulo\", \"SP\", \"Brasil\")\n",
    "    .com_telefone(11, \"987654321\", TipoTelefone.CELULAR)\n",
    "    .com_telefone(11, \"234567890\", TipoTelefone.RESIDENCIAL)\n",
    "    .construir()\n",
    ")\n",
    "\n",
    "print(pessoa) \n"
   ]
  },
  {
   "cell_type": "code",
   "execution_count": null,
   "id": "c97a0cf6",
   "metadata": {},
   "outputs": [],
   "source": []
  }
 ],
 "metadata": {
  "kernelspec": {
   "display_name": "Python 3 (ipykernel)",
   "language": "python",
   "name": "python3"
  },
  "language_info": {
   "codemirror_mode": {
    "name": "ipython",
    "version": 3
   },
   "file_extension": ".py",
   "mimetype": "text/x-python",
   "name": "python",
   "nbconvert_exporter": "python",
   "pygments_lexer": "ipython3",
   "version": "3.11.5"
  }
 },
 "nbformat": 4,
 "nbformat_minor": 5
}
