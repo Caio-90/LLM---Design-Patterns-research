{
 "cells": [
  {
   "cell_type": "code",
   "execution_count": 1,
   "id": "a3e43d84",
   "metadata": {},
   "outputs": [
    {
     "name": "stdout",
     "output_type": "stream",
     "text": [
      "Profession.MAGE\n",
      "HairType.LONG_STRAIGHT\n"
     ]
    }
   ],
   "source": [
    "from enum import Enum\n",
    "\n",
    "class Profession(Enum):\n",
    "    MAGE = 1\n",
    "    WARRIOR = 2\n",
    "    THIEF = 3\n",
    "\n",
    "class HairType(Enum):\n",
    "    LONG_STRAIGHT = 1\n",
    "    LONG_CURLY = 2\n",
    "    SHORT = 3\n",
    "    BALD = 4\n",
    "\n",
    "class HairColor(Enum):\n",
    "    BLOND = 1\n",
    "    BLACK = 2\n",
    "\n",
    "class Armor:\n",
    "    def __init__(self, name, defense):\n",
    "        self.name = name\n",
    "        self.defense = defense\n",
    "\n",
    "class Weapon:\n",
    "    def __init__(self, name, attack):\n",
    "        self.name = name\n",
    "        self.attack = attack\n",
    "\n",
    "class Hero:\n",
    "    def __init__(self, builder):\n",
    "        self.profession = builder.profession\n",
    "        self.hair_type = builder.hair_type\n",
    "        self.hair_color = builder.hair_color\n",
    "        self.armor = builder.armor\n",
    "        self.weapon = builder.weapon\n",
    "\n",
    "class HeroBuilder:\n",
    "    def __init__(self):\n",
    "        self.profession = None\n",
    "        self.hair_type = None\n",
    "        self.hair_color = None\n",
    "        self.armor = None\n",
    "        self.weapon = None\n",
    "\n",
    "    def set_profession(self, profession):\n",
    "        self.profession = profession\n",
    "        return self\n",
    "\n",
    "    def set_hair_type(self, hair_type):\n",
    "        self.hair_type = hair_type\n",
    "        return self\n",
    "\n",
    "    def set_hair_color(self, hair_color):\n",
    "        self.hair_color = hair_color\n",
    "        return self\n",
    "\n",
    "    def set_armor(self, armor):\n",
    "        self.armor = armor\n",
    "        return self\n",
    "\n",
    "    def set_weapon(self, weapon):\n",
    "        self.weapon = weapon\n",
    "        return self\n",
    "\n",
    "    def build(self):\n",
    "        return Hero(self)\n",
    "\n",
    "hero = HeroBuilder() \\\n",
    "    .set_profession(Profession.MAGE) \\\n",
    "    .set_hair_type(HairType.LONG_STRAIGHT) \\\n",
    "    .set_hair_color(HairColor.BLOND) \\\n",
    "    .set_armor(Armor(\"Robe of the Magi\", 10)) \\\n",
    "    .set_weapon(Weapon(\"Staff of Power\", 25)) \\\n",
    "    .build()\n",
    "\n",
    "print(hero.profession)  # Output: Profession.MAGE\n",
    "print(hero.hair_type)   # Output: HairType.LONG_STRAIGHT\n",
    "# ...\n"
   ]
  },
  {
   "cell_type": "code",
   "execution_count": null,
   "id": "da22ab5f",
   "metadata": {},
   "outputs": [],
   "source": []
  }
 ],
 "metadata": {
  "kernelspec": {
   "display_name": "Python 3 (ipykernel)",
   "language": "python",
   "name": "python3"
  },
  "language_info": {
   "codemirror_mode": {
    "name": "ipython",
    "version": 3
   },
   "file_extension": ".py",
   "mimetype": "text/x-python",
   "name": "python",
   "nbconvert_exporter": "python",
   "pygments_lexer": "ipython3",
   "version": "3.11.5"
  }
 },
 "nbformat": 4,
 "nbformat_minor": 5
}
