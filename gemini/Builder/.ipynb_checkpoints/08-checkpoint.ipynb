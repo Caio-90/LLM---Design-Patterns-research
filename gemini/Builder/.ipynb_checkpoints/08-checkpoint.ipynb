{
 "cells": [
  {
   "cell_type": "code",
   "execution_count": 1,
   "id": "fb0196a5",
   "metadata": {},
   "outputs": [
    {
     "name": "stdout",
     "output_type": "stream",
     "text": [
      "Conta: 12345-6\n",
      "Titular: João Silva\n",
      "Agência: 0001\n",
      "Saldo: R$ 5000.00\n",
      "Taxa de Juros: 0.50%\n"
     ]
    }
   ],
   "source": [
    "class BankAccount:\n",
    "    def __init__(self, builder):\n",
    "        self.account_number = builder.account_number\n",
    "        self.owner = builder.owner\n",
    "        self.branch = builder.branch\n",
    "        self.balance = builder.balance\n",
    "        self.interest_rate = builder.interest_rate\n",
    "\n",
    "    def __str__(self):\n",
    "        return f\"Conta: {self.account_number}\\nTitular: {self.owner}\\nAgência: {self.branch}\\nSaldo: R$ {self.balance:.2f}\\nTaxa de Juros: {self.interest_rate:.2f}%\"\n",
    "\n",
    "class BankAccountBuilder:\n",
    "    def __init__(self):\n",
    "        self.account_number = None\n",
    "        self.owner = None\n",
    "        self.branch = None\n",
    "        self.balance = 0.0\n",
    "        self.interest_rate = 0.0\n",
    "\n",
    "    def with_account_number(self, account_number):\n",
    "        self.account_number = account_number\n",
    "        return self\n",
    "\n",
    "    def with_owner(self, owner):\n",
    "        self.owner = owner\n",
    "        return self\n",
    "\n",
    "    def at_branch(self, branch):\n",
    "        self.branch = branch\n",
    "        return self\n",
    "\n",
    "    def with_balance(self, balance):\n",
    "        self.balance = balance\n",
    "        return self\n",
    "\n",
    "    def with_interest_rate(self, interest_rate):\n",
    "        self.interest_rate = interest_rate\n",
    "        return self\n",
    "\n",
    "    def build(self):\n",
    "        return BankAccount(self)\n",
    "\n",
    "conta = (\n",
    "    BankAccountBuilder()\n",
    "    .with_account_number(\"12345-6\")\n",
    "    .with_owner(\"João Silva\")\n",
    "    .at_branch(\"0001\")\n",
    "    .with_balance(5000.00)\n",
    "    .with_interest_rate(0.5)\n",
    "    .build()\n",
    ")\n",
    "\n",
    "print(conta)\n"
   ]
  },
  {
   "cell_type": "code",
   "execution_count": null,
   "id": "95bd7dfa",
   "metadata": {},
   "outputs": [],
   "source": []
  }
 ],
 "metadata": {
  "kernelspec": {
   "display_name": "Python 3 (ipykernel)",
   "language": "python",
   "name": "python3"
  },
  "language_info": {
   "codemirror_mode": {
    "name": "ipython",
    "version": 3
   },
   "file_extension": ".py",
   "mimetype": "text/x-python",
   "name": "python",
   "nbconvert_exporter": "python",
   "pygments_lexer": "ipython3",
   "version": "3.11.5"
  }
 },
 "nbformat": 4,
 "nbformat_minor": 5
}
