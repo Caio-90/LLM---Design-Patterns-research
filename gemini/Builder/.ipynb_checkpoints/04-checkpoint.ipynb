{
 "cells": [
  {
   "cell_type": "code",
   "execution_count": 1,
   "id": "0909745a",
   "metadata": {},
   "outputs": [
    {
     "name": "stdout",
     "output_type": "stream",
     "text": [
      "Computer: RAM=8GB, CPU=Intel i5, Storage=256GB SSD\n"
     ]
    }
   ],
   "source": [
    "from abc import ABC, abstractmethod\n",
    "\n",
    "class ComputerBuilder(ABC):\n",
    "    \"\"\"Interface abstrata do construtor de computadores.\"\"\"\n",
    "\n",
    "    @abstractmethod\n",
    "    def set_ram(self, ram):\n",
    "        pass\n",
    "\n",
    "    @abstractmethod\n",
    "    def set_cpu(self, cpu):\n",
    "        pass\n",
    "\n",
    "    @abstractmethod\n",
    "    def set_storage(self, storage):\n",
    "        pass\n",
    "\n",
    "    @abstractmethod\n",
    "    def get_computer(self):\n",
    "        pass\n",
    "\n",
    "class BasicComputerBuilder(ComputerBuilder):\n",
    "    \"\"\"Construtor para computadores básicos.\"\"\"\n",
    "\n",
    "    def __init__(self):\n",
    "        self._computer = Computer()\n",
    "\n",
    "    def set_ram(self, ram):\n",
    "        self._computer.ram = ram\n",
    "        return self\n",
    "\n",
    "    def set_cpu(self, cpu):\n",
    "        self._computer.cpu = cpu\n",
    "        return self\n",
    "\n",
    "    def set_storage(self, storage):\n",
    "        self._computer.storage = storage\n",
    "        return self\n",
    "\n",
    "    def get_computer(self):\n",
    "        return self._computer\n",
    "\n",
    "class Computer:\n",
    "    \"\"\"Representa um computador.\"\"\"\n",
    "\n",
    "    def __init__(self, ram=None, cpu=None, storage=None):\n",
    "        self.ram = ram\n",
    "        self.cpu = cpu\n",
    "        self.storage = storage\n",
    "\n",
    "    def __str__(self):\n",
    "        return f\"Computer: RAM={self.ram}, CPU={self.cpu}, Storage={self.storage}\"\n",
    "\n",
    "class ComputerDirector:\n",
    "    \"\"\"Diretor para orquestrar a construção de computadores.\"\"\"\n",
    "\n",
    "    def __init__(self, builder):\n",
    "        self._builder = builder\n",
    "\n",
    "    def build_computer(self):\n",
    "        return self._builder.set_ram(\"8GB\").set_cpu(\"Intel i5\").set_storage(\"256GB SSD\").get_computer()\n",
    "\n",
    "# Exemplo de uso\n",
    "builder = BasicComputerBuilder()\n",
    "director = ComputerDirector(builder)\n",
    "computer = director.build_computer()\n",
    "print(computer)  # Saída: Computer: RAM=8GB, CPU=Intel i5, Storage=256GB SSD\n"
   ]
  },
  {
   "cell_type": "code",
   "execution_count": null,
   "id": "f88b8a35",
   "metadata": {},
   "outputs": [],
   "source": []
  }
 ],
 "metadata": {
  "kernelspec": {
   "display_name": "Python 3 (ipykernel)",
   "language": "python",
   "name": "python3"
  },
  "language_info": {
   "codemirror_mode": {
    "name": "ipython",
    "version": 3
   },
   "file_extension": ".py",
   "mimetype": "text/x-python",
   "name": "python",
   "nbconvert_exporter": "python",
   "pygments_lexer": "ipython3",
   "version": "3.11.5"
  }
 },
 "nbformat": 4,
 "nbformat_minor": 5
}
