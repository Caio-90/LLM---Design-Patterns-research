{
 "cells": [
  {
   "cell_type": "code",
   "execution_count": 1,
   "id": "8b76f512",
   "metadata": {},
   "outputs": [
    {
     "name": "stdout",
     "output_type": "stream",
     "text": [
      "Sesame Seed bun and Beef patty and Cheddar and Ketchup\n"
     ]
    }
   ],
   "source": [
    "class Burger:\n",
    "    def __init__(self, bun=\"\", meat=\"\", salad=\"\", cheese=\"\", sauce=\"\"):\n",
    "        self.bun = bun\n",
    "        self.meat = meat\n",
    "        self.salad = salad\n",
    "        self.cheese = cheese\n",
    "        self.sauce = sauce\n",
    "\n",
    "    def __str__(self):\n",
    "        ingredients = [\n",
    "            f\"{self.bun} bun\" if self.bun else \"\",\n",
    "            f\"{self.meat} patty\" if self.meat else \"\",\n",
    "            f\"{self.salad}\" if self.salad else \"\",\n",
    "            f\"{self.cheese}\" if self.cheese else \"\",\n",
    "            f\"{self.sauce}\" if self.sauce else \"\",\n",
    "        ]\n",
    "        return \" and \".join(filter(None, ingredients))  # Remove strings vazias\n",
    "\n",
    "class CheeseBurgerBuilder:\n",
    "    def __init__(self):\n",
    "        self._burger = Burger()\n",
    "\n",
    "    def add_bun(self, bun):\n",
    "        self._burger.bun = bun\n",
    "        return self\n",
    "\n",
    "    def add_meat(self, meat):\n",
    "        self._burger.meat = meat\n",
    "        return self\n",
    "\n",
    "    def add_salad(self, salad):\n",
    "        self._burger.salad = salad\n",
    "        return self\n",
    "\n",
    "    def add_cheese(self, cheese):\n",
    "        self._burger.cheese = cheese\n",
    "        return self\n",
    "\n",
    "    def add_sauce(self, sauce):\n",
    "        self._burger.sauce = sauce\n",
    "        return self\n",
    "\n",
    "    def build(self):\n",
    "        return self._burger\n",
    "\n",
    "# Exemplo de uso\n",
    "builder = CheeseBurgerBuilder()\n",
    "cheeseburger = builder.add_bun(\"Sesame Seed\").add_meat(\"Beef\").add_cheese(\"Cheddar\").add_sauce(\"Ketchup\").build()\n",
    "print(cheeseburger)  # Saída: Sesame Seed bun and Beef patty and Cheddar and Ketchup\n"
   ]
  },
  {
   "cell_type": "code",
   "execution_count": null,
   "id": "b33022d3",
   "metadata": {},
   "outputs": [],
   "source": []
  }
 ],
 "metadata": {
  "kernelspec": {
   "display_name": "Python 3 (ipykernel)",
   "language": "python",
   "name": "python3"
  },
  "language_info": {
   "codemirror_mode": {
    "name": "ipython",
    "version": 3
   },
   "file_extension": ".py",
   "mimetype": "text/x-python",
   "name": "python",
   "nbconvert_exporter": "python",
   "pygments_lexer": "ipython3",
   "version": "3.11.5"
  }
 },
 "nbformat": 4,
 "nbformat_minor": 5
}
