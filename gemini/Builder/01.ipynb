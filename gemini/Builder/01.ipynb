{
 "cells": [
  {
   "cell_type": "code",
   "execution_count": 1,
   "id": "dcf135d5",
   "metadata": {},
   "outputs": [
    {
     "name": "stdout",
     "output_type": "stream",
     "text": [
      "Hambúrguer médio com \n",
      "Hambúrguer grande com queijo, pepperoni, alface\n"
     ]
    }
   ],
   "source": [
    "class Burger:\n",
    "    def __init__(self, builder):\n",
    "        self.size = builder.size\n",
    "        self.cheese = builder.cheese\n",
    "        self.pepperoni = builder.pepperoni\n",
    "        self.tomato = builder.tomato\n",
    "        self.lettuce = builder.lettuce\n",
    "\n",
    "    def __str__(self):\n",
    "        ingredients = [\n",
    "            \"queijo\" if self.cheese else \"\",\n",
    "            \"pepperoni\" if self.pepperoni else \"\",\n",
    "            \"tomate\" if self.tomato else \"\",\n",
    "            \"alface\" if self.lettuce else \"\",\n",
    "        ]\n",
    "        return f\"Hambúrguer {self.size} com {', '.join(filter(None, ingredients))}\"\n",
    "\n",
    "class BurgerBuilder:\n",
    "    def __init__(self, size=\"médio\"):\n",
    "        self.size = size\n",
    "        self.cheese = False\n",
    "        self.pepperoni = False\n",
    "        self.tomato = False\n",
    "        self.lettuce = False\n",
    "\n",
    "    def add_cheese(self):\n",
    "        self.cheese = True\n",
    "        return self\n",
    "\n",
    "    def add_pepperoni(self):\n",
    "        self.pepperoni = True\n",
    "        return self\n",
    "\n",
    "    def add_tomato(self):\n",
    "        self.tomato = True\n",
    "        return self\n",
    "\n",
    "    def add_lettuce(self):\n",
    "        self.lettuce = True\n",
    "        return self\n",
    "\n",
    "    def build(self):\n",
    "        return Burger(self)\n",
    "\n",
    "# Hambúrguer simples\n",
    "burger1 = BurgerBuilder().build()\n",
    "print(burger1)  # Saída: Hambúrguer médio com \n",
    "\n",
    "# Hambúrguer personalizado\n",
    "burger2 = (\n",
    "    BurgerBuilder(size=\"grande\")\n",
    "    .add_cheese()\n",
    "    .add_pepperoni()\n",
    "    .add_lettuce()\n",
    "    .build()\n",
    ")\n",
    "print(burger2)  # Saída: Hambúrguer grande com queijo, pepperoni, alface\n"
   ]
  },
  {
   "cell_type": "code",
   "execution_count": null,
   "id": "27ae8e10",
   "metadata": {},
   "outputs": [],
   "source": []
  }
 ],
 "metadata": {
  "kernelspec": {
   "display_name": "Python 3 (ipykernel)",
   "language": "python",
   "name": "python3"
  },
  "language_info": {
   "codemirror_mode": {
    "name": "ipython",
    "version": 3
   },
   "file_extension": ".py",
   "mimetype": "text/x-python",
   "name": "python",
   "nbconvert_exporter": "python",
   "pygments_lexer": "ipython3",
   "version": "3.11.5"
  }
 },
 "nbformat": 4,
 "nbformat_minor": 5
}
