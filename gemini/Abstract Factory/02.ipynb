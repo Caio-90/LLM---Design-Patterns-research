{
 "cells": [
  {
   "cell_type": "code",
   "execution_count": 1,
   "id": "63e438dc",
   "metadata": {},
   "outputs": [
    {
     "name": "stdout",
     "output_type": "stream",
     "text": [
      "Escolha sua bebida:\n",
      "- chá\n",
      "- café\n",
      "> chá\n",
      "Quantidade em ml: 500\n",
      "Preparando 500ml de chá...\n",
      "Bebendo um delicioso chá!\n"
     ]
    }
   ],
   "source": [
    "from abc import ABC, abstractmethod\n",
    "\n",
    "# Produto Abstrato\n",
    "class HotDrink(ABC):\n",
    "    @abstractmethod\n",
    "    def consume(self):\n",
    "        pass\n",
    "\n",
    "# Produtos Concretos\n",
    "class Tea(HotDrink):\n",
    "    def consume(self):\n",
    "        print(\"Bebendo um delicioso chá!\")\n",
    "\n",
    "class Coffee(HotDrink):\n",
    "    def consume(self):\n",
    "        print(\"Apreciando um café quentinho!\")\n",
    "\n",
    "# Fábrica Abstrata\n",
    "class HotDrinkFactory(ABC):\n",
    "    @abstractmethod\n",
    "    def prepare(self, amount):\n",
    "        pass\n",
    "\n",
    "# Fábricas Concretas\n",
    "class TeaFactory(HotDrinkFactory):\n",
    "    def prepare(self, amount):\n",
    "        print(f\"Preparando {amount}ml de chá...\")\n",
    "        return Tea()\n",
    "\n",
    "class CoffeeFactory(HotDrinkFactory):\n",
    "    def prepare(self, amount):\n",
    "        print(f\"Preparando {amount}ml de café...\")\n",
    "        return Coffee()\n",
    "\n",
    "# Máquina de Bebidas Quentes\n",
    "class HotDrinkMachine:\n",
    "    def __init__(self):\n",
    "        self.factories = {\"chá\": TeaFactory(), \"café\": CoffeeFactory()}\n",
    "\n",
    "    def make_drink(self):\n",
    "        print(\"Escolha sua bebida:\")\n",
    "        for drink, factory in self.factories.items():\n",
    "            print(f\"- {drink}\")\n",
    "\n",
    "        choice = input(\"> \").lower()\n",
    "\n",
    "        if choice not in self.factories:\n",
    "            print(\"Bebida inválida!\")\n",
    "            return\n",
    "\n",
    "        amount = int(input(\"Quantidade em ml: \"))\n",
    "        drink = self.factories[choice].prepare(amount)\n",
    "        drink.consume()\n",
    "\n",
    "# Uso\n",
    "if __name__ == \"__main__\":\n",
    "    machine = HotDrinkMachine()\n",
    "    machine.make_drink()\n"
   ]
  },
  {
   "cell_type": "code",
   "execution_count": null,
   "id": "e398be87",
   "metadata": {},
   "outputs": [],
   "source": []
  }
 ],
 "metadata": {
  "kernelspec": {
   "display_name": "Python 3 (ipykernel)",
   "language": "python",
   "name": "python3"
  },
  "language_info": {
   "codemirror_mode": {
    "name": "ipython",
    "version": 3
   },
   "file_extension": ".py",
   "mimetype": "text/x-python",
   "name": "python",
   "nbconvert_exporter": "python",
   "pygments_lexer": "ipython3",
   "version": "3.11.5"
  }
 },
 "nbformat": 4,
 "nbformat_minor": 5
}
