{
 "cells": [
  {
   "cell_type": "code",
   "execution_count": 1,
   "id": "7baf969e",
   "metadata": {},
   "outputs": [
    {
     "name": "stdout",
     "output_type": "stream",
     "text": [
      "Criando veículos BMW:\n",
      "Carro BMW\n",
      "Moto BMW\n",
      "\n",
      "Criando veículos Mercedes:\n",
      "Carro Mercedes\n",
      "Moto Mercedes\n"
     ]
    }
   ],
   "source": [
    "from abc import ABC, abstractmethod\n",
    "\n",
    "# Abstract Factory (Fábrica Abstrata)\n",
    "class VeiculoFactory(ABC):\n",
    "    @abstractmethod\n",
    "    def criar_carro(self):\n",
    "        pass\n",
    "\n",
    "    @abstractmethod\n",
    "    def criar_moto(self):\n",
    "        pass\n",
    "\n",
    "# Concrete Factories (Fábricas Concretas)\n",
    "class BMWFactory(VeiculoFactory):\n",
    "    def criar_carro(self):\n",
    "        return BMWCarro()\n",
    "\n",
    "    def criar_moto(self):\n",
    "        return BMWMoto()\n",
    "\n",
    "class MercedesFactory(VeiculoFactory):\n",
    "    def criar_carro(self):\n",
    "        return MercedesCarro()\n",
    "\n",
    "    def criar_moto(self):\n",
    "        return MercedesMoto()\n",
    "\n",
    "# Abstract Products (Produtos Abstratos)\n",
    "class Carro(ABC):\n",
    "    @abstractmethod\n",
    "    def descricao(self):\n",
    "        pass\n",
    "\n",
    "class Moto(ABC):\n",
    "    @abstractmethod\n",
    "    def descricao(self):\n",
    "        pass\n",
    "\n",
    "# Concrete Products (Produtos Concretos)\n",
    "class BMWCarro(Carro):\n",
    "    def descricao(self):\n",
    "        return \"Carro BMW\"\n",
    "\n",
    "class BMWMoto(Moto):\n",
    "    def descricao(self):\n",
    "        return \"Moto BMW\"\n",
    "\n",
    "class MercedesCarro(Carro):\n",
    "    def descricao(self):\n",
    "        return \"Carro Mercedes\"\n",
    "\n",
    "class MercedesMoto(Moto):\n",
    "    def descricao(self):\n",
    "        return \"Moto Mercedes\"\n",
    "\n",
    "# Client Code (Código Cliente)\n",
    "def criar_veiculos(factory: VeiculoFactory):\n",
    "    carro = factory.criar_carro()\n",
    "    moto = factory.criar_moto()\n",
    "    print(carro.descricao())\n",
    "    print(moto.descricao())\n",
    "\n",
    "if __name__ == \"__main__\":\n",
    "    bmw_factory = BMWFactory()\n",
    "    mercedes_factory = MercedesFactory()\n",
    "\n",
    "    print(\"Criando veículos BMW:\")\n",
    "    criar_veiculos(bmw_factory)\n",
    "\n",
    "    print(\"\\nCriando veículos Mercedes:\")\n",
    "    criar_veiculos(mercedes_factory)\n"
   ]
  },
  {
   "cell_type": "code",
   "execution_count": null,
   "id": "b9b0859d",
   "metadata": {},
   "outputs": [],
   "source": []
  }
 ],
 "metadata": {
  "kernelspec": {
   "display_name": "Python 3 (ipykernel)",
   "language": "python",
   "name": "python3"
  },
  "language_info": {
   "codemirror_mode": {
    "name": "ipython",
    "version": 3
   },
   "file_extension": ".py",
   "mimetype": "text/x-python",
   "name": "python",
   "nbconvert_exporter": "python",
   "pygments_lexer": "ipython3",
   "version": "3.11.5"
  }
 },
 "nbformat": 4,
 "nbformat_minor": 5
}
