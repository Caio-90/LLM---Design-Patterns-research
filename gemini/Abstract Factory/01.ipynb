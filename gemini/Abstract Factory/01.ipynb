{
 "cells": [
  {
   "cell_type": "code",
   "execution_count": 1,
   "id": "6449cd1d",
   "metadata": {},
   "outputs": [
    {
     "name": "stdout",
     "output_type": "stream",
     "text": [
      "Eu sou uma porta de madeira\n",
      "Eu posso instalar portas de madeira\n"
     ]
    }
   ],
   "source": [
    "from abc import ABC, abstractmethod\n",
    "\n",
    "# Interfaces\n",
    "class Door(ABC):\n",
    "    @abstractmethod\n",
    "    def get_description(self):\n",
    "        pass\n",
    "\n",
    "class DoorFittingExpert(ABC):\n",
    "    @abstractmethod\n",
    "    def get_description(self):\n",
    "        pass\n",
    "\n",
    "# Classes Concretas - Portas\n",
    "class WoodenDoor(Door):\n",
    "    def get_description(self):\n",
    "        return \"Eu sou uma porta de madeira\"\n",
    "\n",
    "class IronDoor(Door):\n",
    "    def get_description(self):\n",
    "        return \"Eu sou uma porta de ferro\"\n",
    "\n",
    "# Classes Concretas - Especialistas\n",
    "class Welder(DoorFittingExpert):\n",
    "    def get_description(self):\n",
    "        return \"Eu posso instalar portas de ferro\"\n",
    "\n",
    "class Carpenter(DoorFittingExpert):\n",
    "    def get_description(self):\n",
    "        return \"Eu posso instalar portas de madeira\"\n",
    "\n",
    "# Fábrica Abstrata\n",
    "class DoorFactory(ABC):\n",
    "    @abstractmethod\n",
    "    def make_door(self) -> Door:\n",
    "        pass\n",
    "\n",
    "    @abstractmethod\n",
    "    def make_fitting_expert(self) -> DoorFittingExpert:\n",
    "        pass\n",
    "\n",
    "# Fábricas Concretas\n",
    "class WoodenDoorFactory(DoorFactory):\n",
    "    def make_door(self) -> Door:\n",
    "        return WoodenDoor()\n",
    "\n",
    "    def make_fitting_expert(self) -> DoorFittingExpert:\n",
    "        return Carpenter()\n",
    "\n",
    "class IronDoorFactory(DoorFactory):\n",
    "    def make_door(self) -> Door:\n",
    "        return IronDoor()\n",
    "\n",
    "    def make_fitting_expert(self) -> DoorFittingExpert:\n",
    "        return Welder()\n",
    "\n",
    "# Uso\n",
    "wooden_factory = WoodenDoorFactory()\n",
    "door = wooden_factory.make_door()\n",
    "expert = wooden_factory.make_fitting_expert()\n",
    "print(door.get_description())  # Saída: Eu sou uma porta de madeira\n",
    "print(expert.get_description()) # Saída: Eu posso instalar portas de madeira\n"
   ]
  },
  {
   "cell_type": "code",
   "execution_count": null,
   "id": "688c4b33",
   "metadata": {},
   "outputs": [],
   "source": []
  }
 ],
 "metadata": {
  "kernelspec": {
   "display_name": "Python 3 (ipykernel)",
   "language": "python",
   "name": "python3"
  },
  "language_info": {
   "codemirror_mode": {
    "name": "ipython",
    "version": 3
   },
   "file_extension": ".py",
   "mimetype": "text/x-python",
   "name": "python",
   "nbconvert_exporter": "python",
   "pygments_lexer": "ipython3",
   "version": "3.11.5"
  }
 },
 "nbformat": 4,
 "nbformat_minor": 5
}
