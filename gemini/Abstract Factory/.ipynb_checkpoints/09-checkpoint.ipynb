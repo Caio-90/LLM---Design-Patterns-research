{
 "cells": [
  {
   "cell_type": "code",
   "execution_count": 1,
   "id": "a19dfad9",
   "metadata": {},
   "outputs": [
    {
     "name": "stdout",
     "output_type": "stream",
     "text": [
      "Exibindo tela do laptop Samsung\n",
      "Exibindo tela do smartphone Dell\n"
     ]
    }
   ],
   "source": [
    "from abc import ABC, abstractmethod\n",
    "\n",
    "# Classes abstratas (Product)\n",
    "class Laptop(ABC):\n",
    "    @abstractmethod\n",
    "    def display(self):\n",
    "        pass\n",
    "\n",
    "class Smartphone(ABC):\n",
    "    @abstractmethod\n",
    "    def display(self):\n",
    "        pass\n",
    "\n",
    "# Classes concretas (Concrete Product) - Samsung\n",
    "class SamsungLaptop(Laptop):\n",
    "    def display(self):\n",
    "        return \"Exibindo tela do laptop Samsung\"\n",
    "\n",
    "class SamsungSmartphone(Smartphone):\n",
    "    def display(self):\n",
    "        return \"Exibindo tela do smartphone Samsung\"\n",
    "\n",
    "# Classes concretas (Concrete Product) - Dell\n",
    "class DellLaptop(Laptop):\n",
    "    def display(self):\n",
    "        return \"Exibindo tela do laptop Dell\"\n",
    "\n",
    "class DellSmartphone(Smartphone):\n",
    "    def display(self):\n",
    "        return \"Exibindo tela do smartphone Dell\"\n",
    "\n",
    "# Abstract Factory\n",
    "class EletronicoFactory(ABC):\n",
    "    @abstractmethod\n",
    "    def criar_laptop(self) -> Laptop:\n",
    "        pass\n",
    "\n",
    "    @abstractmethod\n",
    "    def criar_smartphone(self) -> Smartphone:\n",
    "        pass\n",
    "\n",
    "# Concrete Factories\n",
    "class SamsungFactory(EletronicoFactory):\n",
    "    def criar_laptop(self) -> Laptop:\n",
    "        return SamsungLaptop()\n",
    "\n",
    "    def criar_smartphone(self) -> Smartphone:\n",
    "        return SamsungSmartphone()\n",
    "\n",
    "class DellFactory(EletronicoFactory):\n",
    "    def criar_laptop(self) -> Laptop:\n",
    "        return DellLaptop()\n",
    "\n",
    "    def criar_smartphone(self) -> Smartphone:\n",
    "        return DellSmartphone()\n",
    "\n",
    "def criar_eletronico(marca: str, tipo: str) -> None:\n",
    "    if marca.lower() == \"samsung\":\n",
    "        fabrica = SamsungFactory()\n",
    "    elif marca.lower() == \"dell\":\n",
    "        fabrica = DellFactory()\n",
    "    else:\n",
    "        print(\"Marca inválida!\")\n",
    "        return\n",
    "\n",
    "    if tipo.lower() == \"laptop\":\n",
    "        eletronico = fabrica.criar_laptop()\n",
    "    elif tipo.lower() == \"smartphone\":\n",
    "        eletronico = fabrica.criar_smartphone()\n",
    "    else:\n",
    "        print(\"Tipo inválido!\")\n",
    "        return\n",
    "\n",
    "    print(eletronico.display())\n",
    "\n",
    "# Exemplo de uso\n",
    "criar_eletronico(\"Samsung\", \"laptop\")  # Saída: Exibindo tela do laptop Samsung\n",
    "criar_eletronico(\"Dell\", \"smartphone\")  # Saída: Exibindo tela do smartphone Dell\n"
   ]
  },
  {
   "cell_type": "code",
   "execution_count": null,
   "id": "64baebef",
   "metadata": {},
   "outputs": [],
   "source": []
  }
 ],
 "metadata": {
  "kernelspec": {
   "display_name": "Python 3 (ipykernel)",
   "language": "python",
   "name": "python3"
  },
  "language_info": {
   "codemirror_mode": {
    "name": "ipython",
    "version": 3
   },
   "file_extension": ".py",
   "mimetype": "text/x-python",
   "name": "python",
   "nbconvert_exporter": "python",
   "pygments_lexer": "ipython3",
   "version": "3.11.5"
  }
 },
 "nbformat": 4,
 "nbformat_minor": 5
}
