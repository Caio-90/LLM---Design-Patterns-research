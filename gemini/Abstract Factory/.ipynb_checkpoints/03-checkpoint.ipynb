{
 "cells": [
  {
   "cell_type": "code",
   "execution_count": 1,
   "id": "a55dfe91",
   "metadata": {},
   "outputs": [
    {
     "name": "stdout",
     "output_type": "stream",
     "text": [
      "Preparando pizza vegetariana...\n",
      "Preparando pizza não vegetariana...\n"
     ]
    }
   ],
   "source": [
    "from abc import ABC, abstractmethod\n",
    "\n",
    "class Pizza(ABC):\n",
    "    @abstractmethod\n",
    "    def prepare(self):\n",
    "        pass\n",
    "\n",
    "class NonVegPizza(Pizza):\n",
    "    def prepare(self):\n",
    "        print(\"Preparando pizza não vegetariana...\")\n",
    "\n",
    "class VegPizza(Pizza):\n",
    "    def prepare(self):\n",
    "        print(\"Preparando pizza vegetariana...\")\n",
    "\n",
    "class PizzaFactory(ABC):\n",
    "    @abstractmethod\n",
    "    def create_non_veg_pizza(self):\n",
    "        pass\n",
    "\n",
    "    @abstractmethod\n",
    "    def create_veg_pizza(self):\n",
    "        pass\n",
    "\n",
    "class USPizzaFactory(PizzaFactory):\n",
    "    def create_non_veg_pizza(self):\n",
    "        return NonVegPizza()\n",
    "\n",
    "    def create_veg_pizza(self):\n",
    "        return VegPizza()\n",
    "\n",
    "class IndianPizzaFactory(PizzaFactory):\n",
    "    def create_non_veg_pizza(self):\n",
    "        return NonVegPizza()  # Adaptado para pizza indiana não vegetariana\n",
    "\n",
    "    def create_veg_pizza(self):\n",
    "        return VegPizza()     # Adaptado para pizza indiana vegetariana\n",
    "\n",
    "class PizzaStore:\n",
    "    def __init__(self, factory: PizzaFactory):\n",
    "        self._factory = factory\n",
    "\n",
    "    def order_pizza(self, pizza_type):\n",
    "        pizza = None\n",
    "\n",
    "        if pizza_type == \"nonveg\":\n",
    "            pizza = self._factory.create_non_veg_pizza()\n",
    "        elif pizza_type == \"veg\":\n",
    "            pizza = self._factory.create_veg_pizza()\n",
    "\n",
    "        pizza.prepare()\n",
    "        return pizza\n",
    "\n",
    "# Fábrica dos EUA\n",
    "us_factory = USPizzaFactory()\n",
    "us_pizza_store = PizzaStore(us_factory)\n",
    "us_pizza = us_pizza_store.order_pizza(\"veg\")\n",
    "\n",
    "# Fábrica da Índia\n",
    "indian_factory = IndianPizzaFactory()\n",
    "indian_pizza_store = PizzaStore(indian_factory)\n",
    "indian_pizza = indian_pizza_store.order_pizza(\"nonveg\")\n"
   ]
  },
  {
   "cell_type": "code",
   "execution_count": null,
   "id": "dc3fb569",
   "metadata": {},
   "outputs": [],
   "source": []
  }
 ],
 "metadata": {
  "kernelspec": {
   "display_name": "Python 3 (ipykernel)",
   "language": "python",
   "name": "python3"
  },
  "language_info": {
   "codemirror_mode": {
    "name": "ipython",
    "version": 3
   },
   "file_extension": ".py",
   "mimetype": "text/x-python",
   "name": "python",
   "nbconvert_exporter": "python",
   "pygments_lexer": "ipython3",
   "version": "3.11.5"
  }
 },
 "nbformat": 4,
 "nbformat_minor": 5
}
