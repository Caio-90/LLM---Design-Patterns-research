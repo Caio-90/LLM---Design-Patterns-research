{
 "cells": [
  {
   "cell_type": "code",
   "execution_count": 1,
   "id": "ce3c2c51",
   "metadata": {},
   "outputs": [
    {
     "name": "stdout",
     "output_type": "stream",
     "text": [
      "Desenhando um quadrado.\n",
      "Desenhando um retângulo.\n",
      "Desenhando um quadrado arredondado.\n",
      "Desenhando um retângulo arredondado.\n"
     ]
    }
   ],
   "source": [
    "from abc import ABC, abstractmethod\n",
    "\n",
    "class Shape(ABC):\n",
    "    @abstractmethod\n",
    "    def draw(self):\n",
    "        pass\n",
    "\n",
    "class Square(Shape):\n",
    "    def draw(self):\n",
    "        print(\"Desenhando um quadrado.\")\n",
    "\n",
    "class Rectangle(Shape):\n",
    "    def draw(self):\n",
    "        print(\"Desenhando um retângulo.\")\n",
    "\n",
    "class RoundedSquare(Shape):\n",
    "    def draw(self):\n",
    "        print(\"Desenhando um quadrado arredondado.\")\n",
    "\n",
    "class RoundedRectangle(Shape):\n",
    "    def draw(self):\n",
    "        print(\"Desenhando um retângulo arredondado.\")\n",
    "\n",
    "class AbstractFactory(ABC):\n",
    "    @abstractmethod\n",
    "    def create_square(self):\n",
    "        pass\n",
    "\n",
    "    @abstractmethod\n",
    "    def create_rectangle(self):\n",
    "        pass\n",
    "\n",
    "class ShapeFactory(AbstractFactory):\n",
    "    def create_square(self):\n",
    "        return Square()\n",
    "\n",
    "    def create_rectangle(self):\n",
    "        return Rectangle()\n",
    "\n",
    "class RoundedShapeFactory(AbstractFactory):\n",
    "    def create_square(self):\n",
    "        return RoundedSquare()\n",
    "\n",
    "    def create_rectangle(self):\n",
    "        return RoundedRectangle()\n",
    "\n",
    "def get_factory(rounded=False):\n",
    "    return RoundedShapeFactory() if rounded else ShapeFactory()\n",
    "\n",
    "# Criar formas normais\n",
    "shape_factory = get_factory()\n",
    "square = shape_factory.create_square()\n",
    "rectangle = shape_factory.create_rectangle()\n",
    "square.draw()  # Saída: Desenhando um quadrado.\n",
    "rectangle.draw()  # Saída: Desenhando um retângulo.\n",
    "\n",
    "# Criar formas arredondadas\n",
    "rounded_shape_factory = get_factory(rounded=True)\n",
    "rounded_square = rounded_shape_factory.create_square()\n",
    "rounded_rectangle = rounded_shape_factory.create_rectangle()\n",
    "rounded_square.draw()  # Saída: Desenhando um quadrado arredondado.\n",
    "rounded_rectangle.draw()  # Saída: Desenhando um retângulo arredondado.\n"
   ]
  },
  {
   "cell_type": "code",
   "execution_count": null,
   "id": "1d9726a1",
   "metadata": {},
   "outputs": [],
   "source": []
  }
 ],
 "metadata": {
  "kernelspec": {
   "display_name": "Python 3 (ipykernel)",
   "language": "python",
   "name": "python3"
  },
  "language_info": {
   "codemirror_mode": {
    "name": "ipython",
    "version": 3
   },
   "file_extension": ".py",
   "mimetype": "text/x-python",
   "name": "python",
   "nbconvert_exporter": "python",
   "pygments_lexer": "ipython3",
   "version": "3.11.5"
  }
 },
 "nbformat": 4,
 "nbformat_minor": 5
}
