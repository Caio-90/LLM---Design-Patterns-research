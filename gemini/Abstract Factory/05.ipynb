{
 "cells": [
  {
   "cell_type": "code",
   "execution_count": 1,
   "id": "0a28156b",
   "metadata": {},
   "outputs": [
    {
     "name": "stdout",
     "output_type": "stream",
     "text": [
      "Escolha o tema (Faroeste ou Espacial, ou 'sair' para encerrar): Espacial\n",
      "\n",
      "Você é um Capitão da Frota Estelar equipado com um Phaser de última geração.\n",
      "Escolha o tema (Faroeste ou Espacial, ou 'sair' para encerrar): sair\n"
     ]
    }
   ],
   "source": [
    "from abc import ABC, abstractmethod\n",
    "\n",
    "class Personagem(ABC):\n",
    "    @abstractmethod\n",
    "    def descricao(self):\n",
    "        pass\n",
    "\n",
    "class Arma(ABC):\n",
    "    @abstractmethod\n",
    "    def descricao(self):\n",
    "        pass\n",
    "\n",
    "class PersonagemFaroeste(Personagem):\n",
    "    def descricao(self):\n",
    "        return \"Pistoleiro do Velho Oeste\"\n",
    "\n",
    "class ArmaFaroeste(Arma):\n",
    "    def descricao(self):\n",
    "        return \"Revólver Colt Peacemaker\"\n",
    "\n",
    "class PersonagemEspacial(Personagem):\n",
    "    def descricao(self):\n",
    "        return \"Capitão da Frota Estelar\"\n",
    "\n",
    "class ArmaEspacial(Arma):\n",
    "    def descricao(self):\n",
    "        return \"Phaser de última geração\"\n",
    "\n",
    "class FabricaAbstrata(ABC):\n",
    "    @abstractmethod\n",
    "    def criar_personagem(self):\n",
    "        pass\n",
    "\n",
    "    @abstractmethod\n",
    "    def criar_arma(self):\n",
    "        pass\n",
    "\n",
    "class FabricaFaroeste(FabricaAbstrata):\n",
    "    def criar_personagem(self):\n",
    "        return PersonagemFaroeste()\n",
    "\n",
    "    def criar_arma(self):\n",
    "        return ArmaFaroeste()\n",
    "\n",
    "class FabricaEspacial(FabricaAbstrata):\n",
    "    def criar_personagem(self):\n",
    "        return PersonagemEspacial()\n",
    "\n",
    "    def criar_arma(self):\n",
    "        return ArmaEspacial()\n",
    "\n",
    "def main():\n",
    "    while True:\n",
    "        tema = input(\"Escolha o tema (Faroeste ou Espacial, ou 'sair' para encerrar): \")\n",
    "\n",
    "        if tema.lower() == 'faroeste':\n",
    "            fabrica = FabricaFaroeste()\n",
    "        elif tema.lower() == 'espacial':\n",
    "            fabrica = FabricaEspacial()\n",
    "        elif tema.lower() == 'sair':\n",
    "            break\n",
    "        else:\n",
    "            print(\"Tema inválido!\")\n",
    "            continue\n",
    "\n",
    "        personagem = fabrica.criar_personagem()\n",
    "        arma = fabrica.criar_arma()\n",
    "\n",
    "        print(f\"\\nVocê é um {personagem.descricao()} equipado com um {arma.descricao()}.\")\n",
    "\n",
    "if __name__ == \"__main__\":\n",
    "    main()\n"
   ]
  },
  {
   "cell_type": "code",
   "execution_count": null,
   "id": "157b332d",
   "metadata": {},
   "outputs": [],
   "source": []
  }
 ],
 "metadata": {
  "kernelspec": {
   "display_name": "Python 3 (ipykernel)",
   "language": "python",
   "name": "python3"
  },
  "language_info": {
   "codemirror_mode": {
    "name": "ipython",
    "version": 3
   },
   "file_extension": ".py",
   "mimetype": "text/x-python",
   "name": "python",
   "nbconvert_exporter": "python",
   "pygments_lexer": "ipython3",
   "version": "3.11.5"
  }
 },
 "nbformat": 4,
 "nbformat_minor": 5
}
