{
 "cells": [
  {
   "cell_type": "code",
   "execution_count": 1,
   "id": "30903315",
   "metadata": {},
   "outputs": [
    {
     "name": "stdout",
     "output_type": "stream",
     "text": [
      "Qual sistema operacional (Windows/Mac)? Mac\n",
      "Botão macOS\n",
      "Caixa de Seleção macOS\n"
     ]
    }
   ],
   "source": [
    "from abc import ABC, abstractmethod\n",
    "\n",
    "# Fábrica Abstrata\n",
    "class GUIFactory(ABC):\n",
    "    @abstractmethod\n",
    "    def create_button(self):\n",
    "        pass\n",
    "\n",
    "    @abstractmethod\n",
    "    def create_checkbox(self):\n",
    "        pass\n",
    "\n",
    "# Fábricas Concretas\n",
    "class WinFactory(GUIFactory):\n",
    "    def create_button(self):\n",
    "        return WinButton()\n",
    "\n",
    "    def create_checkbox(self):\n",
    "        return WinCheckbox()\n",
    "\n",
    "class MacFactory(GUIFactory):\n",
    "    def create_button(self):\n",
    "        return MacButton()\n",
    "\n",
    "    def create_checkbox(self):\n",
    "        return MacCheckbox()\n",
    "\n",
    "# Produtos Abstratos\n",
    "class Button(ABC):\n",
    "    @abstractmethod\n",
    "    def paint(self):\n",
    "        pass\n",
    "\n",
    "class Checkbox(ABC):\n",
    "    @abstractmethod\n",
    "    def paint(self):\n",
    "        pass\n",
    "\n",
    "# Produtos Concretos\n",
    "class WinButton(Button):\n",
    "    def paint(self):\n",
    "        print(\"Botão Windows\")\n",
    "\n",
    "class WinCheckbox(Checkbox):\n",
    "    def paint(self):\n",
    "        print(\"Caixa de Seleção Windows\")\n",
    "\n",
    "class MacButton(Button):\n",
    "    def paint(self):\n",
    "        print(\"Botão macOS\")\n",
    "\n",
    "class MacCheckbox(Checkbox):\n",
    "    def paint(self):\n",
    "        print(\"Caixa de Seleção macOS\")\n",
    "\n",
    "# Função para criar a interface\n",
    "def create_ui(factory):\n",
    "    button = factory.create_button()\n",
    "    checkbox = factory.create_checkbox()\n",
    "\n",
    "    button.paint()\n",
    "    checkbox.paint()\n",
    "\n",
    "# Uso\n",
    "if __name__ == \"__main__\":\n",
    "    os_name = input(\"Qual sistema operacional (Windows/Mac)? \")\n",
    "\n",
    "    if os_name.lower() == \"windows\":\n",
    "        factory = WinFactory()\n",
    "    elif os_name.lower() == \"mac\":\n",
    "        factory = MacFactory()\n",
    "    else:\n",
    "        print(\"Sistema operacional inválido.\")\n",
    "        exit()\n",
    "\n",
    "    create_ui(factory)\n"
   ]
  },
  {
   "cell_type": "code",
   "execution_count": null,
   "id": "d796596e",
   "metadata": {},
   "outputs": [],
   "source": []
  }
 ],
 "metadata": {
  "kernelspec": {
   "display_name": "Python 3 (ipykernel)",
   "language": "python",
   "name": "python3"
  },
  "language_info": {
   "codemirror_mode": {
    "name": "ipython",
    "version": 3
   },
   "file_extension": ".py",
   "mimetype": "text/x-python",
   "name": "python",
   "nbconvert_exporter": "python",
   "pygments_lexer": "ipython3",
   "version": "3.11.5"
  }
 },
 "nbformat": 4,
 "nbformat_minor": 5
}
