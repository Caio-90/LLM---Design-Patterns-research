{
 "cells": [
  {
   "cell_type": "code",
   "execution_count": 15,
   "id": "029b979b",
   "metadata": {},
   "outputs": [
    {
     "name": "stdout",
     "output_type": "stream",
     "text": [
      "500 GB 2 GB True True\n"
     ]
    }
   ],
   "source": [
    "class Computer:\n",
    "    def __init__(self, builder):\n",
    "        self.hdd = builder.hdd\n",
    "        self.ram = builder.ram\n",
    "        self.graphics_card_enabled = builder.graphics_card_enabled\n",
    "        self.bluetooth_enabled = builder.bluetooth_enabled\n",
    "\n",
    "    def get_hdd(self):\n",
    "        return self.hdd\n",
    "\n",
    "    def get_ram(self):\n",
    "        return self.ram\n",
    "\n",
    "    def is_graphics_card_enabled(self):\n",
    "        return self.graphics_card_enabled\n",
    "\n",
    "    def is_bluetooth_enabled(self):\n",
    "        return self.bluetooth_enabled\n",
    "\n",
    "class ComputerBuilder:\n",
    "    def __init__(self, hdd, ram):\n",
    "        self.hdd = hdd\n",
    "        self.ram = ram\n",
    "        self.graphics_card_enabled = False\n",
    "        self.bluetooth_enabled = False\n",
    "\n",
    "    def set_graphics_card_enabled(self, enabled):\n",
    "        self.graphics_card_enabled = enabled\n",
    "        return self\n",
    "\n",
    "    def set_bluetooth_enabled(self, enabled):\n",
    "        self.bluetooth_enabled = enabled\n",
    "        return self\n",
    "\n",
    "    def build(self):\n",
    "        return Computer(self)\n",
    "\n",
    "# Usage\n",
    "computer = ComputerBuilder(\"500 GB\", \"2 GB\") \\\n",
    "           .set_graphics_card_enabled(True) \\\n",
    "           .set_bluetooth_enabled(True) \\\n",
    "           .build()\n",
    "\n",
    "print(computer.get_hdd(),computer.get_ram(),computer.graphics_card_enabled,computer.bluetooth_enabled)\n",
    "\n"
   ]
  },
  {
   "cell_type": "code",
   "execution_count": null,
   "id": "edc220ee",
   "metadata": {},
   "outputs": [],
   "source": []
  }
 ],
 "metadata": {
  "kernelspec": {
   "display_name": "Python 3 (ipykernel)",
   "language": "python",
   "name": "python3"
  },
  "language_info": {
   "codemirror_mode": {
    "name": "ipython",
    "version": 3
   },
   "file_extension": ".py",
   "mimetype": "text/x-python",
   "name": "python",
   "nbconvert_exporter": "python",
   "pygments_lexer": "ipython3",
   "version": "3.11.5"
  }
 },
 "nbformat": 4,
 "nbformat_minor": 5
}
