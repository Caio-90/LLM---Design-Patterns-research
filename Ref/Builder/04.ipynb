{
 "cells": [
  {
   "cell_type": "code",
   "execution_count": 1,
   "id": "9ca70148",
   "metadata": {},
   "outputs": [
    {
     "name": "stdout",
     "output_type": "stream",
     "text": [
      "Computer Configuration:\n",
      "CPU: Gaming CPU\n",
      "RAM: 16GB DDR4\n",
      "Storage: 1TB SSD\n",
      "\n"
     ]
    }
   ],
   "source": [
    "from typing import Any\n",
    "\n",
    "# Product\n",
    "class Computer:\n",
    "    def __init__(self):\n",
    "        self.cpu = \"\"\n",
    "        self.ram = \"\"\n",
    "        self.storage = \"\"\n",
    "\n",
    "    def set_cpu(self, cpu: str) -> None:\n",
    "        self.cpu = cpu\n",
    "\n",
    "    def set_ram(self, ram: str) -> None:\n",
    "        self.ram = ram\n",
    "\n",
    "    def set_storage(self, storage: str) -> None:\n",
    "        self.storage = storage\n",
    "\n",
    "    def display_info(self) -> None:\n",
    "        print(\"Computer Configuration:\")\n",
    "        print(f\"CPU: {self.cpu}\")\n",
    "        print(f\"RAM: {self.ram}\")\n",
    "        print(f\"Storage: {self.storage}\")\n",
    "        print()\n",
    "\n",
    "# Builder interface\n",
    "class Builder:\n",
    "    def build_cpu(self) -> None:\n",
    "        raise NotImplementedError\n",
    "\n",
    "    def build_ram(self) -> None:\n",
    "        raise NotImplementedError\n",
    "\n",
    "    def build_storage(self) -> None:\n",
    "        raise NotImplementedError\n",
    "\n",
    "    def get_result(self) -> Computer:\n",
    "        raise NotImplementedError\n",
    "\n",
    "# ConcreteBuilder\n",
    "class GamingComputerBuilder(Builder):\n",
    "    def __init__(self):\n",
    "        self.computer = Computer()\n",
    "\n",
    "    def build_cpu(self) -> None:\n",
    "        self.computer.set_cpu(\"Gaming CPU\")\n",
    "\n",
    "    def build_ram(self) -> None:\n",
    "        self.computer.set_ram(\"16GB DDR4\")\n",
    "\n",
    "    def build_storage(self) -> None:\n",
    "        self.computer.set_storage(\"1TB SSD\")\n",
    "\n",
    "    def get_result(self) -> Computer:\n",
    "        return self.computer\n",
    "\n",
    "# Director\n",
    "class ComputerDirector:\n",
    "    def construct(self, builder: Builder) -> None:\n",
    "        builder.build_cpu()\n",
    "        builder.build_ram()\n",
    "        builder.build_storage()\n",
    "\n",
    "# Client\n",
    "if __name__ == \"__main__\":\n",
    "    gaming_builder = GamingComputerBuilder()\n",
    "    director = ComputerDirector()\n",
    "\n",
    "    director.construct(gaming_builder)\n",
    "    gaming_computer = gaming_builder.get_result()\n",
    "\n",
    "    gaming_computer.display_info()\n",
    "\n"
   ]
  },
  {
   "cell_type": "code",
   "execution_count": null,
   "id": "3ab901e8",
   "metadata": {},
   "outputs": [],
   "source": []
  }
 ],
 "metadata": {
  "kernelspec": {
   "display_name": "Python 3 (ipykernel)",
   "language": "python",
   "name": "python3"
  },
  "language_info": {
   "codemirror_mode": {
    "name": "ipython",
    "version": 3
   },
   "file_extension": ".py",
   "mimetype": "text/x-python",
   "name": "python",
   "nbconvert_exporter": "python",
   "pygments_lexer": "ipython3",
   "version": "3.11.5"
  }
 },
 "nbformat": 4,
 "nbformat_minor": 5
}
