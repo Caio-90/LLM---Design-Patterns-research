{
 "cells": [
  {
   "cell_type": "code",
   "execution_count": 3,
   "id": "9d33d4bd",
   "metadata": {},
   "outputs": [
    {
     "name": "stdout",
     "output_type": "stream",
     "text": [
      "Marge\n",
      "Homer\n"
     ]
    }
   ],
   "source": [
    "class BankAccount:\n",
    "    def __init__(self, account_number, owner, branch, balance, interest_rate):\n",
    "        self.account_number = account_number\n",
    "        self.owner = owner\n",
    "        self.branch = branch\n",
    "        self.balance = balance\n",
    "        self.interest_rate = interest_rate\n",
    "\n",
    "    @classmethod\n",
    "    def builder(cls, account_number):\n",
    "        return Builder(account_number)\n",
    "\n",
    "class Builder:\n",
    "    def __init__(self, account_number):\n",
    "        self.account_number = account_number\n",
    "        self.owner = None\n",
    "        self.branch = None\n",
    "        self.balance = None\n",
    "        self.interest_rate = None\n",
    "\n",
    "    def with_owner(self, owner):\n",
    "        self.owner = owner\n",
    "        return self\n",
    "\n",
    "    def at_branch(self, branch):\n",
    "        self.branch = branch\n",
    "        return self\n",
    "\n",
    "    def opening_balance(self, balance):\n",
    "        self.balance = balance\n",
    "        return self\n",
    "\n",
    "    def at_rate(self, interest_rate):\n",
    "        self.interest_rate = interest_rate\n",
    "        return self\n",
    "\n",
    "    def build(self):\n",
    "        return BankAccount(self.account_number, self.owner, self.branch, self.balance, self.interest_rate)\n",
    "\n",
    "account = BankAccount.builder(1234).with_owner(\"Marge\").at_branch(\"Springfield\").opening_balance(100).at_rate(2.5).build()\n",
    "print(account.owner)\n",
    "another_account = BankAccount.builder(4567).with_owner(\"Homer\").at_branch(\"Springfield\").opening_balance(100).at_rate(2.5).build()\n",
    "print(another_account.owner)"
   ]
  },
  {
   "cell_type": "code",
   "execution_count": null,
   "id": "2b7c1699",
   "metadata": {},
   "outputs": [],
   "source": []
  }
 ],
 "metadata": {
  "kernelspec": {
   "display_name": "Python 3 (ipykernel)",
   "language": "python",
   "name": "python3"
  },
  "language_info": {
   "codemirror_mode": {
    "name": "ipython",
    "version": 3
   },
   "file_extension": ".py",
   "mimetype": "text/x-python",
   "name": "python",
   "nbconvert_exporter": "python",
   "pygments_lexer": "ipython3",
   "version": "3.11.5"
  }
 },
 "nbformat": 4,
 "nbformat_minor": 5
}
