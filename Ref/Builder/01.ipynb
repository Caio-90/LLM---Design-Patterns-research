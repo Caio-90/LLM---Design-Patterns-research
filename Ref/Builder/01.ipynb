{
 "cells": [
  {
   "cell_type": "code",
   "execution_count": 7,
   "id": "229e5eab",
   "metadata": {},
   "outputs": [],
   "source": [
    "class Burger:\n",
    "    def __init__(self, builder):\n",
    "        self.size = builder.size\n",
    "        self.cheese = builder.cheese\n",
    "        self.pepperoni = builder.pepperoni\n",
    "        self.lettuce = builder.lettuce\n",
    "        self.tomato = builder.tomato"
   ]
  },
  {
   "cell_type": "code",
   "execution_count": 8,
   "id": "e8494e86",
   "metadata": {},
   "outputs": [],
   "source": [
    "class BurgerBuilder:\n",
    "    def __init__(self, size: int):\n",
    "        self.size = size\n",
    "        self.cheese = False\n",
    "        self.pepperoni = False\n",
    "        self.lettuce = False\n",
    "        self.tomato = False\n",
    "\n",
    "    def add_pepperoni(self):\n",
    "        self.pepperoni = True\n",
    "        return self\n",
    "\n",
    "    def add_lettuce(self):\n",
    "        self.lettuce = True\n",
    "        return self\n",
    "\n",
    "    def add_cheese(self):\n",
    "        self.cheese = True\n",
    "        return self\n",
    "\n",
    "    def add_tomato(self):\n",
    "        self.tomato = True\n",
    "        return self\n",
    "\n",
    "    def build(self) -> 'Burger':\n",
    "        return Burger(self)"
   ]
  },
  {
   "cell_type": "code",
   "execution_count": 9,
   "id": "16a33532",
   "metadata": {},
   "outputs": [
    {
     "name": "stdout",
     "output_type": "stream",
     "text": [
      "15 True False True True\n"
     ]
    }
   ],
   "source": [
    "B = BurgerBuilder(15)\n",
    "B.add_lettuce()\n",
    "B.add_cheese()\n",
    "B.add_tomato()\n",
    "print(B.size,B.cheese,B.pepperoni,B.tomato,B.lettuce)"
   ]
  },
  {
   "cell_type": "code",
   "execution_count": null,
   "id": "311b15c4",
   "metadata": {},
   "outputs": [],
   "source": []
  }
 ],
 "metadata": {
  "kernelspec": {
   "display_name": "Python 3 (ipykernel)",
   "language": "python",
   "name": "python3"
  },
  "language_info": {
   "codemirror_mode": {
    "name": "ipython",
    "version": 3
   },
   "file_extension": ".py",
   "mimetype": "text/x-python",
   "name": "python",
   "nbconvert_exporter": "python",
   "pygments_lexer": "ipython3",
   "version": "3.7.16"
  }
 },
 "nbformat": 4,
 "nbformat_minor": 5
}
