{
 "cells": [
  {
   "cell_type": "code",
   "execution_count": 22,
   "id": "09118da0",
   "metadata": {},
   "outputs": [],
   "source": [
    "from typing import Optional\n",
    "\n",
    "class Singleton:\n",
    "    _instance: Optional['Singleton'] = None\n",
    "\n",
    "    def __new__(cls, *args, **kwargs):\n",
    "        if cls._instance is None:\n",
    "            with cls._get_lock():\n",
    "                if cls._instance is None:\n",
    "                    cls._instance = super(Singleton, cls).__new__(cls)\n",
    "        return cls._instance\n",
    "\n",
    "    @classmethod\n",
    "    def _get_lock(cls):\n",
    "        try:\n",
    "            from threading import Lock\n",
    "            return Lock()\n",
    "        except ImportError:\n",
    "            from dummy_threading import Lock\n",
    "            return Lock()\n",
    "\n",
    "    def __init__(self):\n",
    "        pass\n",
    "\n"
   ]
  }
 ],
 "metadata": {
  "kernelspec": {
   "display_name": "Python 3 (ipykernel)",
   "language": "python",
   "name": "python3"
  },
  "language_info": {
   "codemirror_mode": {
    "name": "ipython",
    "version": 3
   },
   "file_extension": ".py",
   "mimetype": "text/x-python",
   "name": "python",
   "nbconvert_exporter": "python",
   "pygments_lexer": "ipython3",
   "version": "3.11.5"
  }
 },
 "nbformat": 4,
 "nbformat_minor": 5
}
