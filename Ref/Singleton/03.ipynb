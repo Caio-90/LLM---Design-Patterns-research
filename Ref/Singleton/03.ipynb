{
 "cells": [
  {
   "cell_type": "code",
   "execution_count": 3,
   "id": "72818276",
   "metadata": {},
   "outputs": [],
   "source": [
    "class President:\n",
    "    _instance = None\n",
    "\n",
    "    def __new__(cls, *args, **kwargs):\n",
    "        if cls._instance is None:\n",
    "            cls._instance = super(President, cls).__new__(cls)\n",
    "        return cls._instance\n",
    "\n",
    "    def __init__(self):\n",
    "        # Hide the constructor\n",
    "        pass\n",
    "\n",
    "    def __copy__(self):\n",
    "        # Disable cloning\n",
    "        return self\n",
    "\n",
    "    def __deepcopy__(self, memo):\n",
    "        # Disable cloning\n",
    "        return self\n",
    "\n",
    "    def __reduce__(self):\n",
    "        # Disable unserialize\n",
    "        raise TypeError(\"President objects are not picklable\")\n",
    "        \n",
    "    @classmethod\n",
    "    def getInstance(cls) -> 'President':\n",
    "        if cls._instance is None:\n",
    "            cls._instance = cls()\n",
    "        return cls._instance\n",
    "\n",
    "president1 = President.getInstance()\n",
    "president2 = President.getInstance()\n",
    "\n",
    "print(president1 is president2)  # True"
   ]
  },
  {
   "cell_type": "code",
   "execution_count": null,
   "id": "4ea7f60f",
   "metadata": {},
   "outputs": [],
   "source": []
  }
 ],
 "metadata": {
  "kernelspec": {
   "display_name": "Python 3 (ipykernel)",
   "language": "python",
   "name": "python3"
  },
  "language_info": {
   "codemirror_mode": {
    "name": "ipython",
    "version": 3
   },
   "file_extension": ".py",
   "mimetype": "text/x-python",
   "name": "python",
   "nbconvert_exporter": "python",
   "pygments_lexer": "ipython3",
   "version": "3.7.16"
  }
 },
 "nbformat": 4,
 "nbformat_minor": 5
}
