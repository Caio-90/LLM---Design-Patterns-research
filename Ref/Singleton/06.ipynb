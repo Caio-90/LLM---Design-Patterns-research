{
 "cells": [
  {
   "cell_type": "code",
   "execution_count": 1,
   "id": "eb98f73b",
   "metadata": {},
   "outputs": [
    {
     "name": "stdout",
     "output_type": "stream",
     "text": [
      "Registered in Log: A message to record\n",
      "\n",
      "The logger and logger02 objects are the same instance\n",
      "\n",
      "Registered in Log: Another message to record\n"
     ]
    }
   ],
   "source": [
    "from enum import Enum\n",
    "\n",
    "class FileLogger(Enum):\n",
    "    # (1) Creates the static INSTANCE field at \"Compile Time\"\n",
    "    # The FileLogger object will only be created in the JVM on its first access!\n",
    "    INSTANCE = 1\n",
    "\n",
    "    def log(self, msg):\n",
    "        # Simulates code to log messages\n",
    "        print(f\"Registered in Log: {msg}\")\n",
    "\n",
    "    # Other methods and instance variables specific to FileLogger\n",
    "\n",
    "def main():\n",
    "    # (2) Gets instance of FileLogger\n",
    "    # When accessing the static INSTANCE field of FileLogger for the first time,\n",
    "    # the FileLogger class will be loaded and initialized by the JVM.\n",
    "    # This process initializes the static INSTANCE field lazily!\n",
    "    logger = FileLogger.INSTANCE\n",
    "\n",
    "    # (3) Uses instance of FileLogger\n",
    "    logger.log(\"A message to record\")\n",
    "    print()\n",
    "\n",
    "    # (4) Gets instance of FileLogger\n",
    "    # As the enum Data Type internally implements the GoF Singleton Pattern,\n",
    "    # when accessing the static INSTANCE field for the second time,\n",
    "    # the unique instance (?) initialized lazily the first time will be returned!\n",
    "    logger02 = FileLogger.INSTANCE\n",
    "\n",
    "    # (5) Uses instance of FileLogger and tests if the Singleton really works!\n",
    "    if logger is logger02:\n",
    "        print(\"The logger and logger02 objects are the same instance\")\n",
    "    else:  # The following code block is inaccessible, by principle!\n",
    "        print(\"The Singleton pattern failed!!!\")\n",
    "    print()\n",
    "\n",
    "    # (6) Uses the unique instance of FileLogger\n",
    "    logger02.log(\"Another message to record\")\n",
    "\n",
    "if __name__ == \"__main__\":\n",
    "    main()"
   ]
  },
  {
   "cell_type": "code",
   "execution_count": null,
   "id": "3b6ad6e2",
   "metadata": {},
   "outputs": [],
   "source": []
  }
 ],
 "metadata": {
  "kernelspec": {
   "display_name": "Python 3 (ipykernel)",
   "language": "python",
   "name": "python3"
  },
  "language_info": {
   "codemirror_mode": {
    "name": "ipython",
    "version": 3
   },
   "file_extension": ".py",
   "mimetype": "text/x-python",
   "name": "python",
   "nbconvert_exporter": "python",
   "pygments_lexer": "ipython3",
   "version": "3.11.5"
  }
 },
 "nbformat": 4,
 "nbformat_minor": 5
}
