{
 "cells": [
  {
   "cell_type": "code",
   "execution_count": 1,
   "id": "0fd91a48",
   "metadata": {},
   "outputs": [
    {
     "name": "stdout",
     "output_type": "stream",
     "text": [
      "As variáveis t1 e t2 referenciam o mesmo objeto: True\n",
      "A classe de t1 é: <class '__main__.Tabuleiro'>\n",
      "Tabuleiro é classe: True\n"
     ]
    }
   ],
   "source": [
    "# Função para testar se uma variável armazena uma classe\n",
    "from inspect import isclass\n",
    "\n",
    "\n",
    "class Tabuleiro:\n",
    "    \"\"\"\n",
    "    Classe que modela um tabuleiro em um jogo de xadrez.\n",
    "    \"\"\"\n",
    "    _instancia = None\n",
    "\n",
    "    # Método __new__ alterado para somente criar uma instância da classe\n",
    "    def __new__(cls):\n",
    "        if cls._instancia is None:\n",
    "            cls._instancia = object.__new__(cls)\n",
    "        return cls._instancia\n",
    "\n",
    "\n",
    "if __name__ == '__main__':\n",
    "    t1 = Tabuleiro()\n",
    "    t2 = Tabuleiro()\n",
    "    print(f'As variáveis t1 e t2 referenciam o mesmo objeto: {t1 is t2}')\n",
    "    print(f'A classe de t1 é: {type(t1)}')\n",
    "    print(f'Tabuleiro é classe: {isclass(Tabuleiro)}')\n"
   ]
  },
  {
   "cell_type": "code",
   "execution_count": null,
   "id": "86f11776",
   "metadata": {},
   "outputs": [],
   "source": []
  }
 ],
 "metadata": {
  "kernelspec": {
   "display_name": "Python 3 (ipykernel)",
   "language": "python",
   "name": "python3"
  },
  "language_info": {
   "codemirror_mode": {
    "name": "ipython",
    "version": 3
   },
   "file_extension": ".py",
   "mimetype": "text/x-python",
   "name": "python",
   "nbconvert_exporter": "python",
   "pygments_lexer": "ipython3",
   "version": "3.11.5"
  }
 },
 "nbformat": 4,
 "nbformat_minor": 5
}
