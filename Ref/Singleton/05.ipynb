{
 "cells": [
  {
   "cell_type": "code",
   "execution_count": 8,
   "id": "04b8935f",
   "metadata": {},
   "outputs": [],
   "source": [
    "import os\n",
    "\n",
    "class FileLogger:\n",
    "    _instance = None\n",
    "\n",
    "    def __new__(cls, *args, **kwargs):\n",
    "        if cls._instance is None:\n",
    "            cls._instance = super(FileLogger, cls).__new__(cls)\n",
    "        return cls._instance\n",
    "\n",
    "    def log(self, msg):\n",
    "        print(f\"Logado no arquivo: {msg}\")"
   ]
  },
  {
   "cell_type": "code",
   "execution_count": 10,
   "id": "be5a8d69",
   "metadata": {},
   "outputs": [
    {
     "name": "stdout",
     "output_type": "stream",
     "text": [
      "True\n"
     ]
    }
   ],
   "source": [
    "v1 = FileLogger()\n",
    "v2 = FileLogger()\n",
    "print(v1 is v2)"
   ]
  },
  {
   "cell_type": "code",
   "execution_count": null,
   "id": "d7894376",
   "metadata": {},
   "outputs": [],
   "source": []
  }
 ],
 "metadata": {
  "kernelspec": {
   "display_name": "Python 3 (ipykernel)",
   "language": "python",
   "name": "python3"
  },
  "language_info": {
   "codemirror_mode": {
    "name": "ipython",
    "version": 3
   },
   "file_extension": ".py",
   "mimetype": "text/x-python",
   "name": "python",
   "nbconvert_exporter": "python",
   "pygments_lexer": "ipython3",
   "version": "3.11.5"
  }
 },
 "nbformat": 4,
 "nbformat_minor": 5
}
