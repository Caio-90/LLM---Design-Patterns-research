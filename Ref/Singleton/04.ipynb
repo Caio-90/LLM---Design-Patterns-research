{
 "cells": [
  {
   "cell_type": "code",
   "execution_count": 2,
   "id": "a9e9b5f1",
   "metadata": {},
   "outputs": [],
   "source": [
    "class ExampleSingleton:\n",
    "    # the class variable is None if no instance is instantiated\n",
    "    _unique_instance = None\n",
    "\n",
    "    def __init__(self):\n",
    "        pass\n",
    "\n",
    "    @classmethod\n",
    "    def get_instance(cls):\n",
    "        if cls._unique_instance is None:\n",
    "            cls._unique_instance = cls()\n",
    "        return cls._unique_instance"
   ]
  },
  {
   "cell_type": "code",
   "execution_count": 3,
   "id": "29fb1268",
   "metadata": {},
   "outputs": [
    {
     "name": "stdout",
     "output_type": "stream",
     "text": [
      "False\n"
     ]
    }
   ],
   "source": [
    "v1 = ExampleSingleton.getinstance\n",
    "v2 = ExampleSingleton()\n",
    "print(v1 is v2)"
   ]
  },
  {
   "cell_type": "code",
   "execution_count": null,
   "id": "36d20abb",
   "metadata": {},
   "outputs": [],
   "source": []
  }
 ],
 "metadata": {
  "kernelspec": {
   "display_name": "Python 3 (ipykernel)",
   "language": "python",
   "name": "python3"
  },
  "language_info": {
   "codemirror_mode": {
    "name": "ipython",
    "version": 3
   },
   "file_extension": ".py",
   "mimetype": "text/x-python",
   "name": "python",
   "nbconvert_exporter": "python",
   "pygments_lexer": "ipython3",
   "version": "3.11.5"
  }
 },
 "nbformat": 4,
 "nbformat_minor": 5
}
