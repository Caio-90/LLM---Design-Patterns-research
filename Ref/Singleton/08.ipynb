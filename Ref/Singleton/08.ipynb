{
 "cells": [
  {
   "cell_type": "code",
   "execution_count": 5,
   "id": "af918c69",
   "metadata": {},
   "outputs": [
    {
     "name": "stdout",
     "output_type": "stream",
     "text": [
      "<__main__.Database object at 0x000001C8F5039790>\n"
     ]
    }
   ],
   "source": [
    "import threading\n",
    "\n",
    "class Database:\n",
    "    # O campo para armazenar a instância singleton deve ser declarado como estático.\n",
    "    _instance = None\n",
    "    _lock = threading.Lock()  # Para garantir que a instância seja criada de forma thread-safe.\n",
    "\n",
    "    # O construtor do singleton deve sempre ser privado para prevenir chamadas diretas de construção com o operador `new`.\n",
    "    def __init__(self):\n",
    "        if Database._instance is not None:\n",
    "            raise Exception(\"This class is a singleton!\")\n",
    "        else:\n",
    "            # Algum código de inicialização, tal como uma conexão com um servidor de base de dados.\n",
    "            pass\n",
    "\n",
    "    # O método estático que controla acesso à instância do singleton.\n",
    "    @staticmethod\n",
    "    def getInstance():\n",
    "        if Database._instance is None:\n",
    "            with Database._lock:\n",
    "                if Database._instance is None:\n",
    "                    Database._instance = Database()\n",
    "        return Database._instance\n",
    "\n",
    "    # Finalmente, qualquer singleton deve definir alguma lógica de negócio que deve ser executada em sua instância.\n",
    "    def query(self, sql):\n",
    "        # Por exemplo, todas as solicitações à base de dados de uma aplicação passam por esse método.\n",
    "        # Portanto, você pode colocar a lógica de throttling ou cache aqui.\n",
    "        pass\n",
    "\n",
    "\n",
    "class Application:\n",
    "    def main(self):\n",
    "        foo = Database.getInstance()\n",
    "        foo.query(\"SELECT ...\")\n",
    "        # ...\n",
    "        bar = Database.getInstance()\n",
    "        bar.query(\"SELECT ...\")\n",
    "        # A variável `bar` vai conter o mesmo objeto que a variável `foo`.\n",
    "        assert foo is bar\n",
    "\n",
    "\n",
    "# Executando a aplicação\n",
    "if __name__ == \"__main__\":\n",
    "    app = Application()\n",
    "    app.main()"
   ]
  },
  {
   "cell_type": "code",
   "execution_count": null,
   "id": "a2ba2700",
   "metadata": {},
   "outputs": [],
   "source": []
  }
 ],
 "metadata": {
  "kernelspec": {
   "display_name": "Python 3 (ipykernel)",
   "language": "python",
   "name": "python3"
  },
  "language_info": {
   "codemirror_mode": {
    "name": "ipython",
    "version": 3
   },
   "file_extension": ".py",
   "mimetype": "text/x-python",
   "name": "python",
   "nbconvert_exporter": "python",
   "pygments_lexer": "ipython3",
   "version": "3.11.5"
  }
 },
 "nbformat": 4,
 "nbformat_minor": 5
}
