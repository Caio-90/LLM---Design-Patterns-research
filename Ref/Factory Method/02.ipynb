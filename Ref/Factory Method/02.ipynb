{
 "cells": [
  {
   "cell_type": "code",
   "execution_count": 1,
   "id": "2361c6a5",
   "metadata": {},
   "outputs": [
    {
     "name": "stdout",
     "output_type": "stream",
     "text": [
      "My name is John Doe\n",
      "My reversed name is eoD nhoJ\n"
     ]
    }
   ],
   "source": [
    "from abc import ABC, abstractmethod\n",
    "\n",
    "class Product(ABC):\n",
    "    def write_name(self, name):\n",
    "        print(f\"My name is {name}\")\n",
    "\n",
    "class ProductA(Product):\n",
    "    pass\n",
    "\n",
    "class ProductB(Product):\n",
    "    def write_name(self, name):\n",
    "        temp_name = name[::-1]\n",
    "        print(f\"My reversed name is {temp_name}\")\n",
    "\n",
    "class ProductFactory:\n",
    "    def create_product(self, type):\n",
    "        if type == \"B\":\n",
    "            return ProductB()\n",
    "        else:\n",
    "            return ProductA()\n",
    "\n",
    "def main():\n",
    "    pf = ProductFactory()\n",
    "    prod = pf.create_product(\"A\")\n",
    "    prod.write_name(\"John Doe\")\n",
    "    prod = pf.create_product(\"B\")\n",
    "    prod.write_name(\"John Doe\")\n",
    "\n",
    "if __name__ == \"__main__\":\n",
    "    main()"
   ]
  },
  {
   "cell_type": "code",
   "execution_count": null,
   "id": "6b5c9251",
   "metadata": {},
   "outputs": [],
   "source": []
  }
 ],
 "metadata": {
  "kernelspec": {
   "display_name": "Python 3 (ipykernel)",
   "language": "python",
   "name": "python3"
  },
  "language_info": {
   "codemirror_mode": {
    "name": "ipython",
    "version": 3
   },
   "file_extension": ".py",
   "mimetype": "text/x-python",
   "name": "python",
   "nbconvert_exporter": "python",
   "pygments_lexer": "ipython3",
   "version": "3.7.16"
  }
 },
 "nbformat": 4,
 "nbformat_minor": 5
}
