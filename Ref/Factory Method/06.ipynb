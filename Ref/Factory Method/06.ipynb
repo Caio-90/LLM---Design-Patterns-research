{
 "cells": [
  {
   "cell_type": "code",
   "execution_count": 1,
   "id": "38d4055a",
   "metadata": {},
   "outputs": [
    {
     "name": "stdout",
     "output_type": "stream",
     "text": [
      "I am two wheeler\n",
      "I am four wheeler\n"
     ]
    }
   ],
   "source": [
    "# Library classes\n",
    "from abc import ABC, abstractmethod\n",
    "\n",
    "class Vehicle(ABC):\n",
    "    @abstractmethod\n",
    "    def print_vehicle(self):\n",
    "        pass\n",
    "\n",
    "class TwoWheeler(Vehicle):\n",
    "    def print_vehicle(self):\n",
    "        print(\"I am two wheeler\")\n",
    "\n",
    "class FourWheeler(Vehicle):\n",
    "    def print_vehicle(self):\n",
    "        print(\"I am four wheeler\")\n",
    "\n",
    "# Factory Interface\n",
    "class VehicleFactory(ABC):\n",
    "    @abstractmethod\n",
    "    def create_vehicle(self):\n",
    "        pass\n",
    "\n",
    "# Concrete Factory for TwoWheeler\n",
    "class TwoWheelerFactory(VehicleFactory):\n",
    "    def create_vehicle(self):\n",
    "        return TwoWheeler()\n",
    "\n",
    "# Concrete Factory for FourWheeler\n",
    "class FourWheelerFactory(VehicleFactory):\n",
    "    def create_vehicle(self):\n",
    "        return FourWheeler()\n",
    "\n",
    "# Client class\n",
    "class Client:\n",
    "    def __init__(self, factory: VehicleFactory):\n",
    "        self.vehicle = factory.create_vehicle()\n",
    "\n",
    "    def get_vehicle(self):\n",
    "        return self.vehicle\n",
    "\n",
    "# Driver program\n",
    "if __name__ == \"__main__\":\n",
    "    two_wheeler_factory = TwoWheelerFactory()\n",
    "    two_wheeler_client = Client(two_wheeler_factory)\n",
    "    two_wheeler = two_wheeler_client.get_vehicle()\n",
    "    two_wheeler.print_vehicle()\n",
    "\n",
    "    four_wheeler_factory = FourWheelerFactory()\n",
    "    four_wheeler_client = Client(four_wheeler_factory)\n",
    "    four_wheeler = four_wheeler_client.get_vehicle()\n",
    "    four_wheeler.print_vehicle()\n",
    "\n"
   ]
  },
  {
   "cell_type": "code",
   "execution_count": null,
   "id": "05742a90",
   "metadata": {},
   "outputs": [],
   "source": []
  }
 ],
 "metadata": {
  "kernelspec": {
   "display_name": "Python 3 (ipykernel)",
   "language": "python",
   "name": "python3"
  },
  "language_info": {
   "codemirror_mode": {
    "name": "ipython",
    "version": 3
   },
   "file_extension": ".py",
   "mimetype": "text/x-python",
   "name": "python",
   "nbconvert_exporter": "python",
   "pygments_lexer": "ipython3",
   "version": "3.11.5"
  }
 },
 "nbformat": 4,
 "nbformat_minor": 5
}
