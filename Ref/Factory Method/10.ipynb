{
 "cells": [
  {
   "cell_type": "code",
   "execution_count": 1,
   "id": "096aaba3",
   "metadata": {},
   "outputs": [
    {
     "name": "stdout",
     "output_type": "stream",
     "text": [
      "Racecar driving.\n"
     ]
    }
   ],
   "source": [
    "class Car(object):\n",
    "    def factory(type):\n",
    "        if type == \"Racecar\":\n",
    "            return Racecar()\n",
    "        if type == \"Van\":\n",
    "            return Van()\n",
    "    factory = staticmethod(factory)\n",
    "class Racecar(Car):\n",
    "    def drive(self):\n",
    "        print(\"Racecar driving.\")\n",
    "class Van(Car):\n",
    "    def drive(self):\n",
    "        print(\"Van driving.\")\n",
    "# Using the factory method to create an object\n",
    "obj = Car.factory(\"Racecar\")\n",
    "obj.drive()"
   ]
  },
  {
   "cell_type": "code",
   "execution_count": null,
   "id": "0b7a5c39",
   "metadata": {},
   "outputs": [],
   "source": []
  }
 ],
 "metadata": {
  "kernelspec": {
   "display_name": "Python 3 (ipykernel)",
   "language": "python",
   "name": "python3"
  },
  "language_info": {
   "codemirror_mode": {
    "name": "ipython",
    "version": 3
   },
   "file_extension": ".py",
   "mimetype": "text/x-python",
   "name": "python",
   "nbconvert_exporter": "python",
   "pygments_lexer": "ipython3",
   "version": "3.11.5"
  }
 },
 "nbformat": 4,
 "nbformat_minor": 5
}
