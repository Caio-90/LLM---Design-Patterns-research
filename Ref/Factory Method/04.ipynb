{
 "cells": [
  {
   "cell_type": "code",
   "execution_count": 1,
   "id": "6156428e",
   "metadata": {},
   "outputs": [
    {
     "name": "stdout",
     "output_type": "stream",
     "text": [
      "Creating Profile... Linkedin\n",
      "Profile has sections -- ['PersonalSection', 'PatentSection', 'PublicationSection']\n",
      "Creating Profile... Facebook\n",
      "Profile has sections -- ['PersonalSection', 'AlbumSection']\n"
     ]
    }
   ],
   "source": [
    "\n",
    "from abc import ABCMeta, abstractmethod\n",
    "\n",
    "\n",
    "class Section(metaclass=ABCMeta):\n",
    "    @abstractmethod\n",
    "    def describe(self):\n",
    "        pass\n",
    "\n",
    "\n",
    "class PersonalSection(Section):\n",
    "    def describe(self):\n",
    "        print('Personal Section')\n",
    "\n",
    "\n",
    "class AlbumSection(Section):\n",
    "    def describe(self):\n",
    "        print('Album Section')\n",
    "\n",
    "\n",
    "class PatentSection(Section):\n",
    "    def describe(self):\n",
    "        print('Patent Section')\n",
    "\n",
    "\n",
    "class PublicationSection(Section):\n",
    "    def describe(self):\n",
    "        print('Publication Section')\n",
    "\n",
    "\n",
    "class Profile(metaclass=ABCMeta):\n",
    "    def __init__(self):\n",
    "        self.sections = list()\n",
    "        self.create_profile()\n",
    "\n",
    "    @abstractmethod\n",
    "    def create_profile(self):\n",
    "        pass\n",
    "\n",
    "    def get_sections(self):\n",
    "        return [type(s).__name__ for s in self.sections]\n",
    "\n",
    "    def add_section(self, section):\n",
    "        self.sections.append(section)\n",
    "\n",
    "\n",
    "class Linkedin(Profile):\n",
    "    def create_profile(self):\n",
    "        self.add_section(PersonalSection())\n",
    "        self.add_section(PatentSection())\n",
    "        self.add_section(PublicationSection())\n",
    "\n",
    "\n",
    "class Facebook(Profile):\n",
    "    def create_profile(self):\n",
    "        self.add_section(PersonalSection())\n",
    "        self.add_section(AlbumSection())\n",
    "\n",
    "\n",
    "if __name__ == '__main__':\n",
    "\n",
    "    linkedin = Linkedin()\n",
    "    facebook = Facebook()\n",
    "\n",
    "    print('Creating Profile...', type(linkedin).__name__)\n",
    "    print('Profile has sections --', linkedin.get_sections())\n",
    "\n",
    "    print('Creating Profile...', type(facebook).__name__)\n",
    "    print('Profile has sections --', facebook.get_sections())\n"
   ]
  },
  {
   "cell_type": "code",
   "execution_count": null,
   "id": "64f3b909",
   "metadata": {},
   "outputs": [],
   "source": []
  }
 ],
 "metadata": {
  "kernelspec": {
   "display_name": "Python 3 (ipykernel)",
   "language": "python",
   "name": "python3"
  },
  "language_info": {
   "codemirror_mode": {
    "name": "ipython",
    "version": 3
   },
   "file_extension": ".py",
   "mimetype": "text/x-python",
   "name": "python",
   "nbconvert_exporter": "python",
   "pygments_lexer": "ipython3",
   "version": "3.11.5"
  }
 },
 "nbformat": 4,
 "nbformat_minor": 5
}
