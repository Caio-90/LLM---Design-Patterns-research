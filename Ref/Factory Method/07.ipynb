{
 "cells": [
  {
   "cell_type": "code",
   "execution_count": 5,
   "id": "14d0ba83",
   "metadata": {},
   "outputs": [],
   "source": [
    "import json\n",
    "import xml.etree.ElementTree as et\n",
    "\n",
    "class Song:\n",
    "    def __init__(self, song_id, title, artist):\n",
    "        self.song_id = song_id\n",
    "        self.title = title\n",
    "        self.artist = artist\n",
    "\n",
    "class SongSerializer:\n",
    "    def serialize(self, song, format):\n",
    "        serializer = get_serializer(format)\n",
    "        return serializer(song)\n",
    "\n",
    "\n",
    "def get_serializer(format):\n",
    "    if format == 'JSON':\n",
    "        return _serialize_to_json\n",
    "    elif format == 'XML':\n",
    "        return _serialize_to_xml\n",
    "    else:\n",
    "        raise ValueError(format)\n",
    "\n",
    "\n",
    "def _serialize_to_json(song):\n",
    "    payload = {\n",
    "        'id': song.song_id,\n",
    "        'title': song.title,\n",
    "        'artist': song.artist\n",
    "    }\n",
    "    return json.dumps(payload)\n",
    "\n",
    "\n",
    "def _serialize_to_xml(song):\n",
    "    song_element = et.Element('song', attrib={'id': song.song_id})\n",
    "    title = et.SubElement(song_element, 'title')\n",
    "    title.text = song.title\n",
    "    artist = et.SubElement(song_element, 'artist')\n",
    "    artist.text = song.artist\n",
    "    return et.tostring(song_element, encoding='unicode')\n",
    "\n",
    "song = Song('1', 'Water of Love', 'Dire Straits')\n",
    "serializer = SongSerializer()\n",
    "\n",
    "serializer.serialize(song, 'JSON')\n",
    "'{\"id\": \"1\", \"title\": \"Water of Love\", \"artist\": \"Dire Straits\"}'\n",
    "\n",
    "serializer.serialize(song, 'XML')\n",
    "'<song id=\"1\"><title>Water of Love</title><artist>Dire Straits</artist></song>'"
   ]
  },
  {
   "cell_type": "code",
   "execution_count": null,
   "id": "a865f142",
   "metadata": {},
   "outputs": [],
   "source": []
  }
 ],
 "metadata": {
  "kernelspec": {
   "display_name": "Python 3 (ipykernel)",
   "language": "python",
   "name": "python3"
  },
  "language_info": {
   "codemirror_mode": {
    "name": "ipython",
    "version": 3
   },
   "file_extension": ".py",
   "mimetype": "text/x-python",
   "name": "python",
   "nbconvert_exporter": "python",
   "pygments_lexer": "ipython3",
   "version": "3.11.5"
  }
 },
 "nbformat": 4,
 "nbformat_minor": 5
}
