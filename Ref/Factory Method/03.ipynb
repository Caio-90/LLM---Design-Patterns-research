{
 "cells": [
  {
   "cell_type": "code",
   "execution_count": 1,
   "id": "ea92330e",
   "metadata": {},
   "outputs": [
    {
     "name": "stdout",
     "output_type": "stream",
     "text": [
      "x: 2, y: 3\n",
      "x: -0.4161468365471424, y: 0.9092974268256817\n"
     ]
    }
   ],
   "source": [
    "from enum import Enum\n",
    "from math import cos, sin\n",
    "\n",
    "\n",
    "class CoordinateSystem(Enum):\n",
    "    CARTESIAN = 1\n",
    "    POLAR = 2\n",
    "\n",
    "\n",
    "class Point:\n",
    "    # naive\n",
    "    # def __init__(self, a, b, system=CoordinateSystem.CARTESIAN):\n",
    "    #     if system === CoordinateSystem.CARTESIAN:\n",
    "    #         self.a = a\n",
    "    #         self.b = b\n",
    "    #     elif system == CoordinateSystem.POLAR:\n",
    "    #         self.x = a * cos(b)\n",
    "    #         self.y = a * sin(b)\n",
    "\n",
    "    def __init__(self, x, y):\n",
    "        self.x = x\n",
    "        self.y = y\n",
    "\n",
    "    def __str__(self):\n",
    "        return f'x: {self.x}, y: {self.y}'\n",
    "\n",
    "    @staticmethod\n",
    "    def new_cartesian_point(x, y):\n",
    "        return Point(x, y)\n",
    "\n",
    "    @staticmethod\n",
    "    def new_polar_point(rho, theta):\n",
    "        return Point(rho * cos(theta), rho * sin(theta))\n",
    "\n",
    "\n",
    "p = Point(2, 3)\n",
    "print(p)\n",
    "p2 = Point.new_polar_point(1, 2)\n",
    "print(p2)"
   ]
  },
  {
   "cell_type": "code",
   "execution_count": null,
   "id": "0a693990",
   "metadata": {},
   "outputs": [],
   "source": []
  }
 ],
 "metadata": {
  "kernelspec": {
   "display_name": "Python 3 (ipykernel)",
   "language": "python",
   "name": "python3"
  },
  "language_info": {
   "codemirror_mode": {
    "name": "ipython",
    "version": 3
   },
   "file_extension": ".py",
   "mimetype": "text/x-python",
   "name": "python",
   "nbconvert_exporter": "python",
   "pygments_lexer": "ipython3",
   "version": "3.7.16"
  }
 },
 "nbformat": 4,
 "nbformat_minor": 5
}
