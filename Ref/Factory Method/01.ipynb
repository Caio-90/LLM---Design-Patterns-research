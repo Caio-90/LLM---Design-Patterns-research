{
 "cells": [
  {
   "cell_type": "code",
   "execution_count": 1,
   "id": "bc2d7f89",
   "metadata": {},
   "outputs": [
    {
     "name": "stdout",
     "output_type": "stream",
     "text": [
      "Asking about design patterns!\n",
      "Asking about community building\n"
     ]
    }
   ],
   "source": [
    "from typing_extensions import Protocol\n",
    "\n",
    "class Interviewer(Protocol):\n",
    "    def askQuestions(self) -> None:\n",
    "        ...\n",
    "\n",
    "class Developer:\n",
    "    def askQuestions(self) -> None:\n",
    "        print('Asking about design patterns!')\n",
    "\n",
    "class CommunityExecutive:\n",
    "    def askQuestions(self) -> None:\n",
    "        print('Asking about community building')\n",
    "\n",
    "from abc import ABC, abstractmethod\n",
    "\n",
    "class HiringManager(ABC):\n",
    "    \n",
    "    @abstractmethod\n",
    "    def makeInterviewer(self) -> 'Interviewer':\n",
    "        pass\n",
    "\n",
    "    def takeInterview(self):\n",
    "        interviewer = self.makeInterviewer()\n",
    "        interviewer.askQuestions()\n",
    "\n",
    "class DevelopmentManager(HiringManager):\n",
    "    def makeInterviewer(self) -> Interviewer:\n",
    "        return Developer()\n",
    "\n",
    "class MarketingManager(HiringManager):\n",
    "    def makeInterviewer(self) -> Interviewer:\n",
    "        return CommunityExecutive()\n",
    "    \n",
    "dm = DevelopmentManager()\n",
    "dev = dm.makeInterviewer()\n",
    "dev.askQuestions()\n",
    "mm = MarketingManager()\n",
    "ce = mm.makeInterviewer()\n",
    "ce.askQuestions()"
   ]
  },
  {
   "cell_type": "code",
   "execution_count": null,
   "id": "1d4667d7",
   "metadata": {},
   "outputs": [],
   "source": []
  }
 ],
 "metadata": {
  "kernelspec": {
   "display_name": "Python 3 (ipykernel)",
   "language": "python",
   "name": "python3"
  },
  "language_info": {
   "codemirror_mode": {
    "name": "ipython",
    "version": 3
   },
   "file_extension": ".py",
   "mimetype": "text/x-python",
   "name": "python",
   "nbconvert_exporter": "python",
   "pygments_lexer": "ipython3",
   "version": "3.11.5"
  }
 },
 "nbformat": 4,
 "nbformat_minor": 5
}
