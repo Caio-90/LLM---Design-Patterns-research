{
 "cells": [
  {
   "cell_type": "code",
   "execution_count": 1,
   "id": "8025ba5b",
   "metadata": {},
   "outputs": [
    {
     "name": "stdout",
     "output_type": "stream",
     "text": [
      "Cloning color RGB: 255,  0,  0\n",
      "Cloning color RGB: 128,211,128\n",
      "Cloning color RGB: 211, 34, 20\n",
      "Press Enter to continue...\n"
     ]
    }
   ],
   "source": [
    "from copy import deepcopy\n",
    "\n",
    "class ColorPrototype:\n",
    "    def clone(self):\n",
    "        raise NotImplementedError()\n",
    "\n",
    "class Color(ColorPrototype):\n",
    "    def __init__(self, red, green, blue):\n",
    "        self.red = red\n",
    "        self.green = green\n",
    "        self.blue = blue\n",
    "\n",
    "    def clone(self):\n",
    "        print(f\"Cloning color RGB: {self.red:3d},{self.green:3d},{self.blue:3d}\")\n",
    "        return deepcopy(self)\n",
    "\n",
    "class ColorManager:\n",
    "    def __init__(self):\n",
    "        self.colors = {}\n",
    "\n",
    "    def __getitem__(self, key):\n",
    "        return self.colors[key]\n",
    "\n",
    "    def __setitem__(self, key, value):\n",
    "        self.colors[key] = value\n",
    "\n",
    "def main():\n",
    "    colormanager = ColorManager()\n",
    "\n",
    "    # Initialize with standard colors\n",
    "    colormanager[\"red\"] = Color(255, 0, 0)\n",
    "    colormanager[\"green\"] = Color(0, 255, 0)\n",
    "    colormanager[\"blue\"] = Color(0, 0, 255)\n",
    "\n",
    "    # User adds personalized colors\n",
    "    colormanager[\"angry\"] = Color(255, 54, 0)\n",
    "    colormanager[\"peace\"] = Color(128, 211, 128)\n",
    "    colormanager[\"flame\"] = Color(211, 34, 20)\n",
    "\n",
    "    # User clones selected colors\n",
    "    color1 = colormanager[\"red\"].clone()\n",
    "    color2 = colormanager[\"peace\"].clone()\n",
    "    color3 = colormanager[\"flame\"].clone()\n",
    "\n",
    "    # Wait for user\n",
    "    input(\"Press Enter to continue...\")\n",
    "\n",
    "if __name__ == \"__main__\":\n",
    "    main()"
   ]
  },
  {
   "cell_type": "code",
   "execution_count": null,
   "id": "f7f9bade",
   "metadata": {},
   "outputs": [],
   "source": []
  }
 ],
 "metadata": {
  "kernelspec": {
   "display_name": "Python 3 (ipykernel)",
   "language": "python",
   "name": "python3"
  },
  "language_info": {
   "codemirror_mode": {
    "name": "ipython",
    "version": 3
   },
   "file_extension": ".py",
   "mimetype": "text/x-python",
   "name": "python",
   "nbconvert_exporter": "python",
   "pygments_lexer": "ipython3",
   "version": "3.11.5"
  }
 },
 "nbformat": 4,
 "nbformat_minor": 5
}
