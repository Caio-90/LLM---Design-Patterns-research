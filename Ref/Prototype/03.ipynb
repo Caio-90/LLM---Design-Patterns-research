{
 "cells": [
  {
   "cell_type": "code",
   "execution_count": 1,
   "id": "e0f87983",
   "metadata": {},
   "outputs": [
    {
     "name": "stdout",
     "output_type": "stream",
     "text": [
      "John lives at 123 London Road, London, UK\n",
      "Jane lives at 124 London Road, London, UK\n"
     ]
    }
   ],
   "source": [
    "import copy\n",
    "\n",
    "\n",
    "class Address:\n",
    "    def __init__(self, street_address, city, country):\n",
    "        self.city = city\n",
    "        self.street_address = street_address\n",
    "        self.country = country\n",
    "\n",
    "    def __str__(self):\n",
    "        return f'{self.street_address}, {self.city}, {self.country}'\n",
    "\n",
    "\n",
    "class Person:\n",
    "    def __init__(self, name, address):\n",
    "        self.name = name\n",
    "        self.address = address\n",
    "\n",
    "    def __str__(self):\n",
    "        return f'{self.name} lives at {self.address}'\n",
    "\n",
    "\n",
    "JOHN = Person('John', Address('123 London Road', 'London', 'UK'))\n",
    "print(JOHN)\n",
    "\n",
    "# does not work\n",
    "# JANE = JOHN\n",
    "# JANE.name = JOHN\n",
    "\n",
    "# need to make deep copy\n",
    "JANE = copy.deepcopy(JOHN)\n",
    "JANE.name = 'Jane'\n",
    "JANE.address.street_address = '124 London Road'\n",
    "print(JANE)"
   ]
  },
  {
   "cell_type": "code",
   "execution_count": null,
   "id": "4b3ff18d",
   "metadata": {},
   "outputs": [],
   "source": []
  }
 ],
 "metadata": {
  "kernelspec": {
   "display_name": "Python 3 (ipykernel)",
   "language": "python",
   "name": "python3"
  },
  "language_info": {
   "codemirror_mode": {
    "name": "ipython",
    "version": 3
   },
   "file_extension": ".py",
   "mimetype": "text/x-python",
   "name": "python",
   "nbconvert_exporter": "python",
   "pygments_lexer": "ipython3",
   "version": "3.7.16"
  }
 },
 "nbformat": 4,
 "nbformat_minor": 5
}
