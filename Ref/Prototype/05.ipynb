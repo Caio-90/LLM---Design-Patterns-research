{
 "cells": [
  {
   "cell_type": "code",
   "execution_count": 1,
   "id": "9abce683",
   "metadata": {},
   "outputs": [
    {
     "name": "stdout",
     "output_type": "stream",
     "text": [
      "Original Robot: Ranger with Laser Blaster\n",
      "Cloned Robot: Ranger with Laser Blaster\n",
      "Are they the same? False\n"
     ]
    }
   ],
   "source": [
    "import copy\n",
    "\n",
    "class RobotPrototype:\n",
    "    def clone(self):\n",
    "        return copy.deepcopy(self)\n",
    "\n",
    "class CombatRobot(RobotPrototype):\n",
    "    def __init__(self, name, weapon):\n",
    "        self.name = name\n",
    "        self.weapon = weapon\n",
    "\n",
    "    def __str__(self):\n",
    "        return f\"{self.name} with {self.weapon}\"\n",
    "\n",
    "# Client code\n",
    "if __name__ == \"__main__\":\n",
    "    original_robot = CombatRobot(\"Ranger\", \"Laser Blaster\")\n",
    "    cloned_robot = original_robot.clone()\n",
    "\n",
    "    print(f\"Original Robot: {original_robot}\")\n",
    "    print(f\"Cloned Robot: {cloned_robot}\")\n",
    "    print(f\"Are they the same? {original_robot is cloned_robot}\")"
   ]
  },
  {
   "cell_type": "code",
   "execution_count": null,
   "id": "939d1386",
   "metadata": {},
   "outputs": [],
   "source": []
  }
 ],
 "metadata": {
  "kernelspec": {
   "display_name": "Python 3 (ipykernel)",
   "language": "python",
   "name": "python3"
  },
  "language_info": {
   "codemirror_mode": {
    "name": "ipython",
    "version": 3
   },
   "file_extension": ".py",
   "mimetype": "text/x-python",
   "name": "python",
   "nbconvert_exporter": "python",
   "pygments_lexer": "ipython3",
   "version": "3.11.5"
  }
 },
 "nbformat": 4,
 "nbformat_minor": 5
}
