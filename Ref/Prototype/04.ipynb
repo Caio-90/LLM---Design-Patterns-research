{
 "cells": [
  {
   "cell_type": "code",
   "execution_count": 2,
   "id": "defbcddf",
   "metadata": {},
   "outputs": [
    {
     "name": "stdout",
     "output_type": "stream",
     "text": [
      "Drawing a red circle.\n"
     ]
    }
   ],
   "source": [
    "import copy\n",
    "\n",
    "# Concrete prototype\n",
    "class Circle:\n",
    "    def __init__(self, color):\n",
    "        self.color = color\n",
    "\n",
    "    # This creates a copy of the circle.\n",
    "    def clone(self):\n",
    "        return copy.deepcopy(self)\n",
    "\n",
    "    # This is how a circle draws itself.\n",
    "    def draw(self):\n",
    "        print(f\"Drawing a {self.color} circle.\")\n",
    "\n",
    "# Main code\n",
    "if __name__ == \"__main__\":\n",
    "    # Create a concrete prototype (a red circle).\n",
    "    circle_prototype = Circle(\"red\")\n",
    "\n",
    "    # Use the prototype to create a new shape (a red circle).\n",
    "    red_circle = circle_prototype.clone()\n",
    "\n",
    "    # Draw the newly created red circle.\n",
    "    red_circle.draw()\n"
   ]
  }
 ],
 "metadata": {
  "kernelspec": {
   "display_name": "Python 3 (ipykernel)",
   "language": "python",
   "name": "python3"
  },
  "language_info": {
   "codemirror_mode": {
    "name": "ipython",
    "version": 3
   },
   "file_extension": ".py",
   "mimetype": "text/x-python",
   "name": "python",
   "nbconvert_exporter": "python",
   "pygments_lexer": "ipython3",
   "version": "3.11.5"
  }
 },
 "nbformat": 4,
 "nbformat_minor": 5
}
