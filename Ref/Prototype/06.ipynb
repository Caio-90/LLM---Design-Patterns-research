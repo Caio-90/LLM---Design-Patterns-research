{
 "cells": [
  {
   "cell_type": "code",
   "execution_count": 10,
   "id": "7f1c3a22",
   "metadata": {},
   "outputs": [
    {
     "name": "stdout",
     "output_type": "stream",
     "text": [
      "Cesar Silva - Coordenador Ti - C#\n",
      "Igor Kawata - Coordenador Ti - C#\n",
      "Jones Roberto - Gerente - 120wpm\n",
      "Leonidas Leme - Gerente - 110wpm\n"
     ]
    }
   ],
   "source": [
    "from copy import deepcopy\n",
    "\n",
    "class IEmployee:\n",
    "    def clone(self):\n",
    "        pass\n",
    "\n",
    "    def get_details(self):\n",
    "        pass\n",
    "\n",
    "class Developer(IEmployee):\n",
    "    def __init__(self):\n",
    "        self.words_per_minute = None\n",
    "        self.name = None\n",
    "        self.role = None\n",
    "        self.preferred_language = None\n",
    "\n",
    "    def clone(self):\n",
    "        # Shallow Copy: only top-level objects are duplicated\n",
    "        return deepcopy(self)\n",
    "\n",
    "    def get_details(self):\n",
    "        return f\"{self.name} - {self.role} - {self.preferred_language}\"\n",
    "\n",
    "class Manager(IEmployee):\n",
    "    def __init__(self):\n",
    "        self.words_per_minute = None\n",
    "        self.name = None\n",
    "        self.role = None\n",
    "\n",
    "    def clone(self):\n",
    "        return deepcopy(self)\n",
    "\n",
    "    def get_details(self):\n",
    "        return f\"{self.name} - {self.role} - {self.words_per_minute}wpm\"\n",
    "\n",
    "if __name__ == \"__main__\":\n",
    "    dev = Developer()\n",
    "    dev.name = \"Cesar Silva\"\n",
    "    dev.role = \"Coordenador Ti\"\n",
    "    dev.preferred_language = \"C#\"\n",
    "    dev_copy = dev.clone()\n",
    "    dev_copy.name = \"Igor Kawata\"\n",
    "    print(dev.get_details())\n",
    "    print(dev_copy.get_details())\n",
    "\n",
    "    manager = Manager()\n",
    "    manager.name = \"Jones Roberto\"\n",
    "    manager.role = \"Gerente\"\n",
    "    manager.words_per_minute = 120\n",
    "    manager_copy = manager.clone()\n",
    "    manager_copy.name = \"Leonidas Leme\"\n",
    "    manager_copy.words_per_minute = 110\n",
    "    print(manager.get_details())\n",
    "    print(manager_copy.get_details())\n",
    "\n"
   ]
  },
  {
   "cell_type": "code",
   "execution_count": null,
   "id": "ae7804f6",
   "metadata": {},
   "outputs": [],
   "source": []
  }
 ],
 "metadata": {
  "kernelspec": {
   "display_name": "Python 3 (ipykernel)",
   "language": "python",
   "name": "python3"
  },
  "language_info": {
   "codemirror_mode": {
    "name": "ipython",
    "version": 3
   },
   "file_extension": ".py",
   "mimetype": "text/x-python",
   "name": "python",
   "nbconvert_exporter": "python",
   "pygments_lexer": "ipython3",
   "version": "3.11.5"
  }
 },
 "nbformat": 4,
 "nbformat_minor": 5
}
