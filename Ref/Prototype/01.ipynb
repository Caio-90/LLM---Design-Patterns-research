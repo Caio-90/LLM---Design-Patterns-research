{
 "cells": [
  {
   "cell_type": "code",
   "execution_count": 1,
   "id": "29611a76",
   "metadata": {},
   "outputs": [],
   "source": [
    "class Sheep:\n",
    "    def __init__(self, name: str, category: str = 'Mountain Sheep'):\n",
    "        self._name = name\n",
    "        self._category = category\n",
    "\n",
    "    def set_name(self, name: str):\n",
    "        self._name = name\n",
    "\n",
    "    def get_name(self):\n",
    "        return self._name\n",
    "\n",
    "    def set_category(self, category: str):\n",
    "        self._category = category\n",
    "\n",
    "    def get_category(self):\n",
    "        return self._category"
   ]
  },
  {
   "cell_type": "code",
   "execution_count": 2,
   "id": "f7f6943d",
   "metadata": {},
   "outputs": [
    {
     "name": "stdout",
     "output_type": "stream",
     "text": [
      "Jolly\n",
      "Mountain Sheep\n",
      "Dolly\n",
      "Mountain Sheep\n"
     ]
    }
   ],
   "source": [
    "from copy import deepcopy\n",
    "\n",
    "original = Sheep('Jolly')\n",
    "print(original.get_name())  # Jolly\n",
    "print(original.get_category())  # Mountain Sheep\n",
    "\n",
    "# Clone and modify what is required\n",
    "cloned = deepcopy(original)\n",
    "cloned.set_name('Dolly')\n",
    "print(cloned.get_name())  # Dolly\n",
    "print(cloned.get_category())  # Mountain Sheep"
   ]
  },
  {
   "cell_type": "code",
   "execution_count": null,
   "id": "1d9b9eb1",
   "metadata": {},
   "outputs": [],
   "source": []
  }
 ],
 "metadata": {
  "kernelspec": {
   "display_name": "Python 3 (ipykernel)",
   "language": "python",
   "name": "python3"
  },
  "language_info": {
   "codemirror_mode": {
    "name": "ipython",
    "version": 3
   },
   "file_extension": ".py",
   "mimetype": "text/x-python",
   "name": "python",
   "nbconvert_exporter": "python",
   "pygments_lexer": "ipython3",
   "version": "3.11.5"
  }
 },
 "nbformat": 4,
 "nbformat_minor": 5
}
