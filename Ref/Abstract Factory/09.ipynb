{
 "cells": [
  {
   "cell_type": "code",
   "execution_count": 1,
   "id": "3f38ea3e",
   "metadata": {},
   "outputs": [],
   "source": [
    "from abc import ABC, abstractmethod\n",
    "\n",
    "# Abstract Products\n",
    "class Laptop(ABC):\n",
    "    @abstractmethod\n",
    "    def display(self):\n",
    "        pass\n",
    "\n",
    "class Smartphone(ABC):\n",
    "    @abstractmethod\n",
    "    def display(self):\n",
    "        pass\n",
    "\n",
    "# Concrete Products\n",
    "class DellLaptop(Laptop):\n",
    "    def display(self):\n",
    "        return \"Dell Laptop\"\n",
    "\n",
    "class SamsungSmartphone(Smartphone):\n",
    "    def display(self):\n",
    "        return \"Samsung Smartphone\"\n",
    "\n",
    "# Abstract Factory\n",
    "class DeviceFactory(ABC):\n",
    "    @abstractmethod\n",
    "    def create_laptop(self):\n",
    "        pass\n",
    "\n",
    "    @abstractmethod\n",
    "    def create_smartphone(self):\n",
    "        pass\n",
    "\n",
    "# Concrete Factories\n",
    "class DellFactory(DeviceFactory):\n",
    "    def create_laptop(self):\n",
    "        return DellLaptop()\n",
    "\n",
    "    def create_smartphone(self):\n",
    "        return None  # Dell doesn't make smartphones\n",
    "\n",
    "class SamsungFactory(DeviceFactory):\n",
    "    def create_laptop(self):\n",
    "        return None  # Samsung doesn't make laptops\n",
    "\n",
    "    def create_smartphone(self):\n",
    "        return SamsungSmartphone()"
   ]
  }
 ],
 "metadata": {
  "kernelspec": {
   "display_name": "Python 3 (ipykernel)",
   "language": "python",
   "name": "python3"
  },
  "language_info": {
   "codemirror_mode": {
    "name": "ipython",
    "version": 3
   },
   "file_extension": ".py",
   "mimetype": "text/x-python",
   "name": "python",
   "nbconvert_exporter": "python",
   "pygments_lexer": "ipython3",
   "version": "3.11.5"
  }
 },
 "nbformat": 4,
 "nbformat_minor": 5
}
