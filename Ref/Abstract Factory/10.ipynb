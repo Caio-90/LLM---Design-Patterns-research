{
 "cells": [
  {
   "cell_type": "code",
   "execution_count": 1,
   "id": "80304dab",
   "metadata": {},
   "outputs": [
    {
     "name": "stdout",
     "output_type": "stream",
     "text": [
      "Mercedes car is driving.\n",
      "Mercedes motorcycle is riding.\n",
      "BMW car is driving.\n",
      "BMW motorcycle is riding.\n"
     ]
    }
   ],
   "source": [
    "# Abstract Factory\n",
    "class VehicleFactory:\n",
    "    def create_car(self):\n",
    "        pass\n",
    "\n",
    "    def create_motorcycle(self):\n",
    "        pass\n",
    "\n",
    "# Concrete Factory for Mercedes\n",
    "class MercedesFactory(VehicleFactory):\n",
    "    def create_car(self):\n",
    "        return MercedesCar()\n",
    "\n",
    "    def create_motorcycle(self):\n",
    "        return MercedesMotorcycle()\n",
    "\n",
    "# Concrete Factory for BMW\n",
    "class BMWFactory(VehicleFactory):\n",
    "    def create_car(self):\n",
    "        return BMWCar()\n",
    "\n",
    "    def create_motorcycle(self):\n",
    "        return BMWMotorcycle()\n",
    "\n",
    "# Abstract Products\n",
    "class Car:\n",
    "    def drive(self):\n",
    "        pass\n",
    "\n",
    "class Motorcycle:\n",
    "    def ride(self):\n",
    "        pass\n",
    "\n",
    "# Concrete Products for Mercedes\n",
    "class MercedesCar(Car):\n",
    "    def drive(self):\n",
    "        return \"Mercedes car is driving.\"\n",
    "\n",
    "class MercedesMotorcycle(Motorcycle):\n",
    "    def ride(self):\n",
    "        return \"Mercedes motorcycle is riding.\"\n",
    "\n",
    "# Concrete Products for BMW\n",
    "class BMWCar(Car):\n",
    "    def drive(self):\n",
    "        return \"BMW car is driving.\"\n",
    "\n",
    "class BMWMotorcycle(Motorcycle):\n",
    "    def ride(self):\n",
    "        return \"BMW motorcycle is riding.\"\n",
    "    \n",
    "def create_vehicle(factory):\n",
    "    car = factory.create_car()\n",
    "    motorcycle = factory.create_motorcycle()\n",
    "    return car, motorcycle\n",
    "\n",
    "# Using Mercedes Factory\n",
    "mercedes_factory = MercedesFactory()\n",
    "mercedes_car, mercedes_motorcycle = create_vehicle(mercedes_factory)\n",
    "print(mercedes_car.drive())  # Output: Mercedes car is driving.\n",
    "print(mercedes_motorcycle.ride())  # Output: Mercedes motorcycle is riding.\n",
    "\n",
    "# Using BMW Factory\n",
    "bmw_factory = BMWFactory()\n",
    "bmw_car, bmw_motorcycle = create_vehicle(bmw_factory)\n",
    "print(bmw_car.drive())  # Output: BMW car is driving.\n",
    "print(bmw_motorcycle.ride())  # Output: BMW motorcycle is riding."
   ]
  },
  {
   "cell_type": "code",
   "execution_count": null,
   "id": "e8dad07c",
   "metadata": {},
   "outputs": [],
   "source": []
  }
 ],
 "metadata": {
  "kernelspec": {
   "display_name": "Python 3 (ipykernel)",
   "language": "python",
   "name": "python3"
  },
  "language_info": {
   "codemirror_mode": {
    "name": "ipython",
    "version": 3
   },
   "file_extension": ".py",
   "mimetype": "text/x-python",
   "name": "python",
   "nbconvert_exporter": "python",
   "pygments_lexer": "ipython3",
   "version": "3.11.5"
  }
 },
 "nbformat": 4,
 "nbformat_minor": 5
}
