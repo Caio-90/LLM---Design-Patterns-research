{
 "cells": [
  {
   "cell_type": "code",
   "execution_count": 1,
   "id": "ee49753d",
   "metadata": {},
   "outputs": [
    {
     "name": "stdout",
     "output_type": "stream",
     "text": [
      "Assembling Sedan car.\n",
      "North America Car Specification: Safety features compliant with local regulations.\n",
      "Assembling Hatchback car.\n",
      "Europe Car Specification: Fuel efficiency and emissions compliant with EU standards.\n"
     ]
    }
   ],
   "source": [
    "# Abstract Factory Interface\n",
    "class CarFactory:\n",
    "    def create_car(self):\n",
    "        pass\n",
    "    \n",
    "    def create_specification(self):\n",
    "        pass\n",
    "\n",
    "# Concrete Factory for North America Cars\n",
    "class NorthAmericaCarFactory(CarFactory):\n",
    "    def create_car(self):\n",
    "        return Sedan()\n",
    "    \n",
    "    def create_specification(self):\n",
    "        return NorthAmericaSpecification()\n",
    "\n",
    "# Concrete Factory for Europe Cars\n",
    "class EuropeCarFactory(CarFactory):\n",
    "    def create_car(self):\n",
    "        return Hatchback()\n",
    "    \n",
    "    def create_specification(self):\n",
    "        return EuropeSpecification()\n",
    "\n",
    "# Abstract Product Interface for Cars\n",
    "class Car:\n",
    "    def assemble(self):\n",
    "        pass\n",
    "\n",
    "# Abstract Product Interface for Car Specifications\n",
    "class CarSpecification:\n",
    "    def display(self):\n",
    "        pass\n",
    "\n",
    "# Concrete Product for Sedan Car\n",
    "class Sedan(Car):\n",
    "    def assemble(self):\n",
    "        print(\"Assembling Sedan car.\")\n",
    "\n",
    "# Concrete Product for Hatchback Car\n",
    "class Hatchback(Car):\n",
    "    def assemble(self):\n",
    "        print(\"Assembling Hatchback car.\")\n",
    "\n",
    "# Concrete Product for North America Car Specification\n",
    "class NorthAmericaSpecification(CarSpecification):\n",
    "    def display(self):\n",
    "        print(\"North America Car Specification: Safety features compliant with local regulations.\")\n",
    "\n",
    "# Concrete Product for Europe Car Specification\n",
    "class EuropeSpecification(CarSpecification):\n",
    "    def display(self):\n",
    "        print(\"Europe Car Specification: Fuel efficiency and emissions compliant with EU standards.\")\n",
    "\n",
    "# Client Code\n",
    "if __name__ == \"__main__\":\n",
    "    # Creating cars for North America\n",
    "    north_america_factory = NorthAmericaCarFactory()\n",
    "    north_america_car = north_america_factory.create_car()\n",
    "    north_america_spec = north_america_factory.create_specification()\n",
    "\n",
    "    north_america_car.assemble()\n",
    "    north_america_spec.display()\n",
    "\n",
    "    # Creating cars for Europe\n",
    "    europe_factory = EuropeCarFactory()\n",
    "    europe_car = europe_factory.create_car()\n",
    "    europe_spec = europe_factory.create_specification()\n",
    "\n",
    "    europe_car.assemble()\n",
    "    europe_spec.display()\n",
    "\n"
   ]
  },
  {
   "cell_type": "code",
   "execution_count": null,
   "id": "d03145c8",
   "metadata": {},
   "outputs": [],
   "source": []
  }
 ],
 "metadata": {
  "kernelspec": {
   "display_name": "Python 3 (ipykernel)",
   "language": "python",
   "name": "python3"
  },
  "language_info": {
   "codemirror_mode": {
    "name": "ipython",
    "version": 3
   },
   "file_extension": ".py",
   "mimetype": "text/x-python",
   "name": "python",
   "nbconvert_exporter": "python",
   "pygments_lexer": "ipython3",
   "version": "3.11.5"
  }
 },
 "nbformat": 4,
 "nbformat_minor": 5
}
