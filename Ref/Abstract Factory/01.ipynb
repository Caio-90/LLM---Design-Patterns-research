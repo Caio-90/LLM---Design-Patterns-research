{
 "cells": [
  {
   "cell_type": "code",
   "execution_count": 1,
   "id": "5c11faf9",
   "metadata": {},
   "outputs": [],
   "source": [
    "class Door:\n",
    "    def get_description(self):\n",
    "        pass\n",
    "\n",
    "class WoodenDoor(Door):\n",
    "    def get_description(self):\n",
    "        print('I am a wooden door')\n",
    "\n",
    "class IronDoor(Door):\n",
    "    def get_description(self):\n",
    "        print('I am an iron door')\n",
    "\n",
    "class DoorFittingExpert:\n",
    "    def getDescription(self):\n",
    "        pass\n",
    "\n",
    "class Welder(DoorFittingExpert):\n",
    "    def getDescription(self):\n",
    "        print('I can only fit iron doors')\n",
    "\n",
    "class Carpenter(DoorFittingExpert):\n",
    "    def getDescription(self):\n",
    "        print('I can only fit wooden doors')"
   ]
  },
  {
   "cell_type": "code",
   "execution_count": 2,
   "id": "589297c3",
   "metadata": {},
   "outputs": [],
   "source": [
    "from abc import ABC, abstractmethod\n",
    "\n",
    "class Carpenter(DoorFittingExpert):\n",
    "    def get_description(self):\n",
    "        return \"I can only fit wooden doors\"\n",
    "\n",
    "class Welder(DoorFittingExpert):\n",
    "    def get_description(self):\n",
    "        return \"I can only fit iron doors\"\n",
    "\n",
    "class DoorFactory(ABC):\n",
    "    @abstractmethod\n",
    "    def make_door(self) -> Door:\n",
    "        pass\n",
    "\n",
    "    @abstractmethod\n",
    "    def make_fitting_expert(self) -> DoorFittingExpert:\n",
    "        pass\n",
    "\n",
    "class WoodenDoorFactory(DoorFactory):\n",
    "    def make_door(self) -> Door:\n",
    "        return WoodenDoor()\n",
    "\n",
    "    def make_fitting_expert(self) -> DoorFittingExpert:\n",
    "        return Carpenter()\n",
    "\n",
    "class IronDoorFactory(DoorFactory):\n",
    "    def make_door(self) -> Door:\n",
    "        return IronDoor()\n",
    "\n",
    "    def make_fitting_expert(self) -> DoorFittingExpert:\n",
    "        return Welder()\n"
   ]
  },
  {
   "cell_type": "code",
   "execution_count": 3,
   "id": "da0b0e27",
   "metadata": {},
   "outputs": [
    {
     "name": "stdout",
     "output_type": "stream",
     "text": [
      "I am a wooden door\n",
      "I am an iron door\n"
     ]
    }
   ],
   "source": [
    "wd = WoodenDoorFactory().make_door()\n",
    "wd.get_description()\n",
    "ird = IronDoorFactory().make_door()\n",
    "ird.get_description()"
   ]
  },
  {
   "cell_type": "code",
   "execution_count": null,
   "id": "fa11d67d",
   "metadata": {},
   "outputs": [],
   "source": []
  }
 ],
 "metadata": {
  "kernelspec": {
   "display_name": "Python 3 (ipykernel)",
   "language": "python",
   "name": "python3"
  },
  "language_info": {
   "codemirror_mode": {
    "name": "ipython",
    "version": 3
   },
   "file_extension": ".py",
   "mimetype": "text/x-python",
   "name": "python",
   "nbconvert_exporter": "python",
   "pygments_lexer": "ipython3",
   "version": "3.7.16"
  }
 },
 "nbformat": 4,
 "nbformat_minor": 5
}
