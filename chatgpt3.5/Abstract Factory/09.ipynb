{
 "cells": [
  {
   "cell_type": "code",
   "execution_count": 1,
   "id": "1d4a484d",
   "metadata": {},
   "outputs": [
    {
     "name": "stdout",
     "output_type": "stream",
     "text": [
      "Displaying Samsung Laptop.\n",
      "Displaying Samsung Smartphone.\n",
      "Displaying Dell Laptop.\n",
      "Displaying Dell Smartphone.\n"
     ]
    }
   ],
   "source": [
    "from abc import ABC, abstractmethod\n",
    "\n",
    "# Abstract Factory\n",
    "class ElectronicsFactory(ABC):\n",
    "    @abstractmethod\n",
    "    def create_laptop(self):\n",
    "        pass\n",
    "    \n",
    "    @abstractmethod\n",
    "    def create_smartphone(self):\n",
    "        pass\n",
    "\n",
    "# Concrete Factory for Samsung\n",
    "class SamsungFactory(ElectronicsFactory):\n",
    "    def create_laptop(self):\n",
    "        return SamsungLaptop()\n",
    "    \n",
    "    def create_smartphone(self):\n",
    "        return SamsungSmartphone()\n",
    "\n",
    "# Concrete Factory for Dell\n",
    "class DellFactory(ElectronicsFactory):\n",
    "    def create_laptop(self):\n",
    "        return DellLaptop()\n",
    "    \n",
    "    def create_smartphone(self):\n",
    "        return DellSmartphone()\n",
    "\n",
    "# Abstract Product\n",
    "class Electronics(ABC):\n",
    "    @abstractmethod\n",
    "    def display(self):\n",
    "        pass\n",
    "\n",
    "# Concrete Products for Samsung\n",
    "class SamsungLaptop(Electronics):\n",
    "    def display(self):\n",
    "        print(\"Displaying Samsung Laptop.\")\n",
    "\n",
    "class SamsungSmartphone(Electronics):\n",
    "    def display(self):\n",
    "        print(\"Displaying Samsung Smartphone.\")\n",
    "\n",
    "# Concrete Products for Dell\n",
    "class DellLaptop(Electronics):\n",
    "    def display(self):\n",
    "        print(\"Displaying Dell Laptop.\")\n",
    "\n",
    "class DellSmartphone(Electronics):\n",
    "    def display(self):\n",
    "        print(\"Displaying Dell Smartphone.\")\n",
    "\n",
    "# Client code to use Abstract Factory\n",
    "def client_code(factory):\n",
    "    laptop = factory.create_laptop()\n",
    "    smartphone = factory.create_smartphone()\n",
    "\n",
    "    laptop.display()\n",
    "    smartphone.display()\n",
    "\n",
    "# Usage\n",
    "if __name__ == \"__main__\":\n",
    "    # Create Samsung electronics\n",
    "    samsung_factory = SamsungFactory()\n",
    "    client_code(samsung_factory)\n",
    "\n",
    "    # Create Dell electronics\n",
    "    dell_factory = DellFactory()\n",
    "    client_code(dell_factory)\n"
   ]
  },
  {
   "cell_type": "code",
   "execution_count": null,
   "id": "5d784225",
   "metadata": {},
   "outputs": [],
   "source": []
  }
 ],
 "metadata": {
  "kernelspec": {
   "display_name": "Python 3 (ipykernel)",
   "language": "python",
   "name": "python3"
  },
  "language_info": {
   "codemirror_mode": {
    "name": "ipython",
    "version": 3
   },
   "file_extension": ".py",
   "mimetype": "text/x-python",
   "name": "python",
   "nbconvert_exporter": "python",
   "pygments_lexer": "ipython3",
   "version": "3.7.16"
  }
 },
 "nbformat": 4,
 "nbformat_minor": 5
}
