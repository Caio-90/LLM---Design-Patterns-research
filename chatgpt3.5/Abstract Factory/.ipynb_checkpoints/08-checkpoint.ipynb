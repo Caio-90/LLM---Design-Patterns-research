{
 "cells": [
  {
   "cell_type": "code",
   "execution_count": 1,
   "id": "3a070c82",
   "metadata": {},
   "outputs": [
    {
     "name": "stdout",
     "output_type": "stream",
     "text": [
      "Inside Rectangle::draw() method.\n",
      "Inside Square::draw() method.\n",
      "Inside RoundedRectangle::draw() method.\n",
      "Inside RoundedSquare::draw() method.\n"
     ]
    }
   ],
   "source": [
    "from abc import ABC, abstractmethod\n",
    "import math\n",
    "\n",
    "# Abstract Factory\n",
    "class ShapeFactory(ABC):\n",
    "    @abstractmethod\n",
    "    def create_rectangle(self):\n",
    "        pass\n",
    "    \n",
    "    @abstractmethod\n",
    "    def create_square(self):\n",
    "        pass\n",
    "    \n",
    "    @abstractmethod\n",
    "    def create_rounded_rectangle(self):\n",
    "        pass\n",
    "    \n",
    "    @abstractmethod\n",
    "    def create_rounded_square(self):\n",
    "        pass\n",
    "\n",
    "# Concrete Factory\n",
    "class ConcreteShapeFactory(ShapeFactory):\n",
    "    def create_rectangle(self):\n",
    "        return Rectangle()\n",
    "    \n",
    "    def create_square(self):\n",
    "        return Square()\n",
    "    \n",
    "    def create_rounded_rectangle(self):\n",
    "        return RoundedRectangle()\n",
    "    \n",
    "    def create_rounded_square(self):\n",
    "        return RoundedSquare()\n",
    "\n",
    "# Abstract Product\n",
    "class Shape(ABC):\n",
    "    @abstractmethod\n",
    "    def draw(self):\n",
    "        pass\n",
    "\n",
    "# Concrete Products\n",
    "class Rectangle(Shape):\n",
    "    def draw(self):\n",
    "        print(\"Inside Rectangle::draw() method.\")\n",
    "\n",
    "class Square(Shape):\n",
    "    def draw(self):\n",
    "        print(\"Inside Square::draw() method.\")\n",
    "\n",
    "class RoundedRectangle(Shape):\n",
    "    def draw(self):\n",
    "        print(\"Inside RoundedRectangle::draw() method.\")\n",
    "\n",
    "class RoundedSquare(Shape):\n",
    "    def draw(self):\n",
    "        print(\"Inside RoundedSquare::draw() method.\")\n",
    "\n",
    "factory = ConcreteShapeFactory()\n",
    "\n",
    "rectangle = factory.create_rectangle()\n",
    "rectangle.draw()\n",
    "\n",
    "square = factory.create_square()\n",
    "square.draw()\n",
    "\n",
    "rounded_rectangle = factory.create_rounded_rectangle()\n",
    "rounded_rectangle.draw()\n",
    "\n",
    "rounded_square = factory.create_rounded_square()\n",
    "rounded_square.draw()\n"
   ]
  },
  {
   "cell_type": "code",
   "execution_count": null,
   "id": "fe160f6d",
   "metadata": {},
   "outputs": [],
   "source": []
  }
 ],
 "metadata": {
  "kernelspec": {
   "display_name": "Python 3 (ipykernel)",
   "language": "python",
   "name": "python3"
  },
  "language_info": {
   "codemirror_mode": {
    "name": "ipython",
    "version": 3
   },
   "file_extension": ".py",
   "mimetype": "text/x-python",
   "name": "python",
   "nbconvert_exporter": "python",
   "pygments_lexer": "ipython3",
   "version": "3.7.16"
  }
 },
 "nbformat": 4,
 "nbformat_minor": 5
}
