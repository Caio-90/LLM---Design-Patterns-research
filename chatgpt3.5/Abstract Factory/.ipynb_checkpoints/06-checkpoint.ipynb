{
 "cells": [
  {
   "cell_type": "code",
   "execution_count": 1,
   "id": "dd66ad37",
   "metadata": {},
   "outputs": [
    {
     "name": "stdout",
     "output_type": "stream",
     "text": [
      "Render a button in Windows style\n",
      "Render a checkbox in Windows style\n"
     ]
    }
   ],
   "source": [
    "# Abstract Factory Pattern example for creating GUI components (buttons and checkboxes)\n",
    "import sys\n",
    "\n",
    "# Abstract Factory interface\n",
    "class GUIFactory:\n",
    "    def create_button(self):\n",
    "        pass\n",
    "    \n",
    "    def create_checkbox(self):\n",
    "        pass\n",
    "\n",
    "# Concrete Factory for Windows\n",
    "class WindowsFactory(GUIFactory):\n",
    "    def create_button(self):\n",
    "        return WindowsButton()\n",
    "    \n",
    "    def create_checkbox(self):\n",
    "        return WindowsCheckbox()\n",
    "\n",
    "# Concrete Factory for Mac\n",
    "class MacFactory(GUIFactory):\n",
    "    def create_button(self):\n",
    "        return MacButton()\n",
    "    \n",
    "    def create_checkbox(self):\n",
    "        return MacCheckbox()\n",
    "\n",
    "# Abstract Product: Button interface\n",
    "class Button:\n",
    "    def paint(self):\n",
    "        pass\n",
    "\n",
    "# Concrete Product: WindowsButton\n",
    "class WindowsButton(Button):\n",
    "    def paint(self):\n",
    "        return \"Render a button in Windows style\"\n",
    "\n",
    "# Concrete Product: MacButton\n",
    "class MacButton(Button):\n",
    "    def paint(self):\n",
    "        return \"Render a button in Mac style\"\n",
    "\n",
    "# Abstract Product: Checkbox interface\n",
    "class Checkbox:\n",
    "    def paint(self):\n",
    "        pass\n",
    "\n",
    "# Concrete Product: WindowsCheckbox\n",
    "class WindowsCheckbox(Checkbox):\n",
    "    def paint(self):\n",
    "        return \"Render a checkbox in Windows style\"\n",
    "\n",
    "# Concrete Product: MacCheckbox\n",
    "class MacCheckbox(Checkbox):\n",
    "    def paint(self):\n",
    "        return \"Render a checkbox in Mac style\"\n",
    "\n",
    "# Client code using Abstract Factory\n",
    "def main():\n",
    "    if sys.platform == \"win32\":\n",
    "        factory = WindowsFactory()\n",
    "    elif sys.platform == \"darwin\":\n",
    "        factory = MacFactory()\n",
    "    else:\n",
    "        raise NotImplementedError(f\"Not implemented for {sys.platform}\")\n",
    "    \n",
    "    button = factory.create_button()\n",
    "    checkbox = factory.create_checkbox()\n",
    "    \n",
    "    print(button.paint())\n",
    "    print(checkbox.paint())\n",
    "\n",
    "if __name__ == \"__main__\":\n",
    "    main()\n"
   ]
  },
  {
   "cell_type": "code",
   "execution_count": null,
   "id": "57665fa4",
   "metadata": {},
   "outputs": [],
   "source": []
  }
 ],
 "metadata": {
  "kernelspec": {
   "display_name": "Python 3 (ipykernel)",
   "language": "python",
   "name": "python3"
  },
  "language_info": {
   "codemirror_mode": {
    "name": "ipython",
    "version": 3
   },
   "file_extension": ".py",
   "mimetype": "text/x-python",
   "name": "python",
   "nbconvert_exporter": "python",
   "pygments_lexer": "ipython3",
   "version": "3.7.16"
  }
 },
 "nbformat": 4,
 "nbformat_minor": 5
}
