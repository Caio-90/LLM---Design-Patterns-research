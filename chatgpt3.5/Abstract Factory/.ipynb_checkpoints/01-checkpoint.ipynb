{
 "cells": [
  {
   "cell_type": "code",
   "execution_count": 1,
   "id": "6beb4c4d",
   "metadata": {},
   "outputs": [
    {
     "name": "stdout",
     "output_type": "stream",
     "text": [
      "I am a wooden door\n",
      "I can only fit wooden doors\n",
      "I am an iron door\n",
      "I can only fit iron doors\n"
     ]
    }
   ],
   "source": [
    "from abc import ABC, abstractmethod\n",
    "\n",
    "# Interfaces\n",
    "class Door(ABC):\n",
    "    @abstractmethod\n",
    "    def getDescription(self):\n",
    "        pass\n",
    "\n",
    "class DoorFittingExpert(ABC):\n",
    "    @abstractmethod\n",
    "    def getDescription(self):\n",
    "        pass\n",
    "\n",
    "# Classes concretas para WoodenDoor e IronDoor\n",
    "class WoodenDoor(Door):\n",
    "    def getDescription(self):\n",
    "        return \"I am a wooden door\"\n",
    "\n",
    "class IronDoor(Door):\n",
    "    def getDescription(self):\n",
    "        return \"I am an iron door\"\n",
    "\n",
    "# Classes concretas para Welder e Carpenter\n",
    "class Welder(DoorFittingExpert):\n",
    "    def getDescription(self):\n",
    "        return \"I can only fit iron doors\"\n",
    "\n",
    "class Carpenter(DoorFittingExpert):\n",
    "    def getDescription(self):\n",
    "        return \"I can only fit wooden doors\"\n",
    "\n",
    "# Interface da Abstract Factory para criar objetos de portas e especialistas\n",
    "class DoorFactory(ABC):\n",
    "    @abstractmethod\n",
    "    def makeDoor(self) -> Door:\n",
    "        pass\n",
    "\n",
    "    @abstractmethod\n",
    "    def makeFittingExpert(self) -> DoorFittingExpert:\n",
    "        pass\n",
    "\n",
    "# Concrete Factory para criar objetos de portas e especialistas de acordo com o tipo\n",
    "class WoodenDoorFactory(DoorFactory):\n",
    "    def makeDoor(self) -> Door:\n",
    "        return WoodenDoor()\n",
    "\n",
    "    def makeFittingExpert(self) -> DoorFittingExpert:\n",
    "        return Carpenter()\n",
    "\n",
    "class IronDoorFactory(DoorFactory):\n",
    "    def makeDoor(self) -> Door:\n",
    "        return IronDoor()\n",
    "\n",
    "    def makeFittingExpert(self) -> DoorFittingExpert:\n",
    "        return Welder()\n",
    "\n",
    "# Exemplo de uso do Abstract Factory\n",
    "if __name__ == \"__main__\":\n",
    "    wooden_factory = WoodenDoorFactory()\n",
    "    door = wooden_factory.makeDoor()\n",
    "    expert = wooden_factory.makeFittingExpert()\n",
    "\n",
    "    print(door.getDescription())  # Saída: I am a wooden door\n",
    "    print(expert.getDescription())  # Saída: I can only fit wooden doors\n",
    "\n",
    "    iron_factory = IronDoorFactory()\n",
    "    door = iron_factory.makeDoor()\n",
    "    expert = iron_factory.makeFittingExpert()\n",
    "\n",
    "    print(door.getDescription())  # Saída: I am an iron door\n",
    "    print(expert.getDescription())  # Saída: I can only fit iron doors\n"
   ]
  },
  {
   "cell_type": "code",
   "execution_count": null,
   "id": "53a576d0",
   "metadata": {},
   "outputs": [],
   "source": []
  }
 ],
 "metadata": {
  "kernelspec": {
   "display_name": "Python 3 (ipykernel)",
   "language": "python",
   "name": "python3"
  },
  "language_info": {
   "codemirror_mode": {
    "name": "ipython",
    "version": 3
   },
   "file_extension": ".py",
   "mimetype": "text/x-python",
   "name": "python",
   "nbconvert_exporter": "python",
   "pygments_lexer": "ipython3",
   "version": "3.7.16"
  }
 },
 "nbformat": 4,
 "nbformat_minor": 5
}
