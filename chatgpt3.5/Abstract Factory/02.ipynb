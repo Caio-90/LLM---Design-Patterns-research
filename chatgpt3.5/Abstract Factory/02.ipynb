{
 "cells": [
  {
   "cell_type": "code",
   "execution_count": 1,
   "id": "cd2d829e",
   "metadata": {},
   "outputs": [
    {
     "name": "stdout",
     "output_type": "stream",
     "text": [
      "Available drinks:\n",
      "coffee\n",
      "tea\n",
      "Please enter the drink you'd like to make: coffee\n",
      "How much ml do you want? 500\n",
      "Making 500ml of Coffee\n",
      "You are drinking Coffee\n"
     ]
    }
   ],
   "source": [
    "from abc import ABC, abstractmethod\n",
    "\n",
    "# Abstract Product: HotDrink\n",
    "class HotDrink(ABC):\n",
    "    @abstractmethod\n",
    "    def consume(self):\n",
    "        pass\n",
    "\n",
    "# Concrete Products: Coffee and Tea\n",
    "class Coffee(HotDrink):\n",
    "    def consume(self):\n",
    "        print(\"You are drinking Coffee\")\n",
    "\n",
    "class Tea(HotDrink):\n",
    "    def consume(self):\n",
    "        print(\"You are drinking Tea\")\n",
    "\n",
    "# Abstract Factory: HotDrinkFactory\n",
    "class HotDrinkFactory(ABC):\n",
    "    @abstractmethod\n",
    "    def prepare(self, amount):\n",
    "        pass\n",
    "\n",
    "# Concrete Factories: CoffeeFactory and TeaFactory\n",
    "class CoffeeFactory(HotDrinkFactory):\n",
    "    def prepare(self, amount):\n",
    "        print(f\"Making {amount}ml of Coffee\")\n",
    "        return Coffee()\n",
    "\n",
    "class TeaFactory(HotDrinkFactory):\n",
    "    def prepare(self, amount):\n",
    "        print(f\"Making {amount}ml of Tea\")\n",
    "        return Tea()\n",
    "\n",
    "# Client: HotDrinkMachine\n",
    "class HotDrinkMachine:\n",
    "    def __init__(self):\n",
    "        self.factories = {}\n",
    "\n",
    "    def add_factory(self, drink_name, factory):\n",
    "        self.factories[drink_name.lower()] = factory\n",
    "\n",
    "    def make_drink(self):\n",
    "        print(\"Available drinks:\")\n",
    "        for drink in self.factories:\n",
    "            print(drink)\n",
    "        drink_name = input(\"Please enter the drink you'd like to make: \").strip().lower()\n",
    "        amount = int(input(\"How much ml do you want? \").strip())\n",
    "\n",
    "        if drink_name in self.factories:\n",
    "            factory = self.factories[drink_name]\n",
    "            drink = factory.prepare(amount)\n",
    "            return drink\n",
    "        else:\n",
    "            print(f\"Sorry, we don't serve {drink_name}.\")\n",
    "\n",
    "# Example usage:\n",
    "if __name__ == \"__main__\":\n",
    "    machine = HotDrinkMachine()\n",
    "\n",
    "    # Adding factories for Coffee and Tea\n",
    "    machine.add_factory(\"coffee\", CoffeeFactory())\n",
    "    machine.add_factory(\"tea\", TeaFactory())\n",
    "\n",
    "    # Making drinks\n",
    "    drink = machine.make_drink()\n",
    "    if drink:\n",
    "        drink.consume()\n"
   ]
  },
  {
   "cell_type": "code",
   "execution_count": null,
   "id": "233091d3",
   "metadata": {},
   "outputs": [],
   "source": []
  }
 ],
 "metadata": {
  "kernelspec": {
   "display_name": "Python 3 (ipykernel)",
   "language": "python",
   "name": "python3"
  },
  "language_info": {
   "codemirror_mode": {
    "name": "ipython",
    "version": 3
   },
   "file_extension": ".py",
   "mimetype": "text/x-python",
   "name": "python",
   "nbconvert_exporter": "python",
   "pygments_lexer": "ipython3",
   "version": "3.7.16"
  }
 },
 "nbformat": 4,
 "nbformat_minor": 5
}
