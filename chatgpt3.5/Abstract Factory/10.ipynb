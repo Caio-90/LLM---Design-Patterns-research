{
 "cells": [
  {
   "cell_type": "code",
   "execution_count": 1,
   "id": "d69852c1",
   "metadata": {},
   "outputs": [
    {
     "name": "stdout",
     "output_type": "stream",
     "text": [
      "Driving a BMW car.\n",
      "Riding a BMW motorcycle.\n",
      "Driving a Mercedes car.\n",
      "Riding a Mercedes motorcycle.\n"
     ]
    }
   ],
   "source": [
    "from abc import ABC, abstractmethod\n",
    "\n",
    "# Abstract Factory\n",
    "class VehicleFactory(ABC):\n",
    "    @abstractmethod\n",
    "    def create_car(self):\n",
    "        pass\n",
    "    \n",
    "    @abstractmethod\n",
    "    def create_motorcycle(self):\n",
    "        pass\n",
    "\n",
    "# Concrete Factory for BMW\n",
    "class BMWFactory(VehicleFactory):\n",
    "    def create_car(self):\n",
    "        return BMWCar()\n",
    "    \n",
    "    def create_motorcycle(self):\n",
    "        return BMWMotorcycle()\n",
    "\n",
    "# Concrete Factory for Mercedes\n",
    "class MercedesFactory(VehicleFactory):\n",
    "    def create_car(self):\n",
    "        return MercedesCar()\n",
    "    \n",
    "    def create_motorcycle(self):\n",
    "        return MercedesMotorcycle()\n",
    "\n",
    "# Abstract Product\n",
    "class Vehicle(ABC):\n",
    "    @abstractmethod\n",
    "    def drive(self):\n",
    "        pass\n",
    "\n",
    "# Concrete Products for BMW\n",
    "class BMWCar(Vehicle):\n",
    "    def drive(self):\n",
    "        print(\"Driving a BMW car.\")\n",
    "\n",
    "class BMWMotorcycle(Vehicle):\n",
    "    def drive(self):\n",
    "        print(\"Riding a BMW motorcycle.\")\n",
    "\n",
    "# Concrete Products for Mercedes\n",
    "class MercedesCar(Vehicle):\n",
    "    def drive(self):\n",
    "        print(\"Driving a Mercedes car.\")\n",
    "\n",
    "class MercedesMotorcycle(Vehicle):\n",
    "    def drive(self):\n",
    "        print(\"Riding a Mercedes motorcycle.\")\n",
    "\n",
    "# Client code to use Abstract Factory\n",
    "def client_code(factory):\n",
    "    car = factory.create_car()\n",
    "    motorcycle = factory.create_motorcycle()\n",
    "\n",
    "    car.drive()\n",
    "    motorcycle.drive()\n",
    "\n",
    "# Usage\n",
    "if __name__ == \"__main__\":\n",
    "    # Create BMW vehicles\n",
    "    bmw_factory = BMWFactory()\n",
    "    client_code(bmw_factory)\n",
    "\n",
    "    # Create Mercedes vehicles\n",
    "    mercedes_factory = MercedesFactory()\n",
    "    client_code(mercedes_factory)\n"
   ]
  },
  {
   "cell_type": "code",
   "execution_count": null,
   "id": "7635cb38",
   "metadata": {},
   "outputs": [],
   "source": []
  }
 ],
 "metadata": {
  "kernelspec": {
   "display_name": "Python 3 (ipykernel)",
   "language": "python",
   "name": "python3"
  },
  "language_info": {
   "codemirror_mode": {
    "name": "ipython",
    "version": 3
   },
   "file_extension": ".py",
   "mimetype": "text/x-python",
   "name": "python",
   "nbconvert_exporter": "python",
   "pygments_lexer": "ipython3",
   "version": "3.11.5"
  }
 },
 "nbformat": 4,
 "nbformat_minor": 5
}
