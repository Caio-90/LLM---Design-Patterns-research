{
 "cells": [
  {
   "cell_type": "code",
   "execution_count": null,
   "id": "13c3e4d7",
   "metadata": {},
   "outputs": [],
   "source": [
    "class Singleton1:\n",
    "    _instance = None\n",
    "\n",
    "    def __new__(cls, name):\n",
    "        if cls._instance is None:\n",
    "            cls._instance = super(Singleton1, cls).__new__(cls)\n",
    "            cls._instance.name = name\n",
    "        return cls._instance\n",
    "\n",
    "\n",
    "class Singleton2:\n",
    "    _instance = None\n",
    "\n",
    "    def __new__(cls, name):\n",
    "        if cls._instance is None:\n",
    "            cls._instance = super(Singleton2, cls).__new__(cls)\n",
    "            cls._instance.name = name\n",
    "        return cls._instance\n",
    "\n",
    "# Testando as classes Singleton1 e Singleton2\n",
    "singleton1_a = Singleton1(\"Objeto 1\")\n",
    "singleton1_b = Singleton1(\"Outro Objeto 1\")\n",
    "\n",
    "singleton2_a = Singleton2(\"Objeto 2\")\n",
    "singleton2_b = Singleton2(\"Outro Objeto 2\")\n",
    "\n",
    "print(singleton1_a.name)  # Deve imprimir \"Objeto 1\"\n",
    "print(singleton1_b.name)  # Deve imprimir \"Objeto 1\", pois é a mesma instância\n",
    "\n",
    "print(singleton2_a.name)  # Deve imprimir \"Objeto 2\"\n",
    "print(singleton2_b.name)  # Deve imprimir \"Objeto 2\", pois é a mesma instância\n"
   ]
  }
 ],
 "metadata": {
  "kernelspec": {
   "display_name": "Python 3 (ipykernel)",
   "language": "python",
   "name": "python3"
  },
  "language_info": {
   "codemirror_mode": {
    "name": "ipython",
    "version": 3
   },
   "file_extension": ".py",
   "mimetype": "text/x-python",
   "name": "python",
   "nbconvert_exporter": "python",
   "pygments_lexer": "ipython3",
   "version": "3.7.16"
  }
 },
 "nbformat": 4,
 "nbformat_minor": 5
}
