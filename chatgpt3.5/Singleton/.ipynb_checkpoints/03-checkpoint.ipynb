{
 "cells": [
  {
   "cell_type": "code",
   "execution_count": 2,
   "id": "42776a8c",
   "metadata": {},
   "outputs": [
    {
     "name": "stdout",
     "output_type": "stream",
     "text": [
      "Joe Biden\n",
      "United States\n",
      "Joe Biden\n",
      "United States\n",
      "True\n"
     ]
    }
   ],
   "source": [
    "class President:\n",
    "    _instance = None\n",
    "    \n",
    "    def __init__(self, name, country):\n",
    "        self.name = name\n",
    "        self.country = country\n",
    "    \n",
    "    @classmethod\n",
    "    def get_instance(cls, name, country):\n",
    "        if cls._instance is None:\n",
    "            cls._instance = cls(name, country)\n",
    "        return cls._instance\n",
    "\n",
    "# Testando a classe President como Singleton\n",
    "\n",
    "president1 = President.get_instance(\"Joe Biden\", \"United States\")\n",
    "print(president1.name)     # Saída: Joe Biden\n",
    "print(president1.country)  # Saída: United States\n",
    "\n",
    "president2 = President.get_instance(\"Vladimir Putin\", \"Russia\")\n",
    "print(president2.name)     # Saída: Joe Biden (mesma instância)\n",
    "print(president2.country)  # Saída: United States (mesma instância)\n",
    "\n",
    "print(president1 is president2)  # Saída: True (mesma instância)\n"
   ]
  },
  {
   "cell_type": "code",
   "execution_count": null,
   "id": "02eca356",
   "metadata": {},
   "outputs": [],
   "source": []
  }
 ],
 "metadata": {
  "kernelspec": {
   "display_name": "Python 3 (ipykernel)",
   "language": "python",
   "name": "python3"
  },
  "language_info": {
   "codemirror_mode": {
    "name": "ipython",
    "version": 3
   },
   "file_extension": ".py",
   "mimetype": "text/x-python",
   "name": "python",
   "nbconvert_exporter": "python",
   "pygments_lexer": "ipython3",
   "version": "3.7.16"
  }
 },
 "nbformat": 4,
 "nbformat_minor": 5
}
