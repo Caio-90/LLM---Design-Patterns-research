{
 "cells": [
  {
   "cell_type": "code",
   "execution_count": null,
   "id": "42776a8c",
   "metadata": {},
   "outputs": [],
   "source": [
    "class President:\n",
    "    _instance = None\n",
    "\n",
    "    def __new__(cls, *args, **kwargs):\n",
    "        if cls._instance is None:\n",
    "            cls._instance = super().__new__(cls, *args, **kwargs)\n",
    "        return cls._instance\n",
    "\n",
    "    def __init__(self, name=None):\n",
    "        if not hasattr(self, 'initialized'):\n",
    "            self.name = name\n",
    "            self.initialized = True\n",
    "\n",
    "# Testando o Singleton\n",
    "president1 = President(\"President One\")\n",
    "print(president1.name)\n",
    "\n",
    "president2 = President(\"President Two\")\n",
    "print(president2.name)\n",
    "\n",
    "print(president1 is president2)  # Isso deve imprimir True, indicando que ambos são a mesma instância\n"
   ]
  }
 ],
 "metadata": {
  "kernelspec": {
   "display_name": "Python 3 (ipykernel)",
   "language": "python",
   "name": "python3"
  },
  "language_info": {
   "codemirror_mode": {
    "name": "ipython",
    "version": 3
   },
   "file_extension": ".py",
   "mimetype": "text/x-python",
   "name": "python",
   "nbconvert_exporter": "python",
   "pygments_lexer": "ipython3",
   "version": "3.7.16"
  }
 },
 "nbformat": 4,
 "nbformat_minor": 5
}
