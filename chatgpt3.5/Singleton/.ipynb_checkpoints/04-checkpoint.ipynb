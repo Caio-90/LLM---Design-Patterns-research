{
 "cells": [
  {
   "cell_type": "code",
   "execution_count": 1,
   "id": "d9570272",
   "metadata": {},
   "outputs": [
    {
     "name": "stdout",
     "output_type": "stream",
     "text": [
      "Instance 1\n",
      "Instance 1\n"
     ]
    }
   ],
   "source": [
    "def singleton(cls):\n",
    "    instances = {}\n",
    "    def get_instance(*args, **kwargs):\n",
    "        if cls not in instances:\n",
    "            instances[cls] = cls(*args, **kwargs)\n",
    "        return instances[cls]\n",
    "    return get_instance\n",
    "\n",
    "@singleton\n",
    "class ExampleSingleton:\n",
    "    def __init__(self, value):\n",
    "        self.value = value\n",
    "\n",
    "# Exemplo de uso:\n",
    "instance1 = ExampleSingleton(\"Instance 1\")\n",
    "print(instance1.value)  # Output: Instance 1\n",
    "\n",
    "instance2 = ExampleSingleton(\"Instance 2\")\n",
    "print(instance2.value)  # Output: Instance 1 (mesmo objeto, não cria uma nova instância)\n"
   ]
  },
  {
   "cell_type": "code",
   "execution_count": null,
   "id": "8a5c8873",
   "metadata": {},
   "outputs": [],
   "source": []
  }
 ],
 "metadata": {
  "kernelspec": {
   "display_name": "Python 3 (ipykernel)",
   "language": "python",
   "name": "python3"
  },
  "language_info": {
   "codemirror_mode": {
    "name": "ipython",
    "version": 3
   },
   "file_extension": ".py",
   "mimetype": "text/x-python",
   "name": "python",
   "nbconvert_exporter": "python",
   "pygments_lexer": "ipython3",
   "version": "3.7.16"
  }
 },
 "nbformat": 4,
 "nbformat_minor": 5
}
