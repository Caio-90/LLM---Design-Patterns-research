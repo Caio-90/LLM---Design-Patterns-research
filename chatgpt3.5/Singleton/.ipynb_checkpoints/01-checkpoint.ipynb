{
 "cells": [
  {
   "cell_type": "code",
   "execution_count": null,
   "id": "33d069b8",
   "metadata": {},
   "outputs": [],
   "source": [
    "import sqlite3\n",
    "from sqlite3 import Connection\n",
    "from threading import Lock\n",
    "\n",
    "class BancoDeDados:\n",
    "    _instance = None\n",
    "    _lock = Lock()\n",
    "\n",
    "    def __new__(cls, *args, **kwargs):\n",
    "        if not cls._instance:\n",
    "            with cls._lock:\n",
    "                if not cls._instance:\n",
    "                    cls._instance = super().__new__(cls)\n",
    "                    cls._instance._initialize(*args, **kwargs)\n",
    "        return cls._instance\n",
    "\n",
    "    def _initialize(self, database: str):\n",
    "        self._database = database\n",
    "        self._connection = None\n",
    "\n",
    "    def get_connection(self) -> Connection:\n",
    "        if self._connection is None:\n",
    "            self._connection = sqlite3.connect(self._database)\n",
    "        return self._connection\n",
    "\n",
    "# Uso da classe\n",
    "if __name__ == \"__main__\":\n",
    "    db1 = BancoDeDados(\"example.db\")\n",
    "    conn1 = db1.get_connection()\n",
    "\n",
    "    db2 = BancoDeDados(\"example.db\")\n",
    "    conn2 = db2.get_connection()\n",
    "\n",
    "    print(f\"db1 é db2: {db1 is db2}\")\n",
    "    print(f\"conn1 é conn2: {conn1 is conn2}\")\n"
   ]
  }
 ],
 "metadata": {
  "kernelspec": {
   "display_name": "Python 3 (ipykernel)",
   "language": "python",
   "name": "python3"
  },
  "language_info": {
   "codemirror_mode": {
    "name": "ipython",
    "version": 3
   },
   "file_extension": ".py",
   "mimetype": "text/x-python",
   "name": "python",
   "nbconvert_exporter": "python",
   "pygments_lexer": "ipython3",
   "version": "3.7.16"
  }
 },
 "nbformat": 4,
 "nbformat_minor": 5
}
