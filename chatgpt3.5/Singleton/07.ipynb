{
 "cells": [
  {
   "cell_type": "code",
   "execution_count": 1,
   "id": "e5fb4beb",
   "metadata": {},
   "outputs": [
    {
     "name": "stdout",
     "output_type": "stream",
     "text": [
      "Tabuleiro 1:\n",
      "[1, 0, 0, 0, 0, 0, 0, 0]\n",
      "[0, 0, 0, 0, 0, 0, 0, 0]\n",
      "[0, 0, 0, 0, 0, 0, 0, 0]\n",
      "[0, 0, 0, 0, 0, 0, 0, 0]\n",
      "[0, 0, 0, 0, 0, 0, 0, 0]\n",
      "[0, 0, 0, 0, 0, 0, 0, 0]\n",
      "[0, 0, 0, 0, 0, 0, 0, 0]\n",
      "[0, 0, 0, 0, 0, 0, 0, 0]\n",
      "Tabuleiro 2:\n",
      "[1, 0, 0, 0, 0, 0, 0, 0]\n",
      "[0, 0, 0, 0, 0, 0, 0, 0]\n",
      "[0, 0, 0, 0, 0, 0, 0, 0]\n",
      "[0, 0, 0, 0, 0, 0, 0, 0]\n",
      "[0, 0, 0, 0, 0, 0, 0, 0]\n",
      "[0, 0, 0, 0, 0, 0, 0, 0]\n",
      "[0, 0, 0, 0, 0, 0, 0, 0]\n",
      "[0, 0, 0, 0, 0, 0, 0, 0]\n",
      "True\n"
     ]
    }
   ],
   "source": [
    "class Tabuleiro:\n",
    "    _instance = None\n",
    "    \n",
    "    def __new__(cls):\n",
    "        if cls._instance is None:\n",
    "            cls._instance = super().__new__(cls)\n",
    "            # Inicializar o tabuleiro aqui\n",
    "            cls._instance.initialize_board()\n",
    "        return cls._instance\n",
    "    \n",
    "    def initialize_board(self):\n",
    "        # Lógica para inicializar o tabuleiro\n",
    "        self.board = [[0] * 8 for _ in range(8)]  # Tabuleiro de xadrez 8x8 inicializado com zeros\n",
    "    \n",
    "    def print_board(self):\n",
    "        for row in self.board:\n",
    "            print(row)\n",
    "\n",
    "# Testando a classe Tabuleiro como Singleton\n",
    "\n",
    "tabuleiro1 = Tabuleiro()\n",
    "tabuleiro1.board[0][0] = 1\n",
    "\n",
    "tabuleiro2 = Tabuleiro()\n",
    "\n",
    "print(\"Tabuleiro 1:\")\n",
    "tabuleiro1.print_board()\n",
    "\n",
    "print(\"Tabuleiro 2:\")\n",
    "tabuleiro2.print_board()\n",
    "\n",
    "# Verificando se é a mesma instância\n",
    "print(tabuleiro1 is tabuleiro2)  # Saída: True\n"
   ]
  },
  {
   "cell_type": "code",
   "execution_count": null,
   "id": "a17be1e3",
   "metadata": {},
   "outputs": [],
   "source": []
  }
 ],
 "metadata": {
  "kernelspec": {
   "display_name": "Python 3 (ipykernel)",
   "language": "python",
   "name": "python3"
  },
  "language_info": {
   "codemirror_mode": {
    "name": "ipython",
    "version": 3
   },
   "file_extension": ".py",
   "mimetype": "text/x-python",
   "name": "python",
   "nbconvert_exporter": "python",
   "pygments_lexer": "ipython3",
   "version": "3.7.16"
  }
 },
 "nbformat": 4,
 "nbformat_minor": 5
}
