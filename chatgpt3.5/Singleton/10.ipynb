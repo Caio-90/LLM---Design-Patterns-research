{
 "cells": [
  {
   "cell_type": "code",
   "execution_count": 1,
   "id": "535770c7",
   "metadata": {},
   "outputs": [
    {
     "name": "stdout",
     "output_type": "stream",
     "text": [
      "Conectado ao banco de dados SQLite: mydatabase.db\n",
      "[]\n",
      "True\n",
      "Desconectado do banco de dados SQLite: mydatabase.db\n"
     ]
    }
   ],
   "source": [
    "import sqlite3\n",
    "\n",
    "class Database:\n",
    "    _instance = None\n",
    "    \n",
    "    def __new__(cls, db_file):\n",
    "        if not cls._instance:\n",
    "            cls._instance = super().__new__(cls)\n",
    "            cls._instance.db_file = db_file\n",
    "            cls._instance.connection = None  # Inicialmente não conectado\n",
    "        return cls._instance\n",
    "    \n",
    "    def connect(self):\n",
    "        if not self.connection:\n",
    "            self.connection = sqlite3.connect(self.db_file)\n",
    "            print(f\"Conectado ao banco de dados SQLite: {self.db_file}\")\n",
    "        return self.connection\n",
    "    \n",
    "    def disconnect(self):\n",
    "        if self.connection:\n",
    "            self.connection.close()\n",
    "            self.connection = None\n",
    "            print(f\"Desconectado do banco de dados SQLite: {self.db_file}\")\n",
    "    \n",
    "    def execute_query(self, query):\n",
    "        cursor = self.connect().cursor()\n",
    "        cursor.execute(query)\n",
    "        rows = cursor.fetchall()\n",
    "        cursor.close()\n",
    "        return rows\n",
    "\n",
    "# Testando a classe Database como Singleton\n",
    "\n",
    "# Criando instância única do banco de dados\n",
    "db_instance = Database(\"mydatabase.db\")\n",
    "\n",
    "# Executando algumas consultas\n",
    "result = db_instance.execute_query(\"SELECT * FROM sqlite_master WHERE type='table';\")\n",
    "print(result)\n",
    "\n",
    "# Tentando criar uma nova instância, deverá retornar a mesma instância\n",
    "new_db_instance = Database(\"newdatabase.db\")\n",
    "\n",
    "print(db_instance is new_db_instance)  # Saída: True\n",
    "\n",
    "# Desconectando do banco de dados ao final do uso\n",
    "db_instance.disconnect()\n"
   ]
  },
  {
   "cell_type": "code",
   "execution_count": null,
   "id": "09b953b0",
   "metadata": {},
   "outputs": [],
   "source": []
  }
 ],
 "metadata": {
  "kernelspec": {
   "display_name": "Python 3 (ipykernel)",
   "language": "python",
   "name": "python3"
  },
  "language_info": {
   "codemirror_mode": {
    "name": "ipython",
    "version": 3
   },
   "file_extension": ".py",
   "mimetype": "text/x-python",
   "name": "python",
   "nbconvert_exporter": "python",
   "pygments_lexer": "ipython3",
   "version": "3.7.16"
  }
 },
 "nbformat": 4,
 "nbformat_minor": 5
}
