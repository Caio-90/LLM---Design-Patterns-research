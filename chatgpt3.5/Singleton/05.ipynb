{
 "cells": [
  {
   "cell_type": "code",
   "execution_count": null,
   "id": "d54fd5b1",
   "metadata": {},
   "outputs": [],
   "source": [
    "class FileLogger:\n",
    "    _instance = None\n",
    "    \n",
    "    def __init__(self, filename):\n",
    "        self.filename = filename\n",
    "        self.file = open(filename, 'a')  # Abrir o arquivo em modo de adição\n",
    "    \n",
    "    def log(self, message):\n",
    "        self.file.write(message + '\\n')\n",
    "    \n",
    "    @classmethod\n",
    "    def get_instance(cls, filename):\n",
    "        if cls._instance is None:\n",
    "            cls._instance = cls(filename)\n",
    "        return cls._instance\n",
    "    \n",
    "    def __del__(self):\n",
    "        if self.file:\n",
    "            self.file.close()\n",
    "\n",
    "# Testando a classe FileLogger como Singleton\n",
    "\n",
    "logger1 = FileLogger.get_instance(\"app.log\")\n",
    "logger1.log(\"Primeira mensagem de log\")\n",
    "\n",
    "logger2 = FileLogger.get_instance(\"app.log\")\n",
    "logger2.log(\"Segunda mensagem de log\")\n",
    "\n",
    "# Verificando se é a mesma instância\n",
    "print(logger1 is logger2)  # Saída: True\n",
    "\n",
    "# É importante lembrar de fechar o arquivo ao final do uso\n",
    "del logger1\n",
    "del logger2\n"
   ]
  }
 ],
 "metadata": {
  "kernelspec": {
   "display_name": "Python 3 (ipykernel)",
   "language": "python",
   "name": "python3"
  },
  "language_info": {
   "codemirror_mode": {
    "name": "ipython",
    "version": 3
   },
   "file_extension": ".py",
   "mimetype": "text/x-python",
   "name": "python",
   "nbconvert_exporter": "python",
   "pygments_lexer": "ipython3",
   "version": "3.7.16"
  }
 },
 "nbformat": 4,
 "nbformat_minor": 5
}
