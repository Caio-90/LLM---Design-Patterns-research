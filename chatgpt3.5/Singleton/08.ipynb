{
 "cells": [
  {
   "cell_type": "code",
   "execution_count": 1,
   "id": "af38bdbe",
   "metadata": {},
   "outputs": [
    {
     "name": "stdout",
     "output_type": "stream",
     "text": [
      "True\n",
      "Conectado ao banco de dados.\n",
      "Conectado ao banco de dados.\n"
     ]
    }
   ],
   "source": [
    "class Database:\n",
    "    _instance = None\n",
    "    \n",
    "    def __new__(cls, *args, **kwargs):\n",
    "        if not cls._instance:\n",
    "            cls._instance = super().__new__(cls, *args, **kwargs)\n",
    "            # Aqui podem ser adicionadas inicializações específicas do banco de dados\n",
    "            # Exemplo: cls._instance.connect()\n",
    "        return cls._instance\n",
    "    \n",
    "    def connect(self):\n",
    "        print(\"Conectado ao banco de dados.\")\n",
    "        # Lógica para conexão ao banco de dados\n",
    "\n",
    "# Testando a classe Database como Singleton\n",
    "\n",
    "db1 = Database()\n",
    "db2 = Database()\n",
    "\n",
    "print(db1 is db2)  # Saída: True\n",
    "\n",
    "db1.connect()  # Saída: Conectado ao banco de dados.\n",
    "db2.connect()  # Saída: Conectado ao banco de dados.\n"
   ]
  },
  {
   "cell_type": "code",
   "execution_count": null,
   "id": "a4a81c71",
   "metadata": {},
   "outputs": [],
   "source": []
  }
 ],
 "metadata": {
  "kernelspec": {
   "display_name": "Python 3 (ipykernel)",
   "language": "python",
   "name": "python3"
  },
  "language_info": {
   "codemirror_mode": {
    "name": "ipython",
    "version": 3
   },
   "file_extension": ".py",
   "mimetype": "text/x-python",
   "name": "python",
   "nbconvert_exporter": "python",
   "pygments_lexer": "ipython3",
   "version": "3.7.16"
  }
 },
 "nbformat": 4,
 "nbformat_minor": 5
}
