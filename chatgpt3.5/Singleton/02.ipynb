{
 "cells": [
  {
   "cell_type": "code",
   "execution_count": 1,
   "id": "13c3e4d7",
   "metadata": {},
   "outputs": [
    {
     "name": "stdout",
     "output_type": "stream",
     "text": [
      "Objeto 1\n",
      "Objeto 1\n",
      "True\n",
      "Objeto A\n",
      "Objeto A\n",
      "True\n"
     ]
    }
   ],
   "source": [
    "class Singleton1:\n",
    "    _instance = None\n",
    "    \n",
    "    def __init__(self, name):\n",
    "        self.name = name\n",
    "    \n",
    "    @classmethod\n",
    "    def get_instance(cls, name):\n",
    "        if cls._instance is None:\n",
    "            cls._instance = cls(name)\n",
    "        return cls._instance\n",
    "\n",
    "class Singleton2:\n",
    "    _instance = None\n",
    "    \n",
    "    def __init__(self, name):\n",
    "        self.name = name\n",
    "    \n",
    "    @classmethod\n",
    "    def get_instance(cls, name):\n",
    "        if cls._instance is None:\n",
    "            cls._instance = cls(name)\n",
    "        return cls._instance\n",
    "\n",
    "# Testando Singleton1\n",
    "instance1 = Singleton1.get_instance(\"Objeto 1\")\n",
    "print(instance1.name)  # Saída: Objeto 1\n",
    "\n",
    "instance2 = Singleton1.get_instance(\"Objeto 2\")\n",
    "print(instance2.name)  # Saída: Objeto 1 (mesma instância)\n",
    "\n",
    "print(instance1 is instance2)  # Saída: True (mesma instância)\n",
    "\n",
    "# Testando Singleton2\n",
    "instance3 = Singleton2.get_instance(\"Objeto A\")\n",
    "print(instance3.name)  # Saída: Objeto A\n",
    "\n",
    "instance4 = Singleton2.get_instance(\"Objeto B\")\n",
    "print(instance4.name)  # Saída: Objeto A (mesma instância)\n",
    "\n",
    "print(instance3 is instance4)  # Saída: True (mesma instância)\n"
   ]
  },
  {
   "cell_type": "code",
   "execution_count": null,
   "id": "e0a32176",
   "metadata": {},
   "outputs": [],
   "source": []
  }
 ],
 "metadata": {
  "kernelspec": {
   "display_name": "Python 3 (ipykernel)",
   "language": "python",
   "name": "python3"
  },
  "language_info": {
   "codemirror_mode": {
    "name": "ipython",
    "version": 3
   },
   "file_extension": ".py",
   "mimetype": "text/x-python",
   "name": "python",
   "nbconvert_exporter": "python",
   "pygments_lexer": "ipython3",
   "version": "3.11.5"
  }
 },
 "nbformat": 4,
 "nbformat_minor": 5
}
