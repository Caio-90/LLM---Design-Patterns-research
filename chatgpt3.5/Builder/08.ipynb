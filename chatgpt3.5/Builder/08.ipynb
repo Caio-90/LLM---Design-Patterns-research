{
 "cells": [
  {
   "cell_type": "code",
   "execution_count": 1,
   "id": "04a0f966",
   "metadata": {},
   "outputs": [
    {
     "name": "stdout",
     "output_type": "stream",
     "text": [
      "BankAccount(account_number=12345678, owner=João Silva, branch=Central, balance=1000.0, interest_rate=0.5)\n"
     ]
    }
   ],
   "source": [
    "# Classe BankAccount\n",
    "class BankAccount:\n",
    "    def __init__(self, account_number, owner, branch, balance, interest_rate):\n",
    "        self.account_number = account_number\n",
    "        self.owner = owner\n",
    "        self.branch = branch\n",
    "        self.balance = balance\n",
    "        self.interest_rate = interest_rate\n",
    "    \n",
    "    def __str__(self):\n",
    "        return f\"BankAccount(account_number={self.account_number}, owner={self.owner}, \" \\\n",
    "               f\"branch={self.branch}, balance={self.balance}, interest_rate={self.interest_rate})\"\n",
    "\n",
    "# Builder para BankAccount\n",
    "class BankAccountBuilder:\n",
    "    def __init__(self):\n",
    "        self.account_number = None\n",
    "        self.owner = None\n",
    "        self.branch = None\n",
    "        self.balance = None\n",
    "        self.interest_rate = None\n",
    "    \n",
    "    def set_account_number(self, account_number):\n",
    "        self.account_number = account_number\n",
    "        return self\n",
    "    \n",
    "    def set_owner(self, owner):\n",
    "        self.owner = owner\n",
    "        return self\n",
    "    \n",
    "    def set_branch(self, branch):\n",
    "        self.branch = branch\n",
    "        return self\n",
    "    \n",
    "    def set_balance(self, balance):\n",
    "        self.balance = balance\n",
    "        return self\n",
    "    \n",
    "    def set_interest_rate(self, interest_rate):\n",
    "        self.interest_rate = interest_rate\n",
    "        return self\n",
    "    \n",
    "    def build(self):\n",
    "        if self.account_number is None:\n",
    "            raise ValueError(\"Account number must be set\")\n",
    "        if self.owner is None:\n",
    "            raise ValueError(\"Owner must be set\")\n",
    "        if self.branch is None:\n",
    "            raise ValueError(\"Branch must be set\")\n",
    "        if self.balance is None:\n",
    "            raise ValueError(\"Balance must be set\")\n",
    "        if self.interest_rate is None:\n",
    "            raise ValueError(\"Interest rate must be set\")\n",
    "        \n",
    "        return BankAccount(self.account_number, self.owner, self.branch, self.balance, self.interest_rate)\n",
    "\n",
    "# Exemplo de uso:\n",
    "if __name__ == \"__main__\":\n",
    "    # Criando uma conta bancária usando o builder\n",
    "    builder = BankAccountBuilder()\n",
    "    builder.set_account_number(\"12345678\")\n",
    "    builder.set_owner(\"João Silva\")\n",
    "    builder.set_branch(\"Central\")\n",
    "    builder.set_balance(1000.0)\n",
    "    builder.set_interest_rate(0.5)\n",
    "    \n",
    "    conta_bancaria = builder.build()\n",
    "    \n",
    "    # Exibindo os dados da conta bancária criada\n",
    "    print(conta_bancaria)\n"
   ]
  },
  {
   "cell_type": "code",
   "execution_count": null,
   "id": "d98d28ad",
   "metadata": {},
   "outputs": [],
   "source": []
  }
 ],
 "metadata": {
  "kernelspec": {
   "display_name": "Python 3 (ipykernel)",
   "language": "python",
   "name": "python3"
  },
  "language_info": {
   "codemirror_mode": {
    "name": "ipython",
    "version": 3
   },
   "file_extension": ".py",
   "mimetype": "text/x-python",
   "name": "python",
   "nbconvert_exporter": "python",
   "pygments_lexer": "ipython3",
   "version": "3.11.5"
  }
 },
 "nbformat": 4,
 "nbformat_minor": 5
}
