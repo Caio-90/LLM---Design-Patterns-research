{
 "cells": [
  {
   "cell_type": "code",
   "execution_count": 1,
   "id": "6721528e",
   "metadata": {},
   "outputs": [
    {
     "name": "stdout",
     "output_type": "stream",
     "text": [
      "Burger: Brioche, Beef patty, Cheddar, Lettuce, tomato, Mayonnaise\n"
     ]
    }
   ],
   "source": [
    "class Burger:\n",
    "    def __init__(self):\n",
    "        self.bun = \"\"\n",
    "        self.meat = \"\"\n",
    "        self.salad = \"\"\n",
    "        self.cheese = \"\"\n",
    "        self.sauce = \"\"\n",
    "\n",
    "class CheeseBurgerBuilder:\n",
    "    def __init__(self):\n",
    "        self.burger = Burger()\n",
    "\n",
    "    def set_bun(self, bun):\n",
    "        self.burger.bun = bun\n",
    "        return self\n",
    "\n",
    "    def set_meat(self, meat):\n",
    "        self.burger.meat = meat\n",
    "        return self\n",
    "\n",
    "    def set_salad(self, salad):\n",
    "        self.burger.salad = salad\n",
    "        return self\n",
    "\n",
    "    def set_cheese(self, cheese):\n",
    "        self.burger.cheese = cheese\n",
    "        return self\n",
    "\n",
    "    def set_sauce(self, sauce):\n",
    "        self.burger.sauce = sauce\n",
    "        return self\n",
    "\n",
    "    def build(self):\n",
    "        return self.burger\n",
    "\n",
    "# Exemplo de uso:\n",
    "builder = CheeseBurgerBuilder()\n",
    "cheeseburger = builder.set_bun(\"Brioche\") \\\n",
    "                    .set_meat(\"Beef patty\") \\\n",
    "                    .set_cheese(\"Cheddar\") \\\n",
    "                    .set_salad(\"Lettuce, tomato\") \\\n",
    "                    .set_sauce(\"Mayonnaise\") \\\n",
    "                    .build()\n",
    "\n",
    "# Testando a saída\n",
    "print(f\"Burger: {cheeseburger.bun}, {cheeseburger.meat}, {cheeseburger.cheese}, {cheeseburger.salad}, {cheeseburger.sauce}\")\n"
   ]
  },
  {
   "cell_type": "code",
   "execution_count": null,
   "id": "324dcebf",
   "metadata": {},
   "outputs": [],
   "source": []
  }
 ],
 "metadata": {
  "kernelspec": {
   "display_name": "Python 3 (ipykernel)",
   "language": "python",
   "name": "python3"
  },
  "language_info": {
   "codemirror_mode": {
    "name": "ipython",
    "version": 3
   },
   "file_extension": ".py",
   "mimetype": "text/x-python",
   "name": "python",
   "nbconvert_exporter": "python",
   "pygments_lexer": "ipython3",
   "version": "3.11.5"
  }
 },
 "nbformat": 4,
 "nbformat_minor": 5
}
