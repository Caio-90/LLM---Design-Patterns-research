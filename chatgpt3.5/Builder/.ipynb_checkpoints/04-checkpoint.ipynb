{
 "cells": [
  {
   "cell_type": "code",
   "execution_count": 1,
   "id": "926ebb34",
   "metadata": {},
   "outputs": [
    {
     "name": "stdout",
     "output_type": "stream",
     "text": [
      "Computer: RAM 16GB, CPU Intel Core i7, Storage 512GB SSD\n",
      "Computer: RAM 32GB, CPU AMD Ryzen 9, Storage 1TB NVMe SSD\n"
     ]
    }
   ],
   "source": [
    "class Computer:\n",
    "    def __init__(self, ram, cpu, storage):\n",
    "        self.ram = ram\n",
    "        self.cpu = cpu\n",
    "        self.storage = storage\n",
    "\n",
    "    def __str__(self):\n",
    "        return f\"Computer: RAM {self.ram}, CPU {self.cpu}, Storage {self.storage}\"\n",
    "\n",
    "\n",
    "class ComputerBuilder:\n",
    "    def __init__(self):\n",
    "        self.ram = None\n",
    "        self.cpu = None\n",
    "        self.storage = None\n",
    "\n",
    "    def set_ram(self, ram):\n",
    "        self.ram = ram\n",
    "        return self\n",
    "\n",
    "    def set_cpu(self, cpu):\n",
    "        self.cpu = cpu\n",
    "        return self\n",
    "\n",
    "    def set_storage(self, storage):\n",
    "        self.storage = storage\n",
    "        return self\n",
    "\n",
    "    def build(self):\n",
    "        return Computer(self.ram, self.cpu, self.storage)\n",
    "\n",
    "\n",
    "class ComputerDirector:\n",
    "    def __init__(self, builder):\n",
    "        self.builder = builder\n",
    "\n",
    "    def construct_office_computer(self):\n",
    "        return self.builder.set_ram(\"16GB\").set_cpu(\"Intel Core i7\").set_storage(\"512GB SSD\").build()\n",
    "\n",
    "    def construct_gaming_computer(self):\n",
    "        return self.builder.set_ram(\"32GB\").set_cpu(\"AMD Ryzen 9\").set_storage(\"1TB NVMe SSD\").build()\n",
    "\n",
    "\n",
    "# Exemplo de uso\n",
    "builder = ComputerBuilder()\n",
    "director = ComputerDirector(builder)\n",
    "\n",
    "office_computer = director.construct_office_computer()\n",
    "print(office_computer)\n",
    "\n",
    "gaming_computer = director.construct_gaming_computer()\n",
    "print(gaming_computer)\n"
   ]
  },
  {
   "cell_type": "code",
   "execution_count": null,
   "id": "84596f59",
   "metadata": {},
   "outputs": [],
   "source": []
  }
 ],
 "metadata": {
  "kernelspec": {
   "display_name": "Python 3 (ipykernel)",
   "language": "python",
   "name": "python3"
  },
  "language_info": {
   "codemirror_mode": {
    "name": "ipython",
    "version": 3
   },
   "file_extension": ".py",
   "mimetype": "text/x-python",
   "name": "python",
   "nbconvert_exporter": "python",
   "pygments_lexer": "ipython3",
   "version": "3.7.16"
  }
 },
 "nbformat": 4,
 "nbformat_minor": 5
}
