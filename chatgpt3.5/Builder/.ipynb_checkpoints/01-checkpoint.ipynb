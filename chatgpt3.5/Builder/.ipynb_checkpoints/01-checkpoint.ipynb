{
 "cells": [
  {
   "cell_type": "code",
   "execution_count": 1,
   "id": "8ee19400",
   "metadata": {},
   "outputs": [
    {
     "name": "stdout",
     "output_type": "stream",
     "text": [
      "Size: large, Cheese: cheese, Pepperoni: pepperoni, Tomato: tomato, Lettuce: no lettuce\n"
     ]
    }
   ],
   "source": [
    "class Burger:\n",
    "    def __init__(self, size):\n",
    "        self.size = size\n",
    "        self.cheese = False\n",
    "        self.pepperoni = False\n",
    "        self.tomato = False\n",
    "        self.lettuce = False\n",
    "\n",
    "    def add_cheese(self):\n",
    "        self.cheese = True\n",
    "        return self\n",
    "\n",
    "    def add_pepperoni(self):\n",
    "        self.pepperoni = True\n",
    "        return self\n",
    "\n",
    "    def add_tomato(self):\n",
    "        self.tomato = True\n",
    "        return self\n",
    "\n",
    "    def add_lettuce(self):\n",
    "        self.lettuce = True\n",
    "        return self\n",
    "\n",
    "    def __str__(self):\n",
    "        cheese_str = \"cheese\" if self.cheese else \"no cheese\"\n",
    "        pepperoni_str = \"pepperoni\" if self.pepperoni else \"no pepperoni\"\n",
    "        tomato_str = \"tomato\" if self.tomato else \"no tomato\"\n",
    "        lettuce_str = \"lettuce\" if self.lettuce else \"no lettuce\"\n",
    "        return f\"Size: {self.size}, Cheese: {cheese_str}, Pepperoni: {pepperoni_str}, Tomato: {tomato_str}, Lettuce: {lettuce_str}\"\n",
    "\n",
    "\n",
    "class BurgerBuilder:\n",
    "    def __init__(self, size):\n",
    "        self.burger = Burger(size)\n",
    "\n",
    "    def add_cheese(self):\n",
    "        self.burger.add_cheese()\n",
    "        return self\n",
    "\n",
    "    def add_pepperoni(self):\n",
    "        self.burger.add_pepperoni()\n",
    "        return self\n",
    "\n",
    "    def add_tomato(self):\n",
    "        self.burger.add_tomato()\n",
    "        return self\n",
    "\n",
    "    def add_lettuce(self):\n",
    "        self.burger.add_lettuce()\n",
    "        return self\n",
    "\n",
    "    def build(self):\n",
    "        return self.burger\n",
    "\n",
    "# Usando o Builder para criar um burger com diferentes ingredientes\n",
    "\n",
    "builder = BurgerBuilder(\"large\")\n",
    "burger = builder.add_cheese().add_pepperoni().add_tomato().build()\n",
    "\n",
    "print(burger)  # Saída: Size: large, Cheese: cheese, Pepperoni: pepperoni, Tomato: tomato, Lettuce: no lettuce\n"
   ]
  },
  {
   "cell_type": "code",
   "execution_count": null,
   "id": "56481729",
   "metadata": {},
   "outputs": [],
   "source": []
  }
 ],
 "metadata": {
  "kernelspec": {
   "display_name": "Python 3 (ipykernel)",
   "language": "python",
   "name": "python3"
  },
  "language_info": {
   "codemirror_mode": {
    "name": "ipython",
    "version": 3
   },
   "file_extension": ".py",
   "mimetype": "text/x-python",
   "name": "python",
   "nbconvert_exporter": "python",
   "pygments_lexer": "ipython3",
   "version": "3.7.16"
  }
 },
 "nbformat": 4,
 "nbformat_minor": 5
}
