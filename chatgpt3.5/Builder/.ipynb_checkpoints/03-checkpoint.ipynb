{
 "cells": [
  {
   "cell_type": "code",
   "execution_count": 1,
   "id": "107d5170",
   "metadata": {},
   "outputs": [
    {
     "name": "stdout",
     "output_type": "stream",
     "text": [
      "Car with 5 seats, V8, Trip Computer: False, GPS: False\n",
      "Car with 2 seats, Electric, Trip Computer: True, GPS: True\n"
     ]
    }
   ],
   "source": [
    "class Car:\n",
    "    def __init__(self, seats, engine, trip_computer, gps):\n",
    "        self.seats = seats\n",
    "        self.engine = engine\n",
    "        self.trip_computer = trip_computer\n",
    "        self.gps = gps\n",
    "\n",
    "    def __str__(self):\n",
    "        return f\"Car with {self.seats} seats, {self.engine}, Trip Computer: {self.trip_computer}, GPS: {self.gps}\"\n",
    "\n",
    "\n",
    "class CarBuilder:\n",
    "    def __init__(self):\n",
    "        self.seats = None\n",
    "        self.engine = None\n",
    "        self.trip_computer = False\n",
    "        self.gps = False\n",
    "\n",
    "    def set_seats(self, seats):\n",
    "        self.seats = seats\n",
    "        return self\n",
    "\n",
    "    def set_engine(self, engine):\n",
    "        self.engine = engine\n",
    "        return self\n",
    "\n",
    "    def add_trip_computer(self):\n",
    "        self.trip_computer = True\n",
    "        return self\n",
    "\n",
    "    def add_gps(self):\n",
    "        self.gps = True\n",
    "        return self\n",
    "\n",
    "    def build(self):\n",
    "        return Car(self.seats, self.engine, self.trip_computer, self.gps)\n",
    "\n",
    "\n",
    "# Exemplo de uso\n",
    "builder = CarBuilder()\n",
    "\n",
    "# Construção padrão\n",
    "car_standard = builder.set_seats(5).set_engine(\"V8\").build()\n",
    "print(car_standard)\n",
    "\n",
    "# Construção personalizada\n",
    "car_custom = builder.set_seats(2).set_engine(\"Electric\").add_trip_computer().add_gps().build()\n",
    "print(car_custom)\n"
   ]
  },
  {
   "cell_type": "code",
   "execution_count": null,
   "id": "126f8aa6",
   "metadata": {},
   "outputs": [],
   "source": []
  }
 ],
 "metadata": {
  "kernelspec": {
   "display_name": "Python 3 (ipykernel)",
   "language": "python",
   "name": "python3"
  },
  "language_info": {
   "codemirror_mode": {
    "name": "ipython",
    "version": 3
   },
   "file_extension": ".py",
   "mimetype": "text/x-python",
   "name": "python",
   "nbconvert_exporter": "python",
   "pygments_lexer": "ipython3",
   "version": "3.7.16"
  }
 },
 "nbformat": 4,
 "nbformat_minor": 5
}
