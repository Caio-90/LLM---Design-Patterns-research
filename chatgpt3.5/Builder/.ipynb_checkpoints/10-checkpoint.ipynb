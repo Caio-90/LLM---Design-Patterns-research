{
 "cells": [
  {
   "cell_type": "code",
   "execution_count": 1,
   "id": "eb9fbc42",
   "metadata": {},
   "outputs": [
    {
     "name": "stdout",
     "output_type": "stream",
     "text": [
      "Hero: Warrior, Short, Blond, Plate, Sword\n"
     ]
    }
   ],
   "source": [
    "from enum import Enum\n",
    "\n",
    "# Enumerações\n",
    "class Profession(Enum):\n",
    "    MAGE = \"Mage\"\n",
    "    WARRIOR = \"Warrior\"\n",
    "    THIEF = \"Thief\"\n",
    "\n",
    "class HairType(Enum):\n",
    "    LONG_STRAIGHT = \"Long Straight\"\n",
    "    LONG_CURLY = \"Long Curly\"\n",
    "    SHORT = \"Short\"\n",
    "    BALD = \"Bald\"\n",
    "\n",
    "class HairColor(Enum):\n",
    "    BLOND = \"Blond\"\n",
    "    BLACK = \"Black\"\n",
    "\n",
    "# Classes\n",
    "class Armor:\n",
    "    def __init__(self, armor_type):\n",
    "        self.armor_type = armor_type\n",
    "\n",
    "class Weapon:\n",
    "    def __init__(self, weapon_type):\n",
    "        self.weapon_type = weapon_type\n",
    "\n",
    "class Hero:\n",
    "    def __init__(self):\n",
    "        self.profession = None\n",
    "        self.hair_type = None\n",
    "        self.hair_color = None\n",
    "        self.armor = None\n",
    "        self.weapon = None\n",
    "\n",
    "class HeroBuilder:\n",
    "    def __init__(self):\n",
    "        self.hero = Hero()\n",
    "\n",
    "    def set_profession(self, profession):\n",
    "        self.hero.profession = profession\n",
    "        return self\n",
    "\n",
    "    def set_hair_type(self, hair_type):\n",
    "        self.hero.hair_type = hair_type\n",
    "        return self\n",
    "\n",
    "    def set_hair_color(self, hair_color):\n",
    "        self.hero.hair_color = hair_color\n",
    "        return self\n",
    "\n",
    "    def set_armor(self, armor):\n",
    "        self.hero.armor = armor\n",
    "        return self\n",
    "\n",
    "    def set_weapon(self, weapon):\n",
    "        self.hero.weapon = weapon\n",
    "        return self\n",
    "\n",
    "    def build(self):\n",
    "        return self.hero\n",
    "\n",
    "# Exemplo de uso:\n",
    "builder = HeroBuilder()\n",
    "hero = builder.set_profession(Profession.WARRIOR) \\\n",
    "              .set_hair_type(HairType.SHORT) \\\n",
    "              .set_hair_color(HairColor.BLOND) \\\n",
    "              .set_armor(Armor(\"Plate\")) \\\n",
    "              .set_weapon(Weapon(\"Sword\")) \\\n",
    "              .build()\n",
    "\n",
    "# Testando a saída\n",
    "print(f\"Hero: {hero.profession.value}, {hero.hair_type.value}, {hero.hair_color.value}, {hero.armor.armor_type}, {hero.weapon.weapon_type}\")\n"
   ]
  },
  {
   "cell_type": "code",
   "execution_count": null,
   "id": "9628e5cb",
   "metadata": {},
   "outputs": [],
   "source": []
  }
 ],
 "metadata": {
  "kernelspec": {
   "display_name": "Python 3 (ipykernel)",
   "language": "python",
   "name": "python3"
  },
  "language_info": {
   "codemirror_mode": {
    "name": "ipython",
    "version": 3
   },
   "file_extension": ".py",
   "mimetype": "text/x-python",
   "name": "python",
   "nbconvert_exporter": "python",
   "pygments_lexer": "ipython3",
   "version": "3.7.16"
  }
 },
 "nbformat": 4,
 "nbformat_minor": 5
}
