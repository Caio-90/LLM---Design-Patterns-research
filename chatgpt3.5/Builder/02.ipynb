{
 "cells": [
  {
   "cell_type": "code",
   "execution_count": 1,
   "id": "fd6f6ca2",
   "metadata": {},
   "outputs": [
    {
     "name": "stdout",
     "output_type": "stream",
     "text": [
      "Italiana Pizza - Size: M, Mass: fina, Sauce: tomate, Toppings: queijo, azeitonas, orégãos\n",
      "Marguerita Pizza - Size: G, Mass: fina, Sauce: tomate, Toppings: queijo, tomate, manjericão\n",
      "Portuguesa Pizza - Size: P, Mass: fina, Sauce: tomate, Toppings: queijo, fiambre, cogumelos, ovo\n"
     ]
    }
   ],
   "source": [
    "class Pizza:\n",
    "    def __init__(self, tipo_pizza, tamanho_pizza, massa, molho, cobertura):\n",
    "        self.tipo_pizza = tipo_pizza\n",
    "        self.tamanho_pizza = tamanho_pizza\n",
    "        self.massa = massa\n",
    "        self.molho = molho\n",
    "        self.cobertura = cobertura\n",
    "\n",
    "    def __str__(self):\n",
    "        return f\"{self.tipo_pizza} Pizza - Size: {self.tamanho_pizza}, Mass: {self.massa}, Sauce: {self.molho}, Toppings: {', '.join(self.cobertura)}\"\n",
    "\n",
    "\n",
    "class PizzaBuilder:\n",
    "    def __init__(self, tipo_pizza):\n",
    "        self.tipo_pizza = tipo_pizza\n",
    "        self.tamanho_pizza = None\n",
    "        self.massa = None\n",
    "        self.molho = None\n",
    "        self.cobertura = []\n",
    "\n",
    "    def set_tamanho(self, tamanho):\n",
    "        self.tamanho_pizza = tamanho\n",
    "        return self\n",
    "\n",
    "    def set_massa(self, massa):\n",
    "        self.massa = massa\n",
    "        return self\n",
    "\n",
    "    def set_molho(self, molho):\n",
    "        self.molho = molho\n",
    "        return self\n",
    "\n",
    "    def add_cobertura(self, cobertura):\n",
    "        self.cobertura.append(cobertura)\n",
    "        return self\n",
    "\n",
    "    def build(self):\n",
    "        return Pizza(self.tipo_pizza, self.tamanho_pizza, self.massa, self.molho, self.cobertura)\n",
    "\n",
    "\n",
    "class ItalianaBuilder(PizzaBuilder):\n",
    "    def __init__(self):\n",
    "        super().__init__(\"Italiana\")\n",
    "        self.set_massa(\"fina\")\n",
    "        self.set_molho(\"tomate\").add_cobertura(\"queijo\").add_cobertura(\"azeitonas\").add_cobertura(\"orégãos\")\n",
    "\n",
    "\n",
    "class MargueritaBuilder(PizzaBuilder):\n",
    "    def __init__(self):\n",
    "        super().__init__(\"Marguerita\")\n",
    "        self.set_massa(\"fina\")\n",
    "        self.set_molho(\"tomate\").add_cobertura(\"queijo\").add_cobertura(\"tomate\").add_cobertura(\"manjericão\")\n",
    "\n",
    "\n",
    "class PortuguesaBuilder(PizzaBuilder):\n",
    "    def __init__(self):\n",
    "        super().__init__(\"Portuguesa\")\n",
    "        self.set_massa(\"fina\")\n",
    "        self.set_molho(\"tomate\").add_cobertura(\"queijo\").add_cobertura(\"fiambre\").add_cobertura(\"cogumelos\").add_cobertura(\"ovo\")\n",
    "\n",
    "\n",
    "# Exemplo de uso\n",
    "italiana_builder = ItalianaBuilder()\n",
    "italiana = italiana_builder.set_tamanho(\"M\").build()\n",
    "\n",
    "marguerita_builder = MargueritaBuilder()\n",
    "marguerita = marguerita_builder.set_tamanho(\"G\").build()\n",
    "\n",
    "portuguesa_builder = PortuguesaBuilder()\n",
    "portuguesa = portuguesa_builder.set_tamanho(\"P\").build()\n",
    "\n",
    "# Imprime as pizzas criadas\n",
    "print(italiana)\n",
    "print(marguerita)\n",
    "print(portuguesa)\n"
   ]
  },
  {
   "cell_type": "code",
   "execution_count": null,
   "id": "9d9c7fd5",
   "metadata": {},
   "outputs": [],
   "source": []
  }
 ],
 "metadata": {
  "kernelspec": {
   "display_name": "Python 3 (ipykernel)",
   "language": "python",
   "name": "python3"
  },
  "language_info": {
   "codemirror_mode": {
    "name": "ipython",
    "version": 3
   },
   "file_extension": ".py",
   "mimetype": "text/x-python",
   "name": "python",
   "nbconvert_exporter": "python",
   "pygments_lexer": "ipython3",
   "version": "3.11.5"
  }
 },
 "nbformat": 4,
 "nbformat_minor": 5
}
