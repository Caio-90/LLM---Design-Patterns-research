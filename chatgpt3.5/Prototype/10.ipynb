{
 "cells": [
  {
   "cell_type": "code",
   "execution_count": 1,
   "id": "b5730894",
   "metadata": {},
   "outputs": [
    {
     "name": "stdout",
     "output_type": "stream",
     "text": [
      "Cores originais:\n",
      "Color(Red: 255, Green: 0, Blue: 0)\n",
      "Color(Red: 0, Green: 255, Blue: 0)\n",
      "Color(Red: 0, Green: 0, Blue: 255)\n",
      "\n",
      "Cores personalizadas:\n",
      "Color(Red: 200, Green: 100, Blue: 50)\n",
      "Color(Red: 50, Green: 200, Blue: 100)\n",
      "Color(Red: 100, Green: 50, Blue: 200)\n",
      "\n",
      "Cópias das cores originais:\n",
      "Color(Red: 255, Green: 0, Blue: 0)\n",
      "Color(Red: 0, Green: 255, Blue: 0)\n",
      "Color(Red: 0, Green: 0, Blue: 255)\n"
     ]
    }
   ],
   "source": [
    "import copy\n",
    "\n",
    "class Color:\n",
    "    def __init__(self, red, green, blue):\n",
    "        self.red = red\n",
    "        self.green = green\n",
    "        self.blue = blue\n",
    "    \n",
    "    def __str__(self):\n",
    "        return f\"Color(Red: {self.red}, Green: {self.green}, Blue: {self.blue})\"\n",
    "\n",
    "# Definindo as cores padrão\n",
    "red = Color(255, 0, 0)\n",
    "green = Color(0, 255, 0)\n",
    "blue = Color(0, 0, 255)\n",
    "\n",
    "# Criando cores personalizadas\n",
    "custom_color1 = Color(200, 100, 50)\n",
    "custom_color2 = Color(50, 200, 100)\n",
    "custom_color3 = Color(100, 50, 200)\n",
    "\n",
    "# Criando cópias usando o padrão Prototype\n",
    "copy1 = copy.deepcopy(red)\n",
    "copy2 = copy.deepcopy(green)\n",
    "copy3 = copy.deepcopy(blue)\n",
    "\n",
    "# Mostrando as cores originais\n",
    "print(\"Cores originais:\")\n",
    "print(red)\n",
    "print(green)\n",
    "print(blue)\n",
    "\n",
    "# Mostrando as cores personalizadas\n",
    "print(\"\\nCores personalizadas:\")\n",
    "print(custom_color1)\n",
    "print(custom_color2)\n",
    "print(custom_color3)\n",
    "\n",
    "# Mostrando as cópias\n",
    "print(\"\\nCópias das cores originais:\")\n",
    "print(copy1)\n",
    "print(copy2)\n",
    "print(copy3)\n"
   ]
  },
  {
   "cell_type": "code",
   "execution_count": null,
   "id": "bc722229",
   "metadata": {},
   "outputs": [],
   "source": []
  }
 ],
 "metadata": {
  "kernelspec": {
   "display_name": "Python 3 (ipykernel)",
   "language": "python",
   "name": "python3"
  },
  "language_info": {
   "codemirror_mode": {
    "name": "ipython",
    "version": 3
   },
   "file_extension": ".py",
   "mimetype": "text/x-python",
   "name": "python",
   "nbconvert_exporter": "python",
   "pygments_lexer": "ipython3",
   "version": "3.7.16"
  }
 },
 "nbformat": 4,
 "nbformat_minor": 5
}
