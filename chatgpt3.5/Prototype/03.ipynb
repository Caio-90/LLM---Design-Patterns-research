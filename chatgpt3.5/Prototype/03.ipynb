{
 "cells": [
  {
   "cell_type": "code",
   "execution_count": 1,
   "id": "6cc61843",
   "metadata": {},
   "outputs": [
    {
     "name": "stdout",
     "output_type": "stream",
     "text": [
      "Pessoa Original:\n",
      "Nome: João, Endereço: 456 Oak Ave, Springfield, USA\n",
      "\n",
      "Pessoa Clonada:\n",
      "Nome: João, Endereço: 123 Main St, Springfield, USA\n"
     ]
    }
   ],
   "source": [
    "import copy\n",
    "\n",
    "class Address:\n",
    "    def __init__(self, street_address, city, country):\n",
    "        self.street_address = street_address\n",
    "        self.city = city\n",
    "        self.country = country\n",
    "    \n",
    "    def clone(self):\n",
    "        # Usando deepcopy para garantir que objetos aninhados sejam clonados corretamente\n",
    "        return copy.deepcopy(self)\n",
    "    \n",
    "    def get_address(self):\n",
    "        return f\"{self.street_address}, {self.city}, {self.country}\"\n",
    "\n",
    "class Person:\n",
    "    def __init__(self, name, address):\n",
    "        self.name = name\n",
    "        self.address = address\n",
    "    \n",
    "    def clone(self):\n",
    "        # Usando deepcopy para garantir que objetos aninhados sejam clonados corretamente\n",
    "        return copy.deepcopy(self)\n",
    "    \n",
    "    def get_address(self):\n",
    "        return self.address.get_address()  # Chamando o método get_address de Address\n",
    "\n",
    "# Exemplo de uso:\n",
    "\n",
    "# Criando um endereço\n",
    "address = Address(\"123 Main St\", \"Springfield\", \"USA\")\n",
    "\n",
    "# Criando uma pessoa com esse endereço\n",
    "person = Person(\"João\", address)\n",
    "\n",
    "# Clonando a pessoa\n",
    "another_person = person.clone()\n",
    "\n",
    "# Mudando o endereço da pessoa original\n",
    "person.address.street_address = \"456 Oak Ave\"\n",
    "\n",
    "# Exibindo os endereços para verificar a clonagem\n",
    "print(\"Pessoa Original:\")\n",
    "print(f\"Nome: {person.name}, Endereço: {person.get_address()}\")\n",
    "\n",
    "print(\"\\nPessoa Clonada:\")\n",
    "print(f\"Nome: {another_person.name}, Endereço: {another_person.get_address()}\")\n"
   ]
  },
  {
   "cell_type": "code",
   "execution_count": null,
   "id": "fe087690",
   "metadata": {},
   "outputs": [],
   "source": []
  }
 ],
 "metadata": {
  "kernelspec": {
   "display_name": "Python 3 (ipykernel)",
   "language": "python",
   "name": "python3"
  },
  "language_info": {
   "codemirror_mode": {
    "name": "ipython",
    "version": 3
   },
   "file_extension": ".py",
   "mimetype": "text/x-python",
   "name": "python",
   "nbconvert_exporter": "python",
   "pygments_lexer": "ipython3",
   "version": "3.11.5"
  }
 },
 "nbformat": 4,
 "nbformat_minor": 5
}
