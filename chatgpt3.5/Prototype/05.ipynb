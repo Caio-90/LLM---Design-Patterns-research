{
 "cells": [
  {
   "cell_type": "code",
   "execution_count": 1,
   "id": "e512f633",
   "metadata": {},
   "outputs": [
    {
     "name": "stdout",
     "output_type": "stream",
     "text": [
      "Robô Original:\n",
      "Nome: Bot1, Arma: Espada de plasma\n",
      "\n",
      "Robô Clonado:\n",
      "Nome: Bot2, Arma: Canhão de raios\n"
     ]
    }
   ],
   "source": [
    "import copy\n",
    "\n",
    "class CombatRobot:\n",
    "    def __init__(self, name, weapon):\n",
    "        self.name = name\n",
    "        self.weapon = weapon\n",
    "    \n",
    "    def clone(self):\n",
    "        # Usando deepcopy para garantir que objetos aninhados sejam clonados corretamente\n",
    "        return copy.deepcopy(self)\n",
    "\n",
    "# Exemplo de uso:\n",
    "\n",
    "# Criando um robô de combate\n",
    "robot1 = CombatRobot(\"Bot1\", \"Espada de plasma\")\n",
    "\n",
    "# Clonando o robô de combate\n",
    "robot2 = robot1.clone()\n",
    "\n",
    "# Modificando o robô clonado\n",
    "robot2.name = \"Bot2\"\n",
    "robot2.weapon = \"Canhão de raios\"\n",
    "\n",
    "# Exibindo os robôs para verificar a clonagem\n",
    "print(\"Robô Original:\")\n",
    "print(f\"Nome: {robot1.name}, Arma: {robot1.weapon}\")\n",
    "\n",
    "print(\"\\nRobô Clonado:\")\n",
    "print(f\"Nome: {robot2.name}, Arma: {robot2.weapon}\")\n"
   ]
  },
  {
   "cell_type": "code",
   "execution_count": null,
   "id": "659f118f",
   "metadata": {},
   "outputs": [],
   "source": []
  }
 ],
 "metadata": {
  "kernelspec": {
   "display_name": "Python 3 (ipykernel)",
   "language": "python",
   "name": "python3"
  },
  "language_info": {
   "codemirror_mode": {
    "name": "ipython",
    "version": 3
   },
   "file_extension": ".py",
   "mimetype": "text/x-python",
   "name": "python",
   "nbconvert_exporter": "python",
   "pygments_lexer": "ipython3",
   "version": "3.7.16"
  }
 },
 "nbformat": 4,
 "nbformat_minor": 5
}
