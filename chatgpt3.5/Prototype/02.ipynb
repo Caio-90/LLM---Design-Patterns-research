{
 "cells": [
  {
   "cell_type": "code",
   "execution_count": 2,
   "id": "a34020ef",
   "metadata": {},
   "outputs": [
    {
     "name": "stdout",
     "output_type": "stream",
     "text": [
      "Livro:\n",
      "SKU: SKU001, Descrição: Livro de Ficção, Páginas: 300\n",
      "\n",
      "DVD:\n",
      "SKU: SKU002, Descrição: Filme de Ação, Duração: 120 minutos\n"
     ]
    }
   ],
   "source": [
    "import copy\n",
    "\n",
    "class Product:\n",
    "    def __init__(self, sku, description):\n",
    "        self.sku = sku\n",
    "        self.description = description\n",
    "    \n",
    "    def clone(self):\n",
    "        # Usando deepcopy para garantir que objetos aninhados sejam clonados corretamente\n",
    "        return copy.deepcopy(self)\n",
    "\n",
    "class Book(Product):\n",
    "    def __init__(self, sku, description, length):\n",
    "        super().__init__(sku, description)\n",
    "        self.length = length\n",
    "\n",
    "class DVD(Product):\n",
    "    def __init__(self, sku, description, duration):\n",
    "        super().__init__(sku, description)\n",
    "        self.duration = duration\n",
    "\n",
    "    def clone(self):\n",
    "        # Sobrescrevendo o método clone para retornar um clone de DVD\n",
    "        return copy.deepcopy(self)\n",
    "\n",
    "# Exemplo de uso:\n",
    "\n",
    "# Criando um livro\n",
    "book = Book(\"SKU001\", \"Livro de Ficção\", 300)\n",
    "\n",
    "# Clonando o livro\n",
    "another_book = book.clone()\n",
    "\n",
    "# Criando um DVD\n",
    "dvd = DVD(\"SKU002\", \"Filme de Ação\", 120)\n",
    "\n",
    "# Clonando o DVD\n",
    "another_dvd = dvd.clone()\n",
    "\n",
    "# Exemplo de impressão para verificar os atributos\n",
    "print(\"Livro:\")\n",
    "print(f\"SKU: {another_book.sku}, Descrição: {another_book.description}, Páginas: {another_book.length}\")\n",
    "\n",
    "print(\"\\nDVD:\")\n",
    "print(f\"SKU: {another_dvd.sku}, Descrição: {another_dvd.description}, Duração: {another_dvd.duration} minutos\")\n"
   ]
  },
  {
   "cell_type": "code",
   "execution_count": null,
   "id": "d58fc471",
   "metadata": {},
   "outputs": [],
   "source": []
  }
 ],
 "metadata": {
  "kernelspec": {
   "display_name": "Python 3 (ipykernel)",
   "language": "python",
   "name": "python3"
  },
  "language_info": {
   "codemirror_mode": {
    "name": "ipython",
    "version": 3
   },
   "file_extension": ".py",
   "mimetype": "text/x-python",
   "name": "python",
   "nbconvert_exporter": "python",
   "pygments_lexer": "ipython3",
   "version": "3.11.5"
  }
 },
 "nbformat": 4,
 "nbformat_minor": 5
}
