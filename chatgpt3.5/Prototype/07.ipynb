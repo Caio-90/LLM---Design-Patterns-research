{
 "cells": [
  {
   "cell_type": "code",
   "execution_count": 1,
   "id": "b13185a0",
   "metadata": {},
   "outputs": [
    {
     "name": "stdout",
     "output_type": "stream",
     "text": [
      "Desenhando um quadrado com ID 1\n",
      "Desenhando um retângulo com ID 2\n",
      "Desenhando um círculo com ID 3\n"
     ]
    }
   ],
   "source": [
    "import copy\n",
    "\n",
    "class Shape:\n",
    "    def __init__(self, shape_id, shape_type):\n",
    "        self.shape_id = shape_id\n",
    "        self.shape_type = shape_type\n",
    "    \n",
    "    def draw(self):\n",
    "        pass  # Método a ser implementado nas subclasses\n",
    "\n",
    "    def clone(self):\n",
    "        # Usando deepcopy para garantir que objetos aninhados sejam clonados corretamente\n",
    "        return copy.deepcopy(self)\n",
    "\n",
    "class Square(Shape):\n",
    "    def __init__(self, shape_id):\n",
    "        super().__init__(shape_id, \"Square\")\n",
    "\n",
    "    def draw(self):\n",
    "        print(f\"Desenhando um quadrado com ID {self.shape_id}\")\n",
    "\n",
    "class Rectangle(Shape):\n",
    "    def __init__(self, shape_id):\n",
    "        super().__init__(shape_id, \"Rectangle\")\n",
    "\n",
    "    def draw(self):\n",
    "        print(f\"Desenhando um retângulo com ID {self.shape_id}\")\n",
    "\n",
    "class Circle(Shape):\n",
    "    def __init__(self, shape_id):\n",
    "        super().__init__(shape_id, \"Circle\")\n",
    "\n",
    "    def draw(self):\n",
    "        print(f\"Desenhando um círculo com ID {self.shape_id}\")\n",
    "\n",
    "class ShapeCache:\n",
    "    def __init__(self):\n",
    "        self.cache = {}\n",
    "\n",
    "    def add_shape(self, shape_id, shape):\n",
    "        self.cache[shape_id] = shape\n",
    "\n",
    "    def get_shape(self, shape_id):\n",
    "        shape = self.cache.get(shape_id)\n",
    "        if shape:\n",
    "            return shape.clone()\n",
    "        return None\n",
    "\n",
    "# Exemplo de uso:\n",
    "\n",
    "# Inicializando o cache de formas\n",
    "shape_cache = ShapeCache()\n",
    "\n",
    "# Criando e adicionando formas ao cache\n",
    "square1 = Square(\"1\")\n",
    "rectangle1 = Rectangle(\"2\")\n",
    "circle1 = Circle(\"3\")\n",
    "\n",
    "shape_cache.add_shape(\"1\", square1)\n",
    "shape_cache.add_shape(\"2\", rectangle1)\n",
    "shape_cache.add_shape(\"3\", circle1)\n",
    "\n",
    "# Clonando formas do cache e desenhando\n",
    "clone_square = shape_cache.get_shape(\"1\")\n",
    "clone_rectangle = shape_cache.get_shape(\"2\")\n",
    "clone_circle = shape_cache.get_shape(\"3\")\n",
    "\n",
    "clone_square.draw()\n",
    "clone_rectangle.draw()\n",
    "clone_circle.draw()\n"
   ]
  },
  {
   "cell_type": "code",
   "execution_count": null,
   "id": "563f29df",
   "metadata": {},
   "outputs": [],
   "source": []
  }
 ],
 "metadata": {
  "kernelspec": {
   "display_name": "Python 3 (ipykernel)",
   "language": "python",
   "name": "python3"
  },
  "language_info": {
   "codemirror_mode": {
    "name": "ipython",
    "version": 3
   },
   "file_extension": ".py",
   "mimetype": "text/x-python",
   "name": "python",
   "nbconvert_exporter": "python",
   "pygments_lexer": "ipython3",
   "version": "3.11.5"
  }
 },
 "nbformat": 4,
 "nbformat_minor": 5
}
