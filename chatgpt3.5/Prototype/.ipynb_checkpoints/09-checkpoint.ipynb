{
 "cells": [
  {
   "cell_type": "code",
   "execution_count": 1,
   "id": "4c07342a",
   "metadata": {},
   "outputs": [
    {
     "name": "stdout",
     "output_type": "stream",
     "text": [
      "Seats: 4, Tyres: 4, Color: red, Fuel: gasoline\n",
      "Seats: 4, Tyres: 4, Color: red, Fuel: gasoline\n",
      "Seats: 2, Tyres: 2, Color: blue, Fuel: gasoline\n",
      "Bike Type: Sport\n",
      "Seats: 5, Tyres: 4, Color: black, Fuel: diesel\n",
      "Brand: Toyota\n"
     ]
    }
   ],
   "source": [
    "import copy\n",
    "\n",
    "class Vehicle:\n",
    "    def __init__(self, seats, tyres, color, fuel):\n",
    "        self.seats = seats\n",
    "        self.tyres = tyres\n",
    "        self.color = color\n",
    "        self.fuel = fuel\n",
    "    \n",
    "    def display(self):\n",
    "        print(f\"Seats: {self.seats}, Tyres: {self.tyres}, Color: {self.color}, Fuel: {self.fuel}\")\n",
    "    \n",
    "    def clone(self):\n",
    "        return copy.deepcopy(self)\n",
    "\n",
    "\n",
    "class Bike(Vehicle):\n",
    "    def __init__(self, seats, tyres, color, fuel, bike_type):\n",
    "        super().__init__(seats, tyres, color, fuel)\n",
    "        self.bike_type = bike_type\n",
    "    \n",
    "    def display(self):\n",
    "        super().display()\n",
    "        print(f\"Bike Type: {self.bike_type}\")\n",
    "\n",
    "\n",
    "class Car(Vehicle):\n",
    "    def __init__(self, seats, tyres, color, fuel, brand):\n",
    "        super().__init__(seats, tyres, color, fuel)\n",
    "        self.brand = brand\n",
    "    \n",
    "    def display(self):\n",
    "        super().display()\n",
    "        print(f\"Brand: {self.brand}\")\n",
    "\n",
    "\n",
    "# Exemplo de uso\n",
    "if __name__ == \"__main__\":\n",
    "    original_vehicle = Vehicle(4, 4, 'red', 'gasoline')\n",
    "    original_vehicle.display()\n",
    "\n",
    "    cloned_vehicle = original_vehicle.clone()\n",
    "    cloned_vehicle.display()\n",
    "\n",
    "    bike = Bike(2, 2, 'blue', 'gasoline', 'Sport')\n",
    "    bike.display()\n",
    "\n",
    "    car = Car(5, 4, 'black', 'diesel', 'Toyota')\n",
    "    car.display()\n"
   ]
  },
  {
   "cell_type": "code",
   "execution_count": null,
   "id": "c4092625",
   "metadata": {},
   "outputs": [],
   "source": []
  }
 ],
 "metadata": {
  "kernelspec": {
   "display_name": "Python 3 (ipykernel)",
   "language": "python",
   "name": "python3"
  },
  "language_info": {
   "codemirror_mode": {
    "name": "ipython",
    "version": 3
   },
   "file_extension": ".py",
   "mimetype": "text/x-python",
   "name": "python",
   "nbconvert_exporter": "python",
   "pygments_lexer": "ipython3",
   "version": "3.7.16"
  }
 },
 "nbformat": 4,
 "nbformat_minor": 5
}
