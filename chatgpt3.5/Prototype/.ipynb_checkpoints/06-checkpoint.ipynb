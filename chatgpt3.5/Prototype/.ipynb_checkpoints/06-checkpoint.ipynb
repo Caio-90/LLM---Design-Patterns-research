{
 "cells": [
  {
   "cell_type": "code",
   "execution_count": 1,
   "id": "1ccd9da5",
   "metadata": {},
   "outputs": [
    {
     "name": "stdout",
     "output_type": "stream",
     "text": [
      "Gerente Original:\n",
      "Nome: Manuel, Cargo: Gerente de Projetos\n",
      "\n",
      "Gerente Clonado:\n",
      "Nome: Manuel, Cargo: Gerente de Projetos\n",
      "\n",
      "Desenvolvedor Original:\n",
      "Nome: Maria, Cargo: Desenvolvedora, Palavras por Minuto: 250, Linguagem Preferida: Python\n",
      "\n",
      "Desenvolvedor Clonado:\n",
      "Nome: João, Cargo: Desenvolvedora, Palavras por Minuto: 250, Linguagem Preferida: JavaScript\n"
     ]
    }
   ],
   "source": [
    "import copy\n",
    "\n",
    "class IEmployee:\n",
    "    def __init__(self, name, role):\n",
    "        self.name = name\n",
    "        self.role = role\n",
    "    \n",
    "    def get_details(self):\n",
    "        return f\"Nome: {self.name}, Cargo: {self.role}\"\n",
    "\n",
    "    def clone(self):\n",
    "        # Usando deepcopy para garantir que objetos aninhados sejam clonados corretamente\n",
    "        return copy.deepcopy(self)\n",
    "\n",
    "class Manager(IEmployee):\n",
    "    def __init__(self, name, role, words_per_minute):\n",
    "        super().__init__(name, role)\n",
    "        self.words_per_minute = words_per_minute\n",
    "\n",
    "class Developer(IEmployee):\n",
    "    def __init__(self, name, role, words_per_minute, preferred_language):\n",
    "        super().__init__(name, role)\n",
    "        self.words_per_minute = words_per_minute\n",
    "        self.preferred_language = preferred_language\n",
    "    \n",
    "    def get_details(self):\n",
    "        details = super().get_details()\n",
    "        return f\"{details}, Palavras por Minuto: {self.words_per_minute}, Linguagem Preferida: {self.preferred_language}\"\n",
    "\n",
    "# Exemplo de uso:\n",
    "\n",
    "# Criando um gerente\n",
    "manager = Manager(\"Manuel\", \"Gerente de Projetos\", 300)\n",
    "\n",
    "# Clonando o gerente\n",
    "another_manager = manager.clone()\n",
    "\n",
    "# Criando um desenvolvedor\n",
    "developer = Developer(\"Maria\", \"Desenvolvedora\", 250, \"Python\")\n",
    "\n",
    "# Clonando o desenvolvedor\n",
    "another_developer = developer.clone()\n",
    "\n",
    "# Modificando o desenvolvedor clonado\n",
    "another_developer.name = \"João\"\n",
    "another_developer.preferred_language = \"JavaScript\"\n",
    "\n",
    "# Exibindo os detalhes para verificar a clonagem\n",
    "print(\"Gerente Original:\")\n",
    "print(manager.get_details())\n",
    "\n",
    "print(\"\\nGerente Clonado:\")\n",
    "print(another_manager.get_details())\n",
    "\n",
    "print(\"\\nDesenvolvedor Original:\")\n",
    "print(developer.get_details())\n",
    "\n",
    "print(\"\\nDesenvolvedor Clonado:\")\n",
    "print(another_developer.get_details())\n"
   ]
  },
  {
   "cell_type": "code",
   "execution_count": null,
   "id": "0f52d8c5",
   "metadata": {},
   "outputs": [],
   "source": []
  }
 ],
 "metadata": {
  "kernelspec": {
   "display_name": "Python 3 (ipykernel)",
   "language": "python",
   "name": "python3"
  },
  "language_info": {
   "codemirror_mode": {
    "name": "ipython",
    "version": 3
   },
   "file_extension": ".py",
   "mimetype": "text/x-python",
   "name": "python",
   "nbconvert_exporter": "python",
   "pygments_lexer": "ipython3",
   "version": "3.7.16"
  }
 },
 "nbformat": 4,
 "nbformat_minor": 5
}
