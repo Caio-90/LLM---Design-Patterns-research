{
 "cells": [
  {
   "cell_type": "code",
   "execution_count": 1,
   "id": "69bd907f",
   "metadata": {},
   "outputs": [
    {
     "name": "stdout",
     "output_type": "stream",
     "text": [
      "Círculo Original:\n",
      "Desenhando um círculo azul\n",
      "\n",
      "Círculo Clonado:\n",
      "Desenhando um círculo vermelho\n"
     ]
    }
   ],
   "source": [
    "import copy\n",
    "\n",
    "class Circle:\n",
    "    def __init__(self, color):\n",
    "        self.color = color\n",
    "    \n",
    "    def draw(self):\n",
    "        print(f\"Desenhando um círculo {self.color}\")\n",
    "\n",
    "    def clone(self):\n",
    "        # Usando deepcopy para garantir que objetos aninhados sejam clonados corretamente\n",
    "        return copy.deepcopy(self)\n",
    "\n",
    "# Exemplo de uso:\n",
    "\n",
    "# Criando um círculo\n",
    "circle = Circle(\"vermelho\")\n",
    "\n",
    "# Clonando o círculo\n",
    "another_circle = circle.clone()\n",
    "\n",
    "# Mudando a cor do círculo original\n",
    "circle.color = \"azul\"\n",
    "\n",
    "# Desenhando os círculos para verificar a clonagem\n",
    "print(\"Círculo Original:\")\n",
    "circle.draw()\n",
    "\n",
    "print(\"\\nCírculo Clonado:\")\n",
    "another_circle.draw()\n"
   ]
  },
  {
   "cell_type": "code",
   "execution_count": null,
   "id": "f3f0f1ed",
   "metadata": {},
   "outputs": [],
   "source": []
  }
 ],
 "metadata": {
  "kernelspec": {
   "display_name": "Python 3 (ipykernel)",
   "language": "python",
   "name": "python3"
  },
  "language_info": {
   "codemirror_mode": {
    "name": "ipython",
    "version": 3
   },
   "file_extension": ".py",
   "mimetype": "text/x-python",
   "name": "python",
   "nbconvert_exporter": "python",
   "pygments_lexer": "ipython3",
   "version": "3.7.16"
  }
 },
 "nbformat": 4,
 "nbformat_minor": 5
}
