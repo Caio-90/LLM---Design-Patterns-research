{
 "cells": [
  {
   "cell_type": "code",
   "execution_count": 1,
   "id": "3924b4f6",
   "metadata": {},
   "outputs": [
    {
     "name": "stdout",
     "output_type": "stream",
     "text": [
      "Original sheep: Dolly (Domestic)\n",
      "Cloned sheep: Dolly (Domestic)\n"
     ]
    }
   ],
   "source": [
    "import copy\n",
    "\n",
    "class Sheep:\n",
    "    def __init__(self, name, category):\n",
    "        self.name = name\n",
    "        self.category = category\n",
    "\n",
    "    def clone(self):\n",
    "        # Utiliza a função deepcopy do módulo copy para clonar o objeto\n",
    "        return copy.deepcopy(self)\n",
    "\n",
    "# Exemplo de uso:\n",
    "original_sheep = Sheep(\"Dolly\", \"Domestic\")\n",
    "print(f\"Original sheep: {original_sheep.name} ({original_sheep.category})\")\n",
    "\n",
    "# Clonando o objeto original\n",
    "cloned_sheep = original_sheep.clone()\n",
    "print(f\"Cloned sheep: {cloned_sheep.name} ({cloned_sheep.category})\")\n"
   ]
  },
  {
   "cell_type": "code",
   "execution_count": null,
   "id": "8ad0ee72",
   "metadata": {},
   "outputs": [],
   "source": []
  }
 ],
 "metadata": {
  "kernelspec": {
   "display_name": "Python 3 (ipykernel)",
   "language": "python",
   "name": "python3"
  },
  "language_info": {
   "codemirror_mode": {
    "name": "ipython",
    "version": 3
   },
   "file_extension": ".py",
   "mimetype": "text/x-python",
   "name": "python",
   "nbconvert_exporter": "python",
   "pygments_lexer": "ipython3",
   "version": "3.7.16"
  }
 },
 "nbformat": 4,
 "nbformat_minor": 5
}
