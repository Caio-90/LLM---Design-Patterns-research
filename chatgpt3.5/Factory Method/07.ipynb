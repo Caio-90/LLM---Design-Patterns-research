{
 "cells": [
  {
   "cell_type": "code",
   "execution_count": 1,
   "id": "ae77c0d5",
   "metadata": {},
   "outputs": [
    {
     "name": "stdout",
     "output_type": "stream",
     "text": [
      "Serialized JSON:\n",
      "{\n",
      "  \"song_id\": 1,\n",
      "  \"title\": \"Shape of You\",\n",
      "  \"artist\": \"Ed Sheeran\"\n",
      "}\n",
      "\n",
      "Serialized XML:\n",
      "<song><song_id>1</song_id><title>Shape of You</title><artist>Ed Sheeran</artist></song>\n"
     ]
    }
   ],
   "source": [
    "import json\n",
    "import xml.etree.ElementTree as ET\n",
    "\n",
    "# Classe Song que representa uma música\n",
    "class Song:\n",
    "    def __init__(self, song_id, title, artist):\n",
    "        self.song_id = song_id\n",
    "        self.title = title\n",
    "        self.artist = artist\n",
    "\n",
    "# Interface para o Serializador de Música\n",
    "class SongSerializer:\n",
    "    def serialize(self, song, format):\n",
    "        if format == \"JSON\":\n",
    "            return self.serialize_to_json(song)\n",
    "        elif format == \"XML\":\n",
    "            return self.serialize_to_xml(song)\n",
    "        else:\n",
    "            raise ValueError(f\"Unsupported format: {format}\")\n",
    "\n",
    "    def serialize_to_json(self, song):\n",
    "        song_dict = {\n",
    "            \"song_id\": song.song_id,\n",
    "            \"title\": song.title,\n",
    "            \"artist\": song.artist\n",
    "        }\n",
    "        return json.dumps(song_dict, indent=2)\n",
    "\n",
    "    def serialize_to_xml(self, song):\n",
    "        song_element = ET.Element(\"song\")\n",
    "        song_id_element = ET.SubElement(song_element, \"song_id\")\n",
    "        song_id_element.text = str(song.song_id)\n",
    "        title_element = ET.SubElement(song_element, \"title\")\n",
    "        title_element.text = song.title\n",
    "        artist_element = ET.SubElement(song_element, \"artist\")\n",
    "        artist_element.text = song.artist\n",
    "        return ET.tostring(song_element, encoding=\"unicode\", method=\"xml\")\n",
    "\n",
    "# Factory Method para criar instâncias baseadas no formato de serialização\n",
    "class SongSerializerFactory:\n",
    "    def create_serializer(self, format):\n",
    "        if format == \"JSON\":\n",
    "            return SongSerializer()\n",
    "        elif format == \"XML\":\n",
    "            return SongSerializer()\n",
    "        else:\n",
    "            raise ValueError(f\"Unsupported format: {format}\")\n",
    "\n",
    "# Exemplo de uso do Factory Method\n",
    "if __name__ == \"__main__\":\n",
    "    song = Song(song_id=1, title=\"Shape of You\", artist=\"Ed Sheeran\")\n",
    "\n",
    "    # Serialização em JSON\n",
    "    json_serializer = SongSerializerFactory().create_serializer(\"JSON\")\n",
    "    json_data = json_serializer.serialize(song, \"JSON\")\n",
    "    print(\"Serialized JSON:\")\n",
    "    print(json_data)\n",
    "\n",
    "    print()\n",
    "\n",
    "    # Serialização em XML\n",
    "    xml_serializer = SongSerializerFactory().create_serializer(\"XML\")\n",
    "    xml_data = xml_serializer.serialize(song, \"XML\")\n",
    "    print(\"Serialized XML:\")\n",
    "    print(xml_data)\n"
   ]
  },
  {
   "cell_type": "code",
   "execution_count": null,
   "id": "16da73d0",
   "metadata": {},
   "outputs": [],
   "source": []
  }
 ],
 "metadata": {
  "kernelspec": {
   "display_name": "Python 3 (ipykernel)",
   "language": "python",
   "name": "python3"
  },
  "language_info": {
   "codemirror_mode": {
    "name": "ipython",
    "version": 3
   },
   "file_extension": ".py",
   "mimetype": "text/x-python",
   "name": "python",
   "nbconvert_exporter": "python",
   "pygments_lexer": "ipython3",
   "version": "3.7.16"
  }
 },
 "nbformat": 4,
 "nbformat_minor": 5
}
