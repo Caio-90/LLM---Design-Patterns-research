{
 "cells": [
  {
   "cell_type": "code",
   "execution_count": 1,
   "id": "c6f3f39a",
   "metadata": {},
   "outputs": [
    {
     "name": "stdout",
     "output_type": "stream",
     "text": [
      "Product A: Example Product A\n",
      "Product B: B tcudorP elpmaxE\n"
     ]
    }
   ],
   "source": [
    "from abc import ABC, abstractmethod\n",
    "\n",
    "# Classe base Product\n",
    "class Product(ABC):\n",
    "    def __init__(self, name):\n",
    "        self.name = name\n",
    "\n",
    "    @abstractmethod\n",
    "    def write_name(self):\n",
    "        pass\n",
    "\n",
    "# Subclasse ProductA\n",
    "class ProductA(Product):\n",
    "    def write_name(self):\n",
    "        print(f\"Product A: {self.name}\")\n",
    "\n",
    "# Subclasse ProductB\n",
    "class ProductB(Product):\n",
    "    def write_name(self):\n",
    "        print(f\"Product B: {self.name[::-1]}\")  # Inverte o nome ao imprimir\n",
    "\n",
    "# Factory Method para criar instâncias baseadas no tipo de produto\n",
    "class ProductFactory:\n",
    "    def create_product(self, product_type, name):\n",
    "        if product_type == \"ProductA\":\n",
    "            return ProductA(name)\n",
    "        elif product_type == \"ProductB\":\n",
    "            return ProductB(name)\n",
    "        else:\n",
    "            raise ValueError(f\"Unsupported product type: {product_type}\")\n",
    "\n",
    "# Exemplo de uso do Factory Method\n",
    "if __name__ == \"__main__\":\n",
    "    factory = ProductFactory()\n",
    "\n",
    "    # Criando um produto do tipo ProductA\n",
    "    product_a = factory.create_product(\"ProductA\", \"Example Product A\")\n",
    "    product_a.write_name()\n",
    "\n",
    "    # Criando um produto do tipo ProductB\n",
    "    product_b = factory.create_product(\"ProductB\", \"Example Product B\")\n",
    "    product_b.write_name()\n"
   ]
  },
  {
   "cell_type": "code",
   "execution_count": null,
   "id": "857c4d12",
   "metadata": {},
   "outputs": [],
   "source": []
  }
 ],
 "metadata": {
  "kernelspec": {
   "display_name": "Python 3 (ipykernel)",
   "language": "python",
   "name": "python3"
  },
  "language_info": {
   "codemirror_mode": {
    "name": "ipython",
    "version": 3
   },
   "file_extension": ".py",
   "mimetype": "text/x-python",
   "name": "python",
   "nbconvert_exporter": "python",
   "pygments_lexer": "ipython3",
   "version": "3.11.5"
  }
 },
 "nbformat": 4,
 "nbformat_minor": 5
}
