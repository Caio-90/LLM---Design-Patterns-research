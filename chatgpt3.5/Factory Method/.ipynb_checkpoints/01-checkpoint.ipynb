{
 "cells": [
  {
   "cell_type": "code",
   "execution_count": 1,
   "id": "61bce2f1",
   "metadata": {},
   "outputs": [
    {
     "name": "stdout",
     "output_type": "stream",
     "text": [
      "Ask technical questions related to development.\n",
      "Ask questions about community engagement and leadership.\n"
     ]
    }
   ],
   "source": [
    "from abc import ABC, abstractmethod\n",
    "\n",
    "# Interface para o entrevistador\n",
    "class Interviewer(ABC):\n",
    "    @abstractmethod\n",
    "    def ask_questions(self):\n",
    "        pass\n",
    "\n",
    "# Classe Developer que implementa Interviewer\n",
    "class Developer(Interviewer):\n",
    "    def ask_questions(self):\n",
    "        print(\"Ask technical questions related to development.\")\n",
    "\n",
    "# Classe CommunityExecutive que implementa Interviewer\n",
    "class CommunityExecutive(Interviewer):\n",
    "    def ask_questions(self):\n",
    "        print(\"Ask questions about community engagement and leadership.\")\n",
    "\n",
    "# Factory Method para criar instâncias baseadas no tipo de entrevistador\n",
    "class InterviewerFactory:\n",
    "    def create_interviewer(self, interviewer_type):\n",
    "        if interviewer_type == \"Developer\":\n",
    "            return Developer()\n",
    "        elif interviewer_type == \"CommunityExecutive\":\n",
    "            return CommunityExecutive()\n",
    "        else:\n",
    "            raise ValueError(f\"Unsupported interviewer type: {interviewer_type}\")\n",
    "\n",
    "# Exemplo de uso do Factory Method\n",
    "if __name__ == \"__main__\":\n",
    "    factory = InterviewerFactory()\n",
    "\n",
    "    # Criando um entrevistador de tipo Developer\n",
    "    developer_interviewer = factory.create_interviewer(\"Developer\")\n",
    "    developer_interviewer.ask_questions()\n",
    "\n",
    "    # Criando um entrevistador de tipo CommunityExecutive\n",
    "    executive_interviewer = factory.create_interviewer(\"CommunityExecutive\")\n",
    "    executive_interviewer.ask_questions()\n"
   ]
  },
  {
   "cell_type": "code",
   "execution_count": null,
   "id": "70fd9605",
   "metadata": {},
   "outputs": [],
   "source": []
  }
 ],
 "metadata": {
  "kernelspec": {
   "display_name": "Python 3 (ipykernel)",
   "language": "python",
   "name": "python3"
  },
  "language_info": {
   "codemirror_mode": {
    "name": "ipython",
    "version": 3
   },
   "file_extension": ".py",
   "mimetype": "text/x-python",
   "name": "python",
   "nbconvert_exporter": "python",
   "pygments_lexer": "ipython3",
   "version": "3.7.16"
  }
 },
 "nbformat": 4,
 "nbformat_minor": 5
}
