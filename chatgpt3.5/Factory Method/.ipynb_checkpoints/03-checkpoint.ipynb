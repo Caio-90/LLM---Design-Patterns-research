{
 "cells": [
  {
   "cell_type": "code",
   "execution_count": 1,
   "id": "71c1a6bb",
   "metadata": {},
   "outputs": [
    {
     "name": "stdout",
     "output_type": "stream",
     "text": [
      "Cartesian Point: (3, 4)\n",
      "Polar Point: (3.5355339059327378, 3.5355339059327378)\n"
     ]
    }
   ],
   "source": [
    "from enum import Enum\n",
    "import math\n",
    "\n",
    "# Enumeração para os sistemas de coordenadas\n",
    "class CoordinateSystem(Enum):\n",
    "    CARTESIAN = 1\n",
    "    POLAR = 2\n",
    "\n",
    "# Classe Point que representa um ponto no plano\n",
    "class Point:\n",
    "    def __init__(self, x, y):\n",
    "        self.x = x\n",
    "        self.y = y\n",
    "\n",
    "    def __str__(self):\n",
    "        return f\"({self.x}, {self.y})\"\n",
    "\n",
    "    # Método Factory Method para criar um novo ponto cartesiano\n",
    "    @staticmethod\n",
    "    def new_cartesian_point(x, y):\n",
    "        return Point(x, y)\n",
    "\n",
    "    # Método Factory Method para criar um novo ponto polar\n",
    "    @staticmethod\n",
    "    def new_polar_point(rho, theta):\n",
    "        x = rho * math.cos(theta)\n",
    "        y = rho * math.sin(theta)\n",
    "        return Point(x, y)\n",
    "\n",
    "# Exemplo de uso do Factory Method\n",
    "if __name__ == \"__main__\":\n",
    "    # Criando um ponto cartesiano\n",
    "    cartesian_point = Point.new_cartesian_point(3, 4)\n",
    "    print(f\"Cartesian Point: {cartesian_point}\")\n",
    "\n",
    "    # Criando um ponto polar\n",
    "    polar_point = Point.new_polar_point(5, math.radians(45))  # 45 degrees converted to radians\n",
    "    print(f\"Polar Point: {polar_point}\")\n"
   ]
  },
  {
   "cell_type": "code",
   "execution_count": null,
   "id": "39379bdd",
   "metadata": {},
   "outputs": [],
   "source": []
  }
 ],
 "metadata": {
  "kernelspec": {
   "display_name": "Python 3 (ipykernel)",
   "language": "python",
   "name": "python3"
  },
  "language_info": {
   "codemirror_mode": {
    "name": "ipython",
    "version": 3
   },
   "file_extension": ".py",
   "mimetype": "text/x-python",
   "name": "python",
   "nbconvert_exporter": "python",
   "pygments_lexer": "ipython3",
   "version": "3.7.16"
  }
 },
 "nbformat": 4,
 "nbformat_minor": 5
}
