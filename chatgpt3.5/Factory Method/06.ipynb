{
 "cells": [
  {
   "cell_type": "code",
   "execution_count": 1,
   "id": "03222598",
   "metadata": {},
   "outputs": [
    {
     "name": "stdout",
     "output_type": "stream",
     "text": [
      "Starting Honda CBR1000RR TwoWheeler.\n",
      "Stopping Honda CBR1000RR TwoWheeler.\n",
      "\n",
      "Starting Toyota Camry FourWheeler.\n",
      "Stopping Toyota Camry FourWheeler.\n"
     ]
    }
   ],
   "source": [
    "from abc import ABC, abstractmethod\n",
    "\n",
    "# Classe base Vehicle\n",
    "class Vehicle(ABC):\n",
    "    def __init__(self, brand, model):\n",
    "        self.brand = brand\n",
    "        self.model = model\n",
    "\n",
    "    def display_info(self):\n",
    "        return f\"{self.brand} {self.model}\"\n",
    "\n",
    "    @abstractmethod\n",
    "    def start(self):\n",
    "        pass\n",
    "\n",
    "    @abstractmethod\n",
    "    def stop(self):\n",
    "        pass\n",
    "\n",
    "# Subclasse TwoWheeler que implementa Vehicle\n",
    "class TwoWheeler(Vehicle):\n",
    "    def start(self):\n",
    "        return f\"Starting {self.display_info()} TwoWheeler.\"\n",
    "\n",
    "    def stop(self):\n",
    "        return f\"Stopping {self.display_info()} TwoWheeler.\"\n",
    "\n",
    "# Subclasse FourWheeler que implementa Vehicle\n",
    "class FourWheeler(Vehicle):\n",
    "    def start(self):\n",
    "        return f\"Starting {self.display_info()} FourWheeler.\"\n",
    "\n",
    "    def stop(self):\n",
    "        return f\"Stopping {self.display_info()} FourWheeler.\"\n",
    "\n",
    "# Factory Method para criar instâncias baseadas no tipo de veículo\n",
    "class VehicleFactory:\n",
    "    def create_vehicle(self, vehicle_type, brand, model):\n",
    "        if vehicle_type == \"TwoWheeler\":\n",
    "            return TwoWheeler(brand, model)\n",
    "        elif vehicle_type == \"FourWheeler\":\n",
    "            return FourWheeler(brand, model)\n",
    "        else:\n",
    "            raise ValueError(f\"Unsupported vehicle type: {vehicle_type}\")\n",
    "\n",
    "# Exemplo de uso do Factory Method\n",
    "if __name__ == \"__main__\":\n",
    "    factory = VehicleFactory()\n",
    "\n",
    "    # Criando um TwoWheeler\n",
    "    two_wheeler = factory.create_vehicle(\"TwoWheeler\", \"Honda\", \"CBR1000RR\")\n",
    "    print(two_wheeler.start())\n",
    "    print(two_wheeler.stop())\n",
    "\n",
    "    print()\n",
    "\n",
    "    # Criando um FourWheeler\n",
    "    four_wheeler = factory.create_vehicle(\"FourWheeler\", \"Toyota\", \"Camry\")\n",
    "    print(four_wheeler.start())\n",
    "    print(four_wheeler.stop())\n"
   ]
  },
  {
   "cell_type": "code",
   "execution_count": null,
   "id": "f0e60049",
   "metadata": {},
   "outputs": [],
   "source": []
  }
 ],
 "metadata": {
  "kernelspec": {
   "display_name": "Python 3 (ipykernel)",
   "language": "python",
   "name": "python3"
  },
  "language_info": {
   "codemirror_mode": {
    "name": "ipython",
    "version": 3
   },
   "file_extension": ".py",
   "mimetype": "text/x-python",
   "name": "python",
   "nbconvert_exporter": "python",
   "pygments_lexer": "ipython3",
   "version": "3.11.5"
  }
 },
 "nbformat": 4,
 "nbformat_minor": 5
}
