{
 "cells": [
  {
   "cell_type": "code",
   "execution_count": 1,
   "id": "8e9f38fd",
   "metadata": {},
   "outputs": [
    {
     "name": "stdout",
     "output_type": "stream",
     "text": [
      "Racecar is driving fast!\n",
      "Van is driving steadily.\n"
     ]
    }
   ],
   "source": [
    "from abc import ABC, abstractmethod\n",
    "\n",
    "# Classe base abstrata Vehicle\n",
    "class Vehicle(ABC):\n",
    "    @abstractmethod\n",
    "    def drive(self):\n",
    "        pass\n",
    "\n",
    "# Subclasse Racecar que implementa Vehicle\n",
    "class Racecar(Vehicle):\n",
    "    def drive(self):\n",
    "        return \"Racecar is driving fast!\"\n",
    "\n",
    "# Subclasse Van que implementa Vehicle\n",
    "class Van(Vehicle):\n",
    "    def drive(self):\n",
    "        return \"Van is driving steadily.\"\n",
    "\n",
    "# Factory Method para criar instâncias baseadas no tipo de veículo\n",
    "class VehicleFactory:\n",
    "    def create_vehicle(self, vehicle_type):\n",
    "        if vehicle_type == \"Racecar\":\n",
    "            return Racecar()\n",
    "        elif vehicle_type == \"Van\":\n",
    "            return Van()\n",
    "        else:\n",
    "            raise ValueError(f\"Unsupported vehicle type: {vehicle_type}\")\n",
    "\n",
    "# Exemplo de uso do Factory Method\n",
    "if __name__ == \"__main__\":\n",
    "    factory = VehicleFactory()\n",
    "\n",
    "    # Criando um racecar\n",
    "    racecar = factory.create_vehicle(\"Racecar\")\n",
    "    print(racecar.drive())\n",
    "\n",
    "    # Criando uma van\n",
    "    van = factory.create_vehicle(\"Van\")\n",
    "    print(van.drive())\n"
   ]
  },
  {
   "cell_type": "code",
   "execution_count": null,
   "id": "84750ff4",
   "metadata": {},
   "outputs": [],
   "source": []
  }
 ],
 "metadata": {
  "kernelspec": {
   "display_name": "Python 3 (ipykernel)",
   "language": "python",
   "name": "python3"
  },
  "language_info": {
   "codemirror_mode": {
    "name": "ipython",
    "version": 3
   },
   "file_extension": ".py",
   "mimetype": "text/x-python",
   "name": "python",
   "nbconvert_exporter": "python",
   "pygments_lexer": "ipython3",
   "version": "3.7.16"
  }
 },
 "nbformat": 4,
 "nbformat_minor": 5
}
