{
 "cells": [
  {
   "cell_type": "code",
   "execution_count": 1,
   "id": "03d57de3",
   "metadata": {},
   "outputs": [
    {
     "name": "stdout",
     "output_type": "stream",
     "text": [
      "This is a personal section.\n",
      "This is an album section.\n"
     ]
    }
   ],
   "source": [
    "class Section:\n",
    "    def describe(self):\n",
    "        raise NotImplementedError(\"Subclasses must implement describe method\")\n",
    "\n",
    "class PersonalSection(Section):\n",
    "    def describe(self):\n",
    "        return \"This is a personal section.\"\n",
    "\n",
    "class AlbumSection(Section):\n",
    "    def describe(self):\n",
    "        return \"This is an album section.\"\n",
    "\n",
    "class PatentSection(Section):\n",
    "    def describe(self):\n",
    "        return \"This is a patent section.\"\n",
    "\n",
    "class PublicationSection(Section):\n",
    "    def describe(self):\n",
    "        return \"This is a publication section.\"\n",
    "\n",
    "class Linkedin:\n",
    "    def create_section(self):\n",
    "        return PersonalSection()\n",
    "\n",
    "class Facebook:\n",
    "    def create_section(self):\n",
    "        return AlbumSection()\n",
    "\n",
    "class Profile:\n",
    "    def __init__(self, social_media):\n",
    "        self.section = social_media.create_section()\n",
    "\n",
    "    def get_section_description(self):\n",
    "        return self.section.describe()\n",
    "\n",
    "linkedin_profile = Profile(Linkedin())\n",
    "print(linkedin_profile.get_section_description())  # Output: \"This is a personal section.\"\n",
    "\n",
    "facebook_profile = Profile(Facebook())\n",
    "print(facebook_profile.get_section_description())  # Output: \"This is an album section.\"\n"
   ]
  },
  {
   "cell_type": "code",
   "execution_count": null,
   "id": "d1e5b20e",
   "metadata": {},
   "outputs": [],
   "source": []
  }
 ],
 "metadata": {
  "kernelspec": {
   "display_name": "Python 3 (ipykernel)",
   "language": "python",
   "name": "python3"
  },
  "language_info": {
   "codemirror_mode": {
    "name": "ipython",
    "version": 3
   },
   "file_extension": ".py",
   "mimetype": "text/x-python",
   "name": "python",
   "nbconvert_exporter": "python",
   "pygments_lexer": "ipython3",
   "version": "3.11.5"
  }
 },
 "nbformat": 4,
 "nbformat_minor": 5
}
