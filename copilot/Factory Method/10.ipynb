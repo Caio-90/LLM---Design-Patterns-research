{
 "cells": [
  {
   "cell_type": "code",
   "execution_count": 1,
   "id": "55dfb161",
   "metadata": {},
   "outputs": [
    {
     "name": "stdout",
     "output_type": "stream",
     "text": [
      "Racecar is zooming!\n",
      "Van is cruising!\n"
     ]
    }
   ],
   "source": [
    "class Racecar:\n",
    "    def drive(self):\n",
    "        return \"Racecar is zooming!\"\n",
    "\n",
    "class Van:\n",
    "    def drive(self):\n",
    "        return \"Van is cruising!\"\n",
    "\n",
    "class VehicleFactory:\n",
    "    def create_vehicle(self, vehicle_type):\n",
    "        if vehicle_type == \"Racecar\":\n",
    "            return Racecar()\n",
    "        elif vehicle_type == \"Van\":\n",
    "            return Van()\n",
    "        else:\n",
    "            raise ValueError(f\"Unknown vehicle type: {vehicle_type}\")\n",
    "\n",
    "# Exemplo de uso:\n",
    "factory = VehicleFactory()\n",
    "racecar_instance = factory.create_vehicle(\"Racecar\")\n",
    "van_instance = factory.create_vehicle(\"Van\")\n",
    "\n",
    "print(racecar_instance.drive())  # Saída: \"Racecar is zooming!\"\n",
    "print(van_instance.drive())      # Saída: \"Van is cruising!\"\n"
   ]
  },
  {
   "cell_type": "code",
   "execution_count": null,
   "id": "4be39543",
   "metadata": {},
   "outputs": [],
   "source": []
  }
 ],
 "metadata": {
  "kernelspec": {
   "display_name": "Python 3 (ipykernel)",
   "language": "python",
   "name": "python3"
  },
  "language_info": {
   "codemirror_mode": {
    "name": "ipython",
    "version": 3
   },
   "file_extension": ".py",
   "mimetype": "text/x-python",
   "name": "python",
   "nbconvert_exporter": "python",
   "pygments_lexer": "ipython3",
   "version": "3.7.16"
  }
 },
 "nbformat": 4,
 "nbformat_minor": 5
}
