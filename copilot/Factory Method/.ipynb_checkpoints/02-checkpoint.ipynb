{
 "cells": [
  {
   "cell_type": "code",
   "execution_count": 1,
   "id": "a7fe655c",
   "metadata": {},
   "outputs": [
    {
     "name": "stdout",
     "output_type": "stream",
     "text": [
      "Product name: Produto A\n",
      "ProductB name (reversed): B otudorP\n"
     ]
    }
   ],
   "source": [
    "class Product:\n",
    "    def __init__(self, name):\n",
    "        self.name = name\n",
    "\n",
    "    def write_name(self):\n",
    "        print(f\"Product name: {self.name}\")\n",
    "\n",
    "class ProductA(Product):\n",
    "    pass\n",
    "\n",
    "class ProductB(Product):\n",
    "    def write_name(self):\n",
    "        print(f\"ProductB name (reversed): {self.name[::-1]}\")\n",
    "\n",
    "# Exemplo de uso:\n",
    "product_a = ProductA(\"Produto A\")\n",
    "product_b = ProductB(\"Produto B\")\n",
    "\n",
    "product_a.write_name()  # Saída: \"Product name: Produto A\"\n",
    "product_b.write_name()  # Saída: \"ProductB name (reversed): B otuorP\"\n"
   ]
  },
  {
   "cell_type": "code",
   "execution_count": null,
   "id": "5fe68314",
   "metadata": {},
   "outputs": [],
   "source": []
  }
 ],
 "metadata": {
  "kernelspec": {
   "display_name": "Python 3 (ipykernel)",
   "language": "python",
   "name": "python3"
  },
  "language_info": {
   "codemirror_mode": {
    "name": "ipython",
    "version": 3
   },
   "file_extension": ".py",
   "mimetype": "text/x-python",
   "name": "python",
   "nbconvert_exporter": "python",
   "pygments_lexer": "ipython3",
   "version": "3.7.16"
  }
 },
 "nbformat": 4,
 "nbformat_minor": 5
}
