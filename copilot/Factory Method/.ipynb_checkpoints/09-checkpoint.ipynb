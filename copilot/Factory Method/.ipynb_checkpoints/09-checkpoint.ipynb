{
 "cells": [
  {
   "cell_type": "code",
   "execution_count": 1,
   "id": "0b122293",
   "metadata": {},
   "outputs": [
    {
     "name": "stdout",
     "output_type": "stream",
     "text": [
      "Woof!\n",
      "Meow!\n"
     ]
    }
   ],
   "source": [
    "class Dog:\n",
    "    def speak(self):\n",
    "        return \"Woof!\"\n",
    "\n",
    "class Cat:\n",
    "    def speak(self):\n",
    "        return \"Meow!\"\n",
    "\n",
    "class AnimalFactory:\n",
    "    def create_animal(self, animal_type):\n",
    "        if animal_type == \"Dog\":\n",
    "            return Dog()\n",
    "        elif animal_type == \"Cat\":\n",
    "            return Cat()\n",
    "        else:\n",
    "            raise ValueError(\"Animal type not supported\")\n",
    "\n",
    "# Exemplo de uso:\n",
    "factory = AnimalFactory()\n",
    "dog_instance = factory.create_animal(\"Dog\")\n",
    "cat_instance = factory.create_animal(\"Cat\")\n",
    "\n",
    "print(dog_instance.speak())  # Saída: \"Woof!\"\n",
    "print(cat_instance.speak())  # Saída: \"Meow!\"\n"
   ]
  },
  {
   "cell_type": "code",
   "execution_count": null,
   "id": "e28e1c6b",
   "metadata": {},
   "outputs": [],
   "source": []
  }
 ],
 "metadata": {
  "kernelspec": {
   "display_name": "Python 3 (ipykernel)",
   "language": "python",
   "name": "python3"
  },
  "language_info": {
   "codemirror_mode": {
    "name": "ipython",
    "version": 3
   },
   "file_extension": ".py",
   "mimetype": "text/x-python",
   "name": "python",
   "nbconvert_exporter": "python",
   "pygments_lexer": "ipython3",
   "version": "3.7.16"
  }
 },
 "nbformat": 4,
 "nbformat_minor": 5
}
