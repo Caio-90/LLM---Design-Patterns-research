{
 "cells": [
  {
   "cell_type": "code",
   "execution_count": 1,
   "id": "01b06f77",
   "metadata": {},
   "outputs": [
    {
     "name": "stdout",
     "output_type": "stream",
     "text": [
      "Digite 'desktop' ou 'web': web\n",
      "Web button created\n",
      "Rendering web dialog\n",
      "Closing web dialog\n"
     ]
    }
   ],
   "source": [
    "class Dialog:\n",
    "    def create_button(self):\n",
    "        raise NotImplementedError(\"Subclasses must implement create_button method\")\n",
    "\n",
    "    def render(self):\n",
    "        raise NotImplementedError(\"Subclasses must implement render method\")\n",
    "\n",
    "    def close_dialog(self):\n",
    "        raise NotImplementedError(\"Subclasses must implement close_dialog method\")\n",
    "\n",
    "class DesktopDialog(Dialog):\n",
    "    def create_button(self):\n",
    "        return \"Desktop button created\"\n",
    "\n",
    "    def render(self):\n",
    "        return \"Rendering desktop dialog\"\n",
    "\n",
    "    def close_dialog(self):\n",
    "        return \"Closing desktop dialog\"\n",
    "\n",
    "class WebDialog(Dialog):\n",
    "    def create_button(self):\n",
    "        return \"Web button created\"\n",
    "\n",
    "    def render(self):\n",
    "        return \"Rendering web dialog\"\n",
    "\n",
    "    def close_dialog(self):\n",
    "        return \"Closing web dialog\"\n",
    "\n",
    "def main():\n",
    "    # Exemplo de uso\n",
    "    client_type = input(\"Digite 'desktop' ou 'web': \").lower()\n",
    "\n",
    "    if client_type == \"desktop\":\n",
    "        dialog = DesktopDialog()\n",
    "    elif client_type == \"web\":\n",
    "        dialog = WebDialog()\n",
    "    else:\n",
    "        print(\"Tipo de cliente inválido. Escolha 'desktop' ou 'web'.\")\n",
    "        return\n",
    "\n",
    "    print(dialog.create_button())\n",
    "    print(dialog.render())\n",
    "    print(dialog.close_dialog())\n",
    "\n",
    "if __name__ == \"__main__\":\n",
    "    main()\n"
   ]
  },
  {
   "cell_type": "code",
   "execution_count": null,
   "id": "348554ce",
   "metadata": {},
   "outputs": [],
   "source": []
  }
 ],
 "metadata": {
  "kernelspec": {
   "display_name": "Python 3 (ipykernel)",
   "language": "python",
   "name": "python3"
  },
  "language_info": {
   "codemirror_mode": {
    "name": "ipython",
    "version": 3
   },
   "file_extension": ".py",
   "mimetype": "text/x-python",
   "name": "python",
   "nbconvert_exporter": "python",
   "pygments_lexer": "ipython3",
   "version": "3.7.16"
  }
 },
 "nbformat": 4,
 "nbformat_minor": 5
}
