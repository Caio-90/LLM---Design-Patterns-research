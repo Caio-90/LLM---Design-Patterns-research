{
 "cells": [
  {
   "cell_type": "code",
   "execution_count": 1,
   "id": "63bab701",
   "metadata": {},
   "outputs": [
    {
     "name": "stdout",
     "output_type": "stream",
     "text": [
      "JSON: {\"song_id\": 1, \"title\": \"Bohemian Rhapsody\", \"artist\": \"Queen\"}\n",
      "XML: <song><song_id>1</song_id><title>Bohemian Rhapsody</title><artist>Queen</artist></song>\n"
     ]
    }
   ],
   "source": [
    "class Song:\n",
    "    def __init__(self, song_id, title, artist):\n",
    "        self.song_id = song_id\n",
    "        self.title = title\n",
    "        self.artist = artist\n",
    "\n",
    "class SongSerializer:\n",
    "    def serialize(self, song, format_type):\n",
    "        if format_type == 'json':\n",
    "            return self._serialize_to_json(song)\n",
    "        elif format_type == 'xml':\n",
    "            return self._serialize_to_xml(song)\n",
    "        else:\n",
    "            raise ValueError(\"Formato inválido. Use 'json' ou 'xml'.\")\n",
    "\n",
    "    def _serialize_to_json(self, song):\n",
    "        # Implementação para serialização em JSON\n",
    "        return f'{{\"song_id\": {song.song_id}, \"title\": \"{song.title}\", \"artist\": \"{song.artist}\"}}'\n",
    "\n",
    "    def _serialize_to_xml(self, song):\n",
    "        # Implementação para serialização em XML\n",
    "        return f'<song><song_id>{song.song_id}</song_id><title>{song.title}</title><artist>{song.artist}</artist></song>'\n",
    "\n",
    "# Exemplo de uso:\n",
    "song = Song(song_id=1, title=\"Bohemian Rhapsody\", artist=\"Queen\")\n",
    "serializer = SongSerializer()\n",
    "\n",
    "json_data = serializer.serialize(song, format_type='json')\n",
    "xml_data = serializer.serialize(song, format_type='xml')\n",
    "\n",
    "print(\"JSON:\", json_data)\n",
    "print(\"XML:\", xml_data)\n"
   ]
  },
  {
   "cell_type": "code",
   "execution_count": null,
   "id": "52d83ab8",
   "metadata": {},
   "outputs": [],
   "source": []
  }
 ],
 "metadata": {
  "kernelspec": {
   "display_name": "Python 3 (ipykernel)",
   "language": "python",
   "name": "python3"
  },
  "language_info": {
   "codemirror_mode": {
    "name": "ipython",
    "version": 3
   },
   "file_extension": ".py",
   "mimetype": "text/x-python",
   "name": "python",
   "nbconvert_exporter": "python",
   "pygments_lexer": "ipython3",
   "version": "3.7.16"
  }
 },
 "nbformat": 4,
 "nbformat_minor": 5
}
