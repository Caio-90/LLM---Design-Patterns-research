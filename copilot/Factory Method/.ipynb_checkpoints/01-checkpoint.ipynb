{
 "cells": [
  {
   "cell_type": "code",
   "execution_count": 1,
   "id": "0adc227c",
   "metadata": {},
   "outputs": [
    {
     "name": "stdout",
     "output_type": "stream",
     "text": [
      "Perguntas para o desenvolvedor:\n",
      "1. Você está confortável com algoritmos?\n",
      "2. Qual é a sua experiência com linguagens de programação?\n",
      "Perguntas para o executivo de comunidade:\n",
      "1. Como você lida com pessoas e comunidades online?\n",
      "2. Qual é a sua experiência em marketing e networking?\n"
     ]
    }
   ],
   "source": [
    "from abc import ABC, abstractmethod\n",
    "\n",
    "# Interface base para o Factory Method\n",
    "class Interviwer(ABC):\n",
    "    @abstractmethod\n",
    "    def askQuestions(self):\n",
    "        pass\n",
    "\n",
    "# Implementação concreta para a classe Developer\n",
    "class Developer(Interviwer):\n",
    "    def askQuestions(self):\n",
    "        print(\"Perguntas para o desenvolvedor:\")\n",
    "        print(\"1. Você está confortável com algoritmos?\")\n",
    "        print(\"2. Qual é a sua experiência com linguagens de programação?\")\n",
    "        # Adicione mais perguntas relevantes aqui\n",
    "\n",
    "# Implementação concreta para a classe CommunityExecutive\n",
    "class CommunityExecutive(Interviwer):\n",
    "    def askQuestions(self):\n",
    "        print(\"Perguntas para o executivo de comunidade:\")\n",
    "        print(\"1. Como você lida com pessoas e comunidades online?\")\n",
    "        print(\"2. Qual é a sua experiência em marketing e networking?\")\n",
    "        # Adicione mais perguntas relevantes aqui\n",
    "\n",
    "# Factory Method para criar objetos Interviwer\n",
    "class InterviwerFactory:\n",
    "    def createInterviwer(self, role):\n",
    "        if role == \"Developer\":\n",
    "            return Developer()\n",
    "        elif role == \"CommunityExecutive\":\n",
    "            return CommunityExecutive()\n",
    "        else:\n",
    "            raise ValueError(\"Papel não suportado\")\n",
    "\n",
    "# Exemplo de uso\n",
    "if __name__ == \"__main__\":\n",
    "    factory = InterviwerFactory()\n",
    "    dev_interviwer = factory.createInterviwer(\"Developer\")\n",
    "    ce_interviwer = factory.createInterviwer(\"CommunityExecutive\")\n",
    "\n",
    "    dev_interviwer.askQuestions()\n",
    "    ce_interviwer.askQuestions()\n"
   ]
  },
  {
   "cell_type": "code",
   "execution_count": null,
   "id": "e2556a9a",
   "metadata": {},
   "outputs": [],
   "source": []
  }
 ],
 "metadata": {
  "kernelspec": {
   "display_name": "Python 3 (ipykernel)",
   "language": "python",
   "name": "python3"
  },
  "language_info": {
   "codemirror_mode": {
    "name": "ipython",
    "version": 3
   },
   "file_extension": ".py",
   "mimetype": "text/x-python",
   "name": "python",
   "nbconvert_exporter": "python",
   "pygments_lexer": "ipython3",
   "version": "3.7.16"
  }
 },
 "nbformat": 4,
 "nbformat_minor": 5
}
