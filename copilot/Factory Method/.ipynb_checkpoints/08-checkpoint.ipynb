{
 "cells": [
  {
   "cell_type": "code",
   "execution_count": 1,
   "id": "4b0bc46c",
   "metadata": {},
   "outputs": [
    {
     "name": "stdout",
     "output_type": "stream",
     "text": [
      "Informe a localização (França, Inglaterra ou Espanha): Espanha\n",
      "Informe a mensagem (meios de transporte: carro, moto e bicicleta): carro\n",
      "Tradução para o espanhol: carro\n"
     ]
    }
   ],
   "source": [
    "from abc import ABC, abstractmethod\n",
    "\n",
    "class Localizer(ABC):\n",
    "    @abstractmethod\n",
    "    def translate(self, message: str) -> str:\n",
    "        pass\n",
    "\n",
    "class FranceLocalizer(Localizer):\n",
    "    def translate(self, message: str) -> str:\n",
    "        # Implementação da tradução para o francês\n",
    "        return f\"Tradução para o francês: {message}\"\n",
    "\n",
    "class EnglandLocalizer(Localizer):\n",
    "    def translate(self, message: str) -> str:\n",
    "        # Implementação da tradução para o inglês\n",
    "        return f\"Tradução para o inglês: {message}\"\n",
    "\n",
    "class SpainLocalizer(Localizer):\n",
    "    def translate(self, message: str) -> str:\n",
    "        # Implementação da tradução para o espanhol\n",
    "        return f\"Tradução para o espanhol: {message}\"\n",
    "\n",
    "def create_localizer(location: str) -> Localizer:\n",
    "    if location.lower() == \"frança\":\n",
    "        return FranceLocalizer()\n",
    "    elif location.lower() == \"inglaterra\":\n",
    "        return EnglandLocalizer()\n",
    "    elif location.lower() == \"espanha\":\n",
    "        return SpainLocalizer()\n",
    "    else:\n",
    "        raise ValueError(\"Localização não suportada\")\n",
    "\n",
    "# Exemplo de uso\n",
    "if __name__ == \"__main__\":\n",
    "    location = input(\"Informe a localização (França, Inglaterra ou Espanha): \")\n",
    "    message = input(\"Informe a mensagem (meios de transporte: carro, moto e bicicleta): \")\n",
    "\n",
    "    try:\n",
    "        localizer = create_localizer(location)\n",
    "        translated_message = localizer.translate(message)\n",
    "        print(translated_message)\n",
    "    except ValueError as e:\n",
    "        print(f\"Erro: {e}\")\n"
   ]
  },
  {
   "cell_type": "code",
   "execution_count": null,
   "id": "f18d8a4e",
   "metadata": {},
   "outputs": [],
   "source": []
  }
 ],
 "metadata": {
  "kernelspec": {
   "display_name": "Python 3 (ipykernel)",
   "language": "python",
   "name": "python3"
  },
  "language_info": {
   "codemirror_mode": {
    "name": "ipython",
    "version": 3
   },
   "file_extension": ".py",
   "mimetype": "text/x-python",
   "name": "python",
   "nbconvert_exporter": "python",
   "pygments_lexer": "ipython3",
   "version": "3.7.16"
  }
 },
 "nbformat": 4,
 "nbformat_minor": 5
}
