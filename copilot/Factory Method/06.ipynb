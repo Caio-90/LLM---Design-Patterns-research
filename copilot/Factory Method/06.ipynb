{
 "cells": [
  {
   "cell_type": "code",
   "execution_count": 2,
   "id": "2396063a",
   "metadata": {},
   "outputs": [
    {
     "name": "stdout",
     "output_type": "stream",
     "text": [
      "Marca: Honda -- Modelo: CBR 500R -- Tipo: Esportiva -- Status: Desligado\n",
      "Marca: Toyota -- Modelo: Corolla -- Portas: 4 -- Status: Desligado\n"
     ]
    }
   ],
   "source": [
    "class Vehicle:\n",
    "    def __init__(self, brand, model):\n",
    "        self._brand = brand\n",
    "        self._model = model\n",
    "        self._connected = False\n",
    "\n",
    "    def __str__(self):\n",
    "        status = 'Ligado' if self._connected else 'Desligado'\n",
    "        return f'Marca: {self._brand} -- Modelo: {self._model} -- Status: {status}'\n",
    "\n",
    "class TwoWheeler(Vehicle):\n",
    "    def __init__(self, brand, model, type):\n",
    "        super().__init__(brand, model)\n",
    "        self._type = type\n",
    "\n",
    "    def __str__(self):\n",
    "        status = 'Ligado' if self._connected else 'Desligado'\n",
    "        return f'Marca: {self._brand} -- Modelo: {self._model} -- Tipo: {self._type} -- Status: {status}'\n",
    "\n",
    "class FourWheeler(Vehicle):\n",
    "    def __init__(self, brand, model, doors):\n",
    "        super().__init__(brand, model)\n",
    "        self._doors = doors\n",
    "\n",
    "    def __str__(self):\n",
    "        status = 'Ligado' if self._connected else 'Desligado'\n",
    "        return f'Marca: {self._brand} -- Modelo: {self._model} -- Portas: {self._doors} -- Status: {status}'\n",
    "\n",
    "# Criando uma moto (TwoWheeler)\n",
    "moto = TwoWheeler(brand='Honda', model='CBR 500R', type='Esportiva')\n",
    "print(moto)  # Saída: Marca: Honda -- Modelo: CBR 500R -- Tipo: Esportiva -- Status: Desligado\n",
    "\n",
    "# Criando um carro (FourWheeler)\n",
    "carro = FourWheeler(brand='Toyota', model='Corolla', doors=4)\n",
    "print(carro)  # Saída: Marca: Toyota -- Modelo: Corolla -- Portas: 4 -- Status: Desligado"
   ]
  },
  {
   "cell_type": "code",
   "execution_count": null,
   "id": "d6d39278",
   "metadata": {},
   "outputs": [],
   "source": []
  }
 ],
 "metadata": {
  "kernelspec": {
   "display_name": "Python 3 (ipykernel)",
   "language": "python",
   "name": "python3"
  },
  "language_info": {
   "codemirror_mode": {
    "name": "ipython",
    "version": 3
   },
   "file_extension": ".py",
   "mimetype": "text/x-python",
   "name": "python",
   "nbconvert_exporter": "python",
   "pygments_lexer": "ipython3",
   "version": "3.7.16"
  }
 },
 "nbformat": 4,
 "nbformat_minor": 5
}
