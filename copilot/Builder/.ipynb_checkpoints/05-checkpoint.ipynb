{
 "cells": [
  {
   "cell_type": "code",
   "execution_count": 1,
   "id": "3ee461c2",
   "metadata": {},
   "outputs": [
    {
     "name": "stdout",
     "output_type": "stream",
     "text": [
      "HDD: 512 GB\n",
      "RAM: 8 GB\n",
      "Graphics Card Enabled: True\n",
      "Bluetooth Enabled: True\n"
     ]
    }
   ],
   "source": [
    "class Computer:\n",
    "    def __init__(self, hdd, ram):\n",
    "        self.hdd = hdd\n",
    "        self.ram = ram\n",
    "        self.graphics_card_enabled = False\n",
    "        self.bluetooth_enabled = False\n",
    "\n",
    "class ComputerBuilder:\n",
    "    def __init__(self, hdd, ram):\n",
    "        self.computer = Computer(hdd, ram)\n",
    "\n",
    "    def enable_graphics_card(self):\n",
    "        self.computer.graphics_card_enabled = True\n",
    "        return self\n",
    "\n",
    "    def enable_bluetooth(self):\n",
    "        self.computer.bluetooth_enabled = True\n",
    "        return self\n",
    "\n",
    "    def build(self):\n",
    "        return self.computer\n",
    "\n",
    "# Exemplo de uso:\n",
    "builder = ComputerBuilder(hdd=512, ram=8)\n",
    "computer = builder.enable_graphics_card().enable_bluetooth().build()\n",
    "\n",
    "print(f\"HDD: {computer.hdd} GB\")\n",
    "print(f\"RAM: {computer.ram} GB\")\n",
    "print(f\"Graphics Card Enabled: {computer.graphics_card_enabled}\")\n",
    "print(f\"Bluetooth Enabled: {computer.bluetooth_enabled}\")\n"
   ]
  },
  {
   "cell_type": "code",
   "execution_count": null,
   "id": "ee69bd9f",
   "metadata": {},
   "outputs": [],
   "source": []
  }
 ],
 "metadata": {
  "kernelspec": {
   "display_name": "Python 3 (ipykernel)",
   "language": "python",
   "name": "python3"
  },
  "language_info": {
   "codemirror_mode": {
    "name": "ipython",
    "version": 3
   },
   "file_extension": ".py",
   "mimetype": "text/x-python",
   "name": "python",
   "nbconvert_exporter": "python",
   "pygments_lexer": "ipython3",
   "version": "3.7.16"
  }
 },
 "nbformat": 4,
 "nbformat_minor": 5
}
