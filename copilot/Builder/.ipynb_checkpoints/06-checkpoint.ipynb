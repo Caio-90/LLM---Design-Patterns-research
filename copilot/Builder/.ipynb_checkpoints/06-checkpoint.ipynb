{
 "cells": [
  {
   "cell_type": "code",
   "execution_count": 1,
   "id": "bb04e494",
   "metadata": {},
   "outputs": [
    {
     "name": "stdout",
     "output_type": "stream",
     "text": [
      "Refeição vegana:\n",
      "Prato: Salada de quinoa\n",
      "Bebida: Suco de abacaxi\n",
      "Embalagem: Reciclável\n"
     ]
    }
   ],
   "source": [
    "class Prato:\n",
    "    def __init__(self, nome):\n",
    "        self.nome = nome\n",
    "\n",
    "class Bebida:\n",
    "    def __init__(self, nome):\n",
    "        self.nome = nome\n",
    "\n",
    "class Embalagem:\n",
    "    def __init__(self, tipo):\n",
    "        self.tipo = tipo\n",
    "\n",
    "class RefeicaoVegana:\n",
    "    def __init__(self):\n",
    "        self.prato = None\n",
    "        self.bebida = None\n",
    "        self.embalagem = None\n",
    "\n",
    "class RefeicaoNaoVegana:\n",
    "    def __init__(self):\n",
    "        self.prato = None\n",
    "        self.bebida = None\n",
    "        self.embalagem = None\n",
    "\n",
    "class RefeicaoBuilder:\n",
    "    def __init__(self):\n",
    "        self.refeicao = None\n",
    "\n",
    "    def criar_refeicao(self):\n",
    "        self.refeicao = RefeicaoVegana()  # Pode ser RefeicaoNaoVegana se necessário\n",
    "\n",
    "    def adicionar_prato(self, nome):\n",
    "        self.refeicao.prato = Prato(nome)\n",
    "\n",
    "    def adicionar_bebida(self, nome):\n",
    "        self.refeicao.bebida = Bebida(nome)\n",
    "\n",
    "    def adicionar_embalagem(self, tipo):\n",
    "        self.refeicao.embalagem = Embalagem(tipo)\n",
    "\n",
    "    def obter_refeicao(self):\n",
    "        return self.refeicao\n",
    "\n",
    "builder_vegana = RefeicaoBuilder()\n",
    "builder_vegana.criar_refeicao()\n",
    "builder_vegana.adicionar_prato(\"Salada de quinoa\")\n",
    "builder_vegana.adicionar_bebida(\"Suco de abacaxi\")\n",
    "builder_vegana.adicionar_embalagem(\"Reciclável\")\n",
    "\n",
    "refeicao_vegana = builder_vegana.obter_refeicao()\n",
    "print(\"Refeição vegana:\")\n",
    "print(f\"Prato: {refeicao_vegana.prato.nome}\")\n",
    "print(f\"Bebida: {refeicao_vegana.bebida.nome}\")\n",
    "print(f\"Embalagem: {refeicao_vegana.embalagem.tipo}\")\n"
   ]
  },
  {
   "cell_type": "code",
   "execution_count": null,
   "id": "f5580a8a",
   "metadata": {},
   "outputs": [],
   "source": []
  }
 ],
 "metadata": {
  "kernelspec": {
   "display_name": "Python 3 (ipykernel)",
   "language": "python",
   "name": "python3"
  },
  "language_info": {
   "codemirror_mode": {
    "name": "ipython",
    "version": 3
   },
   "file_extension": ".py",
   "mimetype": "text/x-python",
   "name": "python",
   "nbconvert_exporter": "python",
   "pygments_lexer": "ipython3",
   "version": "3.7.16"
  }
 },
 "nbformat": 4,
 "nbformat_minor": 5
}
