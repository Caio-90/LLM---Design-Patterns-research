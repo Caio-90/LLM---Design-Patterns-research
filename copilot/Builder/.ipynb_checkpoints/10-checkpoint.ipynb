{
 "cells": [
  {
   "cell_type": "code",
   "execution_count": 1,
   "id": "02ec2df3",
   "metadata": {},
   "outputs": [
    {
     "name": "stdout",
     "output_type": "stream",
     "text": [
      "Profissão: MAGE\n",
      "Tipo de cabelo: LONG_STRAIGHT\n",
      "Cor do cabelo: BLOND\n",
      "Armadura: Robe (Defesa: 10)\n",
      "Arma: Staff (Dano: 5)\n"
     ]
    }
   ],
   "source": [
    "from enum import Enum\n",
    "\n",
    "class Profession(Enum):\n",
    "    MAGE = 1\n",
    "    WARRIOR = 2\n",
    "    THIEF = 3\n",
    "\n",
    "class HairType(Enum):\n",
    "    LONG_STRAIGHT = 1\n",
    "    LONG_CURLY = 2\n",
    "    SHORT = 3\n",
    "    BALD = 4\n",
    "\n",
    "class HairColor(Enum):\n",
    "    BLOND = 1\n",
    "    BLACK = 2\n",
    "\n",
    "class Armor:\n",
    "    def __init__(self, name, defense):\n",
    "        self.name = name\n",
    "        self.defense = defense\n",
    "\n",
    "class Weapon:\n",
    "    def __init__(self, name, damage):\n",
    "        self.name = name\n",
    "        self.damage = damage\n",
    "\n",
    "class HeroBuilder:\n",
    "    def __init__(self):\n",
    "        self.hero = None\n",
    "\n",
    "    def create_hero(self):\n",
    "        self.hero = Hero()\n",
    "\n",
    "    def set_profession(self, profession):\n",
    "        self.hero.profession = profession\n",
    "\n",
    "    def set_hair_type(self, hair_type):\n",
    "        self.hero.hair_type = hair_type\n",
    "\n",
    "    def set_hair_color(self, hair_color):\n",
    "        self.hero.hair_color = hair_color\n",
    "\n",
    "    def set_armor(self, armor):\n",
    "        self.hero.armor = armor\n",
    "\n",
    "    def set_weapon(self, weapon):\n",
    "        self.hero.weapon = weapon\n",
    "\n",
    "    def build(self):\n",
    "        return self.hero\n",
    "\n",
    "class Hero:\n",
    "    def __init__(self):\n",
    "        self.profession = None\n",
    "        self.hair_type = None\n",
    "        self.hair_color = None\n",
    "        self.armor = None\n",
    "        self.weapon = None\n",
    "\n",
    "# Exemplo de uso:\n",
    "builder = HeroBuilder()\n",
    "builder.create_hero()\n",
    "builder.set_profession(Profession.MAGE)\n",
    "builder.set_hair_type(HairType.LONG_STRAIGHT)\n",
    "builder.set_hair_color(HairColor.BLOND)\n",
    "builder.set_armor(Armor(\"Robe\", 10))\n",
    "builder.set_weapon(Weapon(\"Staff\", 5))\n",
    "hero = builder.build()\n",
    "\n",
    "print(f\"Profissão: {hero.profession.name}\")\n",
    "print(f\"Tipo de cabelo: {hero.hair_type.name}\")\n",
    "print(f\"Cor do cabelo: {hero.hair_color.name}\")\n",
    "print(f\"Armadura: {hero.armor.name} (Defesa: {hero.armor.defense})\")\n",
    "print(f\"Arma: {hero.weapon.name} (Dano: {hero.weapon.damage})\")\n"
   ]
  },
  {
   "cell_type": "code",
   "execution_count": null,
   "id": "881ac32b",
   "metadata": {},
   "outputs": [],
   "source": []
  }
 ],
 "metadata": {
  "kernelspec": {
   "display_name": "Python 3 (ipykernel)",
   "language": "python",
   "name": "python3"
  },
  "language_info": {
   "codemirror_mode": {
    "name": "ipython",
    "version": 3
   },
   "file_extension": ".py",
   "mimetype": "text/x-python",
   "name": "python",
   "nbconvert_exporter": "python",
   "pygments_lexer": "ipython3",
   "version": "3.7.16"
  }
 },
 "nbformat": 4,
 "nbformat_minor": 5
}
