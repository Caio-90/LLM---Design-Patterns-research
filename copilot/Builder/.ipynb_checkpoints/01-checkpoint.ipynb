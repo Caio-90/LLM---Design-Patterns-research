{
 "cells": [
  {
   "cell_type": "code",
   "execution_count": 1,
   "id": "807e3df4",
   "metadata": {},
   "outputs": [
    {
     "name": "stdout",
     "output_type": "stream",
     "text": [
      "Tamanho: Large\n",
      "Queijo: True\n",
      "Pepperoni: True\n",
      "Tomate: True\n",
      "Lettuce: False\n"
     ]
    }
   ],
   "source": [
    "class Burger:\n",
    "    def __init__(self, size, cheese=False, pepperoni=False, tomato=False, lettuce=False):\n",
    "        self.size = size\n",
    "        self.cheese = cheese\n",
    "        self.pepperoni = pepperoni\n",
    "        self.tomato = tomato\n",
    "        self.lettuce = lettuce\n",
    "\n",
    "class BurgerBuilder:\n",
    "    def __init__(self, size):\n",
    "        self.burger = Burger(size)\n",
    "\n",
    "    def add_cheese(self):\n",
    "        self.burger.cheese = True\n",
    "        return self\n",
    "\n",
    "    def add_pepperoni(self):\n",
    "        self.burger.pepperoni = True\n",
    "        return self\n",
    "\n",
    "    def add_tomato(self):\n",
    "        self.burger.tomato = True\n",
    "        return self\n",
    "\n",
    "    def add_lettuce(self):\n",
    "        self.burger.lettuce = True\n",
    "        return self\n",
    "\n",
    "    def build(self):\n",
    "        return self.burger\n",
    "\n",
    "# Exemplo de uso:\n",
    "builder = BurgerBuilder(size=\"Large\")\n",
    "burger = builder.add_cheese().add_pepperoni().add_tomato().build()\n",
    "\n",
    "print(f\"Tamanho: {burger.size}\")\n",
    "print(f\"Queijo: {burger.cheese}\")\n",
    "print(f\"Pepperoni: {burger.pepperoni}\")\n",
    "print(f\"Tomate: {burger.tomato}\")\n",
    "print(f\"Lettuce: {burger.lettuce}\")\n"
   ]
  },
  {
   "cell_type": "code",
   "execution_count": null,
   "id": "5a50c636",
   "metadata": {},
   "outputs": [],
   "source": []
  }
 ],
 "metadata": {
  "kernelspec": {
   "display_name": "Python 3 (ipykernel)",
   "language": "python",
   "name": "python3"
  },
  "language_info": {
   "codemirror_mode": {
    "name": "ipython",
    "version": 3
   },
   "file_extension": ".py",
   "mimetype": "text/x-python",
   "name": "python",
   "nbconvert_exporter": "python",
   "pygments_lexer": "ipython3",
   "version": "3.7.16"
  }
 },
 "nbformat": 4,
 "nbformat_minor": 5
}
