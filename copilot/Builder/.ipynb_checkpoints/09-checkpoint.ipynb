{
 "cells": [
  {
   "cell_type": "code",
   "execution_count": 1,
   "id": "1e7a4fee",
   "metadata": {},
   "outputs": [
    {
     "name": "stdout",
     "output_type": "stream",
     "text": [
      "Cheeseburger:\n",
      "Bun: Sesame\n",
      "Meat: Beef\n",
      "Cheese: Cheddar\n",
      "Salad: Lettuce, Tomato\n",
      "Sauce: Ketchup, Mustard\n"
     ]
    }
   ],
   "source": [
    "class Burger:\n",
    "    def __init__(self):\n",
    "        self.bun = \"\"\n",
    "        self.meat = \"\"\n",
    "        self.salad = \"\"\n",
    "        self.cheese = \"\"\n",
    "        self.sauce = \"\"\n",
    "\n",
    "class CheeseBurgerBuilder:\n",
    "    def __init__(self):\n",
    "        self.burger = Burger()\n",
    "\n",
    "    def set_bun(self, bun):\n",
    "        self.burger.bun = bun\n",
    "        return self\n",
    "\n",
    "    def set_meat(self, meat):\n",
    "        self.burger.meat = meat\n",
    "        return self\n",
    "\n",
    "    def set_salad(self, salad):\n",
    "        self.burger.salad = salad\n",
    "        return self\n",
    "\n",
    "    def set_cheese(self, cheese):\n",
    "        self.burger.cheese = cheese\n",
    "        return self\n",
    "\n",
    "    def set_sauce(self, sauce):\n",
    "        self.burger.sauce = sauce\n",
    "        return self\n",
    "\n",
    "    def build(self):\n",
    "        return self.burger\n",
    "\n",
    "# Exemplo de uso:\n",
    "cheeseburger = CheeseBurgerBuilder() \\\n",
    "    .set_bun(\"Sesame\") \\\n",
    "    .set_meat(\"Beef\") \\\n",
    "    .set_cheese(\"Cheddar\") \\\n",
    "    .set_salad(\"Lettuce, Tomato\") \\\n",
    "    .set_sauce(\"Ketchup, Mustard\") \\\n",
    "    .build()\n",
    "\n",
    "print(\"Cheeseburger:\")\n",
    "print(f\"Bun: {cheeseburger.bun}\")\n",
    "print(f\"Meat: {cheeseburger.meat}\")\n",
    "print(f\"Cheese: {cheeseburger.cheese}\")\n",
    "print(f\"Salad: {cheeseburger.salad}\")\n",
    "print(f\"Sauce: {cheeseburger.sauce}\")\n"
   ]
  },
  {
   "cell_type": "code",
   "execution_count": null,
   "id": "d7debeb8",
   "metadata": {},
   "outputs": [],
   "source": [
    "s"
   ]
  }
 ],
 "metadata": {
  "kernelspec": {
   "display_name": "Python 3 (ipykernel)",
   "language": "python",
   "name": "python3"
  },
  "language_info": {
   "codemirror_mode": {
    "name": "ipython",
    "version": 3
   },
   "file_extension": ".py",
   "mimetype": "text/x-python",
   "name": "python",
   "nbconvert_exporter": "python",
   "pygments_lexer": "ipython3",
   "version": "3.7.16"
  }
 },
 "nbformat": 4,
 "nbformat_minor": 5
}
