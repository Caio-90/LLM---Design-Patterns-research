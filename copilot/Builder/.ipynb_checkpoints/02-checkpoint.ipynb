{
 "cells": [
  {
   "cell_type": "code",
   "execution_count": 1,
   "id": "3eb516e1",
   "metadata": {},
   "outputs": [
    {
     "name": "stdout",
     "output_type": "stream",
     "text": [
      "Tipo: Italiana\n",
      "Tamanho: Média\n",
      "Massa: Fina\n",
      "Molho: Tomate\n",
      "Cobertura: Queijo, presunto e azeitonas\n"
     ]
    }
   ],
   "source": [
    "class ProdutoPizza:\n",
    "    def __init__(self):\n",
    "        self.tipo_pizza = None\n",
    "        self.tamanho_pizza = None\n",
    "        self.massa = None\n",
    "        self.molho = None\n",
    "        self.cobertura = None\n",
    "\n",
    "class PizzaBuilder:\n",
    "    def __init__(self):\n",
    "        self.pizza = ProdutoPizza()\n",
    "\n",
    "    def set_tipo_pizza(self, tipo_pizza):\n",
    "        self.pizza.tipo_pizza = tipo_pizza\n",
    "        return self\n",
    "\n",
    "    def set_tamanho_pizza(self, tamanho_pizza):\n",
    "        self.pizza.tamanho_pizza = tamanho_pizza\n",
    "        return self\n",
    "\n",
    "    def set_massa(self, massa):\n",
    "        self.pizza.massa = massa\n",
    "        return self\n",
    "\n",
    "    def set_molho(self, molho):\n",
    "        self.pizza.molho = molho\n",
    "        return self\n",
    "\n",
    "    def set_cobertura(self, cobertura):\n",
    "        self.pizza.cobertura = cobertura\n",
    "        return self\n",
    "\n",
    "    def build(self):\n",
    "        return self.pizza\n",
    "\n",
    "# Exemplo de uso:\n",
    "builder = PizzaBuilder()\n",
    "pizza_italiana = builder.set_tipo_pizza(\"Italiana\").set_tamanho_pizza(\"Média\").set_massa(\"Fina\").set_molho(\"Tomate\").set_cobertura(\"Queijo, presunto e azeitonas\").build()\n",
    "\n",
    "print(f\"Tipo: {pizza_italiana.tipo_pizza}\")\n",
    "print(f\"Tamanho: {pizza_italiana.tamanho_pizza}\")\n",
    "print(f\"Massa: {pizza_italiana.massa}\")\n",
    "print(f\"Molho: {pizza_italiana.molho}\")\n",
    "print(f\"Cobertura: {pizza_italiana.cobertura}\")\n"
   ]
  },
  {
   "cell_type": "code",
   "execution_count": null,
   "id": "6beaef24",
   "metadata": {},
   "outputs": [],
   "source": []
  }
 ],
 "metadata": {
  "kernelspec": {
   "display_name": "Python 3 (ipykernel)",
   "language": "python",
   "name": "python3"
  },
  "language_info": {
   "codemirror_mode": {
    "name": "ipython",
    "version": 3
   },
   "file_extension": ".py",
   "mimetype": "text/x-python",
   "name": "python",
   "nbconvert_exporter": "python",
   "pygments_lexer": "ipython3",
   "version": "3.7.16"
  }
 },
 "nbformat": 4,
 "nbformat_minor": 5
}
