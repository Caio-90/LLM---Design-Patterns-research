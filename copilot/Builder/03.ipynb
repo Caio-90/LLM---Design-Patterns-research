{
 "cells": [
  {
   "cell_type": "code",
   "execution_count": 1,
   "id": "5bddd7df",
   "metadata": {},
   "outputs": [
    {
     "name": "stdout",
     "output_type": "stream",
     "text": [
      "Carro personalizado: {'seats': 5, 'engine': 'V6', 'trip_computer': True, 'gps': True}\n"
     ]
    }
   ],
   "source": [
    "class Car:\n",
    "    def __init__(self):\n",
    "        self.seats = None\n",
    "        self.engine = None\n",
    "        self.trip_computer = None\n",
    "        self.gps = None\n",
    "\n",
    "    def set_seats(self, seats):\n",
    "        self.seats = seats\n",
    "        return self\n",
    "\n",
    "    def set_engine(self, engine):\n",
    "        self.engine = engine\n",
    "        return self\n",
    "\n",
    "    def set_trip_computer(self, trip_computer):\n",
    "        self.trip_computer = trip_computer\n",
    "        return self\n",
    "\n",
    "    def set_gps(self, gps):\n",
    "        self.gps = gps\n",
    "        return self\n",
    "\n",
    "# Exemplo de uso:\n",
    "carro_personalizado = Car().set_seats(5).set_engine(\"V6\").set_trip_computer(True).set_gps(True)\n",
    "print(f\"Carro personalizado: {carro_personalizado.__dict__}\")\n"
   ]
  },
  {
   "cell_type": "code",
   "execution_count": null,
   "id": "e738d245",
   "metadata": {},
   "outputs": [],
   "source": []
  }
 ],
 "metadata": {
  "kernelspec": {
   "display_name": "Python 3 (ipykernel)",
   "language": "python",
   "name": "python3"
  },
  "language_info": {
   "codemirror_mode": {
    "name": "ipython",
    "version": 3
   },
   "file_extension": ".py",
   "mimetype": "text/x-python",
   "name": "python",
   "nbconvert_exporter": "python",
   "pygments_lexer": "ipython3",
   "version": "3.7.16"
  }
 },
 "nbformat": 4,
 "nbformat_minor": 5
}
