{
 "cells": [
  {
   "cell_type": "code",
   "execution_count": 1,
   "id": "9f4d02d3",
   "metadata": {},
   "outputs": [
    {
     "name": "stdout",
     "output_type": "stream",
     "text": [
      "João Silva\n",
      "Rua A 123\n",
      "987654321 residencial\n",
      "999888777 celular\n"
     ]
    }
   ],
   "source": [
    "class Endereco:\n",
    "    def __init__(self, logradouro, numero, complemento, bairro, cidade, estado, pais):\n",
    "        self.logradouro = logradouro\n",
    "        self.numero = numero\n",
    "        self.complemento = complemento\n",
    "        self.bairro = bairro\n",
    "        self.cidade = cidade\n",
    "        self.estado = estado\n",
    "        self.pais = pais\n",
    "\n",
    "class Telefone:\n",
    "    def __init__(self, ddd, numero, tipoTelefone):\n",
    "        self.ddd = ddd\n",
    "        self.numero = numero\n",
    "        self.tipoTelefone = tipoTelefone\n",
    "\n",
    "class TelefoneResidencial(Telefone):\n",
    "    def __init__(self, ddd, numero):\n",
    "        super().__init__(ddd, numero, \"residencial\")\n",
    "\n",
    "class TelefoneCelular(Telefone):\n",
    "    def __init__(self, ddd, numero):\n",
    "        super().__init__(ddd, numero, \"celular\")\n",
    "\n",
    "class Pessoa:\n",
    "    def __init__(self, nome, sobrenome, data_de_nascimento, endereco, telefones):\n",
    "        self.nome = nome\n",
    "        self.sobrenome = sobrenome\n",
    "        self.data_de_nascimento = data_de_nascimento\n",
    "        self.endereco = endereco\n",
    "        self.telefones = telefones\n",
    "\n",
    "class PessoaBuilder:\n",
    "    def __init__(self, nome, sobrenome):\n",
    "        self.nome = nome\n",
    "        self.sobrenome = sobrenome\n",
    "        self.data_de_nascimento = None\n",
    "        self.endereco = None\n",
    "        self.telefones = []\n",
    "\n",
    "    def set_data_de_nascimento(self, data_de_nascimento):\n",
    "        self.data_de_nascimento = data_de_nascimento\n",
    "        return self\n",
    "\n",
    "    def set_endereco(self, endereco):\n",
    "        self.endereco = endereco\n",
    "        return self\n",
    "\n",
    "    def add_telefone(self, telefone):\n",
    "        self.telefones.append(telefone)\n",
    "        return self\n",
    "\n",
    "    def build(self):\n",
    "        return Pessoa(self.nome, self.sobrenome, self.data_de_nascimento, self.endereco, self.telefones)\n",
    "\n",
    "endereco1 = Endereco(\"Rua A\", \"123\", \"Apto 1\", \"Centro\", \"Cidade X\", \"Estado Y\", \"Brasil\")\n",
    "telefone_residencial = TelefoneResidencial(\"11\", \"987654321\")\n",
    "telefone_celular = TelefoneCelular(\"11\", \"999888777\")\n",
    "\n",
    "pessoa_builder = PessoaBuilder(\"João\", \"Silva\")\n",
    "pessoa = pessoa_builder.set_data_de_nascimento(\"01/01/1990\").set_endereco(endereco1).add_telefone(telefone_residencial).add_telefone(telefone_celular).build()\n",
    "\n",
    "print(pessoa.nome, pessoa.sobrenome)\n",
    "print(pessoa.endereco.logradouro, pessoa.endereco.numero)\n",
    "print(pessoa.telefones[0].numero, pessoa.telefones[0].tipoTelefone)\n",
    "print(pessoa.telefones[1].numero, pessoa.telefones[1].tipoTelefone)\n"
   ]
  },
  {
   "cell_type": "code",
   "execution_count": null,
   "id": "3ecca500",
   "metadata": {},
   "outputs": [],
   "source": []
  }
 ],
 "metadata": {
  "kernelspec": {
   "display_name": "Python 3 (ipykernel)",
   "language": "python",
   "name": "python3"
  },
  "language_info": {
   "codemirror_mode": {
    "name": "ipython",
    "version": 3
   },
   "file_extension": ".py",
   "mimetype": "text/x-python",
   "name": "python",
   "nbconvert_exporter": "python",
   "pygments_lexer": "ipython3",
   "version": "3.7.16"
  }
 },
 "nbformat": 4,
 "nbformat_minor": 5
}
