{
 "cells": [
  {
   "cell_type": "code",
   "execution_count": 1,
   "id": "48b50865",
   "metadata": {},
   "outputs": [
    {
     "name": "stdout",
     "output_type": "stream",
     "text": [
      "Conta 12345 (João) - Saldo: R$800.00\n"
     ]
    }
   ],
   "source": [
    "class BankAccount:\n",
    "    def __init__(self, account_number, owner, branch, balance=0, interest_rate=0):\n",
    "        self.account_number = account_number\n",
    "        self.owner = owner\n",
    "        self.branch = branch\n",
    "        self.balance = balance\n",
    "        self.interest_rate = interest_rate\n",
    "\n",
    "    def deposit(self, amount):\n",
    "        self.balance += amount\n",
    "\n",
    "    def withdraw(self, amount):\n",
    "        if self.balance >= amount:\n",
    "            self.balance -= amount\n",
    "        else:\n",
    "            print(\"Saldo insuficiente para saque.\")\n",
    "\n",
    "    def __str__(self):\n",
    "        return f\"Conta {self.account_number} ({self.owner}) - Saldo: R${self.balance:.2f}\"\n",
    "\n",
    "# Exemplo de uso:\n",
    "minha_conta = BankAccount(account_number=\"12345\", owner=\"João\", branch=\"Centro\")\n",
    "minha_conta.deposit(1000)\n",
    "minha_conta.withdraw(200)\n",
    "print(minha_conta)\n"
   ]
  },
  {
   "cell_type": "code",
   "execution_count": null,
   "id": "346a37ab",
   "metadata": {},
   "outputs": [],
   "source": []
  }
 ],
 "metadata": {
  "kernelspec": {
   "display_name": "Python 3 (ipykernel)",
   "language": "python",
   "name": "python3"
  },
  "language_info": {
   "codemirror_mode": {
    "name": "ipython",
    "version": 3
   },
   "file_extension": ".py",
   "mimetype": "text/x-python",
   "name": "python",
   "nbconvert_exporter": "python",
   "pygments_lexer": "ipython3",
   "version": "3.7.16"
  }
 },
 "nbformat": 4,
 "nbformat_minor": 5
}
