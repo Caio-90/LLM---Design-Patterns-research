{
 "cells": [
  {
   "cell_type": "code",
   "execution_count": 1,
   "id": "8fbdb461",
   "metadata": {},
   "outputs": [
    {
     "name": "stdout",
     "output_type": "stream",
     "text": [
      "Escolha sua bebida:\n",
      "1. Café\n",
      "2. Chá\n",
      "Digite o número da bebida desejada: 1\n",
      "Você está bebendo café.\n"
     ]
    }
   ],
   "source": [
    "from abc import ABC, abstractmethod\n",
    "\n",
    "# Classe abstrata HotDrink\n",
    "class HotDrink(ABC):\n",
    "    @abstractmethod\n",
    "    def consume(self):\n",
    "        pass\n",
    "\n",
    "# Filhas de HotDrink\n",
    "class Coffee(HotDrink):\n",
    "    def consume(self):\n",
    "        return \"Você está bebendo café.\"\n",
    "\n",
    "class Tea(HotDrink):\n",
    "    def consume(self):\n",
    "        return \"Você está bebendo chá.\"\n",
    "\n",
    "# Classe HotDrinkMachine\n",
    "class HotDrinkMachine:\n",
    "    def make_drink(self):\n",
    "        print(\"Escolha sua bebida:\")\n",
    "        print(\"1. Café\")\n",
    "        print(\"2. Chá\")\n",
    "        choice = input(\"Digite o número da bebida desejada: \")\n",
    "\n",
    "        if choice == \"1\":\n",
    "            return Coffee()\n",
    "        elif choice == \"2\":\n",
    "            return Tea()\n",
    "        else:\n",
    "            print(\"Opção inválida. Tente novamente.\")\n",
    "\n",
    "# Exemplo de uso\n",
    "if __name__ == \"__main__\":\n",
    "    machine = HotDrinkMachine()\n",
    "    drink = machine.make_drink()\n",
    "    print(drink.consume())\n"
   ]
  },
  {
   "cell_type": "code",
   "execution_count": null,
   "id": "f7ee6dc3",
   "metadata": {},
   "outputs": [],
   "source": []
  }
 ],
 "metadata": {
  "kernelspec": {
   "display_name": "Python 3 (ipykernel)",
   "language": "python",
   "name": "python3"
  },
  "language_info": {
   "codemirror_mode": {
    "name": "ipython",
    "version": 3
   },
   "file_extension": ".py",
   "mimetype": "text/x-python",
   "name": "python",
   "nbconvert_exporter": "python",
   "pygments_lexer": "ipython3",
   "version": "3.7.16"
  }
 },
 "nbformat": 4,
 "nbformat_minor": 5
}
