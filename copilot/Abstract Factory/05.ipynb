{
 "cells": [
  {
   "cell_type": "code",
   "execution_count": 1,
   "id": "3e0ad185",
   "metadata": {},
   "outputs": [
    {
     "name": "stdout",
     "output_type": "stream",
     "text": [
      "Escolha o tema (Faroeste ou Espacial): Espacial\n",
      "Produto criado: Espacial: Revólver\n"
     ]
    }
   ],
   "source": [
    "class Produto:\n",
    "    def __init__(self, nome):\n",
    "        self.nome = nome\n",
    "\n",
    "class Fabrica:\n",
    "    def criar_produto(self, nome):\n",
    "        raise NotImplementedError(\"Método criar_produto deve ser implementado nas subclasses.\")\n",
    "\n",
    "class FabricaFaroeste(Fabrica):\n",
    "    def criar_produto(self, nome):\n",
    "        return Produto(f\"Faroeste: {nome}\")\n",
    "\n",
    "class FabricaEspacial(Fabrica):\n",
    "    def criar_produto(self, nome):\n",
    "        return Produto(f\"Espacial: {nome}\")\n",
    "\n",
    "def main():\n",
    "    tema = input(\"Escolha o tema (Faroeste ou Espacial): \").lower()\n",
    "\n",
    "    if tema == \"faroeste\":\n",
    "        fabrica = FabricaFaroeste()\n",
    "    elif tema == \"espacial\":\n",
    "        fabrica = FabricaEspacial()\n",
    "    else:\n",
    "        print(\"Tema inválido. Escolha entre Faroeste ou Espacial.\")\n",
    "        return\n",
    "\n",
    "    produto = fabrica.criar_produto(\"Revólver\")  # Exemplo de produto\n",
    "    print(f\"Produto criado: {produto.nome}\")\n",
    "\n",
    "if __name__ == \"__main__\":\n",
    "    main()\n"
   ]
  },
  {
   "cell_type": "code",
   "execution_count": null,
   "id": "39112d67",
   "metadata": {},
   "outputs": [],
   "source": []
  }
 ],
 "metadata": {
  "kernelspec": {
   "display_name": "Python 3 (ipykernel)",
   "language": "python",
   "name": "python3"
  },
  "language_info": {
   "codemirror_mode": {
    "name": "ipython",
    "version": 3
   },
   "file_extension": ".py",
   "mimetype": "text/x-python",
   "name": "python",
   "nbconvert_exporter": "python",
   "pygments_lexer": "ipython3",
   "version": "3.7.16"
  }
 },
 "nbformat": 4,
 "nbformat_minor": 5
}
