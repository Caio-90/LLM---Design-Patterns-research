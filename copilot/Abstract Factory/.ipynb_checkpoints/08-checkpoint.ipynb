{
 "cells": [
  {
   "cell_type": "code",
   "execution_count": 2,
   "id": "91f0b43e",
   "metadata": {},
   "outputs": [
    {
     "name": "stdout",
     "output_type": "stream",
     "text": [
      "Desenhando um quadrado.\n",
      "Desenhando um retângulo.\n"
     ]
    }
   ],
   "source": [
    "from abc import ABC, abstractmethod\n",
    "\n",
    "class FormaGeometrica(ABC):\n",
    "    @abstractmethod\n",
    "    def desenhar(self):\n",
    "        pass\n",
    "\n",
    "class Quadrado(FormaGeometrica):\n",
    "    def desenhar(self):\n",
    "        return \"Desenhando um quadrado.\"\n",
    "\n",
    "class Retangulo(FormaGeometrica):\n",
    "    def desenhar(self):\n",
    "        return \"Desenhando um retângulo.\"\n",
    "    \n",
    "class FabricaFormaGeometrica(ABC):\n",
    "    @abstractmethod\n",
    "    def criar_forma(self):\n",
    "        pass\n",
    "\n",
    "class FabricaQuadrado(FabricaFormaGeometrica):\n",
    "    def criar_forma(self):\n",
    "        return Quadrado()\n",
    "\n",
    "class FabricaRetangulo(FabricaFormaGeometrica):\n",
    "    def criar_forma(self):\n",
    "        return Retangulo()\n",
    "\n",
    "fabrica_quadrado = FabricaQuadrado()\n",
    "quadrado = fabrica_quadrado.criar_forma()\n",
    "print(quadrado.desenhar())  # Saída: \"Desenhando um quadrado.\"\n",
    "\n",
    "fabrica_retangulo = FabricaRetangulo()\n",
    "retangulo = fabrica_retangulo.criar_forma()\n",
    "print(retangulo.desenhar())  # Saída: \"Desenhando um retângulo.\"\n",
    "\n"
   ]
  },
  {
   "cell_type": "code",
   "execution_count": null,
   "id": "9bd25bbe",
   "metadata": {},
   "outputs": [],
   "source": []
  }
 ],
 "metadata": {
  "kernelspec": {
   "display_name": "Python 3 (ipykernel)",
   "language": "python",
   "name": "python3"
  },
  "language_info": {
   "codemirror_mode": {
    "name": "ipython",
    "version": 3
   },
   "file_extension": ".py",
   "mimetype": "text/x-python",
   "name": "python",
   "nbconvert_exporter": "python",
   "pygments_lexer": "ipython3",
   "version": "3.7.16"
  }
 },
 "nbformat": 4,
 "nbformat_minor": 5
}
