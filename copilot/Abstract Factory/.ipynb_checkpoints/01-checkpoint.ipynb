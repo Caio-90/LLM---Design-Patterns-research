{
 "cells": [
  {
   "cell_type": "code",
   "execution_count": 1,
   "id": "8742545d",
   "metadata": {},
   "outputs": [
    {
     "name": "stdout",
     "output_type": "stream",
     "text": [
      "This is a wooden door.\n",
      "This expert can fit wooden doors.\n",
      "This is an iron door.\n",
      "This expert can fit iron doors.\n"
     ]
    }
   ],
   "source": [
    "from abc import ABC, abstractmethod\n",
    "\n",
    "class Door(ABC):\n",
    "    @abstractmethod\n",
    "    def get_description(self) -> str:\n",
    "        pass\n",
    "\n",
    "class DoorFittingExpert(ABC):\n",
    "    @abstractmethod\n",
    "    def get_description(self) -> str:\n",
    "        pass\n",
    "\n",
    "class WoodenDoor(Door):\n",
    "    def get_description(self) -> str:\n",
    "        return \"This is a wooden door.\"\n",
    "\n",
    "class IronDoor(Door):\n",
    "    def get_description(self) -> str:\n",
    "        return \"This is an iron door.\"\n",
    "\n",
    "class Welder(DoorFittingExpert):\n",
    "    def get_description(self) -> str:\n",
    "        return \"This expert can fit iron doors.\"\n",
    "\n",
    "class Carpenter(DoorFittingExpert):\n",
    "    def get_description(self) -> str:\n",
    "        return \"This expert can fit wooden doors.\"\n",
    "\n",
    "class DoorFactory(ABC):\n",
    "    @abstractmethod\n",
    "    def create_door(self) -> Door:\n",
    "        pass\n",
    "\n",
    "    @abstractmethod\n",
    "    def create_expert(self) -> DoorFittingExpert:\n",
    "        pass\n",
    "\n",
    "class WoodenDoorFactory(DoorFactory):\n",
    "    def create_door(self) -> Door:\n",
    "        return WoodenDoor()\n",
    "\n",
    "    def create_expert(self) -> DoorFittingExpert:\n",
    "        return Carpenter()\n",
    "\n",
    "class IronDoorFactory(DoorFactory):\n",
    "    def create_door(self) -> Door:\n",
    "        return IronDoor()\n",
    "\n",
    "    def create_expert(self) -> DoorFittingExpert:\n",
    "        return Welder()\n",
    "\n",
    "wooden_factory = WoodenDoorFactory()\n",
    "wooden_door = wooden_factory.create_door()\n",
    "wooden_expert = wooden_factory.create_expert()\n",
    "\n",
    "print(wooden_door.get_description())  # Output: \"This is a wooden door.\"\n",
    "print(wooden_expert.get_description())  # Output: \"This expert can fit wooden doors.\"\n",
    "\n",
    "iron_factory = IronDoorFactory()\n",
    "iron_door = iron_factory.create_door()\n",
    "iron_expert = iron_factory.create_expert()\n",
    "\n",
    "print(iron_door.get_description())  # Output: \"This is an iron door.\"\n",
    "print(iron_expert.get_description())  # Output: \"This expert can fit iron doors.\"\n"
   ]
  },
  {
   "cell_type": "code",
   "execution_count": null,
   "id": "23cb37a4",
   "metadata": {},
   "outputs": [],
   "source": []
  }
 ],
 "metadata": {
  "kernelspec": {
   "display_name": "Python 3 (ipykernel)",
   "language": "python",
   "name": "python3"
  },
  "language_info": {
   "codemirror_mode": {
    "name": "ipython",
    "version": 3
   },
   "file_extension": ".py",
   "mimetype": "text/x-python",
   "name": "python",
   "nbconvert_exporter": "python",
   "pygments_lexer": "ipython3",
   "version": "3.7.16"
  }
 },
 "nbformat": 4,
 "nbformat_minor": 5
}
