{
 "cells": [
  {
   "cell_type": "code",
   "execution_count": 1,
   "id": "7e0a18e9",
   "metadata": {},
   "outputs": [
    {
     "name": "stdout",
     "output_type": "stream",
     "text": [
      "Exibindo informações do smartphone.\n",
      "Exibindo informações do laptop.\n"
     ]
    }
   ],
   "source": [
    "# Definição das classes base\n",
    "class Eletronico:\n",
    "    def display(self):\n",
    "        raise NotImplementedError(\"Método 'display' deve ser implementado nas subclasses.\")\n",
    "\n",
    "class Laptop(Eletronico):\n",
    "    def display(self):\n",
    "        return \"Exibindo informações do laptop.\"\n",
    "\n",
    "class Smartphone(Eletronico):\n",
    "    def display(self):\n",
    "        return \"Exibindo informações do smartphone.\"\n",
    "\n",
    "# Padrão Abstract Factory\n",
    "class EletronicoFactory:\n",
    "    def criar_eletronico(self):\n",
    "        raise NotImplementedError(\"Método 'criar_eletronico' deve ser implementado nas subclasses.\")\n",
    "\n",
    "class SamsungFactory(EletronicoFactory):\n",
    "    def criar_eletronico(self):\n",
    "        return Smartphone()  # Retorna um smartphone Samsung\n",
    "\n",
    "class DellFactory(EletronicoFactory):\n",
    "    def criar_eletronico(self):\n",
    "        return Laptop()  # Retorna um laptop Dell\n",
    "\n",
    "# Exemplo de uso\n",
    "def main():\n",
    "    samsung_factory = SamsungFactory()\n",
    "    dell_factory = DellFactory()\n",
    "\n",
    "    samsung_smartphone = samsung_factory.criar_eletronico()\n",
    "    dell_laptop = dell_factory.criar_eletronico()\n",
    "\n",
    "    print(samsung_smartphone.display())\n",
    "    print(dell_laptop.display())\n",
    "\n",
    "if __name__ == \"__main__\":\n",
    "    main()\n"
   ]
  },
  {
   "cell_type": "code",
   "execution_count": null,
   "id": "59907736",
   "metadata": {},
   "outputs": [],
   "source": []
  }
 ],
 "metadata": {
  "kernelspec": {
   "display_name": "Python 3 (ipykernel)",
   "language": "python",
   "name": "python3"
  },
  "language_info": {
   "codemirror_mode": {
    "name": "ipython",
    "version": 3
   },
   "file_extension": ".py",
   "mimetype": "text/x-python",
   "name": "python",
   "nbconvert_exporter": "python",
   "pygments_lexer": "ipython3",
   "version": "3.7.16"
  }
 },
 "nbformat": 4,
 "nbformat_minor": 5
}
