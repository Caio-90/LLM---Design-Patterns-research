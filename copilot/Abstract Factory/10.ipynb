{
 "cells": [
  {
   "cell_type": "code",
   "execution_count": 1,
   "id": "21e82cbb",
   "metadata": {},
   "outputs": [
    {
     "name": "stdout",
     "output_type": "stream",
     "text": [
      "Carro BMW\n",
      "Moto BMW\n",
      "Carro Mercedes\n",
      "Moto Mercedes\n"
     ]
    }
   ],
   "source": [
    "from abc import ABC, abstractmethod\n",
    "\n",
    "# Interfaces abstratas para veículos e fábricas\n",
    "class Veiculo(ABC):\n",
    "    @abstractmethod\n",
    "    def descricao(self) -> str:\n",
    "        pass\n",
    "\n",
    "class FabricaVeiculos(ABC):\n",
    "    @abstractmethod\n",
    "    def criar_carro(self) -> Veiculo:\n",
    "        pass\n",
    "\n",
    "    @abstractmethod\n",
    "    def criar_moto(self) -> Veiculo:\n",
    "        pass\n",
    "\n",
    "# Implementações concretas para BMW e Mercedes\n",
    "class CarroBMW(Veiculo):\n",
    "    def descricao(self) -> str:\n",
    "        return \"Carro BMW\"\n",
    "\n",
    "class MotoBMW(Veiculo):\n",
    "    def descricao(self) -> str:\n",
    "        return \"Moto BMW\"\n",
    "\n",
    "class CarroMercedes(Veiculo):\n",
    "    def descricao(self) -> str:\n",
    "        return \"Carro Mercedes\"\n",
    "\n",
    "class MotoMercedes(Veiculo):\n",
    "    def descricao(self) -> str:\n",
    "        return \"Moto Mercedes\"\n",
    "\n",
    "class FabricaBMW(FabricaVeiculos):\n",
    "    def criar_carro(self) -> Veiculo:\n",
    "        return CarroBMW()\n",
    "\n",
    "    def criar_moto(self) -> Veiculo:\n",
    "        return MotoBMW()\n",
    "\n",
    "class FabricaMercedes(FabricaVeiculos):\n",
    "    def criar_carro(self) -> Veiculo:\n",
    "        return CarroMercedes()\n",
    "\n",
    "    def criar_moto(self) -> Veiculo:\n",
    "        return MotoMercedes()\n",
    "\n",
    "# Exemplo de uso\n",
    "def main():\n",
    "    fabrica_bmw = FabricaBMW()\n",
    "    carro_bmw = fabrica_bmw.criar_carro()\n",
    "    moto_bmw = fabrica_bmw.criar_moto()\n",
    "\n",
    "    fabrica_mercedes = FabricaMercedes()\n",
    "    carro_mercedes = fabrica_mercedes.criar_carro()\n",
    "    moto_mercedes = fabrica_mercedes.criar_moto()\n",
    "\n",
    "    print(carro_bmw.descricao())\n",
    "    print(moto_bmw.descricao())\n",
    "    print(carro_mercedes.descricao())\n",
    "    print(moto_mercedes.descricao())\n",
    "\n",
    "if __name__ == \"__main__\":\n",
    "    main()\n"
   ]
  },
  {
   "cell_type": "code",
   "execution_count": null,
   "id": "69897efd",
   "metadata": {},
   "outputs": [],
   "source": []
  }
 ],
 "metadata": {
  "kernelspec": {
   "display_name": "Python 3 (ipykernel)",
   "language": "python",
   "name": "python3"
  },
  "language_info": {
   "codemirror_mode": {
    "name": "ipython",
    "version": 3
   },
   "file_extension": ".py",
   "mimetype": "text/x-python",
   "name": "python",
   "nbconvert_exporter": "python",
   "pygments_lexer": "ipython3",
   "version": "3.7.16"
  }
 },
 "nbformat": 4,
 "nbformat_minor": 5
}
