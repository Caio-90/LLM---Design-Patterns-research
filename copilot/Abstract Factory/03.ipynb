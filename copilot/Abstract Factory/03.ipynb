{
 "cells": [
  {
   "cell_type": "code",
   "execution_count": 1,
   "id": "84b974dc",
   "metadata": {},
   "outputs": [
    {
     "name": "stdout",
     "output_type": "stream",
     "text": [
      "Ordered Veggie Pizza (US Style)\n",
      "Ordered Pepperoni Pizza (US Style)\n",
      "Ordered Paneer Tikka Pizza (Indian Style)\n",
      "Ordered Chicken Tikka Pizza (Indian Style)\n"
     ]
    }
   ],
   "source": [
    "from abc import ABC, abstractmethod\n",
    "\n",
    "# Classe abstrata para a fábrica de pizzas\n",
    "class PizzaFactory(ABC):\n",
    "    @abstractmethod\n",
    "    def create_veg_pizza(self):\n",
    "        pass\n",
    "\n",
    "    @abstractmethod\n",
    "    def create_non_veg_pizza(self):\n",
    "        pass\n",
    "\n",
    "# Fábrica de pizzas dos EUA\n",
    "class USPizzaFactory(PizzaFactory):\n",
    "    def create_veg_pizza(self):\n",
    "        return \"Veggie Pizza (US Style)\"\n",
    "\n",
    "    def create_non_veg_pizza(self):\n",
    "        return \"Pepperoni Pizza (US Style)\"\n",
    "\n",
    "# Fábrica de pizzas indiana\n",
    "class IndianPizzaFactory(PizzaFactory):\n",
    "    def create_veg_pizza(self):\n",
    "        return \"Paneer Tikka Pizza (Indian Style)\"\n",
    "\n",
    "    def create_non_veg_pizza(self):\n",
    "        return \"Chicken Tikka Pizza (Indian Style)\"\n",
    "\n",
    "# Loja de pizzas\n",
    "class PizzaStore:\n",
    "    def __init__(self, factory):\n",
    "        self.factory = factory\n",
    "\n",
    "    def order_veg_pizza(self):\n",
    "        veg_pizza = self.factory.create_veg_pizza()\n",
    "        print(f\"Ordered {veg_pizza}\")\n",
    "\n",
    "    def order_non_veg_pizza(self):\n",
    "        non_veg_pizza = self.factory.create_non_veg_pizza()\n",
    "        print(f\"Ordered {non_veg_pizza}\")\n",
    "\n",
    "# Exemplo de uso\n",
    "if __name__ == \"__main__\":\n",
    "    us_factory = USPizzaFactory()\n",
    "    indian_factory = IndianPizzaFactory()\n",
    "\n",
    "    us_store = PizzaStore(us_factory)\n",
    "    indian_store = PizzaStore(indian_factory)\n",
    "\n",
    "    us_store.order_veg_pizza()\n",
    "    us_store.order_non_veg_pizza()\n",
    "\n",
    "    indian_store.order_veg_pizza()\n",
    "    indian_store.order_non_veg_pizza()\n"
   ]
  },
  {
   "cell_type": "code",
   "execution_count": null,
   "id": "5083d0aa",
   "metadata": {},
   "outputs": [],
   "source": []
  }
 ],
 "metadata": {
  "kernelspec": {
   "display_name": "Python 3 (ipykernel)",
   "language": "python",
   "name": "python3"
  },
  "language_info": {
   "codemirror_mode": {
    "name": "ipython",
    "version": 3
   },
   "file_extension": ".py",
   "mimetype": "text/x-python",
   "name": "python",
   "nbconvert_exporter": "python",
   "pygments_lexer": "ipython3",
   "version": "3.7.16"
  }
 },
 "nbformat": 4,
 "nbformat_minor": 5
}
