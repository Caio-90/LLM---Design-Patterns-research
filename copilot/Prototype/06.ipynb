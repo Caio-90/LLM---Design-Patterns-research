{
 "cells": [
  {
   "cell_type": "code",
   "execution_count": 1,
   "id": "13cff2ed",
   "metadata": {},
   "outputs": [
    {
     "name": "stdout",
     "output_type": "stream",
     "text": [
      "Name: Alice, Role: Manager, WPM: 120, Team Size: 10\n",
      "Name: Bob, Role: Developer, WPM: 150, Preferred Language: Python\n"
     ]
    }
   ],
   "source": [
    "class IEmployee:\n",
    "    def __init__(self, name, role, words_per_minute):\n",
    "        self.name = name\n",
    "        self.role = role\n",
    "        self.words_per_minute = words_per_minute\n",
    "\n",
    "    def get_details(self):\n",
    "        return f\"Name: {self.name}, Role: {self.role}, WPM: {self.words_per_minute}\"\n",
    "\n",
    "\n",
    "class Manager(IEmployee):\n",
    "    def __init__(self, name, role, words_per_minute, team_size):\n",
    "        super().__init__(name, role, words_per_minute)\n",
    "        self.team_size = team_size\n",
    "\n",
    "    def get_details(self):\n",
    "        base_details = super().get_details()\n",
    "        return f\"{base_details}, Team Size: {self.team_size}\"\n",
    "\n",
    "\n",
    "class Developer(IEmployee):\n",
    "    def __init__(self, name, role, words_per_minute, preferred_language):\n",
    "        super().__init__(name, role, words_per_minute)\n",
    "        self.preferred_language = preferred_language\n",
    "\n",
    "    def get_details(self):\n",
    "        base_details = super().get_details()\n",
    "        return f\"{base_details}, Preferred Language: {self.preferred_language}\"\n",
    "\n",
    "\n",
    "# Exemplo de uso:\n",
    "manager = Manager(\"Alice\", \"Manager\", 120, 10)\n",
    "developer = Developer(\"Bob\", \"Developer\", 150, \"Python\")\n",
    "\n",
    "print(manager.get_details())\n",
    "print(developer.get_details())\n"
   ]
  },
  {
   "cell_type": "code",
   "execution_count": null,
   "id": "78cee484",
   "metadata": {},
   "outputs": [],
   "source": []
  }
 ],
 "metadata": {
  "kernelspec": {
   "display_name": "Python 3 (ipykernel)",
   "language": "python",
   "name": "python3"
  },
  "language_info": {
   "codemirror_mode": {
    "name": "ipython",
    "version": 3
   },
   "file_extension": ".py",
   "mimetype": "text/x-python",
   "name": "python",
   "nbconvert_exporter": "python",
   "pygments_lexer": "ipython3",
   "version": "3.7.16"
  }
 },
 "nbformat": 4,
 "nbformat_minor": 5
}
