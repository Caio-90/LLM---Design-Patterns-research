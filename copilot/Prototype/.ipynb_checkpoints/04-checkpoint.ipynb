{
 "cells": [
  {
   "cell_type": "code",
   "execution_count": 1,
   "id": "b93559cc",
   "metadata": {},
   "outputs": [
    {
     "name": "stdout",
     "output_type": "stream",
     "text": [
      "Desenhando um círculo na cor vermelho\n"
     ]
    }
   ],
   "source": [
    "class Circle:\n",
    "    def __init__(self, color):\n",
    "        self.color = color\n",
    "\n",
    "    def draw(self):\n",
    "        print(f\"Desenhando um círculo na cor {self.color}\")\n",
    "\n",
    "# Exemplo de uso:\n",
    "meu_circulo = Circle(color=\"vermelho\")\n",
    "meu_circulo.draw()\n"
   ]
  },
  {
   "cell_type": "code",
   "execution_count": null,
   "id": "2e971d1b",
   "metadata": {},
   "outputs": [],
   "source": []
  }
 ],
 "metadata": {
  "kernelspec": {
   "display_name": "Python 3 (ipykernel)",
   "language": "python",
   "name": "python3"
  },
  "language_info": {
   "codemirror_mode": {
    "name": "ipython",
    "version": 3
   },
   "file_extension": ".py",
   "mimetype": "text/x-python",
   "name": "python",
   "nbconvert_exporter": "python",
   "pygments_lexer": "ipython3",
   "version": "3.7.16"
  }
 },
 "nbformat": 4,
 "nbformat_minor": 5
}
