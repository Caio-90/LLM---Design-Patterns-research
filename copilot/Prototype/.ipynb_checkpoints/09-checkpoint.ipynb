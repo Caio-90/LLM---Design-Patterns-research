{
 "cells": [
  {
   "cell_type": "code",
   "execution_count": 1,
   "id": "7898af39",
   "metadata": {},
   "outputs": [
    {
     "name": "stdout",
     "output_type": "stream",
     "text": [
      "Seats: 1, Tyres: 2, Color: Red, Fuel: Gasoline\n",
      "Seats: 4, Tyres: 4, Color: Blue, Fuel: Diesel\n"
     ]
    }
   ],
   "source": [
    "class Vehicle:\n",
    "    def __init__(self, seats, tyres, color, fuel):\n",
    "        self.seats = seats\n",
    "        self.tyres = tyres\n",
    "        self.color = color\n",
    "        self.fuel = fuel\n",
    "\n",
    "    def display_info(self):\n",
    "        print(f\"Seats: {self.seats}, Tyres: {self.tyres}, Color: {self.color}, Fuel: {self.fuel}\")\n",
    "\n",
    "    def clone(self):\n",
    "        return Vehicle(self.seats, self.tyres, self.color, self.fuel)\n",
    "\n",
    "class Bike(Vehicle):\n",
    "    def __init__(self, seats, tyres, color, fuel, bike_type):\n",
    "        super().__init__(seats, tyres, color, fuel)\n",
    "        self.bike_type = bike_type\n",
    "\n",
    "class Car(Vehicle):\n",
    "    def __init__(self, seats, tyres, color, fuel, car_type):\n",
    "        super().__init__(seats, tyres, color, fuel)\n",
    "        self.car_type = car_type\n",
    "\n",
    "# Exemplo de uso:\n",
    "bike_prototype = Bike(seats=1, tyres=2, color=\"Red\", fuel=\"Gasoline\", bike_type=\"Mountain Bike\")\n",
    "car_prototype = Car(seats=4, tyres=4, color=\"Blue\", fuel=\"Diesel\", car_type=\"Sedan\")\n",
    "\n",
    "# Clonagem de objetos:\n",
    "new_bike = bike_prototype.clone()\n",
    "new_car = car_prototype.clone()\n",
    "\n",
    "# Exibindo informações:\n",
    "new_bike.display_info()\n",
    "new_car.display_info()\n"
   ]
  },
  {
   "cell_type": "code",
   "execution_count": null,
   "id": "2b4c8fa9",
   "metadata": {},
   "outputs": [],
   "source": []
  }
 ],
 "metadata": {
  "kernelspec": {
   "display_name": "Python 3 (ipykernel)",
   "language": "python",
   "name": "python3"
  },
  "language_info": {
   "codemirror_mode": {
    "name": "ipython",
    "version": 3
   },
   "file_extension": ".py",
   "mimetype": "text/x-python",
   "name": "python",
   "nbconvert_exporter": "python",
   "pygments_lexer": "ipython3",
   "version": "3.7.16"
  }
 },
 "nbformat": 4,
 "nbformat_minor": 5
}
