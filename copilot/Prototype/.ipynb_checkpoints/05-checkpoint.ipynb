{
 "cells": [
  {
   "cell_type": "code",
   "execution_count": 1,
   "id": "59199ea1",
   "metadata": {},
   "outputs": [
    {
     "name": "stdout",
     "output_type": "stream",
     "text": [
      "Nome do robô clonado: Robo1\n",
      "Arma do robô clonado: Laser\n"
     ]
    }
   ],
   "source": [
    "class CombatRobot:\n",
    "    def __init__(self, name, weapon):\n",
    "        self.name = name\n",
    "        self.weapon = weapon\n",
    "\n",
    "    def clone(self):\n",
    "        # Cria uma cópia do objeto atual\n",
    "        return CombatRobot(self.name, self.weapon)\n",
    "\n",
    "# Criando um objeto CombatRobot\n",
    "original_robot = CombatRobot(name=\"Robo1\", weapon=\"Laser\")\n",
    "\n",
    "# Clonando o objeto original\n",
    "cloned_robot = original_robot.clone()\n",
    "\n",
    "# Verificando os atributos do objeto clonado\n",
    "print(f\"Nome do robô clonado: {cloned_robot.name}\")\n",
    "print(f\"Arma do robô clonado: {cloned_robot.weapon}\")\n"
   ]
  },
  {
   "cell_type": "code",
   "execution_count": null,
   "id": "f0c819b8",
   "metadata": {},
   "outputs": [],
   "source": []
  }
 ],
 "metadata": {
  "kernelspec": {
   "display_name": "Python 3 (ipykernel)",
   "language": "python",
   "name": "python3"
  },
  "language_info": {
   "codemirror_mode": {
    "name": "ipython",
    "version": 3
   },
   "file_extension": ".py",
   "mimetype": "text/x-python",
   "name": "python",
   "nbconvert_exporter": "python",
   "pygments_lexer": "ipython3",
   "version": "3.7.16"
  }
 },
 "nbformat": 4,
 "nbformat_minor": 5
}
