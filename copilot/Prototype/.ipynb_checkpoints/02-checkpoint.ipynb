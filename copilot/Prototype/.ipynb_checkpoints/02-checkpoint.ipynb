{
 "cells": [
  {
   "cell_type": "code",
   "execution_count": 1,
   "id": "d0ca66e9",
   "metadata": {},
   "outputs": [
    {
     "name": "stdout",
     "output_type": "stream",
     "text": [
      "Book: Python for Beginners by John Doe, Length: 300 pages\n",
      "DVD: Movie Night, Duration: 120 minutes\n"
     ]
    }
   ],
   "source": [
    "class Product:\n",
    "    def __init__(self, sku, description, length):\n",
    "        self.sku = sku\n",
    "        self.description = description\n",
    "        self.length = length\n",
    "\n",
    "class Book(Product):\n",
    "    def __init__(self, sku, description, length, author):\n",
    "        super().__init__(sku, description, length)\n",
    "        self.author = author\n",
    "\n",
    "class DVD(Product):\n",
    "    def __init__(self, sku, description, duration):\n",
    "        super().__init__(sku, description, duration)\n",
    "        self.duration = duration\n",
    "\n",
    "# Exemplo de uso:\n",
    "book = Book(\"B123\", \"Python for Beginners\", 300, \"John Doe\")\n",
    "dvd = DVD(\"D456\", \"Movie Night\", 120)\n",
    "\n",
    "print(f\"Book: {book.description} by {book.author}, Length: {book.length} pages\")\n",
    "print(f\"DVD: {dvd.description}, Duration: {dvd.duration} minutes\")\n"
   ]
  },
  {
   "cell_type": "code",
   "execution_count": null,
   "id": "d3c11497",
   "metadata": {},
   "outputs": [],
   "source": []
  }
 ],
 "metadata": {
  "kernelspec": {
   "display_name": "Python 3 (ipykernel)",
   "language": "python",
   "name": "python3"
  },
  "language_info": {
   "codemirror_mode": {
    "name": "ipython",
    "version": 3
   },
   "file_extension": ".py",
   "mimetype": "text/x-python",
   "name": "python",
   "nbconvert_exporter": "python",
   "pygments_lexer": "ipython3",
   "version": "3.7.16"
  }
 },
 "nbformat": 4,
 "nbformat_minor": 5
}
