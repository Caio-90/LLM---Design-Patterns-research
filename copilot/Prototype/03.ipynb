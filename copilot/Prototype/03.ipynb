{
 "cells": [
  {
   "cell_type": "code",
   "execution_count": 1,
   "id": "36bf75c1",
   "metadata": {},
   "outputs": [
    {
     "name": "stdout",
     "output_type": "stream",
     "text": [
      "123 Main St, Cityville, Countryland\n"
     ]
    }
   ],
   "source": [
    "class Address:\n",
    "    def __init__(self, street_address, city, country):\n",
    "        self.street_address = street_address\n",
    "        self.city = city\n",
    "        self.country = country\n",
    "\n",
    "    def get_full_address(self):\n",
    "        return f\"{self.street_address}, {self.city}, {self.country}\"\n",
    "\n",
    "# Agora, criaremos a classe Person, que terá um atributo 'name' e um atributo 'address'.\n",
    "# Também implementaremos um método semelhante ao de Address para obter o endereço completo.\n",
    "\n",
    "class Person:\n",
    "    def __init__(self, name, address):\n",
    "        self.name = name\n",
    "        self.address = address\n",
    "\n",
    "    def get_full_address(self):\n",
    "        return self.address.get_full_address()\n",
    "\n",
    "# Exemplo de uso:\n",
    "address1 = Address(\"123 Main St\", \"Cityville\", \"Countryland\")\n",
    "person1 = Person(\"John Doe\", address1)\n",
    "\n",
    "print(person1.get_full_address())  # Saída: \"123 Main St, Cityville, Countryland\"\n"
   ]
  },
  {
   "cell_type": "code",
   "execution_count": null,
   "id": "83ccac29",
   "metadata": {},
   "outputs": [],
   "source": []
  }
 ],
 "metadata": {
  "kernelspec": {
   "display_name": "Python 3 (ipykernel)",
   "language": "python",
   "name": "python3"
  },
  "language_info": {
   "codemirror_mode": {
    "name": "ipython",
    "version": 3
   },
   "file_extension": ".py",
   "mimetype": "text/x-python",
   "name": "python",
   "nbconvert_exporter": "python",
   "pygments_lexer": "ipython3",
   "version": "3.7.16"
  }
 },
 "nbformat": 4,
 "nbformat_minor": 5
}
