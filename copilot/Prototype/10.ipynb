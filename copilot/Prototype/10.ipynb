{
 "cells": [
  {
   "cell_type": "code",
   "execution_count": 1,
   "id": "0cb49d81",
   "metadata": {},
   "outputs": [
    {
     "name": "stdout",
     "output_type": "stream",
     "text": [
      "RGB values: R=255, G=0, B=0\n",
      "RGB values: R=0, G=255, B=0\n",
      "RGB values: R=0, G=0, B=255\n",
      "RGB values: R=128, G=64, B=192\n",
      "RGB values: R=50, G=200, B=100\n",
      "RGB values: R=180, G=30, B=90\n"
     ]
    }
   ],
   "source": [
    "class Color:\n",
    "    def __init__(self, red, green, blue):\n",
    "        self.red = red\n",
    "        self.green = green\n",
    "        self.blue = blue\n",
    "\n",
    "    def display_rgb(self):\n",
    "        print(f\"RGB values: R={self.red}, G={self.green}, B={self.blue}\")\n",
    "\n",
    "# Criando objetos para as cores \"red\", \"green\" e \"blue\":\n",
    "red_color = Color(red=255, green=0, blue=0)\n",
    "green_color = Color(red=0, green=255, blue=0)\n",
    "blue_color = Color(red=0, green=0, blue=255)\n",
    "\n",
    "# Exibindo os valores RGB das cores básicas:\n",
    "red_color.display_rgb()\n",
    "green_color.display_rgb()\n",
    "blue_color.display_rgb()\n",
    "\n",
    "# Criando cores personalizadas:\n",
    "custom_color1 = Color(red=128, green=64, blue=192)\n",
    "custom_color2 = Color(red=50, green=200, blue=100)\n",
    "custom_color3 = Color(red=180, green=30, blue=90)\n",
    "\n",
    "# Clonando as cores personalizadas:\n",
    "cloned_color1 = custom_color1\n",
    "cloned_color2 = custom_color2\n",
    "cloned_color3 = custom_color3\n",
    "\n",
    "# Exibindo os valores RGB das cores personalizadas:\n",
    "cloned_color1.display_rgb()\n",
    "cloned_color2.display_rgb()\n",
    "cloned_color3.display_rgb()\n"
   ]
  },
  {
   "cell_type": "code",
   "execution_count": null,
   "id": "c3938252",
   "metadata": {},
   "outputs": [],
   "source": []
  }
 ],
 "metadata": {
  "kernelspec": {
   "display_name": "Python 3 (ipykernel)",
   "language": "python",
   "name": "python3"
  },
  "language_info": {
   "codemirror_mode": {
    "name": "ipython",
    "version": 3
   },
   "file_extension": ".py",
   "mimetype": "text/x-python",
   "name": "python",
   "nbconvert_exporter": "python",
   "pygments_lexer": "ipython3",
   "version": "3.7.16"
  }
 },
 "nbformat": 4,
 "nbformat_minor": 5
}
