{
 "cells": [
  {
   "cell_type": "code",
   "execution_count": 1,
   "id": "9bc8cd6d",
   "metadata": {},
   "outputs": [
    {
     "name": "stdout",
     "output_type": "stream",
     "text": [
      "Original sheep: Dolly (Merino)\n",
      "Cloned sheep: Dolly (Merino)\n"
     ]
    }
   ],
   "source": [
    "class Sheep:\n",
    "    def __init__(self, name, category):\n",
    "        self.name = name\n",
    "        self.category = category\n",
    "\n",
    "    def clone(self):\n",
    "        return Sheep(self.name, self.category)\n",
    "\n",
    "# Exemplo de uso:\n",
    "original_sheep = Sheep(\"Dolly\", \"Merino\")\n",
    "cloned_sheep = original_sheep.clone()\n",
    "\n",
    "print(f\"Original sheep: {original_sheep.name} ({original_sheep.category})\")\n",
    "print(f\"Cloned sheep: {cloned_sheep.name} ({cloned_sheep.category})\")\n"
   ]
  },
  {
   "cell_type": "code",
   "execution_count": null,
   "id": "4a7d4e20",
   "metadata": {},
   "outputs": [],
   "source": []
  }
 ],
 "metadata": {
  "kernelspec": {
   "display_name": "Python 3 (ipykernel)",
   "language": "python",
   "name": "python3"
  },
  "language_info": {
   "codemirror_mode": {
    "name": "ipython",
    "version": 3
   },
   "file_extension": ".py",
   "mimetype": "text/x-python",
   "name": "python",
   "nbconvert_exporter": "python",
   "pygments_lexer": "ipython3",
   "version": "3.7.16"
  }
 },
 "nbformat": 4,
 "nbformat_minor": 5
}
