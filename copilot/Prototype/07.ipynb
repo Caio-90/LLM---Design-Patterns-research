{
 "cells": [
  {
   "cell_type": "code",
   "execution_count": 2,
   "id": "57c13fe4",
   "metadata": {},
   "outputs": [
    {
     "name": "stdout",
     "output_type": "stream",
     "text": [
      "<__main__.Square object at 0x00000240FED50548> <__main__.Rectangle object at 0x00000240FED46E88> <__main__.Circle object at 0x00000240FED50A48>\n"
     ]
    }
   ],
   "source": [
    "class Shape:\n",
    "    def __init__(self, shape_id, shape_type):\n",
    "        self.id = shape_id\n",
    "        self.type = shape_type\n",
    "\n",
    "    def draw(self):\n",
    "        # Implementação do método draw\n",
    "        pass\n",
    "\n",
    "class Square(Shape):\n",
    "    def __init__(self, shape_id):\n",
    "        super().__init__(shape_id, \"Square\")\n",
    "\n",
    "    # Implementação específica para Square (se necessário)\n",
    "\n",
    "class Rectangle(Shape):\n",
    "    def __init__(self, shape_id):\n",
    "        super().__init__(shape_id, \"Rectangle\")\n",
    "\n",
    "    # Implementação específica para Rectangle (se necessário)\n",
    "\n",
    "class Circle(Shape):\n",
    "    def __init__(self, shape_id):\n",
    "        super().__init__(shape_id, \"Circle\")\n",
    "\n",
    "    # Implementação específica para Circle (se necessário)\n",
    "\n",
    "class ShapeCache:\n",
    "    def __init__(self):\n",
    "        self.shapes = {}\n",
    "\n",
    "    def add_shape(self, shape_id, shape):\n",
    "        self.shapes[shape_id] = shape\n",
    "\n",
    "    def get_shape(self, shape_id):\n",
    "        return self.shapes.get(shape_id)\n",
    "\n",
    "# Exemplo de uso:\n",
    "cache = ShapeCache()\n",
    "square = Square(1)\n",
    "rectangle = Rectangle(2)\n",
    "circle = Circle(3)\n",
    "\n",
    "cache.add_shape(1, square)\n",
    "cache.add_shape(2, rectangle)\n",
    "cache.add_shape(3, circle)\n",
    "\n",
    "# Obter cópias sob demanda:\n",
    "cached_square = cache.get_shape(1)\n",
    "cached_rectangle = cache.get_shape(2)\n",
    "cached_circle = cache.get_shape(3)\n"
   ]
  },
  {
   "cell_type": "code",
   "execution_count": null,
   "id": "5d9f4984",
   "metadata": {},
   "outputs": [],
   "source": []
  }
 ],
 "metadata": {
  "kernelspec": {
   "display_name": "Python 3 (ipykernel)",
   "language": "python",
   "name": "python3"
  },
  "language_info": {
   "codemirror_mode": {
    "name": "ipython",
    "version": 3
   },
   "file_extension": ".py",
   "mimetype": "text/x-python",
   "name": "python",
   "nbconvert_exporter": "python",
   "pygments_lexer": "ipython3",
   "version": "3.7.16"
  }
 },
 "nbformat": 4,
 "nbformat_minor": 5
}
