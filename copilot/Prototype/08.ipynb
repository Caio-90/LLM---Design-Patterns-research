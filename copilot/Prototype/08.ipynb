{
 "cells": [
  {
   "cell_type": "code",
   "execution_count": 3,
   "id": "8089aa23",
   "metadata": {},
   "outputs": [
    {
     "name": "stdout",
     "output_type": "stream",
     "text": [
      "Informe o ID: 1\n",
      "Informe o nome: a\n",
      "Informe o cargo: a\n",
      "Informe o salário: 1\n",
      "Informe o endereço: a\n",
      "ID: 1\n",
      "Name: a\n",
      "Designation: a\n",
      "Salary: 1.0\n",
      "Address: a\n",
      "\n",
      "Objeto clonado:\n",
      "ID: 1\n",
      "Name: a\n",
      "Designation: a\n",
      "Salary: 1.0\n",
      "Address: a\n"
     ]
    }
   ],
   "source": [
    "class EmployeeRecord:\n",
    "    def __init__(self, id, name, designation, salary, address):\n",
    "        self.id = id\n",
    "        self.name = name\n",
    "        self.designation = designation\n",
    "        self.salary = salary\n",
    "        self.address = address\n",
    "\n",
    "    def showRecord(self):\n",
    "        print(f\"ID: {self.id}\")\n",
    "        print(f\"Name: {self.name}\")\n",
    "        print(f\"Designation: {self.designation}\")\n",
    "        print(f\"Salary: {self.salary}\")\n",
    "        print(f\"Address: {self.address}\")\n",
    "\n",
    "    def clone(self):\n",
    "        # Cria um novo objeto clonando os atributos do objeto atual\n",
    "        return EmployeeRecord(self.id, self.name, self.designation, self.salary, self.address)\n",
    "\n",
    "# Exemplo de uso:\n",
    "if __name__ == \"__main__\":\n",
    "    # Crie um objeto com valores informados pelo usuário\n",
    "    id = input(\"Informe o ID: \")\n",
    "    name = input(\"Informe o nome: \")\n",
    "    designation = input(\"Informe o cargo: \")\n",
    "    salary = float(input(\"Informe o salário: \"))\n",
    "    address = input(\"Informe o endereço: \")\n",
    "\n",
    "    original_employee = EmployeeRecord(id, name, designation, salary, address)\n",
    "    original_employee.showRecord()\n",
    "\n",
    "    # Clone o objeto original\n",
    "    cloned_employee = original_employee.clone()\n",
    "    print(\"\\nObjeto clonado:\")\n",
    "    cloned_employee.showRecord()\n"
   ]
  },
  {
   "cell_type": "code",
   "execution_count": null,
   "id": "a7369000",
   "metadata": {},
   "outputs": [],
   "source": []
  }
 ],
 "metadata": {
  "kernelspec": {
   "display_name": "Python 3 (ipykernel)",
   "language": "python",
   "name": "python3"
  },
  "language_info": {
   "codemirror_mode": {
    "name": "ipython",
    "version": 3
   },
   "file_extension": ".py",
   "mimetype": "text/x-python",
   "name": "python",
   "nbconvert_exporter": "python",
   "pygments_lexer": "ipython3",
   "version": "3.7.16"
  }
 },
 "nbformat": 4,
 "nbformat_minor": 5
}
