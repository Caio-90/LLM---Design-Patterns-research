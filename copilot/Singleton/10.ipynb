{
 "cells": [
  {
   "cell_type": "code",
   "execution_count": 1,
   "id": "8e43a18b",
   "metadata": {},
   "outputs": [],
   "source": [
    "import sqlite3\n",
    "\n",
    "class Database:\n",
    "    _instance = None\n",
    "\n",
    "    def __new__(cls):\n",
    "        if cls._instance is None:\n",
    "            cls._instance = super().__new__(cls)\n",
    "            cls._instance._connection = sqlite3.connect('my_database.db')\n",
    "        return cls._instance\n",
    "\n",
    "    def execute_query(self, query):\n",
    "        cursor = self._connection.cursor()\n",
    "        cursor.execute(query)\n",
    "        self._connection.commit()\n",
    "\n",
    "    def close_connection(self):\n",
    "        self._connection.close()\n",
    "\n",
    "# Exemplo de uso:\n",
    "if __name__ == \"__main__\":\n",
    "    db = Database()\n",
    "    db.execute_query(\"CREATE TABLE IF NOT EXISTS users (id INTEGER PRIMARY KEY, name TEXT)\")\n",
    "    db.execute_query(\"INSERT INTO users (name) VALUES ('Alice')\")\n",
    "    db.execute_query(\"INSERT INTO users (name) VALUES ('Bob')\")\n",
    "    db.close_connection()\n"
   ]
  },
  {
   "cell_type": "code",
   "execution_count": null,
   "id": "e1435407",
   "metadata": {},
   "outputs": [],
   "source": []
  }
 ],
 "metadata": {
  "kernelspec": {
   "display_name": "Python 3 (ipykernel)",
   "language": "python",
   "name": "python3"
  },
  "language_info": {
   "codemirror_mode": {
    "name": "ipython",
    "version": 3
   },
   "file_extension": ".py",
   "mimetype": "text/x-python",
   "name": "python",
   "nbconvert_exporter": "python",
   "pygments_lexer": "ipython3",
   "version": "3.11.5"
  }
 },
 "nbformat": 4,
 "nbformat_minor": 5
}
