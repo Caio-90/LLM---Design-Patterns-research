{
 "cells": [
  {
   "cell_type": "code",
   "execution_count": 1,
   "id": "bfc56f24",
   "metadata": {},
   "outputs": [
    {
     "name": "stdout",
     "output_type": "stream",
     "text": [
      "This is a singleton instance.\n",
      "This is a singleton instance.\n",
      "True\n"
     ]
    }
   ],
   "source": [
    "class ExampleSingleton:\n",
    "    _instance = None\n",
    "\n",
    "    def __new__(cls):\n",
    "        if cls._instance is None:\n",
    "            cls._instance = super().__new__(cls)\n",
    "            cls._instance.some_property = \"This is a singleton instance.\"\n",
    "        return cls._instance\n",
    "\n",
    "# Exemplo de uso\n",
    "singleton1 = ExampleSingleton()\n",
    "print(singleton1.some_property)  # Saída: \"This is a singleton instance.\"\n",
    "\n",
    "singleton2 = ExampleSingleton()\n",
    "print(singleton2.some_property)  # Saída: \"This is a singleton instance.\"\n",
    "print(singleton1 is singleton2)  # Saída: True (mesma instância)\n"
   ]
  },
  {
   "cell_type": "code",
   "execution_count": null,
   "id": "b853253a",
   "metadata": {},
   "outputs": [],
   "source": []
  }
 ],
 "metadata": {
  "kernelspec": {
   "display_name": "Python 3 (ipykernel)",
   "language": "python",
   "name": "python3"
  },
  "language_info": {
   "codemirror_mode": {
    "name": "ipython",
    "version": 3
   },
   "file_extension": ".py",
   "mimetype": "text/x-python",
   "name": "python",
   "nbconvert_exporter": "python",
   "pygments_lexer": "ipython3",
   "version": "3.11.5"
  }
 },
 "nbformat": 4,
 "nbformat_minor": 5
}
