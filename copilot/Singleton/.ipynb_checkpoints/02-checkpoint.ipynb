{
 "cells": [
  {
   "cell_type": "code",
   "execution_count": null,
   "id": "15c80662",
   "metadata": {},
   "outputs": [],
   "source": [
    "class Singleton1:\n",
    "    _instance = None\n",
    "\n",
    "    def __new__(cls, name):\n",
    "        if cls._instance is None:\n",
    "            cls._instance = super(Singleton1, cls).__new__(cls)\n",
    "            cls._instance.name = name\n",
    "        return cls._instance\n",
    "\n",
    "class Singleton2:\n",
    "    _instance = None\n",
    "\n",
    "    def __new__(cls, name):\n",
    "        if cls._instance is None:\n",
    "            cls._instance = super(Singleton2, cls).__new__(cls)\n",
    "            cls._instance.name = name\n",
    "        return cls._instance\n",
    "\n",
    "# Exemplo de uso\n",
    "s1 = Singleton1('Objeto1')\n",
    "print(s1.name)  # Saída: Objeto1\n",
    "\n",
    "s2 = Singleton2('Objeto2')\n",
    "print(s2.name)  # Saída: Objeto2\n",
    "\n",
    "# Tentativa de criar outro objeto\n",
    "s3 = Singleton1('Objeto3')\n",
    "print(s3.name)  # Saída: Objeto1, pois o objeto já foi criado anteriormente\n"
   ]
  }
 ],
 "metadata": {
  "kernelspec": {
   "display_name": "Python 3 (ipykernel)",
   "language": "python",
   "name": "python3"
  },
  "language_info": {
   "codemirror_mode": {
    "name": "ipython",
    "version": 3
   },
   "file_extension": ".py",
   "mimetype": "text/x-python",
   "name": "python",
   "nbconvert_exporter": "python",
   "pygments_lexer": "ipython3",
   "version": "3.7.16"
  }
 },
 "nbformat": 4,
 "nbformat_minor": 5
}
