{
 "cells": [
  {
   "cell_type": "code",
   "execution_count": 1,
   "id": "56fef784",
   "metadata": {},
   "outputs": [
    {
     "name": "stdout",
     "output_type": "stream",
     "text": [
      "True\n",
      "Variável Singleton\n"
     ]
    }
   ],
   "source": [
    "class SingletonClass:\n",
    "    def __new__(cls):\n",
    "        if not hasattr(cls, 'instance'):\n",
    "            cls.instance = super(SingletonClass, cls).__new__(cls)\n",
    "        return cls.instance\n",
    "\n",
    "singleton = SingletonClass()\n",
    "new_singleton = SingletonClass()\n",
    "print(singleton is new_singleton)  # Verdadeiro\n",
    "singleton.singleton_variable = \"Variável Singleton\"\n",
    "print(new_singleton.singleton_variable)\n"
   ]
  },
  {
   "cell_type": "code",
   "execution_count": null,
   "id": "8d7127d1",
   "metadata": {},
   "outputs": [],
   "source": []
  }
 ],
 "metadata": {
  "kernelspec": {
   "display_name": "Python 3 (ipykernel)",
   "language": "python",
   "name": "python3"
  },
  "language_info": {
   "codemirror_mode": {
    "name": "ipython",
    "version": 3
   },
   "file_extension": ".py",
   "mimetype": "text/x-python",
   "name": "python",
   "nbconvert_exporter": "python",
   "pygments_lexer": "ipython3",
   "version": "3.7.16"
  }
 },
 "nbformat": 4,
 "nbformat_minor": 5
}
