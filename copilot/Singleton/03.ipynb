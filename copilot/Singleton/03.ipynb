{
 "cells": [
  {
   "cell_type": "code",
   "execution_count": null,
   "id": "ae3c27d9",
   "metadata": {},
   "outputs": [],
   "source": [
    "class President:\n",
    "    _instance = None\n",
    "\n",
    "    def __new__(cls):\n",
    "        if cls._instance is None:\n",
    "            cls._instance = super(President, cls).__new__(cls)\n",
    "            # Inicialize qualquer variável de sua classe aqui\n",
    "            # Por exemplo: cls._instance.name = \"Nome do Presidente\"\n",
    "        return cls._instance\n",
    "\n",
    "# Testando a classe Singleton\n",
    "presidente1 = President()\n",
    "presidente2 = President()\n",
    "\n",
    "# Isso irá imprimir True, pois presidente1 e presidente2 são a mesma instância\n",
    "print(presidente1 is presidente2)\n"
   ]
  }
 ],
 "metadata": {
  "kernelspec": {
   "display_name": "Python 3 (ipykernel)",
   "language": "python",
   "name": "python3"
  },
  "language_info": {
   "codemirror_mode": {
    "name": "ipython",
    "version": 3
   },
   "file_extension": ".py",
   "mimetype": "text/x-python",
   "name": "python",
   "nbconvert_exporter": "python",
   "pygments_lexer": "ipython3",
   "version": "3.7.16"
  }
 },
 "nbformat": 4,
 "nbformat_minor": 5
}
