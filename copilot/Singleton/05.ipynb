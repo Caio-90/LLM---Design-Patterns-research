{
 "cells": [
  {
   "cell_type": "code",
   "execution_count": 1,
   "id": "e6491bdf",
   "metadata": {},
   "outputs": [],
   "source": [
    "import logging\n",
    "\n",
    "class FileLogger:\n",
    "    _instance = None\n",
    "\n",
    "    def __new__(cls):\n",
    "        if cls._instance is None:\n",
    "            cls._instance = super().__new__(cls)\n",
    "            cls._instance._initialize_logger()\n",
    "        return cls._instance\n",
    "\n",
    "    def _initialize_logger(self):\n",
    "        self.logger = logging.getLogger(\"FileLogger\")\n",
    "        self.logger.setLevel(logging.INFO)\n",
    "\n",
    "        # Define o arquivo de log\n",
    "        log_file = \"my_log_file.log\"\n",
    "        file_handler = logging.FileHandler(log_file)\n",
    "        formatter = logging.Formatter(\"%(asctime)s - %(levelname)s - %(message)s\")\n",
    "        file_handler.setFormatter(formatter)\n",
    "        self.logger.addHandler(file_handler)\n",
    "\n",
    "    def log(self, message):\n",
    "        self.logger.info(message)\n",
    "\n",
    "# Exemplo de uso\n",
    "if __name__ == \"__main__\":\n",
    "    logger = FileLogger()\n",
    "    logger.log(\"Mensagem de log.\")\n"
   ]
  }
 ],
 "metadata": {
  "kernelspec": {
   "display_name": "Python 3 (ipykernel)",
   "language": "python",
   "name": "python3"
  },
  "language_info": {
   "codemirror_mode": {
    "name": "ipython",
    "version": 3
   },
   "file_extension": ".py",
   "mimetype": "text/x-python",
   "name": "python",
   "nbconvert_exporter": "python",
   "pygments_lexer": "ipython3",
   "version": "3.11.5"
  }
 },
 "nbformat": 4,
 "nbformat_minor": 5
}
